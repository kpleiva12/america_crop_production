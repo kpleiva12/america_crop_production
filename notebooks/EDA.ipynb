{
 "cells": [
  {
   "cell_type": "code",
   "execution_count": null,
   "id": "8fcf284c",
   "metadata": {},
   "outputs": [],
   "source": [
    "import pandas as pd\n",
    "import plotly.express as px"
   ]
  },
  {
   "cell_type": "code",
   "execution_count": null,
   "id": "9e13d77f",
   "metadata": {},
   "outputs": [],
   "source": [
    "# -----------------------\n",
    "#ordenando el data set \n",
    "# -----------------------\n",
    "def load_data():\n",
    "    #Carga del dataset original\n",
    "    df = pd.read_csv(\"C:/Users/k_lei/Documents/america_crop_production/america_crop_production/Production_Crops_E_Americas.csv\", encoding='latin-1') \n",
    "\n",
    "    # Filtrado de datos por Elemento clave (en el DF hay una fila para cada uno)\n",
    "    production = df[df['Element'] == 'Production'].copy()\n",
    "    area = df[df['Element'] == 'Area harvested'].copy()\n",
    "    yield_ = df[df['Element'] == 'Yield'].copy()\n",
    "\n",
    "    # Extraer solo columnas de años (ignorando flags)\n",
    "    years = [col for col in df.columns if col.startswith('Y') and not col.endswith('F')]\n",
    "\n",
    "    # Transformar a formato largo\n",
    "    def melt_element(df, element_name):\n",
    "        df_long = df.melt(\n",
    "            id_vars=['Area','Item','Element'],      # columnas que identifican la fila\n",
    "            value_vars=years,                       # columnas de datos\n",
    "            var_name='Year',                        # nueva columna con el año\n",
    "            value_name='Value'                   # nombre de la columna con valores\n",
    "        )\n",
    "\n",
    "        df_long['Year'] = df_long['Year'].str[1:].astype(int)\n",
    "        df_long['Value'] = pd.to_numeric(df_long['Value'], errors='coerce')\n",
    "        df_long['Element'] = element_name  \n",
    "        return df_long\n",
    "\n",
    "    # Convertir tres elementos a formato largo\n",
    "    production_long = melt_element(production, \"Production\")\n",
    "    area_long = melt_element(area, \"Area harvested\")\n",
    "    yield_long = melt_element(yield_, \"Yield\")\n",
    "    \n",
    "    # Unir dataframes\n",
    "    df_long = pd.concat([production_long, area_long, yield_long], ignore_index=True)\n",
    "    \n",
    "    # Limpiar\n",
    "    df_long.dropna(subset=[\"Value\"], inplace=True)\n",
    "    df_long.drop_duplicates(inplace=True)\n",
    "    \n",
    "    # Renombrar para estética\n",
    "    df_long.rename(columns={\"Area\": \"Country\"}, inplace=True)\n",
    "\n",
    "    return df_long\n",
    "\n",
    "df_long = load_data()\n",
    "\n",
    "# ------------------------------------------------------\n",
    "# Configuración inicial de la app\n",
    "# ------------------------------------------------------\n",
    "st.title(\"Exploración de Producción Agrícola en América\")\n",
    "st.write(\"Visualización interactiva de datos FAO: producción, área cosechada y rendimiento.\")\n",
    "\n",
    "\n",
    "# Panel de filtros\n",
    "st.sidebar.header(\"Filtros\")\n",
    "country = st.sidebar.selectbox(\"Selecciona un país:\", sorted(df_long[\"Country\"].unique()))\n",
    "crop = st.sidebar.selectbox(\"Selecciona un cultivo:\", sorted(df_long[\"Item\"].unique()))\n",
    "year = st.sidebar.slider(\"Selecciona un año\", min_value=int(df_long[\"Year\"].min()), max_value=int(df_long[\"Year\"].max()), value=int(df_long[\"Year\"].max()))\n",
    "element = st.sidebar.selectbox(\n",
    "    \"Variable a visualizar:\",\n",
    "    [\"Production\", \"Area harvested\"]\n",
    ")\n",
    "\n",
    "# Filtro aplicado\n",
    "filtered = df_long[\n",
    "    (df_long[\"Country\"] == country) &\n",
    "    (df_long[\"Item\"] == crop) &\n",
    "    (df_long[\"Element\"] == element) &\n",
    "    (df_long[\"Year\"] == year)\n",
    "]\n",
    "\n",
    "st.subheader(f\"Histograma para {crop} en {country} ({year})\")\n",
    "st.caption(f\"Variable: {element}\")\n",
    "\n",
    "if st.button(\"Mostrar histograma\"):\n",
    "    if filtered.empty:\n",
    "        st.warning(\"No hay datos para esta combinación. Prueba con otros filtros.\")\n",
    "    else:\n",
    "        fig = px.histogram(filtered, x=\"Value\", nbins=10, title=\"Distribución de valores\")\n",
    "        st.plotly_chart(fig, use_container_width=True)"
   ]
  },
  {
   "cell_type": "code",
   "execution_count": null,
   "id": "e2b8ce1b",
   "metadata": {},
   "outputs": [
    {
     "data": {
      "application/vnd.plotly.v1+json": {
       "config": {
        "plotlyServerURL": "https://plot.ly"
       },
       "data": [
        {
         "bingroup": "x",
         "hovertemplate": "Area=%{x}<br>count=%{y}<extra></extra>",
         "legendgroup": "",
         "marker": {
          "color": "#636efa",
          "pattern": {
           "shape": ""
          }
         },
         "name": "",
         "orientation": "v",
         "showlegend": false,
         "type": "histogram",
         "x": [
          "Antigua and Barbuda",
          "Antigua and Barbuda",
          "Antigua and Barbuda",
          "Antigua and Barbuda",
          "Antigua and Barbuda",
          "Antigua and Barbuda",
          "Antigua and Barbuda",
          "Antigua and Barbuda",
          "Antigua and Barbuda",
          "Antigua and Barbuda",
          "Antigua and Barbuda",
          "Antigua and Barbuda",
          "Antigua and Barbuda",
          "Antigua and Barbuda",
          "Antigua and Barbuda",
          "Antigua and Barbuda",
          "Antigua and Barbuda",
          "Antigua and Barbuda",
          "Antigua and Barbuda",
          "Antigua and Barbuda",
          "Antigua and Barbuda",
          "Antigua and Barbuda",
          "Antigua and Barbuda",
          "Antigua and Barbuda",
          "Antigua and Barbuda",
          "Antigua and Barbuda",
          "Antigua and Barbuda",
          "Antigua and Barbuda",
          "Antigua and Barbuda",
          "Antigua and Barbuda",
          "Antigua and Barbuda",
          "Antigua and Barbuda",
          "Antigua and Barbuda",
          "Antigua and Barbuda",
          "Antigua and Barbuda",
          "Antigua and Barbuda",
          "Antigua and Barbuda",
          "Antigua and Barbuda",
          "Antigua and Barbuda",
          "Antigua and Barbuda",
          "Antigua and Barbuda",
          "Antigua and Barbuda",
          "Antigua and Barbuda",
          "Antigua and Barbuda",
          "Antigua and Barbuda",
          "Antigua and Barbuda",
          "Antigua and Barbuda",
          "Antigua and Barbuda",
          "Antigua and Barbuda",
          "Antigua and Barbuda",
          "Antigua and Barbuda",
          "Antigua and Barbuda",
          "Antigua and Barbuda",
          "Antigua and Barbuda",
          "Antigua and Barbuda",
          "Antigua and Barbuda",
          "Antigua and Barbuda",
          "Antigua and Barbuda",
          "Antigua and Barbuda",
          "Antigua and Barbuda",
          "Antigua and Barbuda",
          "Antigua and Barbuda",
          "Antigua and Barbuda",
          "Antigua and Barbuda",
          "Antigua and Barbuda",
          "Antigua and Barbuda",
          "Antigua and Barbuda",
          "Antigua and Barbuda",
          "Antigua and Barbuda",
          "Antigua and Barbuda",
          "Antigua and Barbuda",
          "Antigua and Barbuda",
          "Antigua and Barbuda",
          "Antigua and Barbuda",
          "Antigua and Barbuda",
          "Antigua and Barbuda",
          "Antigua and Barbuda",
          "Antigua and Barbuda",
          "Antigua and Barbuda",
          "Antigua and Barbuda",
          "Antigua and Barbuda",
          "Antigua and Barbuda",
          "Antigua and Barbuda",
          "Antigua and Barbuda",
          "Antigua and Barbuda",
          "Antigua and Barbuda",
          "Antigua and Barbuda",
          "Antigua and Barbuda",
          "Antigua and Barbuda",
          "Antigua and Barbuda",
          "Antigua and Barbuda",
          "Antigua and Barbuda",
          "Antigua and Barbuda",
          "Antigua and Barbuda",
          "Antigua and Barbuda",
          "Antigua and Barbuda",
          "Antigua and Barbuda",
          "Antigua and Barbuda",
          "Antigua and Barbuda",
          "Argentina",
          "Argentina",
          "Argentina",
          "Argentina",
          "Argentina",
          "Argentina",
          "Argentina",
          "Argentina",
          "Argentina",
          "Argentina",
          "Argentina",
          "Argentina",
          "Argentina",
          "Argentina",
          "Argentina",
          "Argentina",
          "Argentina",
          "Argentina",
          "Argentina",
          "Argentina",
          "Argentina",
          "Argentina",
          "Argentina",
          "Argentina",
          "Argentina",
          "Argentina",
          "Argentina",
          "Argentina",
          "Argentina",
          "Argentina",
          "Argentina",
          "Argentina",
          "Argentina",
          "Argentina",
          "Argentina",
          "Argentina",
          "Argentina",
          "Argentina",
          "Argentina",
          "Argentina",
          "Argentina",
          "Argentina",
          "Argentina",
          "Argentina",
          "Argentina",
          "Argentina",
          "Argentina",
          "Argentina",
          "Argentina",
          "Argentina",
          "Argentina",
          "Argentina",
          "Argentina",
          "Argentina",
          "Argentina",
          "Argentina",
          "Argentina",
          "Argentina",
          "Argentina",
          "Argentina",
          "Argentina",
          "Argentina",
          "Argentina",
          "Argentina",
          "Argentina",
          "Argentina",
          "Argentina",
          "Argentina",
          "Argentina",
          "Argentina",
          "Argentina",
          "Argentina",
          "Argentina",
          "Argentina",
          "Argentina",
          "Argentina",
          "Argentina",
          "Argentina",
          "Argentina",
          "Argentina",
          "Argentina",
          "Argentina",
          "Argentina",
          "Argentina",
          "Argentina",
          "Argentina",
          "Argentina",
          "Argentina",
          "Argentina",
          "Argentina",
          "Argentina",
          "Argentina",
          "Argentina",
          "Argentina",
          "Argentina",
          "Argentina",
          "Argentina",
          "Argentina",
          "Argentina",
          "Argentina",
          "Argentina",
          "Argentina",
          "Argentina",
          "Argentina",
          "Argentina",
          "Argentina",
          "Argentina",
          "Argentina",
          "Argentina",
          "Argentina",
          "Argentina",
          "Argentina",
          "Argentina",
          "Argentina",
          "Argentina",
          "Argentina",
          "Argentina",
          "Argentina",
          "Argentina",
          "Argentina",
          "Argentina",
          "Argentina",
          "Argentina",
          "Argentina",
          "Argentina",
          "Argentina",
          "Argentina",
          "Argentina",
          "Argentina",
          "Argentina",
          "Argentina",
          "Argentina",
          "Argentina",
          "Argentina",
          "Argentina",
          "Argentina",
          "Argentina",
          "Argentina",
          "Argentina",
          "Argentina",
          "Argentina",
          "Argentina",
          "Argentina",
          "Argentina",
          "Argentina",
          "Argentina",
          "Argentina",
          "Argentina",
          "Argentina",
          "Argentina",
          "Argentina",
          "Argentina",
          "Argentina",
          "Argentina",
          "Argentina",
          "Argentina",
          "Argentina",
          "Argentina",
          "Argentina",
          "Argentina",
          "Argentina",
          "Argentina",
          "Argentina",
          "Argentina",
          "Argentina",
          "Argentina",
          "Argentina",
          "Argentina",
          "Argentina",
          "Argentina",
          "Argentina",
          "Argentina",
          "Argentina",
          "Argentina",
          "Argentina",
          "Argentina",
          "Argentina",
          "Argentina",
          "Argentina",
          "Argentina",
          "Argentina",
          "Argentina",
          "Argentina",
          "Argentina",
          "Argentina",
          "Argentina",
          "Argentina",
          "Argentina",
          "Argentina",
          "Argentina",
          "Argentina",
          "Argentina",
          "Argentina",
          "Argentina",
          "Argentina",
          "Argentina",
          "Argentina",
          "Argentina",
          "Argentina",
          "Argentina",
          "Argentina",
          "Argentina",
          "Argentina",
          "Argentina",
          "Argentina",
          "Argentina",
          "Argentina",
          "Argentina",
          "Argentina",
          "Argentina",
          "Argentina",
          "Argentina",
          "Argentina",
          "Argentina",
          "Argentina",
          "Argentina",
          "Argentina",
          "Argentina",
          "Argentina",
          "Argentina",
          "Argentina",
          "Argentina",
          "Argentina",
          "Argentina",
          "Argentina",
          "Argentina",
          "Argentina",
          "Argentina",
          "Argentina",
          "Argentina",
          "Argentina",
          "Argentina",
          "Argentina",
          "Argentina",
          "Argentina",
          "Argentina",
          "Argentina",
          "Argentina",
          "Argentina",
          "Argentina",
          "Argentina",
          "Argentina",
          "Argentina",
          "Argentina",
          "Argentina",
          "Argentina",
          "Argentina",
          "Argentina",
          "Argentina",
          "Argentina",
          "Argentina",
          "Argentina",
          "Argentina",
          "Argentina",
          "Argentina",
          "Argentina",
          "Argentina",
          "Argentina",
          "Argentina",
          "Argentina",
          "Argentina",
          "Bahamas",
          "Bahamas",
          "Bahamas",
          "Bahamas",
          "Bahamas",
          "Bahamas",
          "Bahamas",
          "Bahamas",
          "Bahamas",
          "Bahamas",
          "Bahamas",
          "Bahamas",
          "Bahamas",
          "Bahamas",
          "Bahamas",
          "Bahamas",
          "Bahamas",
          "Bahamas",
          "Bahamas",
          "Bahamas",
          "Bahamas",
          "Bahamas",
          "Bahamas",
          "Bahamas",
          "Bahamas",
          "Bahamas",
          "Bahamas",
          "Bahamas",
          "Bahamas",
          "Bahamas",
          "Bahamas",
          "Bahamas",
          "Bahamas",
          "Bahamas",
          "Bahamas",
          "Bahamas",
          "Bahamas",
          "Bahamas",
          "Bahamas",
          "Bahamas",
          "Bahamas",
          "Bahamas",
          "Bahamas",
          "Bahamas",
          "Bahamas",
          "Bahamas",
          "Bahamas",
          "Bahamas",
          "Bahamas",
          "Bahamas",
          "Bahamas",
          "Bahamas",
          "Bahamas",
          "Bahamas",
          "Bahamas",
          "Bahamas",
          "Bahamas",
          "Bahamas",
          "Bahamas",
          "Bahamas",
          "Bahamas",
          "Bahamas",
          "Bahamas",
          "Bahamas",
          "Bahamas",
          "Bahamas",
          "Bahamas",
          "Bahamas",
          "Bahamas",
          "Bahamas",
          "Bahamas",
          "Bahamas",
          "Bahamas",
          "Bahamas",
          "Bahamas",
          "Bahamas",
          "Bahamas",
          "Bahamas",
          "Bahamas",
          "Bahamas",
          "Bahamas",
          "Bahamas",
          "Bahamas",
          "Bahamas",
          "Bahamas",
          "Bahamas",
          "Bahamas",
          "Bahamas",
          "Bahamas",
          "Bahamas",
          "Bahamas",
          "Bahamas",
          "Bahamas",
          "Bahamas",
          "Bahamas",
          "Bahamas",
          "Bahamas",
          "Bahamas",
          "Bahamas",
          "Bahamas",
          "Bahamas",
          "Bahamas",
          "Bahamas",
          "Bahamas",
          "Bahamas",
          "Bahamas",
          "Bahamas",
          "Bahamas",
          "Barbados",
          "Barbados",
          "Barbados",
          "Barbados",
          "Barbados",
          "Barbados",
          "Barbados",
          "Barbados",
          "Barbados",
          "Barbados",
          "Barbados",
          "Barbados",
          "Barbados",
          "Barbados",
          "Barbados",
          "Barbados",
          "Barbados",
          "Barbados",
          "Barbados",
          "Barbados",
          "Barbados",
          "Barbados",
          "Barbados",
          "Barbados",
          "Barbados",
          "Barbados",
          "Barbados",
          "Barbados",
          "Barbados",
          "Barbados",
          "Barbados",
          "Barbados",
          "Barbados",
          "Barbados",
          "Barbados",
          "Barbados",
          "Barbados",
          "Barbados",
          "Barbados",
          "Barbados",
          "Barbados",
          "Barbados",
          "Barbados",
          "Barbados",
          "Barbados",
          "Barbados",
          "Barbados",
          "Barbados",
          "Barbados",
          "Barbados",
          "Barbados",
          "Barbados",
          "Barbados",
          "Barbados",
          "Barbados",
          "Barbados",
          "Barbados",
          "Barbados",
          "Barbados",
          "Barbados",
          "Barbados",
          "Barbados",
          "Barbados",
          "Barbados",
          "Barbados",
          "Barbados",
          "Barbados",
          "Barbados",
          "Barbados",
          "Barbados",
          "Barbados",
          "Barbados",
          "Barbados",
          "Barbados",
          "Barbados",
          "Barbados",
          "Barbados",
          "Barbados",
          "Barbados",
          "Barbados",
          "Barbados",
          "Barbados",
          "Barbados",
          "Barbados",
          "Barbados",
          "Barbados",
          "Barbados",
          "Barbados",
          "Barbados",
          "Barbados",
          "Barbados",
          "Barbados",
          "Barbados",
          "Barbados",
          "Barbados",
          "Barbados",
          "Barbados",
          "Barbados",
          "Barbados",
          "Barbados",
          "Barbados",
          "Barbados",
          "Barbados",
          "Barbados",
          "Barbados",
          "Barbados",
          "Barbados",
          "Barbados",
          "Belize",
          "Belize",
          "Belize",
          "Belize",
          "Belize",
          "Belize",
          "Belize",
          "Belize",
          "Belize",
          "Belize",
          "Belize",
          "Belize",
          "Belize",
          "Belize",
          "Belize",
          "Belize",
          "Belize",
          "Belize",
          "Belize",
          "Belize",
          "Belize",
          "Belize",
          "Belize",
          "Belize",
          "Belize",
          "Belize",
          "Belize",
          "Belize",
          "Belize",
          "Belize",
          "Belize",
          "Belize",
          "Belize",
          "Belize",
          "Belize",
          "Belize",
          "Belize",
          "Belize",
          "Belize",
          "Belize",
          "Belize",
          "Belize",
          "Belize",
          "Belize",
          "Belize",
          "Belize",
          "Belize",
          "Belize",
          "Belize",
          "Belize",
          "Belize",
          "Belize",
          "Belize",
          "Belize",
          "Belize",
          "Belize",
          "Belize",
          "Belize",
          "Belize",
          "Belize",
          "Belize",
          "Belize",
          "Belize",
          "Belize",
          "Belize",
          "Belize",
          "Belize",
          "Belize",
          "Belize",
          "Belize",
          "Belize",
          "Belize",
          "Belize",
          "Belize",
          "Belize",
          "Belize",
          "Belize",
          "Belize",
          "Belize",
          "Belize",
          "Belize",
          "Belize",
          "Belize",
          "Belize",
          "Belize",
          "Belize",
          "Belize",
          "Belize",
          "Belize",
          "Belize",
          "Belize",
          "Belize",
          "Belize",
          "Belize",
          "Belize",
          "Belize",
          "Belize",
          "Belize",
          "Belize",
          "Belize",
          "Belize",
          "Belize",
          "Belize",
          "Belize",
          "Belize",
          "Belize",
          "Belize",
          "Belize",
          "Belize",
          "Belize",
          "Belize",
          "Belize",
          "Belize",
          "Belize",
          "Belize",
          "Belize",
          "Belize",
          "Belize",
          "Belize",
          "Belize",
          "Belize",
          "Belize",
          "Belize",
          "Belize",
          "Belize",
          "Belize",
          "Belize",
          "Belize",
          "Belize",
          "Belize",
          "Belize",
          "Belize",
          "Belize",
          "Belize",
          "Belize",
          "Belize",
          "Belize",
          "Belize",
          "Belize",
          "Belize",
          "Belize",
          "Belize",
          "Belize",
          "Belize",
          "Belize",
          "Belize",
          "Belize",
          "Belize",
          "Belize",
          "Belize",
          "Belize",
          "Bolivia (Plurinational State of)",
          "Bolivia (Plurinational State of)",
          "Bolivia (Plurinational State of)",
          "Bolivia (Plurinational State of)",
          "Bolivia (Plurinational State of)",
          "Bolivia (Plurinational State of)",
          "Bolivia (Plurinational State of)",
          "Bolivia (Plurinational State of)",
          "Bolivia (Plurinational State of)",
          "Bolivia (Plurinational State of)",
          "Bolivia (Plurinational State of)",
          "Bolivia (Plurinational State of)",
          "Bolivia (Plurinational State of)",
          "Bolivia (Plurinational State of)",
          "Bolivia (Plurinational State of)",
          "Bolivia (Plurinational State of)",
          "Bolivia (Plurinational State of)",
          "Bolivia (Plurinational State of)",
          "Bolivia (Plurinational State of)",
          "Bolivia (Plurinational State of)",
          "Bolivia (Plurinational State of)",
          "Bolivia (Plurinational State of)",
          "Bolivia (Plurinational State of)",
          "Bolivia (Plurinational State of)",
          "Bolivia (Plurinational State of)",
          "Bolivia (Plurinational State of)",
          "Bolivia (Plurinational State of)",
          "Bolivia (Plurinational State of)",
          "Bolivia (Plurinational State of)",
          "Bolivia (Plurinational State of)",
          "Bolivia (Plurinational State of)",
          "Bolivia (Plurinational State of)",
          "Bolivia (Plurinational State of)",
          "Bolivia (Plurinational State of)",
          "Bolivia (Plurinational State of)",
          "Bolivia (Plurinational State of)",
          "Bolivia (Plurinational State of)",
          "Bolivia (Plurinational State of)",
          "Bolivia (Plurinational State of)",
          "Bolivia (Plurinational State of)",
          "Bolivia (Plurinational State of)",
          "Bolivia (Plurinational State of)",
          "Bolivia (Plurinational State of)",
          "Bolivia (Plurinational State of)",
          "Bolivia (Plurinational State of)",
          "Bolivia (Plurinational State of)",
          "Bolivia (Plurinational State of)",
          "Bolivia (Plurinational State of)",
          "Bolivia (Plurinational State of)",
          "Bolivia (Plurinational State of)",
          "Bolivia (Plurinational State of)",
          "Bolivia (Plurinational State of)",
          "Bolivia (Plurinational State of)",
          "Bolivia (Plurinational State of)",
          "Bolivia (Plurinational State of)",
          "Bolivia (Plurinational State of)",
          "Bolivia (Plurinational State of)",
          "Bolivia (Plurinational State of)",
          "Bolivia (Plurinational State of)",
          "Bolivia (Plurinational State of)",
          "Bolivia (Plurinational State of)",
          "Bolivia (Plurinational State of)",
          "Bolivia (Plurinational State of)",
          "Bolivia (Plurinational State of)",
          "Bolivia (Plurinational State of)",
          "Bolivia (Plurinational State of)",
          "Bolivia (Plurinational State of)",
          "Bolivia (Plurinational State of)",
          "Bolivia (Plurinational State of)",
          "Bolivia (Plurinational State of)",
          "Bolivia (Plurinational State of)",
          "Bolivia (Plurinational State of)",
          "Bolivia (Plurinational State of)",
          "Bolivia (Plurinational State of)",
          "Bolivia (Plurinational State of)",
          "Bolivia (Plurinational State of)",
          "Bolivia (Plurinational State of)",
          "Bolivia (Plurinational State of)",
          "Bolivia (Plurinational State of)",
          "Bolivia (Plurinational State of)",
          "Bolivia (Plurinational State of)",
          "Bolivia (Plurinational State of)",
          "Bolivia (Plurinational State of)",
          "Bolivia (Plurinational State of)",
          "Bolivia (Plurinational State of)",
          "Bolivia (Plurinational State of)",
          "Bolivia (Plurinational State of)",
          "Bolivia (Plurinational State of)",
          "Bolivia (Plurinational State of)",
          "Bolivia (Plurinational State of)",
          "Bolivia (Plurinational State of)",
          "Bolivia (Plurinational State of)",
          "Bolivia (Plurinational State of)",
          "Bolivia (Plurinational State of)",
          "Bolivia (Plurinational State of)",
          "Bolivia (Plurinational State of)",
          "Bolivia (Plurinational State of)",
          "Bolivia (Plurinational State of)",
          "Bolivia (Plurinational State of)",
          "Bolivia (Plurinational State of)",
          "Bolivia (Plurinational State of)",
          "Bolivia (Plurinational State of)",
          "Bolivia (Plurinational State of)",
          "Bolivia (Plurinational State of)",
          "Bolivia (Plurinational State of)",
          "Bolivia (Plurinational State of)",
          "Bolivia (Plurinational State of)",
          "Bolivia (Plurinational State of)",
          "Bolivia (Plurinational State of)",
          "Bolivia (Plurinational State of)",
          "Bolivia (Plurinational State of)",
          "Bolivia (Plurinational State of)",
          "Bolivia (Plurinational State of)",
          "Bolivia (Plurinational State of)",
          "Bolivia (Plurinational State of)",
          "Bolivia (Plurinational State of)",
          "Bolivia (Plurinational State of)",
          "Bolivia (Plurinational State of)",
          "Bolivia (Plurinational State of)",
          "Bolivia (Plurinational State of)",
          "Bolivia (Plurinational State of)",
          "Bolivia (Plurinational State of)",
          "Bolivia (Plurinational State of)",
          "Bolivia (Plurinational State of)",
          "Bolivia (Plurinational State of)",
          "Bolivia (Plurinational State of)",
          "Bolivia (Plurinational State of)",
          "Bolivia (Plurinational State of)",
          "Bolivia (Plurinational State of)",
          "Bolivia (Plurinational State of)",
          "Bolivia (Plurinational State of)",
          "Bolivia (Plurinational State of)",
          "Bolivia (Plurinational State of)",
          "Bolivia (Plurinational State of)",
          "Bolivia (Plurinational State of)",
          "Bolivia (Plurinational State of)",
          "Bolivia (Plurinational State of)",
          "Bolivia (Plurinational State of)",
          "Bolivia (Plurinational State of)",
          "Bolivia (Plurinational State of)",
          "Bolivia (Plurinational State of)",
          "Bolivia (Plurinational State of)",
          "Bolivia (Plurinational State of)",
          "Bolivia (Plurinational State of)",
          "Bolivia (Plurinational State of)",
          "Bolivia (Plurinational State of)",
          "Bolivia (Plurinational State of)",
          "Bolivia (Plurinational State of)",
          "Bolivia (Plurinational State of)",
          "Bolivia (Plurinational State of)",
          "Bolivia (Plurinational State of)",
          "Bolivia (Plurinational State of)",
          "Bolivia (Plurinational State of)",
          "Bolivia (Plurinational State of)",
          "Bolivia (Plurinational State of)",
          "Bolivia (Plurinational State of)",
          "Bolivia (Plurinational State of)",
          "Bolivia (Plurinational State of)",
          "Bolivia (Plurinational State of)",
          "Bolivia (Plurinational State of)",
          "Bolivia (Plurinational State of)",
          "Bolivia (Plurinational State of)",
          "Bolivia (Plurinational State of)",
          "Bolivia (Plurinational State of)",
          "Bolivia (Plurinational State of)",
          "Bolivia (Plurinational State of)",
          "Bolivia (Plurinational State of)",
          "Bolivia (Plurinational State of)",
          "Bolivia (Plurinational State of)",
          "Bolivia (Plurinational State of)",
          "Bolivia (Plurinational State of)",
          "Bolivia (Plurinational State of)",
          "Bolivia (Plurinational State of)",
          "Bolivia (Plurinational State of)",
          "Bolivia (Plurinational State of)",
          "Bolivia (Plurinational State of)",
          "Bolivia (Plurinational State of)",
          "Bolivia (Plurinational State of)",
          "Bolivia (Plurinational State of)",
          "Bolivia (Plurinational State of)",
          "Bolivia (Plurinational State of)",
          "Bolivia (Plurinational State of)",
          "Bolivia (Plurinational State of)",
          "Bolivia (Plurinational State of)",
          "Bolivia (Plurinational State of)",
          "Bolivia (Plurinational State of)",
          "Bolivia (Plurinational State of)",
          "Bolivia (Plurinational State of)",
          "Bolivia (Plurinational State of)",
          "Bolivia (Plurinational State of)",
          "Bolivia (Plurinational State of)",
          "Bolivia (Plurinational State of)",
          "Bolivia (Plurinational State of)",
          "Bolivia (Plurinational State of)",
          "Bolivia (Plurinational State of)",
          "Bolivia (Plurinational State of)",
          "Bolivia (Plurinational State of)",
          "Bolivia (Plurinational State of)",
          "Bolivia (Plurinational State of)",
          "Bolivia (Plurinational State of)",
          "Bolivia (Plurinational State of)",
          "Bolivia (Plurinational State of)",
          "Bolivia (Plurinational State of)",
          "Bolivia (Plurinational State of)",
          "Bolivia (Plurinational State of)",
          "Bolivia (Plurinational State of)",
          "Bolivia (Plurinational State of)",
          "Bolivia (Plurinational State of)",
          "Bolivia (Plurinational State of)",
          "Bolivia (Plurinational State of)",
          "Bolivia (Plurinational State of)",
          "Bolivia (Plurinational State of)",
          "Bolivia (Plurinational State of)",
          "Bolivia (Plurinational State of)",
          "Bolivia (Plurinational State of)",
          "Bolivia (Plurinational State of)",
          "Bolivia (Plurinational State of)",
          "Bolivia (Plurinational State of)",
          "Bolivia (Plurinational State of)",
          "Bolivia (Plurinational State of)",
          "Bolivia (Plurinational State of)",
          "Bolivia (Plurinational State of)",
          "Bolivia (Plurinational State of)",
          "Bolivia (Plurinational State of)",
          "Bolivia (Plurinational State of)",
          "Bolivia (Plurinational State of)",
          "Bolivia (Plurinational State of)",
          "Bolivia (Plurinational State of)",
          "Bolivia (Plurinational State of)",
          "Bolivia (Plurinational State of)",
          "Bolivia (Plurinational State of)",
          "Bolivia (Plurinational State of)",
          "Bolivia (Plurinational State of)",
          "Bolivia (Plurinational State of)",
          "Bolivia (Plurinational State of)",
          "Bolivia (Plurinational State of)",
          "Bolivia (Plurinational State of)",
          "Bolivia (Plurinational State of)",
          "Bolivia (Plurinational State of)",
          "Bolivia (Plurinational State of)",
          "Bolivia (Plurinational State of)",
          "Bolivia (Plurinational State of)",
          "Bolivia (Plurinational State of)",
          "Bolivia (Plurinational State of)",
          "Bolivia (Plurinational State of)",
          "Bolivia (Plurinational State of)",
          "Brazil",
          "Brazil",
          "Brazil",
          "Brazil",
          "Brazil",
          "Brazil",
          "Brazil",
          "Brazil",
          "Brazil",
          "Brazil",
          "Brazil",
          "Brazil",
          "Brazil",
          "Brazil",
          "Brazil",
          "Brazil",
          "Brazil",
          "Brazil",
          "Brazil",
          "Brazil",
          "Brazil",
          "Brazil",
          "Brazil",
          "Brazil",
          "Brazil",
          "Brazil",
          "Brazil",
          "Brazil",
          "Brazil",
          "Brazil",
          "Brazil",
          "Brazil",
          "Brazil",
          "Brazil",
          "Brazil",
          "Brazil",
          "Brazil",
          "Brazil",
          "Brazil",
          "Brazil",
          "Brazil",
          "Brazil",
          "Brazil",
          "Brazil",
          "Brazil",
          "Brazil",
          "Brazil",
          "Brazil",
          "Brazil",
          "Brazil",
          "Brazil",
          "Brazil",
          "Brazil",
          "Brazil",
          "Brazil",
          "Brazil",
          "Brazil",
          "Brazil",
          "Brazil",
          "Brazil",
          "Brazil",
          "Brazil",
          "Brazil",
          "Brazil",
          "Brazil",
          "Brazil",
          "Brazil",
          "Brazil",
          "Brazil",
          "Brazil",
          "Brazil",
          "Brazil",
          "Brazil",
          "Brazil",
          "Brazil",
          "Brazil",
          "Brazil",
          "Brazil",
          "Brazil",
          "Brazil",
          "Brazil",
          "Brazil",
          "Brazil",
          "Brazil",
          "Brazil",
          "Brazil",
          "Brazil",
          "Brazil",
          "Brazil",
          "Brazil",
          "Brazil",
          "Brazil",
          "Brazil",
          "Brazil",
          "Brazil",
          "Brazil",
          "Brazil",
          "Brazil",
          "Brazil",
          "Brazil",
          "Brazil",
          "Brazil",
          "Brazil",
          "Brazil",
          "Brazil",
          "Brazil",
          "Brazil",
          "Brazil",
          "Brazil",
          "Brazil",
          "Brazil",
          "Brazil",
          "Brazil",
          "Brazil",
          "Brazil",
          "Brazil",
          "Brazil",
          "Brazil",
          "Brazil",
          "Brazil",
          "Brazil",
          "Brazil",
          "Brazil",
          "Brazil",
          "Brazil",
          "Brazil",
          "Brazil",
          "Brazil",
          "Brazil",
          "Brazil",
          "Brazil",
          "Brazil",
          "Brazil",
          "Brazil",
          "Brazil",
          "Brazil",
          "Brazil",
          "Brazil",
          "Brazil",
          "Brazil",
          "Brazil",
          "Brazil",
          "Brazil",
          "Brazil",
          "Brazil",
          "Brazil",
          "Brazil",
          "Brazil",
          "Brazil",
          "Brazil",
          "Brazil",
          "Brazil",
          "Brazil",
          "Brazil",
          "Brazil",
          "Brazil",
          "Brazil",
          "Brazil",
          "Brazil",
          "Brazil",
          "Brazil",
          "Brazil",
          "Brazil",
          "Brazil",
          "Brazil",
          "Brazil",
          "Brazil",
          "Brazil",
          "Brazil",
          "Brazil",
          "Brazil",
          "Brazil",
          "Brazil",
          "Brazil",
          "Brazil",
          "Brazil",
          "Brazil",
          "Brazil",
          "Brazil",
          "Brazil",
          "Brazil",
          "Brazil",
          "Brazil",
          "Brazil",
          "Brazil",
          "Brazil",
          "Brazil",
          "Brazil",
          "Brazil",
          "Brazil",
          "Brazil",
          "Brazil",
          "Brazil",
          "Brazil",
          "Brazil",
          "Brazil",
          "Brazil",
          "Brazil",
          "Brazil",
          "Brazil",
          "Brazil",
          "Brazil",
          "Brazil",
          "Brazil",
          "Brazil",
          "Brazil",
          "Brazil",
          "Brazil",
          "Brazil",
          "Brazil",
          "Brazil",
          "Brazil",
          "Brazil",
          "Brazil",
          "Brazil",
          "Brazil",
          "Brazil",
          "Brazil",
          "Brazil",
          "Brazil",
          "Brazil",
          "Brazil",
          "Brazil",
          "Brazil",
          "Brazil",
          "Brazil",
          "Brazil",
          "Brazil",
          "Brazil",
          "Brazil",
          "Brazil",
          "Brazil",
          "Brazil",
          "Brazil",
          "Brazil",
          "Brazil",
          "Brazil",
          "Brazil",
          "Brazil",
          "Brazil",
          "Brazil",
          "Brazil",
          "Brazil",
          "Brazil",
          "Brazil",
          "Brazil",
          "Brazil",
          "Brazil",
          "Brazil",
          "Brazil",
          "Brazil",
          "Brazil",
          "Canada",
          "Canada",
          "Canada",
          "Canada",
          "Canada",
          "Canada",
          "Canada",
          "Canada",
          "Canada",
          "Canada",
          "Canada",
          "Canada",
          "Canada",
          "Canada",
          "Canada",
          "Canada",
          "Canada",
          "Canada",
          "Canada",
          "Canada",
          "Canada",
          "Canada",
          "Canada",
          "Canada",
          "Canada",
          "Canada",
          "Canada",
          "Canada",
          "Canada",
          "Canada",
          "Canada",
          "Canada",
          "Canada",
          "Canada",
          "Canada",
          "Canada",
          "Canada",
          "Canada",
          "Canada",
          "Canada",
          "Canada",
          "Canada",
          "Canada",
          "Canada",
          "Canada",
          "Canada",
          "Canada",
          "Canada",
          "Canada",
          "Canada",
          "Canada",
          "Canada",
          "Canada",
          "Canada",
          "Canada",
          "Canada",
          "Canada",
          "Canada",
          "Canada",
          "Canada",
          "Canada",
          "Canada",
          "Canada",
          "Canada",
          "Canada",
          "Canada",
          "Canada",
          "Canada",
          "Canada",
          "Canada",
          "Canada",
          "Canada",
          "Canada",
          "Canada",
          "Canada",
          "Canada",
          "Canada",
          "Canada",
          "Canada",
          "Canada",
          "Canada",
          "Canada",
          "Canada",
          "Canada",
          "Canada",
          "Canada",
          "Canada",
          "Canada",
          "Canada",
          "Canada",
          "Canada",
          "Canada",
          "Canada",
          "Canada",
          "Canada",
          "Canada",
          "Canada",
          "Canada",
          "Canada",
          "Canada",
          "Canada",
          "Canada",
          "Canada",
          "Canada",
          "Canada",
          "Canada",
          "Canada",
          "Canada",
          "Canada",
          "Canada",
          "Canada",
          "Canada",
          "Canada",
          "Canada",
          "Canada",
          "Canada",
          "Canada",
          "Canada",
          "Canada",
          "Canada",
          "Canada",
          "Canada",
          "Canada",
          "Canada",
          "Canada",
          "Canada",
          "Canada",
          "Canada",
          "Canada",
          "Canada",
          "Canada",
          "Canada",
          "Canada",
          "Canada",
          "Canada",
          "Canada",
          "Canada",
          "Canada",
          "Canada",
          "Canada",
          "Canada",
          "Canada",
          "Canada",
          "Canada",
          "Canada",
          "Canada",
          "Canada",
          "Canada",
          "Canada",
          "Canada",
          "Canada",
          "Canada",
          "Canada",
          "Canada",
          "Canada",
          "Canada",
          "Canada",
          "Canada",
          "Canada",
          "Canada",
          "Canada",
          "Canada",
          "Canada",
          "Canada",
          "Canada",
          "Canada",
          "Canada",
          "Canada",
          "Canada",
          "Canada",
          "Canada",
          "Canada",
          "Canada",
          "Canada",
          "Canada",
          "Canada",
          "Canada",
          "Canada",
          "Canada",
          "Canada",
          "Canada",
          "Canada",
          "Canada",
          "Canada",
          "Canada",
          "Canada",
          "Canada",
          "Canada",
          "Canada",
          "Canada",
          "Canada",
          "Canada",
          "Canada",
          "Canada",
          "Canada",
          "Canada",
          "Canada",
          "Canada",
          "Canada",
          "Canada",
          "Canada",
          "Canada",
          "Canada",
          "Canada",
          "Canada",
          "Canada",
          "Canada",
          "Canada",
          "Canada",
          "Canada",
          "Canada",
          "Chile",
          "Chile",
          "Chile",
          "Chile",
          "Chile",
          "Chile",
          "Chile",
          "Chile",
          "Chile",
          "Chile",
          "Chile",
          "Chile",
          "Chile",
          "Chile",
          "Chile",
          "Chile",
          "Chile",
          "Chile",
          "Chile",
          "Chile",
          "Chile",
          "Chile",
          "Chile",
          "Chile",
          "Chile",
          "Chile",
          "Chile",
          "Chile",
          "Chile",
          "Chile",
          "Chile",
          "Chile",
          "Chile",
          "Chile",
          "Chile",
          "Chile",
          "Chile",
          "Chile",
          "Chile",
          "Chile",
          "Chile",
          "Chile",
          "Chile",
          "Chile",
          "Chile",
          "Chile",
          "Chile",
          "Chile",
          "Chile",
          "Chile",
          "Chile",
          "Chile",
          "Chile",
          "Chile",
          "Chile",
          "Chile",
          "Chile",
          "Chile",
          "Chile",
          "Chile",
          "Chile",
          "Chile",
          "Chile",
          "Chile",
          "Chile",
          "Chile",
          "Chile",
          "Chile",
          "Chile",
          "Chile",
          "Chile",
          "Chile",
          "Chile",
          "Chile",
          "Chile",
          "Chile",
          "Chile",
          "Chile",
          "Chile",
          "Chile",
          "Chile",
          "Chile",
          "Chile",
          "Chile",
          "Chile",
          "Chile",
          "Chile",
          "Chile",
          "Chile",
          "Chile",
          "Chile",
          "Chile",
          "Chile",
          "Chile",
          "Chile",
          "Chile",
          "Chile",
          "Chile",
          "Chile",
          "Chile",
          "Chile",
          "Chile",
          "Chile",
          "Chile",
          "Chile",
          "Chile",
          "Chile",
          "Chile",
          "Chile",
          "Chile",
          "Chile",
          "Chile",
          "Chile",
          "Chile",
          "Chile",
          "Chile",
          "Chile",
          "Chile",
          "Chile",
          "Chile",
          "Chile",
          "Chile",
          "Chile",
          "Chile",
          "Chile",
          "Chile",
          "Chile",
          "Chile",
          "Chile",
          "Chile",
          "Chile",
          "Chile",
          "Chile",
          "Chile",
          "Chile",
          "Chile",
          "Chile",
          "Chile",
          "Chile",
          "Chile",
          "Chile",
          "Chile",
          "Chile",
          "Chile",
          "Chile",
          "Chile",
          "Chile",
          "Chile",
          "Chile",
          "Chile",
          "Chile",
          "Chile",
          "Chile",
          "Chile",
          "Chile",
          "Chile",
          "Chile",
          "Chile",
          "Chile",
          "Chile",
          "Chile",
          "Chile",
          "Chile",
          "Chile",
          "Chile",
          "Chile",
          "Chile",
          "Chile",
          "Chile",
          "Chile",
          "Chile",
          "Chile",
          "Chile",
          "Chile",
          "Chile",
          "Chile",
          "Chile",
          "Chile",
          "Chile",
          "Chile",
          "Chile",
          "Chile",
          "Chile",
          "Chile",
          "Chile",
          "Chile",
          "Chile",
          "Chile",
          "Chile",
          "Chile",
          "Chile",
          "Chile",
          "Chile",
          "Chile",
          "Chile",
          "Chile",
          "Chile",
          "Chile",
          "Chile",
          "Chile",
          "Chile",
          "Chile",
          "Chile",
          "Chile",
          "Chile",
          "Chile",
          "Chile",
          "Chile",
          "Chile",
          "Chile",
          "Chile",
          "Chile",
          "Chile",
          "Chile",
          "Chile",
          "Chile",
          "Chile",
          "Chile",
          "Chile",
          "Chile",
          "Chile",
          "Chile",
          "Chile",
          "Chile",
          "Chile",
          "Chile",
          "Chile",
          "Chile",
          "Chile",
          "Chile",
          "Chile",
          "Chile",
          "Chile",
          "Chile",
          "Chile",
          "Chile",
          "Chile",
          "Chile",
          "Chile",
          "Chile",
          "Chile",
          "Chile",
          "Chile",
          "Chile",
          "Chile",
          "Chile",
          "Chile",
          "Chile",
          "Chile",
          "Chile",
          "Chile",
          "Chile",
          "Chile",
          "Colombia",
          "Colombia",
          "Colombia",
          "Colombia",
          "Colombia",
          "Colombia",
          "Colombia",
          "Colombia",
          "Colombia",
          "Colombia",
          "Colombia",
          "Colombia",
          "Colombia",
          "Colombia",
          "Colombia",
          "Colombia",
          "Colombia",
          "Colombia",
          "Colombia",
          "Colombia",
          "Colombia",
          "Colombia",
          "Colombia",
          "Colombia",
          "Colombia",
          "Colombia",
          "Colombia",
          "Colombia",
          "Colombia",
          "Colombia",
          "Colombia",
          "Colombia",
          "Colombia",
          "Colombia",
          "Colombia",
          "Colombia",
          "Colombia",
          "Colombia",
          "Colombia",
          "Colombia",
          "Colombia",
          "Colombia",
          "Colombia",
          "Colombia",
          "Colombia",
          "Colombia",
          "Colombia",
          "Colombia",
          "Colombia",
          "Colombia",
          "Colombia",
          "Colombia",
          "Colombia",
          "Colombia",
          "Colombia",
          "Colombia",
          "Colombia",
          "Colombia",
          "Colombia",
          "Colombia",
          "Colombia",
          "Colombia",
          "Colombia",
          "Colombia",
          "Colombia",
          "Colombia",
          "Colombia",
          "Colombia",
          "Colombia",
          "Colombia",
          "Colombia",
          "Colombia",
          "Colombia",
          "Colombia",
          "Colombia",
          "Colombia",
          "Colombia",
          "Colombia",
          "Colombia",
          "Colombia",
          "Colombia",
          "Colombia",
          "Colombia",
          "Colombia",
          "Colombia",
          "Colombia",
          "Colombia",
          "Colombia",
          "Colombia",
          "Colombia",
          "Colombia",
          "Colombia",
          "Colombia",
          "Colombia",
          "Colombia",
          "Colombia",
          "Colombia",
          "Colombia",
          "Colombia",
          "Colombia",
          "Colombia",
          "Colombia",
          "Colombia",
          "Colombia",
          "Colombia",
          "Colombia",
          "Colombia",
          "Colombia",
          "Colombia",
          "Colombia",
          "Colombia",
          "Colombia",
          "Colombia",
          "Colombia",
          "Colombia",
          "Colombia",
          "Colombia",
          "Colombia",
          "Colombia",
          "Colombia",
          "Colombia",
          "Colombia",
          "Colombia",
          "Colombia",
          "Colombia",
          "Colombia",
          "Colombia",
          "Colombia",
          "Colombia",
          "Colombia",
          "Colombia",
          "Colombia",
          "Colombia",
          "Colombia",
          "Colombia",
          "Colombia",
          "Colombia",
          "Colombia",
          "Colombia",
          "Colombia",
          "Colombia",
          "Colombia",
          "Colombia",
          "Colombia",
          "Colombia",
          "Colombia",
          "Colombia",
          "Colombia",
          "Colombia",
          "Colombia",
          "Colombia",
          "Colombia",
          "Colombia",
          "Colombia",
          "Colombia",
          "Colombia",
          "Colombia",
          "Colombia",
          "Colombia",
          "Colombia",
          "Colombia",
          "Colombia",
          "Colombia",
          "Colombia",
          "Colombia",
          "Colombia",
          "Colombia",
          "Colombia",
          "Colombia",
          "Colombia",
          "Colombia",
          "Colombia",
          "Colombia",
          "Colombia",
          "Colombia",
          "Colombia",
          "Colombia",
          "Colombia",
          "Colombia",
          "Colombia",
          "Colombia",
          "Colombia",
          "Colombia",
          "Colombia",
          "Colombia",
          "Colombia",
          "Colombia",
          "Colombia",
          "Colombia",
          "Colombia",
          "Colombia",
          "Colombia",
          "Colombia",
          "Colombia",
          "Colombia",
          "Colombia",
          "Colombia",
          "Colombia",
          "Colombia",
          "Colombia",
          "Colombia",
          "Colombia",
          "Colombia",
          "Colombia",
          "Colombia",
          "Colombia",
          "Colombia",
          "Colombia",
          "Colombia",
          "Colombia",
          "Colombia",
          "Colombia",
          "Colombia",
          "Colombia",
          "Colombia",
          "Colombia",
          "Colombia",
          "Colombia",
          "Colombia",
          "Colombia",
          "Colombia",
          "Colombia",
          "Colombia",
          "Colombia",
          "Colombia",
          "Colombia",
          "Colombia",
          "Colombia",
          "Colombia",
          "Colombia",
          "Colombia",
          "Colombia",
          "Colombia",
          "Colombia",
          "Colombia",
          "Colombia",
          "Colombia",
          "Colombia",
          "Colombia",
          "Colombia",
          "Colombia",
          "Colombia",
          "Colombia",
          "Colombia",
          "Colombia",
          "Colombia",
          "Colombia",
          "Colombia",
          "Colombia",
          "Colombia",
          "Colombia",
          "Colombia",
          "Colombia",
          "Colombia",
          "Colombia",
          "Colombia",
          "Colombia",
          "Colombia",
          "Colombia",
          "Colombia",
          "Colombia",
          "Colombia",
          "Colombia",
          "Colombia",
          "Colombia",
          "Costa Rica",
          "Costa Rica",
          "Costa Rica",
          "Costa Rica",
          "Costa Rica",
          "Costa Rica",
          "Costa Rica",
          "Costa Rica",
          "Costa Rica",
          "Costa Rica",
          "Costa Rica",
          "Costa Rica",
          "Costa Rica",
          "Costa Rica",
          "Costa Rica",
          "Costa Rica",
          "Costa Rica",
          "Costa Rica",
          "Costa Rica",
          "Costa Rica",
          "Costa Rica",
          "Costa Rica",
          "Costa Rica",
          "Costa Rica",
          "Costa Rica",
          "Costa Rica",
          "Costa Rica",
          "Costa Rica",
          "Costa Rica",
          "Costa Rica",
          "Costa Rica",
          "Costa Rica",
          "Costa Rica",
          "Costa Rica",
          "Costa Rica",
          "Costa Rica",
          "Costa Rica",
          "Costa Rica",
          "Costa Rica",
          "Costa Rica",
          "Costa Rica",
          "Costa Rica",
          "Costa Rica",
          "Costa Rica",
          "Costa Rica",
          "Costa Rica",
          "Costa Rica",
          "Costa Rica",
          "Costa Rica",
          "Costa Rica",
          "Costa Rica",
          "Costa Rica",
          "Costa Rica",
          "Costa Rica",
          "Costa Rica",
          "Costa Rica",
          "Costa Rica",
          "Costa Rica",
          "Costa Rica",
          "Costa Rica",
          "Costa Rica",
          "Costa Rica",
          "Costa Rica",
          "Costa Rica",
          "Costa Rica",
          "Costa Rica",
          "Costa Rica",
          "Costa Rica",
          "Costa Rica",
          "Costa Rica",
          "Costa Rica",
          "Costa Rica",
          "Costa Rica",
          "Costa Rica",
          "Costa Rica",
          "Costa Rica",
          "Costa Rica",
          "Costa Rica",
          "Costa Rica",
          "Costa Rica",
          "Costa Rica",
          "Costa Rica",
          "Costa Rica",
          "Costa Rica",
          "Costa Rica",
          "Costa Rica",
          "Costa Rica",
          "Costa Rica",
          "Costa Rica",
          "Costa Rica",
          "Costa Rica",
          "Costa Rica",
          "Costa Rica",
          "Costa Rica",
          "Costa Rica",
          "Costa Rica",
          "Costa Rica",
          "Costa Rica",
          "Costa Rica",
          "Costa Rica",
          "Costa Rica",
          "Costa Rica",
          "Costa Rica",
          "Costa Rica",
          "Costa Rica",
          "Costa Rica",
          "Costa Rica",
          "Costa Rica",
          "Costa Rica",
          "Costa Rica",
          "Costa Rica",
          "Costa Rica",
          "Costa Rica",
          "Costa Rica",
          "Costa Rica",
          "Costa Rica",
          "Costa Rica",
          "Costa Rica",
          "Costa Rica",
          "Costa Rica",
          "Costa Rica",
          "Costa Rica",
          "Costa Rica",
          "Costa Rica",
          "Costa Rica",
          "Costa Rica",
          "Costa Rica",
          "Costa Rica",
          "Costa Rica",
          "Costa Rica",
          "Costa Rica",
          "Costa Rica",
          "Costa Rica",
          "Costa Rica",
          "Costa Rica",
          "Costa Rica",
          "Costa Rica",
          "Costa Rica",
          "Costa Rica",
          "Costa Rica",
          "Costa Rica",
          "Costa Rica",
          "Costa Rica",
          "Costa Rica",
          "Costa Rica",
          "Costa Rica",
          "Costa Rica",
          "Costa Rica",
          "Costa Rica",
          "Costa Rica",
          "Costa Rica",
          "Costa Rica",
          "Costa Rica",
          "Costa Rica",
          "Costa Rica",
          "Costa Rica",
          "Costa Rica",
          "Costa Rica",
          "Costa Rica",
          "Costa Rica",
          "Costa Rica",
          "Costa Rica",
          "Costa Rica",
          "Costa Rica",
          "Costa Rica",
          "Costa Rica",
          "Costa Rica",
          "Costa Rica",
          "Costa Rica",
          "Costa Rica",
          "Costa Rica",
          "Costa Rica",
          "Costa Rica",
          "Costa Rica",
          "Costa Rica",
          "Costa Rica",
          "Costa Rica",
          "Costa Rica",
          "Costa Rica",
          "Costa Rica",
          "Costa Rica",
          "Costa Rica",
          "Costa Rica",
          "Costa Rica",
          "Costa Rica",
          "Costa Rica",
          "Costa Rica",
          "Costa Rica",
          "Costa Rica",
          "Costa Rica",
          "Costa Rica",
          "Costa Rica",
          "Costa Rica",
          "Costa Rica",
          "Costa Rica",
          "Costa Rica",
          "Costa Rica",
          "Costa Rica",
          "Costa Rica",
          "Costa Rica",
          "Costa Rica",
          "Costa Rica",
          "Costa Rica",
          "Costa Rica",
          "Costa Rica",
          "Costa Rica",
          "Costa Rica",
          "Cuba",
          "Cuba",
          "Cuba",
          "Cuba",
          "Cuba",
          "Cuba",
          "Cuba",
          "Cuba",
          "Cuba",
          "Cuba",
          "Cuba",
          "Cuba",
          "Cuba",
          "Cuba",
          "Cuba",
          "Cuba",
          "Cuba",
          "Cuba",
          "Cuba",
          "Cuba",
          "Cuba",
          "Cuba",
          "Cuba",
          "Cuba",
          "Cuba",
          "Cuba",
          "Cuba",
          "Cuba",
          "Cuba",
          "Cuba",
          "Cuba",
          "Cuba",
          "Cuba",
          "Cuba",
          "Cuba",
          "Cuba",
          "Cuba",
          "Cuba",
          "Cuba",
          "Cuba",
          "Cuba",
          "Cuba",
          "Cuba",
          "Cuba",
          "Cuba",
          "Cuba",
          "Cuba",
          "Cuba",
          "Cuba",
          "Cuba",
          "Cuba",
          "Cuba",
          "Cuba",
          "Cuba",
          "Cuba",
          "Cuba",
          "Cuba",
          "Cuba",
          "Cuba",
          "Cuba",
          "Cuba",
          "Cuba",
          "Cuba",
          "Cuba",
          "Cuba",
          "Cuba",
          "Cuba",
          "Cuba",
          "Cuba",
          "Cuba",
          "Cuba",
          "Cuba",
          "Cuba",
          "Cuba",
          "Cuba",
          "Cuba",
          "Cuba",
          "Cuba",
          "Cuba",
          "Cuba",
          "Cuba",
          "Cuba",
          "Cuba",
          "Cuba",
          "Cuba",
          "Cuba",
          "Cuba",
          "Cuba",
          "Cuba",
          "Cuba",
          "Cuba",
          "Cuba",
          "Cuba",
          "Cuba",
          "Cuba",
          "Cuba",
          "Cuba",
          "Cuba",
          "Cuba",
          "Cuba",
          "Cuba",
          "Cuba",
          "Cuba",
          "Cuba",
          "Cuba",
          "Cuba",
          "Cuba",
          "Cuba",
          "Cuba",
          "Cuba",
          "Cuba",
          "Cuba",
          "Cuba",
          "Cuba",
          "Cuba",
          "Cuba",
          "Cuba",
          "Cuba",
          "Cuba",
          "Cuba",
          "Cuba",
          "Cuba",
          "Cuba",
          "Cuba",
          "Cuba",
          "Cuba",
          "Cuba",
          "Cuba",
          "Cuba",
          "Cuba",
          "Cuba",
          "Cuba",
          "Cuba",
          "Cuba",
          "Cuba",
          "Cuba",
          "Cuba",
          "Cuba",
          "Cuba",
          "Cuba",
          "Cuba",
          "Cuba",
          "Cuba",
          "Cuba",
          "Cuba",
          "Cuba",
          "Cuba",
          "Cuba",
          "Cuba",
          "Cuba",
          "Cuba",
          "Cuba",
          "Cuba",
          "Cuba",
          "Cuba",
          "Cuba",
          "Cuba",
          "Cuba",
          "Cuba",
          "Cuba",
          "Cuba",
          "Cuba",
          "Cuba",
          "Cuba",
          "Cuba",
          "Dominica",
          "Dominica",
          "Dominica",
          "Dominica",
          "Dominica",
          "Dominica",
          "Dominica",
          "Dominica",
          "Dominica",
          "Dominica",
          "Dominica",
          "Dominica",
          "Dominica",
          "Dominica",
          "Dominica",
          "Dominica",
          "Dominica",
          "Dominica",
          "Dominica",
          "Dominica",
          "Dominica",
          "Dominica",
          "Dominica",
          "Dominica",
          "Dominica",
          "Dominica",
          "Dominica",
          "Dominica",
          "Dominica",
          "Dominica",
          "Dominica",
          "Dominica",
          "Dominica",
          "Dominica",
          "Dominica",
          "Dominica",
          "Dominica",
          "Dominica",
          "Dominica",
          "Dominica",
          "Dominica",
          "Dominica",
          "Dominica",
          "Dominica",
          "Dominica",
          "Dominica",
          "Dominica",
          "Dominica",
          "Dominica",
          "Dominica",
          "Dominica",
          "Dominica",
          "Dominica",
          "Dominica",
          "Dominica",
          "Dominica",
          "Dominica",
          "Dominica",
          "Dominica",
          "Dominica",
          "Dominica",
          "Dominica",
          "Dominica",
          "Dominica",
          "Dominica",
          "Dominica",
          "Dominica",
          "Dominica",
          "Dominica",
          "Dominica",
          "Dominica",
          "Dominica",
          "Dominica",
          "Dominica",
          "Dominica",
          "Dominica",
          "Dominica",
          "Dominica",
          "Dominica",
          "Dominica",
          "Dominica",
          "Dominica",
          "Dominica",
          "Dominica",
          "Dominica",
          "Dominica",
          "Dominica",
          "Dominica",
          "Dominica",
          "Dominica",
          "Dominica",
          "Dominica",
          "Dominica",
          "Dominica",
          "Dominica",
          "Dominica",
          "Dominica",
          "Dominica",
          "Dominica",
          "Dominica",
          "Dominica",
          "Dominica",
          "Dominica",
          "Dominica",
          "Dominica",
          "Dominica",
          "Dominica",
          "Dominica",
          "Dominica",
          "Dominica",
          "Dominica",
          "Dominica",
          "Dominica",
          "Dominica",
          "Dominica",
          "Dominica",
          "Dominica",
          "Dominica",
          "Dominica",
          "Dominica",
          "Dominica",
          "Dominica",
          "Dominica",
          "Dominica",
          "Dominica",
          "Dominica",
          "Dominica",
          "Dominica",
          "Dominica",
          "Dominica",
          "Dominica",
          "Dominica",
          "Dominica",
          "Dominica",
          "Dominica",
          "Dominica",
          "Dominica",
          "Dominica",
          "Dominica",
          "Dominica",
          "Dominica",
          "Dominica",
          "Dominican Republic",
          "Dominican Republic",
          "Dominican Republic",
          "Dominican Republic",
          "Dominican Republic",
          "Dominican Republic",
          "Dominican Republic",
          "Dominican Republic",
          "Dominican Republic",
          "Dominican Republic",
          "Dominican Republic",
          "Dominican Republic",
          "Dominican Republic",
          "Dominican Republic",
          "Dominican Republic",
          "Dominican Republic",
          "Dominican Republic",
          "Dominican Republic",
          "Dominican Republic",
          "Dominican Republic",
          "Dominican Republic",
          "Dominican Republic",
          "Dominican Republic",
          "Dominican Republic",
          "Dominican Republic",
          "Dominican Republic",
          "Dominican Republic",
          "Dominican Republic",
          "Dominican Republic",
          "Dominican Republic",
          "Dominican Republic",
          "Dominican Republic",
          "Dominican Republic",
          "Dominican Republic",
          "Dominican Republic",
          "Dominican Republic",
          "Dominican Republic",
          "Dominican Republic",
          "Dominican Republic",
          "Dominican Republic",
          "Dominican Republic",
          "Dominican Republic",
          "Dominican Republic",
          "Dominican Republic",
          "Dominican Republic",
          "Dominican Republic",
          "Dominican Republic",
          "Dominican Republic",
          "Dominican Republic",
          "Dominican Republic",
          "Dominican Republic",
          "Dominican Republic",
          "Dominican Republic",
          "Dominican Republic",
          "Dominican Republic",
          "Dominican Republic",
          "Dominican Republic",
          "Dominican Republic",
          "Dominican Republic",
          "Dominican Republic",
          "Dominican Republic",
          "Dominican Republic",
          "Dominican Republic",
          "Dominican Republic",
          "Dominican Republic",
          "Dominican Republic",
          "Dominican Republic",
          "Dominican Republic",
          "Dominican Republic",
          "Dominican Republic",
          "Dominican Republic",
          "Dominican Republic",
          "Dominican Republic",
          "Dominican Republic",
          "Dominican Republic",
          "Dominican Republic",
          "Dominican Republic",
          "Dominican Republic",
          "Dominican Republic",
          "Dominican Republic",
          "Dominican Republic",
          "Dominican Republic",
          "Dominican Republic",
          "Dominican Republic",
          "Dominican Republic",
          "Dominican Republic",
          "Dominican Republic",
          "Dominican Republic",
          "Dominican Republic",
          "Dominican Republic",
          "Dominican Republic",
          "Dominican Republic",
          "Dominican Republic",
          "Dominican Republic",
          "Dominican Republic",
          "Dominican Republic",
          "Dominican Republic",
          "Dominican Republic",
          "Dominican Republic",
          "Dominican Republic",
          "Dominican Republic",
          "Dominican Republic",
          "Dominican Republic",
          "Dominican Republic",
          "Dominican Republic",
          "Dominican Republic",
          "Dominican Republic",
          "Dominican Republic",
          "Dominican Republic",
          "Dominican Republic",
          "Dominican Republic",
          "Dominican Republic",
          "Dominican Republic",
          "Dominican Republic",
          "Dominican Republic",
          "Dominican Republic",
          "Dominican Republic",
          "Dominican Republic",
          "Dominican Republic",
          "Dominican Republic",
          "Dominican Republic",
          "Dominican Republic",
          "Dominican Republic",
          "Dominican Republic",
          "Dominican Republic",
          "Dominican Republic",
          "Dominican Republic",
          "Dominican Republic",
          "Dominican Republic",
          "Dominican Republic",
          "Dominican Republic",
          "Dominican Republic",
          "Dominican Republic",
          "Dominican Republic",
          "Dominican Republic",
          "Dominican Republic",
          "Dominican Republic",
          "Dominican Republic",
          "Dominican Republic",
          "Dominican Republic",
          "Dominican Republic",
          "Dominican Republic",
          "Dominican Republic",
          "Dominican Republic",
          "Dominican Republic",
          "Dominican Republic",
          "Dominican Republic",
          "Dominican Republic",
          "Dominican Republic",
          "Dominican Republic",
          "Dominican Republic",
          "Dominican Republic",
          "Dominican Republic",
          "Dominican Republic",
          "Dominican Republic",
          "Dominican Republic",
          "Dominican Republic",
          "Dominican Republic",
          "Dominican Republic",
          "Dominican Republic",
          "Dominican Republic",
          "Dominican Republic",
          "Dominican Republic",
          "Dominican Republic",
          "Dominican Republic",
          "Dominican Republic",
          "Dominican Republic",
          "Dominican Republic",
          "Dominican Republic",
          "Dominican Republic",
          "Dominican Republic",
          "Dominican Republic",
          "Dominican Republic",
          "Dominican Republic",
          "Dominican Republic",
          "Dominican Republic",
          "Dominican Republic",
          "Dominican Republic",
          "Dominican Republic",
          "Dominican Republic",
          "Dominican Republic",
          "Dominican Republic",
          "Dominican Republic",
          "Dominican Republic",
          "Dominican Republic",
          "Dominican Republic",
          "Dominican Republic",
          "Dominican Republic",
          "Dominican Republic",
          "Dominican Republic",
          "Dominican Republic",
          "Dominican Republic",
          "Dominican Republic",
          "Dominican Republic",
          "Dominican Republic",
          "Dominican Republic",
          "Dominican Republic",
          "Dominican Republic",
          "Ecuador",
          "Ecuador",
          "Ecuador",
          "Ecuador",
          "Ecuador",
          "Ecuador",
          "Ecuador",
          "Ecuador",
          "Ecuador",
          "Ecuador",
          "Ecuador",
          "Ecuador",
          "Ecuador",
          "Ecuador",
          "Ecuador",
          "Ecuador",
          "Ecuador",
          "Ecuador",
          "Ecuador",
          "Ecuador",
          "Ecuador",
          "Ecuador",
          "Ecuador",
          "Ecuador",
          "Ecuador",
          "Ecuador",
          "Ecuador",
          "Ecuador",
          "Ecuador",
          "Ecuador",
          "Ecuador",
          "Ecuador",
          "Ecuador",
          "Ecuador",
          "Ecuador",
          "Ecuador",
          "Ecuador",
          "Ecuador",
          "Ecuador",
          "Ecuador",
          "Ecuador",
          "Ecuador",
          "Ecuador",
          "Ecuador",
          "Ecuador",
          "Ecuador",
          "Ecuador",
          "Ecuador",
          "Ecuador",
          "Ecuador",
          "Ecuador",
          "Ecuador",
          "Ecuador",
          "Ecuador",
          "Ecuador",
          "Ecuador",
          "Ecuador",
          "Ecuador",
          "Ecuador",
          "Ecuador",
          "Ecuador",
          "Ecuador",
          "Ecuador",
          "Ecuador",
          "Ecuador",
          "Ecuador",
          "Ecuador",
          "Ecuador",
          "Ecuador",
          "Ecuador",
          "Ecuador",
          "Ecuador",
          "Ecuador",
          "Ecuador",
          "Ecuador",
          "Ecuador",
          "Ecuador",
          "Ecuador",
          "Ecuador",
          "Ecuador",
          "Ecuador",
          "Ecuador",
          "Ecuador",
          "Ecuador",
          "Ecuador",
          "Ecuador",
          "Ecuador",
          "Ecuador",
          "Ecuador",
          "Ecuador",
          "Ecuador",
          "Ecuador",
          "Ecuador",
          "Ecuador",
          "Ecuador",
          "Ecuador",
          "Ecuador",
          "Ecuador",
          "Ecuador",
          "Ecuador",
          "Ecuador",
          "Ecuador",
          "Ecuador",
          "Ecuador",
          "Ecuador",
          "Ecuador",
          "Ecuador",
          "Ecuador",
          "Ecuador",
          "Ecuador",
          "Ecuador",
          "Ecuador",
          "Ecuador",
          "Ecuador",
          "Ecuador",
          "Ecuador",
          "Ecuador",
          "Ecuador",
          "Ecuador",
          "Ecuador",
          "Ecuador",
          "Ecuador",
          "Ecuador",
          "Ecuador",
          "Ecuador",
          "Ecuador",
          "Ecuador",
          "Ecuador",
          "Ecuador",
          "Ecuador",
          "Ecuador",
          "Ecuador",
          "Ecuador",
          "Ecuador",
          "Ecuador",
          "Ecuador",
          "Ecuador",
          "Ecuador",
          "Ecuador",
          "Ecuador",
          "Ecuador",
          "Ecuador",
          "Ecuador",
          "Ecuador",
          "Ecuador",
          "Ecuador",
          "Ecuador",
          "Ecuador",
          "Ecuador",
          "Ecuador",
          "Ecuador",
          "Ecuador",
          "Ecuador",
          "Ecuador",
          "Ecuador",
          "Ecuador",
          "Ecuador",
          "Ecuador",
          "Ecuador",
          "Ecuador",
          "Ecuador",
          "Ecuador",
          "Ecuador",
          "Ecuador",
          "Ecuador",
          "Ecuador",
          "Ecuador",
          "Ecuador",
          "Ecuador",
          "Ecuador",
          "Ecuador",
          "Ecuador",
          "Ecuador",
          "Ecuador",
          "Ecuador",
          "Ecuador",
          "Ecuador",
          "Ecuador",
          "Ecuador",
          "Ecuador",
          "Ecuador",
          "Ecuador",
          "Ecuador",
          "Ecuador",
          "Ecuador",
          "Ecuador",
          "Ecuador",
          "Ecuador",
          "Ecuador",
          "Ecuador",
          "Ecuador",
          "Ecuador",
          "Ecuador",
          "Ecuador",
          "Ecuador",
          "Ecuador",
          "Ecuador",
          "Ecuador",
          "Ecuador",
          "Ecuador",
          "Ecuador",
          "Ecuador",
          "Ecuador",
          "Ecuador",
          "Ecuador",
          "Ecuador",
          "Ecuador",
          "Ecuador",
          "Ecuador",
          "Ecuador",
          "Ecuador",
          "Ecuador",
          "Ecuador",
          "Ecuador",
          "Ecuador",
          "Ecuador",
          "Ecuador",
          "Ecuador",
          "Ecuador",
          "Ecuador",
          "Ecuador",
          "Ecuador",
          "Ecuador",
          "Ecuador",
          "Ecuador",
          "Ecuador",
          "Ecuador",
          "Ecuador",
          "Ecuador",
          "Ecuador",
          "Ecuador",
          "Ecuador",
          "Ecuador",
          "Ecuador",
          "Ecuador",
          "Ecuador",
          "Ecuador",
          "Ecuador",
          "Ecuador",
          "Ecuador",
          "Ecuador",
          "Ecuador",
          "Ecuador",
          "Ecuador",
          "Ecuador",
          "Ecuador",
          "Ecuador",
          "Ecuador",
          "Ecuador",
          "Ecuador",
          "Ecuador",
          "Ecuador",
          "Ecuador",
          "Ecuador",
          "Ecuador",
          "Ecuador",
          "Ecuador",
          "Ecuador",
          "Ecuador",
          "Ecuador",
          "Ecuador",
          "Ecuador",
          "Ecuador",
          "Ecuador",
          "Ecuador",
          "Ecuador",
          "Ecuador",
          "Ecuador",
          "Ecuador",
          "Ecuador",
          "El Salvador",
          "El Salvador",
          "El Salvador",
          "El Salvador",
          "El Salvador",
          "El Salvador",
          "El Salvador",
          "El Salvador",
          "El Salvador",
          "El Salvador",
          "El Salvador",
          "El Salvador",
          "El Salvador",
          "El Salvador",
          "El Salvador",
          "El Salvador",
          "El Salvador",
          "El Salvador",
          "El Salvador",
          "El Salvador",
          "El Salvador",
          "El Salvador",
          "El Salvador",
          "El Salvador",
          "El Salvador",
          "El Salvador",
          "El Salvador",
          "El Salvador",
          "El Salvador",
          "El Salvador",
          "El Salvador",
          "El Salvador",
          "El Salvador",
          "El Salvador",
          "El Salvador",
          "El Salvador",
          "El Salvador",
          "El Salvador",
          "El Salvador",
          "El Salvador",
          "El Salvador",
          "El Salvador",
          "El Salvador",
          "El Salvador",
          "El Salvador",
          "El Salvador",
          "El Salvador",
          "El Salvador",
          "El Salvador",
          "El Salvador",
          "El Salvador",
          "El Salvador",
          "El Salvador",
          "El Salvador",
          "El Salvador",
          "El Salvador",
          "El Salvador",
          "El Salvador",
          "El Salvador",
          "El Salvador",
          "El Salvador",
          "El Salvador",
          "El Salvador",
          "El Salvador",
          "El Salvador",
          "El Salvador",
          "El Salvador",
          "El Salvador",
          "El Salvador",
          "El Salvador",
          "El Salvador",
          "El Salvador",
          "El Salvador",
          "El Salvador",
          "El Salvador",
          "El Salvador",
          "El Salvador",
          "El Salvador",
          "El Salvador",
          "El Salvador",
          "El Salvador",
          "El Salvador",
          "El Salvador",
          "El Salvador",
          "El Salvador",
          "El Salvador",
          "El Salvador",
          "El Salvador",
          "El Salvador",
          "El Salvador",
          "El Salvador",
          "El Salvador",
          "El Salvador",
          "El Salvador",
          "El Salvador",
          "El Salvador",
          "El Salvador",
          "El Salvador",
          "El Salvador",
          "El Salvador",
          "El Salvador",
          "El Salvador",
          "El Salvador",
          "El Salvador",
          "El Salvador",
          "El Salvador",
          "El Salvador",
          "El Salvador",
          "El Salvador",
          "El Salvador",
          "El Salvador",
          "El Salvador",
          "El Salvador",
          "El Salvador",
          "El Salvador",
          "El Salvador",
          "El Salvador",
          "El Salvador",
          "El Salvador",
          "El Salvador",
          "El Salvador",
          "El Salvador",
          "El Salvador",
          "El Salvador",
          "El Salvador",
          "El Salvador",
          "El Salvador",
          "El Salvador",
          "El Salvador",
          "El Salvador",
          "El Salvador",
          "El Salvador",
          "El Salvador",
          "El Salvador",
          "El Salvador",
          "El Salvador",
          "El Salvador",
          "El Salvador",
          "El Salvador",
          "El Salvador",
          "El Salvador",
          "El Salvador",
          "El Salvador",
          "El Salvador",
          "El Salvador",
          "El Salvador",
          "El Salvador",
          "El Salvador",
          "El Salvador",
          "El Salvador",
          "El Salvador",
          "El Salvador",
          "El Salvador",
          "El Salvador",
          "El Salvador",
          "El Salvador",
          "El Salvador",
          "El Salvador",
          "El Salvador",
          "El Salvador",
          "El Salvador",
          "El Salvador",
          "El Salvador",
          "El Salvador",
          "El Salvador",
          "El Salvador",
          "El Salvador",
          "El Salvador",
          "El Salvador",
          "El Salvador",
          "El Salvador",
          "El Salvador",
          "El Salvador",
          "French Guyana",
          "French Guyana",
          "French Guyana",
          "French Guyana",
          "French Guyana",
          "French Guyana",
          "French Guyana",
          "French Guyana",
          "French Guyana",
          "French Guyana",
          "French Guyana",
          "French Guyana",
          "French Guyana",
          "French Guyana",
          "French Guyana",
          "French Guyana",
          "French Guyana",
          "French Guyana",
          "French Guyana",
          "French Guyana",
          "French Guyana",
          "French Guyana",
          "French Guyana",
          "French Guyana",
          "French Guyana",
          "French Guyana",
          "French Guyana",
          "French Guyana",
          "French Guyana",
          "French Guyana",
          "French Guyana",
          "French Guyana",
          "French Guyana",
          "French Guyana",
          "French Guyana",
          "French Guyana",
          "French Guyana",
          "French Guyana",
          "French Guyana",
          "French Guyana",
          "French Guyana",
          "French Guyana",
          "French Guyana",
          "French Guyana",
          "French Guyana",
          "French Guyana",
          "French Guyana",
          "French Guyana",
          "French Guyana",
          "French Guyana",
          "French Guyana",
          "French Guyana",
          "French Guyana",
          "French Guyana",
          "French Guyana",
          "French Guyana",
          "French Guyana",
          "French Guyana",
          "French Guyana",
          "French Guyana",
          "French Guyana",
          "French Guyana",
          "French Guyana",
          "French Guyana",
          "French Guyana",
          "French Guyana",
          "French Guyana",
          "French Guyana",
          "French Guyana",
          "French Guyana",
          "French Guyana",
          "French Guyana",
          "French Guyana",
          "French Guyana",
          "French Guyana",
          "French Guyana",
          "French Guyana",
          "French Guyana",
          "French Guyana",
          "French Guyana",
          "French Guyana",
          "French Guyana",
          "French Guyana",
          "French Guyana",
          "French Guyana",
          "French Guyana",
          "French Guyana",
          "French Guyana",
          "French Guyana",
          "French Guyana",
          "French Guyana",
          "French Guyana",
          "French Guyana",
          "French Guyana",
          "French Guyana",
          "French Guyana",
          "French Guyana",
          "French Guyana",
          "French Guyana",
          "French Guyana",
          "French Guyana",
          "French Guyana",
          "French Guyana",
          "French Guyana",
          "French Guyana",
          "French Guyana",
          "French Guyana",
          "French Guyana",
          "French Guyana",
          "French Guyana",
          "French Guyana",
          "French Guyana",
          "French Guyana",
          "French Guyana",
          "French Guyana",
          "Grenada",
          "Grenada",
          "Grenada",
          "Grenada",
          "Grenada",
          "Grenada",
          "Grenada",
          "Grenada",
          "Grenada",
          "Grenada",
          "Grenada",
          "Grenada",
          "Grenada",
          "Grenada",
          "Grenada",
          "Grenada",
          "Grenada",
          "Grenada",
          "Grenada",
          "Grenada",
          "Grenada",
          "Grenada",
          "Grenada",
          "Grenada",
          "Grenada",
          "Grenada",
          "Grenada",
          "Grenada",
          "Grenada",
          "Grenada",
          "Grenada",
          "Grenada",
          "Grenada",
          "Grenada",
          "Grenada",
          "Grenada",
          "Grenada",
          "Grenada",
          "Grenada",
          "Grenada",
          "Grenada",
          "Grenada",
          "Grenada",
          "Grenada",
          "Grenada",
          "Grenada",
          "Grenada",
          "Grenada",
          "Grenada",
          "Grenada",
          "Grenada",
          "Grenada",
          "Grenada",
          "Grenada",
          "Grenada",
          "Grenada",
          "Grenada",
          "Grenada",
          "Grenada",
          "Grenada",
          "Grenada",
          "Grenada",
          "Grenada",
          "Grenada",
          "Grenada",
          "Grenada",
          "Grenada",
          "Grenada",
          "Grenada",
          "Grenada",
          "Grenada",
          "Grenada",
          "Grenada",
          "Grenada",
          "Grenada",
          "Grenada",
          "Grenada",
          "Grenada",
          "Grenada",
          "Grenada",
          "Grenada",
          "Grenada",
          "Grenada",
          "Grenada",
          "Grenada",
          "Grenada",
          "Grenada",
          "Grenada",
          "Grenada",
          "Grenada",
          "Grenada",
          "Grenada",
          "Grenada",
          "Grenada",
          "Grenada",
          "Grenada",
          "Grenada",
          "Grenada",
          "Grenada",
          "Grenada",
          "Grenada",
          "Grenada",
          "Grenada",
          "Grenada",
          "Grenada",
          "Grenada",
          "Grenada",
          "Grenada",
          "Grenada",
          "Grenada",
          "Grenada",
          "Grenada",
          "Grenada",
          "Grenada",
          "Grenada",
          "Grenada",
          "Grenada",
          "Grenada",
          "Grenada",
          "Grenada",
          "Grenada",
          "Grenada",
          "Grenada",
          "Grenada",
          "Grenada",
          "Grenada",
          "Grenada",
          "Grenada",
          "Grenada",
          "Grenada",
          "Grenada",
          "Grenada",
          "Grenada",
          "Grenada",
          "Grenada",
          "Grenada",
          "Grenada",
          "Grenada",
          "Grenada",
          "Grenada",
          "Grenada",
          "Grenada",
          "Grenada",
          "Grenada",
          "Grenada",
          "Grenada",
          "Grenada",
          "Grenada",
          "Grenada",
          "Guadeloupe",
          "Guadeloupe",
          "Guadeloupe",
          "Guadeloupe",
          "Guadeloupe",
          "Guadeloupe",
          "Guadeloupe",
          "Guadeloupe",
          "Guadeloupe",
          "Guadeloupe",
          "Guadeloupe",
          "Guadeloupe",
          "Guadeloupe",
          "Guadeloupe",
          "Guadeloupe",
          "Guadeloupe",
          "Guadeloupe",
          "Guadeloupe",
          "Guadeloupe",
          "Guadeloupe",
          "Guadeloupe",
          "Guadeloupe",
          "Guadeloupe",
          "Guadeloupe",
          "Guadeloupe",
          "Guadeloupe",
          "Guadeloupe",
          "Guadeloupe",
          "Guadeloupe",
          "Guadeloupe",
          "Guadeloupe",
          "Guadeloupe",
          "Guadeloupe",
          "Guadeloupe",
          "Guadeloupe",
          "Guadeloupe",
          "Guadeloupe",
          "Guadeloupe",
          "Guadeloupe",
          "Guadeloupe",
          "Guadeloupe",
          "Guadeloupe",
          "Guadeloupe",
          "Guadeloupe",
          "Guadeloupe",
          "Guadeloupe",
          "Guadeloupe",
          "Guadeloupe",
          "Guadeloupe",
          "Guadeloupe",
          "Guadeloupe",
          "Guadeloupe",
          "Guadeloupe",
          "Guadeloupe",
          "Guadeloupe",
          "Guadeloupe",
          "Guadeloupe",
          "Guadeloupe",
          "Guadeloupe",
          "Guadeloupe",
          "Guadeloupe",
          "Guadeloupe",
          "Guadeloupe",
          "Guadeloupe",
          "Guadeloupe",
          "Guadeloupe",
          "Guadeloupe",
          "Guadeloupe",
          "Guadeloupe",
          "Guadeloupe",
          "Guadeloupe",
          "Guadeloupe",
          "Guadeloupe",
          "Guadeloupe",
          "Guadeloupe",
          "Guadeloupe",
          "Guadeloupe",
          "Guadeloupe",
          "Guadeloupe",
          "Guadeloupe",
          "Guadeloupe",
          "Guadeloupe",
          "Guadeloupe",
          "Guadeloupe",
          "Guadeloupe",
          "Guadeloupe",
          "Guadeloupe",
          "Guadeloupe",
          "Guadeloupe",
          "Guadeloupe",
          "Guadeloupe",
          "Guadeloupe",
          "Guadeloupe",
          "Guadeloupe",
          "Guadeloupe",
          "Guadeloupe",
          "Guadeloupe",
          "Guadeloupe",
          "Guadeloupe",
          "Guadeloupe",
          "Guadeloupe",
          "Guadeloupe",
          "Guadeloupe",
          "Guadeloupe",
          "Guadeloupe",
          "Guadeloupe",
          "Guadeloupe",
          "Guadeloupe",
          "Guadeloupe",
          "Guadeloupe",
          "Guadeloupe",
          "Guadeloupe",
          "Guadeloupe",
          "Guadeloupe",
          "Guadeloupe",
          "Guadeloupe",
          "Guadeloupe",
          "Guadeloupe",
          "Guadeloupe",
          "Guadeloupe",
          "Guadeloupe",
          "Guadeloupe",
          "Guadeloupe",
          "Guadeloupe",
          "Guadeloupe",
          "Guadeloupe",
          "Guadeloupe",
          "Guadeloupe",
          "Guadeloupe",
          "Guadeloupe",
          "Guadeloupe",
          "Guadeloupe",
          "Guadeloupe",
          "Guadeloupe",
          "Guadeloupe",
          "Guadeloupe",
          "Guadeloupe",
          "Guadeloupe",
          "Guadeloupe",
          "Guadeloupe",
          "Guadeloupe",
          "Guadeloupe",
          "Guadeloupe",
          "Guadeloupe",
          "Guadeloupe",
          "Guadeloupe",
          "Guadeloupe",
          "Guadeloupe",
          "Guadeloupe",
          "Guadeloupe",
          "Guadeloupe",
          "Guatemala",
          "Guatemala",
          "Guatemala",
          "Guatemala",
          "Guatemala",
          "Guatemala",
          "Guatemala",
          "Guatemala",
          "Guatemala",
          "Guatemala",
          "Guatemala",
          "Guatemala",
          "Guatemala",
          "Guatemala",
          "Guatemala",
          "Guatemala",
          "Guatemala",
          "Guatemala",
          "Guatemala",
          "Guatemala",
          "Guatemala",
          "Guatemala",
          "Guatemala",
          "Guatemala",
          "Guatemala",
          "Guatemala",
          "Guatemala",
          "Guatemala",
          "Guatemala",
          "Guatemala",
          "Guatemala",
          "Guatemala",
          "Guatemala",
          "Guatemala",
          "Guatemala",
          "Guatemala",
          "Guatemala",
          "Guatemala",
          "Guatemala",
          "Guatemala",
          "Guatemala",
          "Guatemala",
          "Guatemala",
          "Guatemala",
          "Guatemala",
          "Guatemala",
          "Guatemala",
          "Guatemala",
          "Guatemala",
          "Guatemala",
          "Guatemala",
          "Guatemala",
          "Guatemala",
          "Guatemala",
          "Guatemala",
          "Guatemala",
          "Guatemala",
          "Guatemala",
          "Guatemala",
          "Guatemala",
          "Guatemala",
          "Guatemala",
          "Guatemala",
          "Guatemala",
          "Guatemala",
          "Guatemala",
          "Guatemala",
          "Guatemala",
          "Guatemala",
          "Guatemala",
          "Guatemala",
          "Guatemala",
          "Guatemala",
          "Guatemala",
          "Guatemala",
          "Guatemala",
          "Guatemala",
          "Guatemala",
          "Guatemala",
          "Guatemala",
          "Guatemala",
          "Guatemala",
          "Guatemala",
          "Guatemala",
          "Guatemala",
          "Guatemala",
          "Guatemala",
          "Guatemala",
          "Guatemala",
          "Guatemala",
          "Guatemala",
          "Guatemala",
          "Guatemala",
          "Guatemala",
          "Guatemala",
          "Guatemala",
          "Guatemala",
          "Guatemala",
          "Guatemala",
          "Guatemala",
          "Guatemala",
          "Guatemala",
          "Guatemala",
          "Guatemala",
          "Guatemala",
          "Guatemala",
          "Guatemala",
          "Guatemala",
          "Guatemala",
          "Guatemala",
          "Guatemala",
          "Guatemala",
          "Guatemala",
          "Guatemala",
          "Guatemala",
          "Guatemala",
          "Guatemala",
          "Guatemala",
          "Guatemala",
          "Guatemala",
          "Guatemala",
          "Guatemala",
          "Guatemala",
          "Guatemala",
          "Guatemala",
          "Guatemala",
          "Guatemala",
          "Guatemala",
          "Guatemala",
          "Guatemala",
          "Guatemala",
          "Guatemala",
          "Guatemala",
          "Guatemala",
          "Guatemala",
          "Guatemala",
          "Guatemala",
          "Guatemala",
          "Guatemala",
          "Guatemala",
          "Guatemala",
          "Guatemala",
          "Guatemala",
          "Guatemala",
          "Guatemala",
          "Guatemala",
          "Guatemala",
          "Guatemala",
          "Guatemala",
          "Guatemala",
          "Guatemala",
          "Guatemala",
          "Guatemala",
          "Guatemala",
          "Guatemala",
          "Guatemala",
          "Guatemala",
          "Guatemala",
          "Guatemala",
          "Guatemala",
          "Guatemala",
          "Guatemala",
          "Guatemala",
          "Guatemala",
          "Guatemala",
          "Guatemala",
          "Guatemala",
          "Guatemala",
          "Guatemala",
          "Guatemala",
          "Guatemala",
          "Guatemala",
          "Guatemala",
          "Guatemala",
          "Guatemala",
          "Guatemala",
          "Guatemala",
          "Guatemala",
          "Guatemala",
          "Guatemala",
          "Guatemala",
          "Guatemala",
          "Guatemala",
          "Guatemala",
          "Guatemala",
          "Guatemala",
          "Guatemala",
          "Guatemala",
          "Guatemala",
          "Guatemala",
          "Guatemala",
          "Guatemala",
          "Guatemala",
          "Guatemala",
          "Guatemala",
          "Guatemala",
          "Guatemala",
          "Guatemala",
          "Guatemala",
          "Guatemala",
          "Guatemala",
          "Guatemala",
          "Guatemala",
          "Guatemala",
          "Guatemala",
          "Guatemala",
          "Guatemala",
          "Guatemala",
          "Guatemala",
          "Guatemala",
          "Guatemala",
          "Guatemala",
          "Guatemala",
          "Guatemala",
          "Guatemala",
          "Guatemala",
          "Guatemala",
          "Guatemala",
          "Guyana",
          "Guyana",
          "Guyana",
          "Guyana",
          "Guyana",
          "Guyana",
          "Guyana",
          "Guyana",
          "Guyana",
          "Guyana",
          "Guyana",
          "Guyana",
          "Guyana",
          "Guyana",
          "Guyana",
          "Guyana",
          "Guyana",
          "Guyana",
          "Guyana",
          "Guyana",
          "Guyana",
          "Guyana",
          "Guyana",
          "Guyana",
          "Guyana",
          "Guyana",
          "Guyana",
          "Guyana",
          "Guyana",
          "Guyana",
          "Guyana",
          "Guyana",
          "Guyana",
          "Guyana",
          "Guyana",
          "Guyana",
          "Guyana",
          "Guyana",
          "Guyana",
          "Guyana",
          "Guyana",
          "Guyana",
          "Guyana",
          "Guyana",
          "Guyana",
          "Guyana",
          "Guyana",
          "Guyana",
          "Guyana",
          "Guyana",
          "Guyana",
          "Guyana",
          "Guyana",
          "Guyana",
          "Guyana",
          "Guyana",
          "Guyana",
          "Guyana",
          "Guyana",
          "Guyana",
          "Guyana",
          "Guyana",
          "Guyana",
          "Guyana",
          "Guyana",
          "Guyana",
          "Guyana",
          "Guyana",
          "Guyana",
          "Guyana",
          "Guyana",
          "Guyana",
          "Guyana",
          "Guyana",
          "Guyana",
          "Guyana",
          "Guyana",
          "Guyana",
          "Guyana",
          "Guyana",
          "Guyana",
          "Guyana",
          "Guyana",
          "Guyana",
          "Guyana",
          "Guyana",
          "Guyana",
          "Guyana",
          "Guyana",
          "Guyana",
          "Guyana",
          "Guyana",
          "Guyana",
          "Guyana",
          "Guyana",
          "Guyana",
          "Guyana",
          "Guyana",
          "Guyana",
          "Guyana",
          "Guyana",
          "Guyana",
          "Guyana",
          "Guyana",
          "Guyana",
          "Guyana",
          "Guyana",
          "Guyana",
          "Guyana",
          "Guyana",
          "Guyana",
          "Guyana",
          "Guyana",
          "Guyana",
          "Guyana",
          "Guyana",
          "Guyana",
          "Guyana",
          "Guyana",
          "Guyana",
          "Guyana",
          "Guyana",
          "Guyana",
          "Guyana",
          "Guyana",
          "Guyana",
          "Guyana",
          "Guyana",
          "Guyana",
          "Guyana",
          "Guyana",
          "Guyana",
          "Guyana",
          "Guyana",
          "Guyana",
          "Guyana",
          "Guyana",
          "Guyana",
          "Guyana",
          "Guyana",
          "Guyana",
          "Guyana",
          "Guyana",
          "Guyana",
          "Guyana",
          "Guyana",
          "Guyana",
          "Guyana",
          "Guyana",
          "Guyana",
          "Guyana",
          "Guyana",
          "Guyana",
          "Guyana",
          "Guyana",
          "Guyana",
          "Guyana",
          "Guyana",
          "Guyana",
          "Guyana",
          "Guyana",
          "Guyana",
          "Guyana",
          "Guyana",
          "Guyana",
          "Guyana",
          "Guyana",
          "Guyana",
          "Guyana",
          "Haiti",
          "Haiti",
          "Haiti",
          "Haiti",
          "Haiti",
          "Haiti",
          "Haiti",
          "Haiti",
          "Haiti",
          "Haiti",
          "Haiti",
          "Haiti",
          "Haiti",
          "Haiti",
          "Haiti",
          "Haiti",
          "Haiti",
          "Haiti",
          "Haiti",
          "Haiti",
          "Haiti",
          "Haiti",
          "Haiti",
          "Haiti",
          "Haiti",
          "Haiti",
          "Haiti",
          "Haiti",
          "Haiti",
          "Haiti",
          "Haiti",
          "Haiti",
          "Haiti",
          "Haiti",
          "Haiti",
          "Haiti",
          "Haiti",
          "Haiti",
          "Haiti",
          "Haiti",
          "Haiti",
          "Haiti",
          "Haiti",
          "Haiti",
          "Haiti",
          "Haiti",
          "Haiti",
          "Haiti",
          "Haiti",
          "Haiti",
          "Haiti",
          "Haiti",
          "Haiti",
          "Haiti",
          "Haiti",
          "Haiti",
          "Haiti",
          "Haiti",
          "Haiti",
          "Haiti",
          "Haiti",
          "Haiti",
          "Haiti",
          "Haiti",
          "Haiti",
          "Haiti",
          "Haiti",
          "Haiti",
          "Haiti",
          "Haiti",
          "Haiti",
          "Haiti",
          "Haiti",
          "Haiti",
          "Haiti",
          "Haiti",
          "Haiti",
          "Haiti",
          "Haiti",
          "Haiti",
          "Haiti",
          "Haiti",
          "Haiti",
          "Haiti",
          "Haiti",
          "Haiti",
          "Haiti",
          "Haiti",
          "Haiti",
          "Haiti",
          "Haiti",
          "Haiti",
          "Haiti",
          "Haiti",
          "Haiti",
          "Haiti",
          "Haiti",
          "Haiti",
          "Haiti",
          "Haiti",
          "Haiti",
          "Haiti",
          "Haiti",
          "Haiti",
          "Haiti",
          "Haiti",
          "Haiti",
          "Haiti",
          "Haiti",
          "Haiti",
          "Haiti",
          "Haiti",
          "Haiti",
          "Haiti",
          "Haiti",
          "Haiti",
          "Haiti",
          "Haiti",
          "Haiti",
          "Haiti",
          "Haiti",
          "Haiti",
          "Haiti",
          "Haiti",
          "Haiti",
          "Haiti",
          "Haiti",
          "Haiti",
          "Haiti",
          "Haiti",
          "Haiti",
          "Haiti",
          "Haiti",
          "Haiti",
          "Haiti",
          "Haiti",
          "Haiti",
          "Haiti",
          "Haiti",
          "Haiti",
          "Haiti",
          "Haiti",
          "Haiti",
          "Haiti",
          "Haiti",
          "Haiti",
          "Haiti",
          "Haiti",
          "Haiti",
          "Haiti",
          "Haiti",
          "Haiti",
          "Haiti",
          "Haiti",
          "Haiti",
          "Haiti",
          "Haiti",
          "Haiti",
          "Haiti",
          "Haiti",
          "Haiti",
          "Haiti",
          "Haiti",
          "Haiti",
          "Haiti",
          "Haiti",
          "Honduras",
          "Honduras",
          "Honduras",
          "Honduras",
          "Honduras",
          "Honduras",
          "Honduras",
          "Honduras",
          "Honduras",
          "Honduras",
          "Honduras",
          "Honduras",
          "Honduras",
          "Honduras",
          "Honduras",
          "Honduras",
          "Honduras",
          "Honduras",
          "Honduras",
          "Honduras",
          "Honduras",
          "Honduras",
          "Honduras",
          "Honduras",
          "Honduras",
          "Honduras",
          "Honduras",
          "Honduras",
          "Honduras",
          "Honduras",
          "Honduras",
          "Honduras",
          "Honduras",
          "Honduras",
          "Honduras",
          "Honduras",
          "Honduras",
          "Honduras",
          "Honduras",
          "Honduras",
          "Honduras",
          "Honduras",
          "Honduras",
          "Honduras",
          "Honduras",
          "Honduras",
          "Honduras",
          "Honduras",
          "Honduras",
          "Honduras",
          "Honduras",
          "Honduras",
          "Honduras",
          "Honduras",
          "Honduras",
          "Honduras",
          "Honduras",
          "Honduras",
          "Honduras",
          "Honduras",
          "Honduras",
          "Honduras",
          "Honduras",
          "Honduras",
          "Honduras",
          "Honduras",
          "Honduras",
          "Honduras",
          "Honduras",
          "Honduras",
          "Honduras",
          "Honduras",
          "Honduras",
          "Honduras",
          "Honduras",
          "Honduras",
          "Honduras",
          "Honduras",
          "Honduras",
          "Honduras",
          "Honduras",
          "Honduras",
          "Honduras",
          "Honduras",
          "Honduras",
          "Honduras",
          "Honduras",
          "Honduras",
          "Honduras",
          "Honduras",
          "Honduras",
          "Honduras",
          "Honduras",
          "Honduras",
          "Honduras",
          "Honduras",
          "Honduras",
          "Honduras",
          "Honduras",
          "Honduras",
          "Honduras",
          "Honduras",
          "Honduras",
          "Honduras",
          "Honduras",
          "Honduras",
          "Honduras",
          "Honduras",
          "Honduras",
          "Honduras",
          "Honduras",
          "Honduras",
          "Honduras",
          "Honduras",
          "Honduras",
          "Honduras",
          "Honduras",
          "Honduras",
          "Honduras",
          "Honduras",
          "Honduras",
          "Honduras",
          "Honduras",
          "Honduras",
          "Honduras",
          "Honduras",
          "Honduras",
          "Honduras",
          "Honduras",
          "Honduras",
          "Honduras",
          "Honduras",
          "Honduras",
          "Honduras",
          "Honduras",
          "Honduras",
          "Honduras",
          "Honduras",
          "Honduras",
          "Honduras",
          "Honduras",
          "Honduras",
          "Honduras",
          "Honduras",
          "Honduras",
          "Honduras",
          "Honduras",
          "Honduras",
          "Honduras",
          "Honduras",
          "Honduras",
          "Honduras",
          "Honduras",
          "Honduras",
          "Honduras",
          "Honduras",
          "Honduras",
          "Honduras",
          "Honduras",
          "Honduras",
          "Honduras",
          "Honduras",
          "Honduras",
          "Honduras",
          "Honduras",
          "Honduras",
          "Honduras",
          "Honduras",
          "Honduras",
          "Honduras",
          "Honduras",
          "Honduras",
          "Honduras",
          "Honduras",
          "Honduras",
          "Honduras",
          "Honduras",
          "Honduras",
          "Honduras",
          "Honduras",
          "Honduras",
          "Honduras",
          "Honduras",
          "Honduras",
          "Honduras",
          "Honduras",
          "Honduras",
          "Jamaica",
          "Jamaica",
          "Jamaica",
          "Jamaica",
          "Jamaica",
          "Jamaica",
          "Jamaica",
          "Jamaica",
          "Jamaica",
          "Jamaica",
          "Jamaica",
          "Jamaica",
          "Jamaica",
          "Jamaica",
          "Jamaica",
          "Jamaica",
          "Jamaica",
          "Jamaica",
          "Jamaica",
          "Jamaica",
          "Jamaica",
          "Jamaica",
          "Jamaica",
          "Jamaica",
          "Jamaica",
          "Jamaica",
          "Jamaica",
          "Jamaica",
          "Jamaica",
          "Jamaica",
          "Jamaica",
          "Jamaica",
          "Jamaica",
          "Jamaica",
          "Jamaica",
          "Jamaica",
          "Jamaica",
          "Jamaica",
          "Jamaica",
          "Jamaica",
          "Jamaica",
          "Jamaica",
          "Jamaica",
          "Jamaica",
          "Jamaica",
          "Jamaica",
          "Jamaica",
          "Jamaica",
          "Jamaica",
          "Jamaica",
          "Jamaica",
          "Jamaica",
          "Jamaica",
          "Jamaica",
          "Jamaica",
          "Jamaica",
          "Jamaica",
          "Jamaica",
          "Jamaica",
          "Jamaica",
          "Jamaica",
          "Jamaica",
          "Jamaica",
          "Jamaica",
          "Jamaica",
          "Jamaica",
          "Jamaica",
          "Jamaica",
          "Jamaica",
          "Jamaica",
          "Jamaica",
          "Jamaica",
          "Jamaica",
          "Jamaica",
          "Jamaica",
          "Jamaica",
          "Jamaica",
          "Jamaica",
          "Jamaica",
          "Jamaica",
          "Jamaica",
          "Jamaica",
          "Jamaica",
          "Jamaica",
          "Jamaica",
          "Jamaica",
          "Jamaica",
          "Jamaica",
          "Jamaica",
          "Jamaica",
          "Jamaica",
          "Jamaica",
          "Jamaica",
          "Jamaica",
          "Jamaica",
          "Jamaica",
          "Jamaica",
          "Jamaica",
          "Jamaica",
          "Jamaica",
          "Jamaica",
          "Jamaica",
          "Jamaica",
          "Jamaica",
          "Jamaica",
          "Jamaica",
          "Jamaica",
          "Jamaica",
          "Jamaica",
          "Jamaica",
          "Jamaica",
          "Jamaica",
          "Jamaica",
          "Jamaica",
          "Jamaica",
          "Jamaica",
          "Jamaica",
          "Jamaica",
          "Jamaica",
          "Jamaica",
          "Jamaica",
          "Jamaica",
          "Jamaica",
          "Jamaica",
          "Jamaica",
          "Jamaica",
          "Jamaica",
          "Jamaica",
          "Jamaica",
          "Jamaica",
          "Jamaica",
          "Jamaica",
          "Jamaica",
          "Jamaica",
          "Jamaica",
          "Jamaica",
          "Jamaica",
          "Jamaica",
          "Jamaica",
          "Jamaica",
          "Jamaica",
          "Jamaica",
          "Jamaica",
          "Jamaica",
          "Jamaica",
          "Jamaica",
          "Jamaica",
          "Jamaica",
          "Jamaica",
          "Jamaica",
          "Jamaica",
          "Jamaica",
          "Jamaica",
          "Jamaica",
          "Jamaica",
          "Jamaica",
          "Jamaica",
          "Jamaica",
          "Jamaica",
          "Jamaica",
          "Jamaica",
          "Jamaica",
          "Jamaica",
          "Jamaica",
          "Jamaica",
          "Jamaica",
          "Jamaica",
          "Jamaica",
          "Jamaica",
          "Jamaica",
          "Jamaica",
          "Jamaica",
          "Jamaica",
          "Jamaica",
          "Jamaica",
          "Jamaica",
          "Jamaica",
          "Jamaica",
          "Jamaica",
          "Jamaica",
          "Jamaica",
          "Jamaica",
          "Jamaica",
          "Jamaica",
          "Jamaica",
          "Jamaica",
          "Jamaica",
          "Jamaica",
          "Martinique",
          "Martinique",
          "Martinique",
          "Martinique",
          "Martinique",
          "Martinique",
          "Martinique",
          "Martinique",
          "Martinique",
          "Martinique",
          "Martinique",
          "Martinique",
          "Martinique",
          "Martinique",
          "Martinique",
          "Martinique",
          "Martinique",
          "Martinique",
          "Martinique",
          "Martinique",
          "Martinique",
          "Martinique",
          "Martinique",
          "Martinique",
          "Martinique",
          "Martinique",
          "Martinique",
          "Martinique",
          "Martinique",
          "Martinique",
          "Martinique",
          "Martinique",
          "Martinique",
          "Martinique",
          "Martinique",
          "Martinique",
          "Martinique",
          "Martinique",
          "Martinique",
          "Martinique",
          "Martinique",
          "Martinique",
          "Martinique",
          "Martinique",
          "Martinique",
          "Martinique",
          "Martinique",
          "Martinique",
          "Martinique",
          "Martinique",
          "Martinique",
          "Martinique",
          "Martinique",
          "Martinique",
          "Martinique",
          "Martinique",
          "Martinique",
          "Martinique",
          "Martinique",
          "Martinique",
          "Martinique",
          "Martinique",
          "Martinique",
          "Martinique",
          "Martinique",
          "Martinique",
          "Martinique",
          "Martinique",
          "Martinique",
          "Martinique",
          "Martinique",
          "Martinique",
          "Martinique",
          "Martinique",
          "Martinique",
          "Martinique",
          "Martinique",
          "Martinique",
          "Martinique",
          "Martinique",
          "Martinique",
          "Martinique",
          "Martinique",
          "Martinique",
          "Martinique",
          "Martinique",
          "Martinique",
          "Martinique",
          "Martinique",
          "Martinique",
          "Martinique",
          "Martinique",
          "Martinique",
          "Martinique",
          "Martinique",
          "Martinique",
          "Martinique",
          "Martinique",
          "Martinique",
          "Martinique",
          "Martinique",
          "Martinique",
          "Martinique",
          "Martinique",
          "Martinique",
          "Martinique",
          "Martinique",
          "Martinique",
          "Martinique",
          "Martinique",
          "Martinique",
          "Martinique",
          "Martinique",
          "Martinique",
          "Martinique",
          "Martinique",
          "Martinique",
          "Martinique",
          "Mexico",
          "Mexico",
          "Mexico",
          "Mexico",
          "Mexico",
          "Mexico",
          "Mexico",
          "Mexico",
          "Mexico",
          "Mexico",
          "Mexico",
          "Mexico",
          "Mexico",
          "Mexico",
          "Mexico",
          "Mexico",
          "Mexico",
          "Mexico",
          "Mexico",
          "Mexico",
          "Mexico",
          "Mexico",
          "Mexico",
          "Mexico",
          "Mexico",
          "Mexico",
          "Mexico",
          "Mexico",
          "Mexico",
          "Mexico",
          "Mexico",
          "Mexico",
          "Mexico",
          "Mexico",
          "Mexico",
          "Mexico",
          "Mexico",
          "Mexico",
          "Mexico",
          "Mexico",
          "Mexico",
          "Mexico",
          "Mexico",
          "Mexico",
          "Mexico",
          "Mexico",
          "Mexico",
          "Mexico",
          "Mexico",
          "Mexico",
          "Mexico",
          "Mexico",
          "Mexico",
          "Mexico",
          "Mexico",
          "Mexico",
          "Mexico",
          "Mexico",
          "Mexico",
          "Mexico",
          "Mexico",
          "Mexico",
          "Mexico",
          "Mexico",
          "Mexico",
          "Mexico",
          "Mexico",
          "Mexico",
          "Mexico",
          "Mexico",
          "Mexico",
          "Mexico",
          "Mexico",
          "Mexico",
          "Mexico",
          "Mexico",
          "Mexico",
          "Mexico",
          "Mexico",
          "Mexico",
          "Mexico",
          "Mexico",
          "Mexico",
          "Mexico",
          "Mexico",
          "Mexico",
          "Mexico",
          "Mexico",
          "Mexico",
          "Mexico",
          "Mexico",
          "Mexico",
          "Mexico",
          "Mexico",
          "Mexico",
          "Mexico",
          "Mexico",
          "Mexico",
          "Mexico",
          "Mexico",
          "Mexico",
          "Mexico",
          "Mexico",
          "Mexico",
          "Mexico",
          "Mexico",
          "Mexico",
          "Mexico",
          "Mexico",
          "Mexico",
          "Mexico",
          "Mexico",
          "Mexico",
          "Mexico",
          "Mexico",
          "Mexico",
          "Mexico",
          "Mexico",
          "Mexico",
          "Mexico",
          "Mexico",
          "Mexico",
          "Mexico",
          "Mexico",
          "Mexico",
          "Mexico",
          "Mexico",
          "Mexico",
          "Mexico",
          "Mexico",
          "Mexico",
          "Mexico",
          "Mexico",
          "Mexico",
          "Mexico",
          "Mexico",
          "Mexico",
          "Mexico",
          "Mexico",
          "Mexico",
          "Mexico",
          "Mexico",
          "Mexico",
          "Mexico",
          "Mexico",
          "Mexico",
          "Mexico",
          "Mexico",
          "Mexico",
          "Mexico",
          "Mexico",
          "Mexico",
          "Mexico",
          "Mexico",
          "Mexico",
          "Mexico",
          "Mexico",
          "Mexico",
          "Mexico",
          "Mexico",
          "Mexico",
          "Mexico",
          "Mexico",
          "Mexico",
          "Mexico",
          "Mexico",
          "Mexico",
          "Mexico",
          "Mexico",
          "Mexico",
          "Mexico",
          "Mexico",
          "Mexico",
          "Mexico",
          "Mexico",
          "Mexico",
          "Mexico",
          "Mexico",
          "Mexico",
          "Mexico",
          "Mexico",
          "Mexico",
          "Mexico",
          "Mexico",
          "Mexico",
          "Mexico",
          "Mexico",
          "Mexico",
          "Mexico",
          "Mexico",
          "Mexico",
          "Mexico",
          "Mexico",
          "Mexico",
          "Mexico",
          "Mexico",
          "Mexico",
          "Mexico",
          "Mexico",
          "Mexico",
          "Mexico",
          "Mexico",
          "Mexico",
          "Mexico",
          "Mexico",
          "Mexico",
          "Mexico",
          "Mexico",
          "Mexico",
          "Mexico",
          "Mexico",
          "Mexico",
          "Mexico",
          "Mexico",
          "Mexico",
          "Mexico",
          "Mexico",
          "Mexico",
          "Mexico",
          "Mexico",
          "Mexico",
          "Mexico",
          "Mexico",
          "Mexico",
          "Mexico",
          "Mexico",
          "Mexico",
          "Mexico",
          "Mexico",
          "Mexico",
          "Mexico",
          "Mexico",
          "Mexico",
          "Mexico",
          "Mexico",
          "Mexico",
          "Mexico",
          "Mexico",
          "Mexico",
          "Mexico",
          "Mexico",
          "Mexico",
          "Mexico",
          "Mexico",
          "Mexico",
          "Mexico",
          "Mexico",
          "Mexico",
          "Mexico",
          "Mexico",
          "Mexico",
          "Mexico",
          "Mexico",
          "Mexico",
          "Mexico",
          "Mexico",
          "Mexico",
          "Mexico",
          "Mexico",
          "Mexico",
          "Mexico",
          "Mexico",
          "Mexico",
          "Mexico",
          "Mexico",
          "Mexico",
          "Mexico",
          "Mexico",
          "Mexico",
          "Mexico",
          "Mexico",
          "Mexico",
          "Mexico",
          "Mexico",
          "Mexico",
          "Mexico",
          "Mexico",
          "Mexico",
          "Mexico",
          "Mexico",
          "Mexico",
          "Mexico",
          "Mexico",
          "Mexico",
          "Mexico",
          "Mexico",
          "Mexico",
          "Mexico",
          "Mexico",
          "Mexico",
          "Mexico",
          "Mexico",
          "Mexico",
          "Mexico",
          "Mexico",
          "Mexico",
          "Mexico",
          "Mexico",
          "Mexico",
          "Mexico",
          "Mexico",
          "Mexico",
          "Mexico",
          "Mexico",
          "Mexico",
          "Mexico",
          "Mexico",
          "Mexico",
          "Mexico",
          "Mexico",
          "Mexico",
          "Mexico",
          "Mexico",
          "Mexico",
          "Mexico",
          "Mexico",
          "Mexico",
          "Mexico",
          "Mexico",
          "Mexico",
          "Mexico",
          "Mexico",
          "Mexico",
          "Mexico",
          "Mexico",
          "Mexico",
          "Mexico",
          "Mexico",
          "Mexico",
          "Mexico",
          "Mexico",
          "Mexico",
          "Mexico",
          "Mexico",
          "Mexico",
          "Mexico",
          "Mexico",
          "Mexico",
          "Mexico",
          "Mexico",
          "Mexico",
          "Mexico",
          "Mexico",
          "Mexico",
          "Mexico",
          "Mexico",
          "Mexico",
          "Mexico",
          "Mexico",
          "Mexico",
          "Mexico",
          "Mexico",
          "Mexico",
          "Mexico",
          "Mexico",
          "Mexico",
          "Mexico",
          "Mexico",
          "Mexico",
          "Mexico",
          "Mexico",
          "Mexico",
          "Mexico",
          "Mexico",
          "Mexico",
          "Mexico",
          "Mexico",
          "Mexico",
          "Mexico",
          "Mexico",
          "Mexico",
          "Mexico",
          "Mexico",
          "Nicaragua",
          "Nicaragua",
          "Nicaragua",
          "Nicaragua",
          "Nicaragua",
          "Nicaragua",
          "Nicaragua",
          "Nicaragua",
          "Nicaragua",
          "Nicaragua",
          "Nicaragua",
          "Nicaragua",
          "Nicaragua",
          "Nicaragua",
          "Nicaragua",
          "Nicaragua",
          "Nicaragua",
          "Nicaragua",
          "Nicaragua",
          "Nicaragua",
          "Nicaragua",
          "Nicaragua",
          "Nicaragua",
          "Nicaragua",
          "Nicaragua",
          "Nicaragua",
          "Nicaragua",
          "Nicaragua",
          "Nicaragua",
          "Nicaragua",
          "Nicaragua",
          "Nicaragua",
          "Nicaragua",
          "Nicaragua",
          "Nicaragua",
          "Nicaragua",
          "Nicaragua",
          "Nicaragua",
          "Nicaragua",
          "Nicaragua",
          "Nicaragua",
          "Nicaragua",
          "Nicaragua",
          "Nicaragua",
          "Nicaragua",
          "Nicaragua",
          "Nicaragua",
          "Nicaragua",
          "Nicaragua",
          "Nicaragua",
          "Nicaragua",
          "Nicaragua",
          "Nicaragua",
          "Nicaragua",
          "Nicaragua",
          "Nicaragua",
          "Nicaragua",
          "Nicaragua",
          "Nicaragua",
          "Nicaragua",
          "Nicaragua",
          "Nicaragua",
          "Nicaragua",
          "Nicaragua",
          "Nicaragua",
          "Nicaragua",
          "Nicaragua",
          "Nicaragua",
          "Nicaragua",
          "Nicaragua",
          "Nicaragua",
          "Nicaragua",
          "Nicaragua",
          "Nicaragua",
          "Nicaragua",
          "Nicaragua",
          "Nicaragua",
          "Nicaragua",
          "Nicaragua",
          "Nicaragua",
          "Nicaragua",
          "Nicaragua",
          "Nicaragua",
          "Nicaragua",
          "Nicaragua",
          "Nicaragua",
          "Nicaragua",
          "Nicaragua",
          "Nicaragua",
          "Nicaragua",
          "Nicaragua",
          "Nicaragua",
          "Nicaragua",
          "Nicaragua",
          "Nicaragua",
          "Nicaragua",
          "Nicaragua",
          "Nicaragua",
          "Nicaragua",
          "Nicaragua",
          "Nicaragua",
          "Nicaragua",
          "Nicaragua",
          "Nicaragua",
          "Nicaragua",
          "Nicaragua",
          "Nicaragua",
          "Nicaragua",
          "Nicaragua",
          "Nicaragua",
          "Nicaragua",
          "Nicaragua",
          "Nicaragua",
          "Nicaragua",
          "Nicaragua",
          "Nicaragua",
          "Nicaragua",
          "Nicaragua",
          "Nicaragua",
          "Nicaragua",
          "Nicaragua",
          "Nicaragua",
          "Nicaragua",
          "Nicaragua",
          "Nicaragua",
          "Nicaragua",
          "Nicaragua",
          "Nicaragua",
          "Nicaragua",
          "Nicaragua",
          "Nicaragua",
          "Nicaragua",
          "Nicaragua",
          "Nicaragua",
          "Nicaragua",
          "Nicaragua",
          "Nicaragua",
          "Nicaragua",
          "Panama",
          "Panama",
          "Panama",
          "Panama",
          "Panama",
          "Panama",
          "Panama",
          "Panama",
          "Panama",
          "Panama",
          "Panama",
          "Panama",
          "Panama",
          "Panama",
          "Panama",
          "Panama",
          "Panama",
          "Panama",
          "Panama",
          "Panama",
          "Panama",
          "Panama",
          "Panama",
          "Panama",
          "Panama",
          "Panama",
          "Panama",
          "Panama",
          "Panama",
          "Panama",
          "Panama",
          "Panama",
          "Panama",
          "Panama",
          "Panama",
          "Panama",
          "Panama",
          "Panama",
          "Panama",
          "Panama",
          "Panama",
          "Panama",
          "Panama",
          "Panama",
          "Panama",
          "Panama",
          "Panama",
          "Panama",
          "Panama",
          "Panama",
          "Panama",
          "Panama",
          "Panama",
          "Panama",
          "Panama",
          "Panama",
          "Panama",
          "Panama",
          "Panama",
          "Panama",
          "Panama",
          "Panama",
          "Panama",
          "Panama",
          "Panama",
          "Panama",
          "Panama",
          "Panama",
          "Panama",
          "Panama",
          "Panama",
          "Panama",
          "Panama",
          "Panama",
          "Panama",
          "Panama",
          "Panama",
          "Panama",
          "Panama",
          "Panama",
          "Panama",
          "Panama",
          "Panama",
          "Panama",
          "Panama",
          "Panama",
          "Panama",
          "Panama",
          "Panama",
          "Panama",
          "Panama",
          "Panama",
          "Panama",
          "Panama",
          "Panama",
          "Panama",
          "Panama",
          "Panama",
          "Panama",
          "Panama",
          "Panama",
          "Panama",
          "Panama",
          "Panama",
          "Panama",
          "Panama",
          "Panama",
          "Panama",
          "Panama",
          "Panama",
          "Panama",
          "Panama",
          "Panama",
          "Panama",
          "Panama",
          "Panama",
          "Panama",
          "Panama",
          "Panama",
          "Panama",
          "Panama",
          "Panama",
          "Panama",
          "Panama",
          "Panama",
          "Panama",
          "Panama",
          "Panama",
          "Panama",
          "Panama",
          "Panama",
          "Panama",
          "Panama",
          "Panama",
          "Panama",
          "Panama",
          "Panama",
          "Panama",
          "Panama",
          "Panama",
          "Panama",
          "Panama",
          "Panama",
          "Panama",
          "Panama",
          "Paraguay",
          "Paraguay",
          "Paraguay",
          "Paraguay",
          "Paraguay",
          "Paraguay",
          "Paraguay",
          "Paraguay",
          "Paraguay",
          "Paraguay",
          "Paraguay",
          "Paraguay",
          "Paraguay",
          "Paraguay",
          "Paraguay",
          "Paraguay",
          "Paraguay",
          "Paraguay",
          "Paraguay",
          "Paraguay",
          "Paraguay",
          "Paraguay",
          "Paraguay",
          "Paraguay",
          "Paraguay",
          "Paraguay",
          "Paraguay",
          "Paraguay",
          "Paraguay",
          "Paraguay",
          "Paraguay",
          "Paraguay",
          "Paraguay",
          "Paraguay",
          "Paraguay",
          "Paraguay",
          "Paraguay",
          "Paraguay",
          "Paraguay",
          "Paraguay",
          "Paraguay",
          "Paraguay",
          "Paraguay",
          "Paraguay",
          "Paraguay",
          "Paraguay",
          "Paraguay",
          "Paraguay",
          "Paraguay",
          "Paraguay",
          "Paraguay",
          "Paraguay",
          "Paraguay",
          "Paraguay",
          "Paraguay",
          "Paraguay",
          "Paraguay",
          "Paraguay",
          "Paraguay",
          "Paraguay",
          "Paraguay",
          "Paraguay",
          "Paraguay",
          "Paraguay",
          "Paraguay",
          "Paraguay",
          "Paraguay",
          "Paraguay",
          "Paraguay",
          "Paraguay",
          "Paraguay",
          "Paraguay",
          "Paraguay",
          "Paraguay",
          "Paraguay",
          "Paraguay",
          "Paraguay",
          "Paraguay",
          "Paraguay",
          "Paraguay",
          "Paraguay",
          "Paraguay",
          "Paraguay",
          "Paraguay",
          "Paraguay",
          "Paraguay",
          "Paraguay",
          "Paraguay",
          "Paraguay",
          "Paraguay",
          "Paraguay",
          "Paraguay",
          "Paraguay",
          "Paraguay",
          "Paraguay",
          "Paraguay",
          "Paraguay",
          "Paraguay",
          "Paraguay",
          "Paraguay",
          "Paraguay",
          "Paraguay",
          "Paraguay",
          "Paraguay",
          "Paraguay",
          "Paraguay",
          "Paraguay",
          "Paraguay",
          "Paraguay",
          "Paraguay",
          "Paraguay",
          "Paraguay",
          "Paraguay",
          "Paraguay",
          "Paraguay",
          "Paraguay",
          "Paraguay",
          "Paraguay",
          "Paraguay",
          "Paraguay",
          "Paraguay",
          "Paraguay",
          "Paraguay",
          "Paraguay",
          "Paraguay",
          "Paraguay",
          "Paraguay",
          "Paraguay",
          "Paraguay",
          "Paraguay",
          "Paraguay",
          "Paraguay",
          "Paraguay",
          "Paraguay",
          "Paraguay",
          "Paraguay",
          "Paraguay",
          "Paraguay",
          "Paraguay",
          "Paraguay",
          "Paraguay",
          "Paraguay",
          "Paraguay",
          "Paraguay",
          "Paraguay",
          "Paraguay",
          "Paraguay",
          "Paraguay",
          "Paraguay",
          "Paraguay",
          "Paraguay",
          "Paraguay",
          "Paraguay",
          "Paraguay",
          "Paraguay",
          "Paraguay",
          "Paraguay",
          "Paraguay",
          "Paraguay",
          "Paraguay",
          "Paraguay",
          "Paraguay",
          "Paraguay",
          "Paraguay",
          "Paraguay",
          "Paraguay",
          "Paraguay",
          "Paraguay",
          "Paraguay",
          "Paraguay",
          "Paraguay",
          "Paraguay",
          "Paraguay",
          "Paraguay",
          "Paraguay",
          "Paraguay",
          "Paraguay",
          "Paraguay",
          "Paraguay",
          "Paraguay",
          "Paraguay",
          "Paraguay",
          "Paraguay",
          "Paraguay",
          "Peru",
          "Peru",
          "Peru",
          "Peru",
          "Peru",
          "Peru",
          "Peru",
          "Peru",
          "Peru",
          "Peru",
          "Peru",
          "Peru",
          "Peru",
          "Peru",
          "Peru",
          "Peru",
          "Peru",
          "Peru",
          "Peru",
          "Peru",
          "Peru",
          "Peru",
          "Peru",
          "Peru",
          "Peru",
          "Peru",
          "Peru",
          "Peru",
          "Peru",
          "Peru",
          "Peru",
          "Peru",
          "Peru",
          "Peru",
          "Peru",
          "Peru",
          "Peru",
          "Peru",
          "Peru",
          "Peru",
          "Peru",
          "Peru",
          "Peru",
          "Peru",
          "Peru",
          "Peru",
          "Peru",
          "Peru",
          "Peru",
          "Peru",
          "Peru",
          "Peru",
          "Peru",
          "Peru",
          "Peru",
          "Peru",
          "Peru",
          "Peru",
          "Peru",
          "Peru",
          "Peru",
          "Peru",
          "Peru",
          "Peru",
          "Peru",
          "Peru",
          "Peru",
          "Peru",
          "Peru",
          "Peru",
          "Peru",
          "Peru",
          "Peru",
          "Peru",
          "Peru",
          "Peru",
          "Peru",
          "Peru",
          "Peru",
          "Peru",
          "Peru",
          "Peru",
          "Peru",
          "Peru",
          "Peru",
          "Peru",
          "Peru",
          "Peru",
          "Peru",
          "Peru",
          "Peru",
          "Peru",
          "Peru",
          "Peru",
          "Peru",
          "Peru",
          "Peru",
          "Peru",
          "Peru",
          "Peru",
          "Peru",
          "Peru",
          "Peru",
          "Peru",
          "Peru",
          "Peru",
          "Peru",
          "Peru",
          "Peru",
          "Peru",
          "Peru",
          "Peru",
          "Peru",
          "Peru",
          "Peru",
          "Peru",
          "Peru",
          "Peru",
          "Peru",
          "Peru",
          "Peru",
          "Peru",
          "Peru",
          "Peru",
          "Peru",
          "Peru",
          "Peru",
          "Peru",
          "Peru",
          "Peru",
          "Peru",
          "Peru",
          "Peru",
          "Peru",
          "Peru",
          "Peru",
          "Peru",
          "Peru",
          "Peru",
          "Peru",
          "Peru",
          "Peru",
          "Peru",
          "Peru",
          "Peru",
          "Peru",
          "Peru",
          "Peru",
          "Peru",
          "Peru",
          "Peru",
          "Peru",
          "Peru",
          "Peru",
          "Peru",
          "Peru",
          "Peru",
          "Peru",
          "Peru",
          "Peru",
          "Peru",
          "Peru",
          "Peru",
          "Peru",
          "Peru",
          "Peru",
          "Peru",
          "Peru",
          "Peru",
          "Peru",
          "Peru",
          "Peru",
          "Peru",
          "Peru",
          "Peru",
          "Peru",
          "Peru",
          "Peru",
          "Peru",
          "Peru",
          "Peru",
          "Peru",
          "Peru",
          "Peru",
          "Peru",
          "Peru",
          "Peru",
          "Peru",
          "Peru",
          "Peru",
          "Peru",
          "Peru",
          "Peru",
          "Peru",
          "Peru",
          "Peru",
          "Peru",
          "Peru",
          "Peru",
          "Peru",
          "Peru",
          "Peru",
          "Peru",
          "Peru",
          "Peru",
          "Peru",
          "Peru",
          "Peru",
          "Peru",
          "Peru",
          "Peru",
          "Peru",
          "Peru",
          "Peru",
          "Peru",
          "Peru",
          "Peru",
          "Peru",
          "Peru",
          "Peru",
          "Peru",
          "Peru",
          "Peru",
          "Peru",
          "Peru",
          "Peru",
          "Peru",
          "Peru",
          "Peru",
          "Peru",
          "Peru",
          "Peru",
          "Peru",
          "Peru",
          "Peru",
          "Peru",
          "Peru",
          "Peru",
          "Peru",
          "Peru",
          "Peru",
          "Peru",
          "Peru",
          "Peru",
          "Peru",
          "Peru",
          "Peru",
          "Peru",
          "Peru",
          "Peru",
          "Peru",
          "Peru",
          "Peru",
          "Peru",
          "Peru",
          "Peru",
          "Peru",
          "Peru",
          "Peru",
          "Peru",
          "Peru",
          "Peru",
          "Peru",
          "Peru",
          "Peru",
          "Peru",
          "Peru",
          "Peru",
          "Peru",
          "Peru",
          "Peru",
          "Peru",
          "Peru",
          "Peru",
          "Peru",
          "Peru",
          "Peru",
          "Peru",
          "Peru",
          "Peru",
          "Peru",
          "Peru",
          "Peru",
          "Peru",
          "Peru",
          "Peru",
          "Peru",
          "Peru",
          "Peru",
          "Peru",
          "Peru",
          "Peru",
          "Peru",
          "Peru",
          "Peru",
          "Peru",
          "Peru",
          "Peru",
          "Peru",
          "Peru",
          "Peru",
          "Peru",
          "Peru",
          "Peru",
          "Peru",
          "Peru",
          "Peru",
          "Peru",
          "Peru",
          "Peru",
          "Peru",
          "Peru",
          "Peru",
          "Peru",
          "Peru",
          "Peru",
          "Peru",
          "Peru",
          "Peru",
          "Peru",
          "Peru",
          "Peru",
          "Peru",
          "Peru",
          "Peru",
          "Peru",
          "Peru",
          "Peru",
          "Peru",
          "Peru",
          "Puerto Rico",
          "Puerto Rico",
          "Puerto Rico",
          "Puerto Rico",
          "Puerto Rico",
          "Puerto Rico",
          "Puerto Rico",
          "Puerto Rico",
          "Puerto Rico",
          "Puerto Rico",
          "Puerto Rico",
          "Puerto Rico",
          "Puerto Rico",
          "Puerto Rico",
          "Puerto Rico",
          "Puerto Rico",
          "Puerto Rico",
          "Puerto Rico",
          "Puerto Rico",
          "Puerto Rico",
          "Puerto Rico",
          "Puerto Rico",
          "Puerto Rico",
          "Puerto Rico",
          "Puerto Rico",
          "Puerto Rico",
          "Puerto Rico",
          "Puerto Rico",
          "Puerto Rico",
          "Puerto Rico",
          "Puerto Rico",
          "Puerto Rico",
          "Puerto Rico",
          "Puerto Rico",
          "Puerto Rico",
          "Puerto Rico",
          "Puerto Rico",
          "Puerto Rico",
          "Puerto Rico",
          "Puerto Rico",
          "Puerto Rico",
          "Puerto Rico",
          "Puerto Rico",
          "Puerto Rico",
          "Puerto Rico",
          "Puerto Rico",
          "Puerto Rico",
          "Puerto Rico",
          "Puerto Rico",
          "Puerto Rico",
          "Puerto Rico",
          "Puerto Rico",
          "Puerto Rico",
          "Puerto Rico",
          "Puerto Rico",
          "Puerto Rico",
          "Puerto Rico",
          "Puerto Rico",
          "Puerto Rico",
          "Puerto Rico",
          "Puerto Rico",
          "Puerto Rico",
          "Puerto Rico",
          "Puerto Rico",
          "Puerto Rico",
          "Puerto Rico",
          "Puerto Rico",
          "Puerto Rico",
          "Puerto Rico",
          "Puerto Rico",
          "Puerto Rico",
          "Puerto Rico",
          "Puerto Rico",
          "Puerto Rico",
          "Puerto Rico",
          "Puerto Rico",
          "Puerto Rico",
          "Puerto Rico",
          "Puerto Rico",
          "Puerto Rico",
          "Puerto Rico",
          "Puerto Rico",
          "Puerto Rico",
          "Puerto Rico",
          "Puerto Rico",
          "Puerto Rico",
          "Puerto Rico",
          "Puerto Rico",
          "Puerto Rico",
          "Puerto Rico",
          "Puerto Rico",
          "Puerto Rico",
          "Puerto Rico",
          "Puerto Rico",
          "Puerto Rico",
          "Puerto Rico",
          "Puerto Rico",
          "Puerto Rico",
          "Puerto Rico",
          "Puerto Rico",
          "Puerto Rico",
          "Puerto Rico",
          "Puerto Rico",
          "Puerto Rico",
          "Puerto Rico",
          "Puerto Rico",
          "Puerto Rico",
          "Puerto Rico",
          "Puerto Rico",
          "Puerto Rico",
          "Puerto Rico",
          "Puerto Rico",
          "Puerto Rico",
          "Puerto Rico",
          "Puerto Rico",
          "Puerto Rico",
          "Puerto Rico",
          "Puerto Rico",
          "Puerto Rico",
          "Puerto Rico",
          "Puerto Rico",
          "Puerto Rico",
          "Puerto Rico",
          "Puerto Rico",
          "Puerto Rico",
          "Puerto Rico",
          "Puerto Rico",
          "Puerto Rico",
          "Puerto Rico",
          "Puerto Rico",
          "Puerto Rico",
          "Puerto Rico",
          "Puerto Rico",
          "Puerto Rico",
          "Puerto Rico",
          "Puerto Rico",
          "Puerto Rico",
          "Puerto Rico",
          "Puerto Rico",
          "Puerto Rico",
          "Puerto Rico",
          "Puerto Rico",
          "Puerto Rico",
          "Puerto Rico",
          "Puerto Rico",
          "Saint Kitts and Nevis",
          "Saint Kitts and Nevis",
          "Saint Kitts and Nevis",
          "Saint Kitts and Nevis",
          "Saint Kitts and Nevis",
          "Saint Kitts and Nevis",
          "Saint Kitts and Nevis",
          "Saint Kitts and Nevis",
          "Saint Kitts and Nevis",
          "Saint Kitts and Nevis",
          "Saint Kitts and Nevis",
          "Saint Kitts and Nevis",
          "Saint Kitts and Nevis",
          "Saint Kitts and Nevis",
          "Saint Kitts and Nevis",
          "Saint Kitts and Nevis",
          "Saint Kitts and Nevis",
          "Saint Kitts and Nevis",
          "Saint Kitts and Nevis",
          "Saint Kitts and Nevis",
          "Saint Kitts and Nevis",
          "Saint Kitts and Nevis",
          "Saint Kitts and Nevis",
          "Saint Kitts and Nevis",
          "Saint Kitts and Nevis",
          "Saint Kitts and Nevis",
          "Saint Kitts and Nevis",
          "Saint Kitts and Nevis",
          "Saint Kitts and Nevis",
          "Saint Kitts and Nevis",
          "Saint Kitts and Nevis",
          "Saint Kitts and Nevis",
          "Saint Kitts and Nevis",
          "Saint Kitts and Nevis",
          "Saint Kitts and Nevis",
          "Saint Kitts and Nevis",
          "Saint Kitts and Nevis",
          "Saint Kitts and Nevis",
          "Saint Kitts and Nevis",
          "Saint Kitts and Nevis",
          "Saint Kitts and Nevis",
          "Saint Kitts and Nevis",
          "Saint Kitts and Nevis",
          "Saint Kitts and Nevis",
          "Saint Kitts and Nevis",
          "Saint Kitts and Nevis",
          "Saint Kitts and Nevis",
          "Saint Kitts and Nevis",
          "Saint Kitts and Nevis",
          "Saint Kitts and Nevis",
          "Saint Kitts and Nevis",
          "Saint Kitts and Nevis",
          "Saint Kitts and Nevis",
          "Saint Kitts and Nevis",
          "Saint Kitts and Nevis",
          "Saint Kitts and Nevis",
          "Saint Kitts and Nevis",
          "Saint Kitts and Nevis",
          "Saint Kitts and Nevis",
          "Saint Kitts and Nevis",
          "Saint Kitts and Nevis",
          "Saint Kitts and Nevis",
          "Saint Kitts and Nevis",
          "Saint Kitts and Nevis",
          "Saint Kitts and Nevis",
          "Saint Kitts and Nevis",
          "Saint Kitts and Nevis",
          "Saint Kitts and Nevis",
          "Saint Kitts and Nevis",
          "Saint Kitts and Nevis",
          "Saint Kitts and Nevis",
          "Saint Kitts and Nevis",
          "Saint Kitts and Nevis",
          "Saint Kitts and Nevis",
          "Saint Kitts and Nevis",
          "Saint Kitts and Nevis",
          "Saint Kitts and Nevis",
          "Saint Kitts and Nevis",
          "Saint Kitts and Nevis",
          "Saint Kitts and Nevis",
          "Saint Kitts and Nevis",
          "Saint Kitts and Nevis",
          "Saint Kitts and Nevis",
          "Saint Kitts and Nevis",
          "Saint Lucia",
          "Saint Lucia",
          "Saint Lucia",
          "Saint Lucia",
          "Saint Lucia",
          "Saint Lucia",
          "Saint Lucia",
          "Saint Lucia",
          "Saint Lucia",
          "Saint Lucia",
          "Saint Lucia",
          "Saint Lucia",
          "Saint Lucia",
          "Saint Lucia",
          "Saint Lucia",
          "Saint Lucia",
          "Saint Lucia",
          "Saint Lucia",
          "Saint Lucia",
          "Saint Lucia",
          "Saint Lucia",
          "Saint Lucia",
          "Saint Lucia",
          "Saint Lucia",
          "Saint Lucia",
          "Saint Lucia",
          "Saint Lucia",
          "Saint Lucia",
          "Saint Lucia",
          "Saint Lucia",
          "Saint Lucia",
          "Saint Lucia",
          "Saint Lucia",
          "Saint Lucia",
          "Saint Lucia",
          "Saint Lucia",
          "Saint Lucia",
          "Saint Lucia",
          "Saint Lucia",
          "Saint Lucia",
          "Saint Lucia",
          "Saint Lucia",
          "Saint Lucia",
          "Saint Lucia",
          "Saint Lucia",
          "Saint Lucia",
          "Saint Lucia",
          "Saint Lucia",
          "Saint Lucia",
          "Saint Lucia",
          "Saint Lucia",
          "Saint Lucia",
          "Saint Lucia",
          "Saint Lucia",
          "Saint Lucia",
          "Saint Lucia",
          "Saint Lucia",
          "Saint Lucia",
          "Saint Lucia",
          "Saint Lucia",
          "Saint Lucia",
          "Saint Lucia",
          "Saint Lucia",
          "Saint Lucia",
          "Saint Lucia",
          "Saint Lucia",
          "Saint Lucia",
          "Saint Lucia",
          "Saint Lucia",
          "Saint Lucia",
          "Saint Lucia",
          "Saint Lucia",
          "Saint Lucia",
          "Saint Lucia",
          "Saint Lucia",
          "Saint Lucia",
          "Saint Lucia",
          "Saint Lucia",
          "Saint Lucia",
          "Saint Lucia",
          "Saint Lucia",
          "Saint Lucia",
          "Saint Lucia",
          "Saint Lucia",
          "Saint Lucia",
          "Saint Lucia",
          "Saint Lucia",
          "Saint Lucia",
          "Saint Lucia",
          "Saint Lucia",
          "Saint Lucia",
          "Saint Lucia",
          "Saint Lucia",
          "Saint Lucia",
          "Saint Lucia",
          "Saint Lucia",
          "Saint Lucia",
          "Saint Lucia",
          "Saint Lucia",
          "Saint Lucia",
          "Saint Lucia",
          "Saint Lucia",
          "Saint Lucia",
          "Saint Lucia",
          "Saint Lucia",
          "Saint Lucia",
          "Saint Lucia",
          "Saint Lucia",
          "Saint Lucia",
          "Saint Lucia",
          "Saint Lucia",
          "Saint Lucia",
          "Saint Lucia",
          "Saint Lucia",
          "Saint Lucia",
          "Saint Lucia",
          "Saint Lucia",
          "Saint Lucia",
          "Saint Lucia",
          "Saint Lucia",
          "Saint Lucia",
          "Saint Lucia",
          "Saint Lucia",
          "Saint Lucia",
          "Saint Lucia",
          "Saint Lucia",
          "Saint Lucia",
          "Saint Lucia",
          "Saint Lucia",
          "Saint Lucia",
          "Saint Lucia",
          "Saint Lucia",
          "Saint Vincent and the Grenadines",
          "Saint Vincent and the Grenadines",
          "Saint Vincent and the Grenadines",
          "Saint Vincent and the Grenadines",
          "Saint Vincent and the Grenadines",
          "Saint Vincent and the Grenadines",
          "Saint Vincent and the Grenadines",
          "Saint Vincent and the Grenadines",
          "Saint Vincent and the Grenadines",
          "Saint Vincent and the Grenadines",
          "Saint Vincent and the Grenadines",
          "Saint Vincent and the Grenadines",
          "Saint Vincent and the Grenadines",
          "Saint Vincent and the Grenadines",
          "Saint Vincent and the Grenadines",
          "Saint Vincent and the Grenadines",
          "Saint Vincent and the Grenadines",
          "Saint Vincent and the Grenadines",
          "Saint Vincent and the Grenadines",
          "Saint Vincent and the Grenadines",
          "Saint Vincent and the Grenadines",
          "Saint Vincent and the Grenadines",
          "Saint Vincent and the Grenadines",
          "Saint Vincent and the Grenadines",
          "Saint Vincent and the Grenadines",
          "Saint Vincent and the Grenadines",
          "Saint Vincent and the Grenadines",
          "Saint Vincent and the Grenadines",
          "Saint Vincent and the Grenadines",
          "Saint Vincent and the Grenadines",
          "Saint Vincent and the Grenadines",
          "Saint Vincent and the Grenadines",
          "Saint Vincent and the Grenadines",
          "Saint Vincent and the Grenadines",
          "Saint Vincent and the Grenadines",
          "Saint Vincent and the Grenadines",
          "Saint Vincent and the Grenadines",
          "Saint Vincent and the Grenadines",
          "Saint Vincent and the Grenadines",
          "Saint Vincent and the Grenadines",
          "Saint Vincent and the Grenadines",
          "Saint Vincent and the Grenadines",
          "Saint Vincent and the Grenadines",
          "Saint Vincent and the Grenadines",
          "Saint Vincent and the Grenadines",
          "Saint Vincent and the Grenadines",
          "Saint Vincent and the Grenadines",
          "Saint Vincent and the Grenadines",
          "Saint Vincent and the Grenadines",
          "Saint Vincent and the Grenadines",
          "Saint Vincent and the Grenadines",
          "Saint Vincent and the Grenadines",
          "Saint Vincent and the Grenadines",
          "Saint Vincent and the Grenadines",
          "Saint Vincent and the Grenadines",
          "Saint Vincent and the Grenadines",
          "Saint Vincent and the Grenadines",
          "Saint Vincent and the Grenadines",
          "Saint Vincent and the Grenadines",
          "Saint Vincent and the Grenadines",
          "Saint Vincent and the Grenadines",
          "Saint Vincent and the Grenadines",
          "Saint Vincent and the Grenadines",
          "Saint Vincent and the Grenadines",
          "Saint Vincent and the Grenadines",
          "Saint Vincent and the Grenadines",
          "Saint Vincent and the Grenadines",
          "Saint Vincent and the Grenadines",
          "Saint Vincent and the Grenadines",
          "Saint Vincent and the Grenadines",
          "Saint Vincent and the Grenadines",
          "Saint Vincent and the Grenadines",
          "Saint Vincent and the Grenadines",
          "Saint Vincent and the Grenadines",
          "Saint Vincent and the Grenadines",
          "Saint Vincent and the Grenadines",
          "Saint Vincent and the Grenadines",
          "Saint Vincent and the Grenadines",
          "Saint Vincent and the Grenadines",
          "Saint Vincent and the Grenadines",
          "Saint Vincent and the Grenadines",
          "Saint Vincent and the Grenadines",
          "Saint Vincent and the Grenadines",
          "Saint Vincent and the Grenadines",
          "Saint Vincent and the Grenadines",
          "Saint Vincent and the Grenadines",
          "Saint Vincent and the Grenadines",
          "Saint Vincent and the Grenadines",
          "Saint Vincent and the Grenadines",
          "Saint Vincent and the Grenadines",
          "Saint Vincent and the Grenadines",
          "Saint Vincent and the Grenadines",
          "Saint Vincent and the Grenadines",
          "Saint Vincent and the Grenadines",
          "Saint Vincent and the Grenadines",
          "Saint Vincent and the Grenadines",
          "Saint Vincent and the Grenadines",
          "Saint Vincent and the Grenadines",
          "Saint Vincent and the Grenadines",
          "Saint Vincent and the Grenadines",
          "Saint Vincent and the Grenadines",
          "Saint Vincent and the Grenadines",
          "Saint Vincent and the Grenadines",
          "Saint Vincent and the Grenadines",
          "Saint Vincent and the Grenadines",
          "Saint Vincent and the Grenadines",
          "Saint Vincent and the Grenadines",
          "Saint Vincent and the Grenadines",
          "Saint Vincent and the Grenadines",
          "Saint Vincent and the Grenadines",
          "Saint Vincent and the Grenadines",
          "Saint Vincent and the Grenadines",
          "Saint Vincent and the Grenadines",
          "Saint Vincent and the Grenadines",
          "Saint Vincent and the Grenadines",
          "Saint Vincent and the Grenadines",
          "Saint Vincent and the Grenadines",
          "Saint Vincent and the Grenadines",
          "Saint Vincent and the Grenadines",
          "Saint Vincent and the Grenadines",
          "Saint Vincent and the Grenadines",
          "Saint Vincent and the Grenadines",
          "Saint Vincent and the Grenadines",
          "Saint Vincent and the Grenadines",
          "Suriname",
          "Suriname",
          "Suriname",
          "Suriname",
          "Suriname",
          "Suriname",
          "Suriname",
          "Suriname",
          "Suriname",
          "Suriname",
          "Suriname",
          "Suriname",
          "Suriname",
          "Suriname",
          "Suriname",
          "Suriname",
          "Suriname",
          "Suriname",
          "Suriname",
          "Suriname",
          "Suriname",
          "Suriname",
          "Suriname",
          "Suriname",
          "Suriname",
          "Suriname",
          "Suriname",
          "Suriname",
          "Suriname",
          "Suriname",
          "Suriname",
          "Suriname",
          "Suriname",
          "Suriname",
          "Suriname",
          "Suriname",
          "Suriname",
          "Suriname",
          "Suriname",
          "Suriname",
          "Suriname",
          "Suriname",
          "Suriname",
          "Suriname",
          "Suriname",
          "Suriname",
          "Suriname",
          "Suriname",
          "Suriname",
          "Suriname",
          "Suriname",
          "Suriname",
          "Suriname",
          "Suriname",
          "Suriname",
          "Suriname",
          "Suriname",
          "Suriname",
          "Suriname",
          "Suriname",
          "Suriname",
          "Suriname",
          "Suriname",
          "Suriname",
          "Suriname",
          "Suriname",
          "Suriname",
          "Suriname",
          "Suriname",
          "Suriname",
          "Suriname",
          "Suriname",
          "Suriname",
          "Suriname",
          "Suriname",
          "Suriname",
          "Suriname",
          "Suriname",
          "Suriname",
          "Suriname",
          "Suriname",
          "Suriname",
          "Suriname",
          "Suriname",
          "Suriname",
          "Suriname",
          "Suriname",
          "Suriname",
          "Suriname",
          "Suriname",
          "Suriname",
          "Suriname",
          "Suriname",
          "Suriname",
          "Suriname",
          "Suriname",
          "Suriname",
          "Suriname",
          "Suriname",
          "Suriname",
          "Suriname",
          "Suriname",
          "Suriname",
          "Suriname",
          "Suriname",
          "Suriname",
          "Suriname",
          "Suriname",
          "Suriname",
          "Suriname",
          "Suriname",
          "Suriname",
          "Suriname",
          "Suriname",
          "Suriname",
          "Suriname",
          "Suriname",
          "Suriname",
          "Suriname",
          "Suriname",
          "Suriname",
          "Trinidad and Tobago",
          "Trinidad and Tobago",
          "Trinidad and Tobago",
          "Trinidad and Tobago",
          "Trinidad and Tobago",
          "Trinidad and Tobago",
          "Trinidad and Tobago",
          "Trinidad and Tobago",
          "Trinidad and Tobago",
          "Trinidad and Tobago",
          "Trinidad and Tobago",
          "Trinidad and Tobago",
          "Trinidad and Tobago",
          "Trinidad and Tobago",
          "Trinidad and Tobago",
          "Trinidad and Tobago",
          "Trinidad and Tobago",
          "Trinidad and Tobago",
          "Trinidad and Tobago",
          "Trinidad and Tobago",
          "Trinidad and Tobago",
          "Trinidad and Tobago",
          "Trinidad and Tobago",
          "Trinidad and Tobago",
          "Trinidad and Tobago",
          "Trinidad and Tobago",
          "Trinidad and Tobago",
          "Trinidad and Tobago",
          "Trinidad and Tobago",
          "Trinidad and Tobago",
          "Trinidad and Tobago",
          "Trinidad and Tobago",
          "Trinidad and Tobago",
          "Trinidad and Tobago",
          "Trinidad and Tobago",
          "Trinidad and Tobago",
          "Trinidad and Tobago",
          "Trinidad and Tobago",
          "Trinidad and Tobago",
          "Trinidad and Tobago",
          "Trinidad and Tobago",
          "Trinidad and Tobago",
          "Trinidad and Tobago",
          "Trinidad and Tobago",
          "Trinidad and Tobago",
          "Trinidad and Tobago",
          "Trinidad and Tobago",
          "Trinidad and Tobago",
          "Trinidad and Tobago",
          "Trinidad and Tobago",
          "Trinidad and Tobago",
          "Trinidad and Tobago",
          "Trinidad and Tobago",
          "Trinidad and Tobago",
          "Trinidad and Tobago",
          "Trinidad and Tobago",
          "Trinidad and Tobago",
          "Trinidad and Tobago",
          "Trinidad and Tobago",
          "Trinidad and Tobago",
          "Trinidad and Tobago",
          "Trinidad and Tobago",
          "Trinidad and Tobago",
          "Trinidad and Tobago",
          "Trinidad and Tobago",
          "Trinidad and Tobago",
          "Trinidad and Tobago",
          "Trinidad and Tobago",
          "Trinidad and Tobago",
          "Trinidad and Tobago",
          "Trinidad and Tobago",
          "Trinidad and Tobago",
          "Trinidad and Tobago",
          "Trinidad and Tobago",
          "Trinidad and Tobago",
          "Trinidad and Tobago",
          "Trinidad and Tobago",
          "Trinidad and Tobago",
          "Trinidad and Tobago",
          "Trinidad and Tobago",
          "Trinidad and Tobago",
          "Trinidad and Tobago",
          "Trinidad and Tobago",
          "Trinidad and Tobago",
          "Trinidad and Tobago",
          "Trinidad and Tobago",
          "Trinidad and Tobago",
          "Trinidad and Tobago",
          "Trinidad and Tobago",
          "Trinidad and Tobago",
          "Trinidad and Tobago",
          "Trinidad and Tobago",
          "Trinidad and Tobago",
          "Trinidad and Tobago",
          "Trinidad and Tobago",
          "Trinidad and Tobago",
          "Trinidad and Tobago",
          "Trinidad and Tobago",
          "Trinidad and Tobago",
          "Trinidad and Tobago",
          "Trinidad and Tobago",
          "Trinidad and Tobago",
          "Trinidad and Tobago",
          "Trinidad and Tobago",
          "Trinidad and Tobago",
          "Trinidad and Tobago",
          "Trinidad and Tobago",
          "Trinidad and Tobago",
          "Trinidad and Tobago",
          "Trinidad and Tobago",
          "Trinidad and Tobago",
          "Trinidad and Tobago",
          "Trinidad and Tobago",
          "Trinidad and Tobago",
          "Trinidad and Tobago",
          "Trinidad and Tobago",
          "Trinidad and Tobago",
          "Trinidad and Tobago",
          "Trinidad and Tobago",
          "Trinidad and Tobago",
          "Trinidad and Tobago",
          "Trinidad and Tobago",
          "Trinidad and Tobago",
          "Trinidad and Tobago",
          "Trinidad and Tobago",
          "Trinidad and Tobago",
          "Trinidad and Tobago",
          "Trinidad and Tobago",
          "Trinidad and Tobago",
          "Trinidad and Tobago",
          "Trinidad and Tobago",
          "Trinidad and Tobago",
          "Trinidad and Tobago",
          "Trinidad and Tobago",
          "Trinidad and Tobago",
          "Trinidad and Tobago",
          "Trinidad and Tobago",
          "Trinidad and Tobago",
          "Trinidad and Tobago",
          "Trinidad and Tobago",
          "Trinidad and Tobago",
          "Trinidad and Tobago",
          "Trinidad and Tobago",
          "Trinidad and Tobago",
          "Trinidad and Tobago",
          "Trinidad and Tobago",
          "Trinidad and Tobago",
          "Trinidad and Tobago",
          "Trinidad and Tobago",
          "Trinidad and Tobago",
          "Trinidad and Tobago",
          "Trinidad and Tobago",
          "Trinidad and Tobago",
          "Trinidad and Tobago",
          "Trinidad and Tobago",
          "Trinidad and Tobago",
          "Trinidad and Tobago",
          "Trinidad and Tobago",
          "Trinidad and Tobago",
          "Trinidad and Tobago",
          "Trinidad and Tobago",
          "Trinidad and Tobago",
          "Trinidad and Tobago",
          "Trinidad and Tobago",
          "United States of America",
          "United States of America",
          "United States of America",
          "United States of America",
          "United States of America",
          "United States of America",
          "United States of America",
          "United States of America",
          "United States of America",
          "United States of America",
          "United States of America",
          "United States of America",
          "United States of America",
          "United States of America",
          "United States of America",
          "United States of America",
          "United States of America",
          "United States of America",
          "United States of America",
          "United States of America",
          "United States of America",
          "United States of America",
          "United States of America",
          "United States of America",
          "United States of America",
          "United States of America",
          "United States of America",
          "United States of America",
          "United States of America",
          "United States of America",
          "United States of America",
          "United States of America",
          "United States of America",
          "United States of America",
          "United States of America",
          "United States of America",
          "United States of America",
          "United States of America",
          "United States of America",
          "United States of America",
          "United States of America",
          "United States of America",
          "United States of America",
          "United States of America",
          "United States of America",
          "United States of America",
          "United States of America",
          "United States of America",
          "United States of America",
          "United States of America",
          "United States of America",
          "United States of America",
          "United States of America",
          "United States of America",
          "United States of America",
          "United States of America",
          "United States of America",
          "United States of America",
          "United States of America",
          "United States of America",
          "United States of America",
          "United States of America",
          "United States of America",
          "United States of America",
          "United States of America",
          "United States of America",
          "United States of America",
          "United States of America",
          "United States of America",
          "United States of America",
          "United States of America",
          "United States of America",
          "United States of America",
          "United States of America",
          "United States of America",
          "United States of America",
          "United States of America",
          "United States of America",
          "United States of America",
          "United States of America",
          "United States of America",
          "United States of America",
          "United States of America",
          "United States of America",
          "United States of America",
          "United States of America",
          "United States of America",
          "United States of America",
          "United States of America",
          "United States of America",
          "United States of America",
          "United States of America",
          "United States of America",
          "United States of America",
          "United States of America",
          "United States of America",
          "United States of America",
          "United States of America",
          "United States of America",
          "United States of America",
          "United States of America",
          "United States of America",
          "United States of America",
          "United States of America",
          "United States of America",
          "United States of America",
          "United States of America",
          "United States of America",
          "United States of America",
          "United States of America",
          "United States of America",
          "United States of America",
          "United States of America",
          "United States of America",
          "United States of America",
          "United States of America",
          "United States of America",
          "United States of America",
          "United States of America",
          "United States of America",
          "United States of America",
          "United States of America",
          "United States of America",
          "United States of America",
          "United States of America",
          "United States of America",
          "United States of America",
          "United States of America",
          "United States of America",
          "United States of America",
          "United States of America",
          "United States of America",
          "United States of America",
          "United States of America",
          "United States of America",
          "United States of America",
          "United States of America",
          "United States of America",
          "United States of America",
          "United States of America",
          "United States of America",
          "United States of America",
          "United States of America",
          "United States of America",
          "United States of America",
          "United States of America",
          "United States of America",
          "United States of America",
          "United States of America",
          "United States of America",
          "United States of America",
          "United States of America",
          "United States of America",
          "United States of America",
          "United States of America",
          "United States of America",
          "United States of America",
          "United States of America",
          "United States of America",
          "United States of America",
          "United States of America",
          "United States of America",
          "United States of America",
          "United States of America",
          "United States of America",
          "United States of America",
          "United States of America",
          "United States of America",
          "United States of America",
          "United States of America",
          "United States of America",
          "United States of America",
          "United States of America",
          "United States of America",
          "United States of America",
          "United States of America",
          "United States of America",
          "United States of America",
          "United States of America",
          "United States of America",
          "United States of America",
          "United States of America",
          "United States of America",
          "United States of America",
          "United States of America",
          "United States of America",
          "United States of America",
          "United States of America",
          "United States of America",
          "United States of America",
          "United States of America",
          "United States of America",
          "United States of America",
          "United States of America",
          "United States of America",
          "United States of America",
          "United States of America",
          "United States of America",
          "United States of America",
          "United States of America",
          "United States of America",
          "United States of America",
          "United States of America",
          "United States of America",
          "United States of America",
          "United States of America",
          "United States of America",
          "United States of America",
          "United States of America",
          "United States of America",
          "United States of America",
          "United States of America",
          "United States of America",
          "United States of America",
          "United States of America",
          "United States of America",
          "United States of America",
          "United States of America",
          "United States of America",
          "United States of America",
          "United States of America",
          "United States of America",
          "United States of America",
          "United States of America",
          "United States of America",
          "United States of America",
          "United States of America",
          "United States of America",
          "United States of America",
          "United States of America",
          "United States of America",
          "United States of America",
          "United States of America",
          "United States of America",
          "United States of America",
          "United States of America",
          "United States of America",
          "United States of America",
          "United States of America",
          "United States of America",
          "United States of America",
          "United States of America",
          "United States of America",
          "United States of America",
          "United States of America",
          "United States of America",
          "United States of America",
          "United States of America",
          "United States of America",
          "United States of America",
          "United States of America",
          "United States of America",
          "United States of America",
          "United States of America",
          "United States of America",
          "United States of America",
          "United States of America",
          "United States of America",
          "United States of America",
          "United States of America",
          "United States of America",
          "United States of America",
          "United States of America",
          "United States of America",
          "United States of America",
          "United States of America",
          "United States of America",
          "United States of America",
          "United States of America",
          "United States of America",
          "United States of America",
          "United States of America",
          "United States of America",
          "United States of America",
          "United States of America",
          "United States of America",
          "United States of America",
          "United States of America",
          "United States of America",
          "United States of America",
          "United States of America",
          "United States of America",
          "United States of America",
          "United States of America",
          "United States of America",
          "United States of America",
          "United States of America",
          "United States of America",
          "United States of America",
          "United States of America",
          "United States of America",
          "United States of America",
          "United States of America",
          "United States of America",
          "United States of America",
          "United States of America",
          "United States of America",
          "United States of America",
          "United States of America",
          "United States of America",
          "United States of America",
          "United States of America",
          "United States of America",
          "United States of America",
          "United States of America",
          "United States of America",
          "United States of America",
          "United States of America",
          "United States of America",
          "United States of America",
          "United States of America",
          "United States of America",
          "United States of America",
          "United States of America",
          "United States of America",
          "Uruguay",
          "Uruguay",
          "Uruguay",
          "Uruguay",
          "Uruguay",
          "Uruguay",
          "Uruguay",
          "Uruguay",
          "Uruguay",
          "Uruguay",
          "Uruguay",
          "Uruguay",
          "Uruguay",
          "Uruguay",
          "Uruguay",
          "Uruguay",
          "Uruguay",
          "Uruguay",
          "Uruguay",
          "Uruguay",
          "Uruguay",
          "Uruguay",
          "Uruguay",
          "Uruguay",
          "Uruguay",
          "Uruguay",
          "Uruguay",
          "Uruguay",
          "Uruguay",
          "Uruguay",
          "Uruguay",
          "Uruguay",
          "Uruguay",
          "Uruguay",
          "Uruguay",
          "Uruguay",
          "Uruguay",
          "Uruguay",
          "Uruguay",
          "Uruguay",
          "Uruguay",
          "Uruguay",
          "Uruguay",
          "Uruguay",
          "Uruguay",
          "Uruguay",
          "Uruguay",
          "Uruguay",
          "Uruguay",
          "Uruguay",
          "Uruguay",
          "Uruguay",
          "Uruguay",
          "Uruguay",
          "Uruguay",
          "Uruguay",
          "Uruguay",
          "Uruguay",
          "Uruguay",
          "Uruguay",
          "Uruguay",
          "Uruguay",
          "Uruguay",
          "Uruguay",
          "Uruguay",
          "Uruguay",
          "Uruguay",
          "Uruguay",
          "Uruguay",
          "Uruguay",
          "Uruguay",
          "Uruguay",
          "Uruguay",
          "Uruguay",
          "Uruguay",
          "Uruguay",
          "Uruguay",
          "Uruguay",
          "Uruguay",
          "Uruguay",
          "Uruguay",
          "Uruguay",
          "Uruguay",
          "Uruguay",
          "Uruguay",
          "Uruguay",
          "Uruguay",
          "Uruguay",
          "Uruguay",
          "Uruguay",
          "Uruguay",
          "Uruguay",
          "Uruguay",
          "Uruguay",
          "Uruguay",
          "Uruguay",
          "Uruguay",
          "Uruguay",
          "Uruguay",
          "Uruguay",
          "Uruguay",
          "Uruguay",
          "Uruguay",
          "Uruguay",
          "Uruguay",
          "Uruguay",
          "Uruguay",
          "Uruguay",
          "Uruguay",
          "Uruguay",
          "Uruguay",
          "Uruguay",
          "Uruguay",
          "Uruguay",
          "Uruguay",
          "Uruguay",
          "Uruguay",
          "Uruguay",
          "Uruguay",
          "Uruguay",
          "Uruguay",
          "Uruguay",
          "Uruguay",
          "Uruguay",
          "Uruguay",
          "Uruguay",
          "Uruguay",
          "Uruguay",
          "Uruguay",
          "Uruguay",
          "Uruguay",
          "Uruguay",
          "Uruguay",
          "Uruguay",
          "Uruguay",
          "Uruguay",
          "Uruguay",
          "Uruguay",
          "Uruguay",
          "Uruguay",
          "Uruguay",
          "Uruguay",
          "Uruguay",
          "Uruguay",
          "Uruguay",
          "Uruguay",
          "Uruguay",
          "Uruguay",
          "Uruguay",
          "Uruguay",
          "Uruguay",
          "Uruguay",
          "Uruguay",
          "Uruguay",
          "Uruguay",
          "Uruguay",
          "Uruguay",
          "Uruguay",
          "Uruguay",
          "Uruguay",
          "Uruguay",
          "Uruguay",
          "Uruguay",
          "Uruguay",
          "Uruguay",
          "Uruguay",
          "Uruguay",
          "Uruguay",
          "Uruguay",
          "Venezuela (Bolivarian Republic of)",
          "Venezuela (Bolivarian Republic of)",
          "Venezuela (Bolivarian Republic of)",
          "Venezuela (Bolivarian Republic of)",
          "Venezuela (Bolivarian Republic of)",
          "Venezuela (Bolivarian Republic of)",
          "Venezuela (Bolivarian Republic of)",
          "Venezuela (Bolivarian Republic of)",
          "Venezuela (Bolivarian Republic of)",
          "Venezuela (Bolivarian Republic of)",
          "Venezuela (Bolivarian Republic of)",
          "Venezuela (Bolivarian Republic of)",
          "Venezuela (Bolivarian Republic of)",
          "Venezuela (Bolivarian Republic of)",
          "Venezuela (Bolivarian Republic of)",
          "Venezuela (Bolivarian Republic of)",
          "Venezuela (Bolivarian Republic of)",
          "Venezuela (Bolivarian Republic of)",
          "Venezuela (Bolivarian Republic of)",
          "Venezuela (Bolivarian Republic of)",
          "Venezuela (Bolivarian Republic of)",
          "Venezuela (Bolivarian Republic of)",
          "Venezuela (Bolivarian Republic of)",
          "Venezuela (Bolivarian Republic of)",
          "Venezuela (Bolivarian Republic of)",
          "Venezuela (Bolivarian Republic of)",
          "Venezuela (Bolivarian Republic of)",
          "Venezuela (Bolivarian Republic of)",
          "Venezuela (Bolivarian Republic of)",
          "Venezuela (Bolivarian Republic of)",
          "Venezuela (Bolivarian Republic of)",
          "Venezuela (Bolivarian Republic of)",
          "Venezuela (Bolivarian Republic of)",
          "Venezuela (Bolivarian Republic of)",
          "Venezuela (Bolivarian Republic of)",
          "Venezuela (Bolivarian Republic of)",
          "Venezuela (Bolivarian Republic of)",
          "Venezuela (Bolivarian Republic of)",
          "Venezuela (Bolivarian Republic of)",
          "Venezuela (Bolivarian Republic of)",
          "Venezuela (Bolivarian Republic of)",
          "Venezuela (Bolivarian Republic of)",
          "Venezuela (Bolivarian Republic of)",
          "Venezuela (Bolivarian Republic of)",
          "Venezuela (Bolivarian Republic of)",
          "Venezuela (Bolivarian Republic of)",
          "Venezuela (Bolivarian Republic of)",
          "Venezuela (Bolivarian Republic of)",
          "Venezuela (Bolivarian Republic of)",
          "Venezuela (Bolivarian Republic of)",
          "Venezuela (Bolivarian Republic of)",
          "Venezuela (Bolivarian Republic of)",
          "Venezuela (Bolivarian Republic of)",
          "Venezuela (Bolivarian Republic of)",
          "Venezuela (Bolivarian Republic of)",
          "Venezuela (Bolivarian Republic of)",
          "Venezuela (Bolivarian Republic of)",
          "Venezuela (Bolivarian Republic of)",
          "Venezuela (Bolivarian Republic of)",
          "Venezuela (Bolivarian Republic of)",
          "Venezuela (Bolivarian Republic of)",
          "Venezuela (Bolivarian Republic of)",
          "Venezuela (Bolivarian Republic of)",
          "Venezuela (Bolivarian Republic of)",
          "Venezuela (Bolivarian Republic of)",
          "Venezuela (Bolivarian Republic of)",
          "Venezuela (Bolivarian Republic of)",
          "Venezuela (Bolivarian Republic of)",
          "Venezuela (Bolivarian Republic of)",
          "Venezuela (Bolivarian Republic of)",
          "Venezuela (Bolivarian Republic of)",
          "Venezuela (Bolivarian Republic of)",
          "Venezuela (Bolivarian Republic of)",
          "Venezuela (Bolivarian Republic of)",
          "Venezuela (Bolivarian Republic of)",
          "Venezuela (Bolivarian Republic of)",
          "Venezuela (Bolivarian Republic of)",
          "Venezuela (Bolivarian Republic of)",
          "Venezuela (Bolivarian Republic of)",
          "Venezuela (Bolivarian Republic of)",
          "Venezuela (Bolivarian Republic of)",
          "Venezuela (Bolivarian Republic of)",
          "Venezuela (Bolivarian Republic of)",
          "Venezuela (Bolivarian Republic of)",
          "Venezuela (Bolivarian Republic of)",
          "Venezuela (Bolivarian Republic of)",
          "Venezuela (Bolivarian Republic of)",
          "Venezuela (Bolivarian Republic of)",
          "Venezuela (Bolivarian Republic of)",
          "Venezuela (Bolivarian Republic of)",
          "Venezuela (Bolivarian Republic of)",
          "Venezuela (Bolivarian Republic of)",
          "Venezuela (Bolivarian Republic of)",
          "Venezuela (Bolivarian Republic of)",
          "Venezuela (Bolivarian Republic of)",
          "Venezuela (Bolivarian Republic of)",
          "Venezuela (Bolivarian Republic of)",
          "Venezuela (Bolivarian Republic of)",
          "Venezuela (Bolivarian Republic of)",
          "Venezuela (Bolivarian Republic of)",
          "Venezuela (Bolivarian Republic of)",
          "Venezuela (Bolivarian Republic of)",
          "Venezuela (Bolivarian Republic of)",
          "Venezuela (Bolivarian Republic of)",
          "Venezuela (Bolivarian Republic of)",
          "Venezuela (Bolivarian Republic of)",
          "Venezuela (Bolivarian Republic of)",
          "Venezuela (Bolivarian Republic of)",
          "Venezuela (Bolivarian Republic of)",
          "Venezuela (Bolivarian Republic of)",
          "Venezuela (Bolivarian Republic of)",
          "Venezuela (Bolivarian Republic of)",
          "Venezuela (Bolivarian Republic of)",
          "Venezuela (Bolivarian Republic of)",
          "Venezuela (Bolivarian Republic of)",
          "Venezuela (Bolivarian Republic of)",
          "Venezuela (Bolivarian Republic of)",
          "Venezuela (Bolivarian Republic of)",
          "Venezuela (Bolivarian Republic of)",
          "Venezuela (Bolivarian Republic of)",
          "Venezuela (Bolivarian Republic of)",
          "Venezuela (Bolivarian Republic of)",
          "Venezuela (Bolivarian Republic of)",
          "Venezuela (Bolivarian Republic of)",
          "Venezuela (Bolivarian Republic of)",
          "Venezuela (Bolivarian Republic of)",
          "Venezuela (Bolivarian Republic of)",
          "Venezuela (Bolivarian Republic of)",
          "Venezuela (Bolivarian Republic of)",
          "Venezuela (Bolivarian Republic of)",
          "Venezuela (Bolivarian Republic of)",
          "Venezuela (Bolivarian Republic of)",
          "Venezuela (Bolivarian Republic of)",
          "Venezuela (Bolivarian Republic of)",
          "Venezuela (Bolivarian Republic of)",
          "Venezuela (Bolivarian Republic of)",
          "Venezuela (Bolivarian Republic of)",
          "Venezuela (Bolivarian Republic of)",
          "Venezuela (Bolivarian Republic of)",
          "Venezuela (Bolivarian Republic of)",
          "Venezuela (Bolivarian Republic of)",
          "Venezuela (Bolivarian Republic of)",
          "Venezuela (Bolivarian Republic of)",
          "Venezuela (Bolivarian Republic of)",
          "Venezuela (Bolivarian Republic of)",
          "Venezuela (Bolivarian Republic of)",
          "Venezuela (Bolivarian Republic of)",
          "Venezuela (Bolivarian Republic of)",
          "Venezuela (Bolivarian Republic of)",
          "Venezuela (Bolivarian Republic of)",
          "Venezuela (Bolivarian Republic of)",
          "Venezuela (Bolivarian Republic of)",
          "Venezuela (Bolivarian Republic of)",
          "Venezuela (Bolivarian Republic of)",
          "Venezuela (Bolivarian Republic of)",
          "Venezuela (Bolivarian Republic of)",
          "Venezuela (Bolivarian Republic of)",
          "Venezuela (Bolivarian Republic of)",
          "Venezuela (Bolivarian Republic of)",
          "Venezuela (Bolivarian Republic of)",
          "Venezuela (Bolivarian Republic of)",
          "Venezuela (Bolivarian Republic of)",
          "Venezuela (Bolivarian Republic of)",
          "Venezuela (Bolivarian Republic of)",
          "Venezuela (Bolivarian Republic of)",
          "Venezuela (Bolivarian Republic of)",
          "Venezuela (Bolivarian Republic of)",
          "Venezuela (Bolivarian Republic of)",
          "Venezuela (Bolivarian Republic of)",
          "Venezuela (Bolivarian Republic of)",
          "Venezuela (Bolivarian Republic of)",
          "Venezuela (Bolivarian Republic of)",
          "Venezuela (Bolivarian Republic of)",
          "Venezuela (Bolivarian Republic of)",
          "Venezuela (Bolivarian Republic of)",
          "Venezuela (Bolivarian Republic of)",
          "Venezuela (Bolivarian Republic of)",
          "Venezuela (Bolivarian Republic of)",
          "Venezuela (Bolivarian Republic of)",
          "Venezuela (Bolivarian Republic of)",
          "Venezuela (Bolivarian Republic of)",
          "Venezuela (Bolivarian Republic of)",
          "Venezuela (Bolivarian Republic of)",
          "Venezuela (Bolivarian Republic of)",
          "Venezuela (Bolivarian Republic of)",
          "Venezuela (Bolivarian Republic of)",
          "Venezuela (Bolivarian Republic of)",
          "Venezuela (Bolivarian Republic of)",
          "Venezuela (Bolivarian Republic of)",
          "Venezuela (Bolivarian Republic of)",
          "Venezuela (Bolivarian Republic of)",
          "Venezuela (Bolivarian Republic of)",
          "Venezuela (Bolivarian Republic of)",
          "Venezuela (Bolivarian Republic of)",
          "Venezuela (Bolivarian Republic of)",
          "Venezuela (Bolivarian Republic of)",
          "Venezuela (Bolivarian Republic of)",
          "Venezuela (Bolivarian Republic of)",
          "Venezuela (Bolivarian Republic of)",
          "Venezuela (Bolivarian Republic of)",
          "Venezuela (Bolivarian Republic of)",
          "Venezuela (Bolivarian Republic of)",
          "Venezuela (Bolivarian Republic of)",
          "Venezuela (Bolivarian Republic of)",
          "Venezuela (Bolivarian Republic of)",
          "Venezuela (Bolivarian Republic of)",
          "Venezuela (Bolivarian Republic of)",
          "Venezuela (Bolivarian Republic of)",
          "Venezuela (Bolivarian Republic of)",
          "Venezuela (Bolivarian Republic of)",
          "Venezuela (Bolivarian Republic of)",
          "Venezuela (Bolivarian Republic of)"
         ],
         "xaxis": "x",
         "yaxis": "y"
        }
       ],
       "layout": {
        "barmode": "relative",
        "legend": {
         "tracegroupgap": 0
        },
        "margin": {
         "t": 60
        },
        "template": {
         "data": {
          "bar": [
           {
            "error_x": {
             "color": "#2a3f5f"
            },
            "error_y": {
             "color": "#2a3f5f"
            },
            "marker": {
             "line": {
              "color": "#E5ECF6",
              "width": 0.5
             },
             "pattern": {
              "fillmode": "overlay",
              "size": 10,
              "solidity": 0.2
             }
            },
            "type": "bar"
           }
          ],
          "barpolar": [
           {
            "marker": {
             "line": {
              "color": "#E5ECF6",
              "width": 0.5
             },
             "pattern": {
              "fillmode": "overlay",
              "size": 10,
              "solidity": 0.2
             }
            },
            "type": "barpolar"
           }
          ],
          "carpet": [
           {
            "aaxis": {
             "endlinecolor": "#2a3f5f",
             "gridcolor": "white",
             "linecolor": "white",
             "minorgridcolor": "white",
             "startlinecolor": "#2a3f5f"
            },
            "baxis": {
             "endlinecolor": "#2a3f5f",
             "gridcolor": "white",
             "linecolor": "white",
             "minorgridcolor": "white",
             "startlinecolor": "#2a3f5f"
            },
            "type": "carpet"
           }
          ],
          "choropleth": [
           {
            "colorbar": {
             "outlinewidth": 0,
             "ticks": ""
            },
            "type": "choropleth"
           }
          ],
          "contour": [
           {
            "colorbar": {
             "outlinewidth": 0,
             "ticks": ""
            },
            "colorscale": [
             [
              0,
              "#0d0887"
             ],
             [
              0.1111111111111111,
              "#46039f"
             ],
             [
              0.2222222222222222,
              "#7201a8"
             ],
             [
              0.3333333333333333,
              "#9c179e"
             ],
             [
              0.4444444444444444,
              "#bd3786"
             ],
             [
              0.5555555555555556,
              "#d8576b"
             ],
             [
              0.6666666666666666,
              "#ed7953"
             ],
             [
              0.7777777777777778,
              "#fb9f3a"
             ],
             [
              0.8888888888888888,
              "#fdca26"
             ],
             [
              1,
              "#f0f921"
             ]
            ],
            "type": "contour"
           }
          ],
          "contourcarpet": [
           {
            "colorbar": {
             "outlinewidth": 0,
             "ticks": ""
            },
            "type": "contourcarpet"
           }
          ],
          "heatmap": [
           {
            "colorbar": {
             "outlinewidth": 0,
             "ticks": ""
            },
            "colorscale": [
             [
              0,
              "#0d0887"
             ],
             [
              0.1111111111111111,
              "#46039f"
             ],
             [
              0.2222222222222222,
              "#7201a8"
             ],
             [
              0.3333333333333333,
              "#9c179e"
             ],
             [
              0.4444444444444444,
              "#bd3786"
             ],
             [
              0.5555555555555556,
              "#d8576b"
             ],
             [
              0.6666666666666666,
              "#ed7953"
             ],
             [
              0.7777777777777778,
              "#fb9f3a"
             ],
             [
              0.8888888888888888,
              "#fdca26"
             ],
             [
              1,
              "#f0f921"
             ]
            ],
            "type": "heatmap"
           }
          ],
          "histogram": [
           {
            "marker": {
             "pattern": {
              "fillmode": "overlay",
              "size": 10,
              "solidity": 0.2
             }
            },
            "type": "histogram"
           }
          ],
          "histogram2d": [
           {
            "colorbar": {
             "outlinewidth": 0,
             "ticks": ""
            },
            "colorscale": [
             [
              0,
              "#0d0887"
             ],
             [
              0.1111111111111111,
              "#46039f"
             ],
             [
              0.2222222222222222,
              "#7201a8"
             ],
             [
              0.3333333333333333,
              "#9c179e"
             ],
             [
              0.4444444444444444,
              "#bd3786"
             ],
             [
              0.5555555555555556,
              "#d8576b"
             ],
             [
              0.6666666666666666,
              "#ed7953"
             ],
             [
              0.7777777777777778,
              "#fb9f3a"
             ],
             [
              0.8888888888888888,
              "#fdca26"
             ],
             [
              1,
              "#f0f921"
             ]
            ],
            "type": "histogram2d"
           }
          ],
          "histogram2dcontour": [
           {
            "colorbar": {
             "outlinewidth": 0,
             "ticks": ""
            },
            "colorscale": [
             [
              0,
              "#0d0887"
             ],
             [
              0.1111111111111111,
              "#46039f"
             ],
             [
              0.2222222222222222,
              "#7201a8"
             ],
             [
              0.3333333333333333,
              "#9c179e"
             ],
             [
              0.4444444444444444,
              "#bd3786"
             ],
             [
              0.5555555555555556,
              "#d8576b"
             ],
             [
              0.6666666666666666,
              "#ed7953"
             ],
             [
              0.7777777777777778,
              "#fb9f3a"
             ],
             [
              0.8888888888888888,
              "#fdca26"
             ],
             [
              1,
              "#f0f921"
             ]
            ],
            "type": "histogram2dcontour"
           }
          ],
          "mesh3d": [
           {
            "colorbar": {
             "outlinewidth": 0,
             "ticks": ""
            },
            "type": "mesh3d"
           }
          ],
          "parcoords": [
           {
            "line": {
             "colorbar": {
              "outlinewidth": 0,
              "ticks": ""
             }
            },
            "type": "parcoords"
           }
          ],
          "pie": [
           {
            "automargin": true,
            "type": "pie"
           }
          ],
          "scatter": [
           {
            "fillpattern": {
             "fillmode": "overlay",
             "size": 10,
             "solidity": 0.2
            },
            "type": "scatter"
           }
          ],
          "scatter3d": [
           {
            "line": {
             "colorbar": {
              "outlinewidth": 0,
              "ticks": ""
             }
            },
            "marker": {
             "colorbar": {
              "outlinewidth": 0,
              "ticks": ""
             }
            },
            "type": "scatter3d"
           }
          ],
          "scattercarpet": [
           {
            "marker": {
             "colorbar": {
              "outlinewidth": 0,
              "ticks": ""
             }
            },
            "type": "scattercarpet"
           }
          ],
          "scattergeo": [
           {
            "marker": {
             "colorbar": {
              "outlinewidth": 0,
              "ticks": ""
             }
            },
            "type": "scattergeo"
           }
          ],
          "scattergl": [
           {
            "marker": {
             "colorbar": {
              "outlinewidth": 0,
              "ticks": ""
             }
            },
            "type": "scattergl"
           }
          ],
          "scattermap": [
           {
            "marker": {
             "colorbar": {
              "outlinewidth": 0,
              "ticks": ""
             }
            },
            "type": "scattermap"
           }
          ],
          "scattermapbox": [
           {
            "marker": {
             "colorbar": {
              "outlinewidth": 0,
              "ticks": ""
             }
            },
            "type": "scattermapbox"
           }
          ],
          "scatterpolar": [
           {
            "marker": {
             "colorbar": {
              "outlinewidth": 0,
              "ticks": ""
             }
            },
            "type": "scatterpolar"
           }
          ],
          "scatterpolargl": [
           {
            "marker": {
             "colorbar": {
              "outlinewidth": 0,
              "ticks": ""
             }
            },
            "type": "scatterpolargl"
           }
          ],
          "scatterternary": [
           {
            "marker": {
             "colorbar": {
              "outlinewidth": 0,
              "ticks": ""
             }
            },
            "type": "scatterternary"
           }
          ],
          "surface": [
           {
            "colorbar": {
             "outlinewidth": 0,
             "ticks": ""
            },
            "colorscale": [
             [
              0,
              "#0d0887"
             ],
             [
              0.1111111111111111,
              "#46039f"
             ],
             [
              0.2222222222222222,
              "#7201a8"
             ],
             [
              0.3333333333333333,
              "#9c179e"
             ],
             [
              0.4444444444444444,
              "#bd3786"
             ],
             [
              0.5555555555555556,
              "#d8576b"
             ],
             [
              0.6666666666666666,
              "#ed7953"
             ],
             [
              0.7777777777777778,
              "#fb9f3a"
             ],
             [
              0.8888888888888888,
              "#fdca26"
             ],
             [
              1,
              "#f0f921"
             ]
            ],
            "type": "surface"
           }
          ],
          "table": [
           {
            "cells": {
             "fill": {
              "color": "#EBF0F8"
             },
             "line": {
              "color": "white"
             }
            },
            "header": {
             "fill": {
              "color": "#C8D4E3"
             },
             "line": {
              "color": "white"
             }
            },
            "type": "table"
           }
          ]
         },
         "layout": {
          "annotationdefaults": {
           "arrowcolor": "#2a3f5f",
           "arrowhead": 0,
           "arrowwidth": 1
          },
          "autotypenumbers": "strict",
          "coloraxis": {
           "colorbar": {
            "outlinewidth": 0,
            "ticks": ""
           }
          },
          "colorscale": {
           "diverging": [
            [
             0,
             "#8e0152"
            ],
            [
             0.1,
             "#c51b7d"
            ],
            [
             0.2,
             "#de77ae"
            ],
            [
             0.3,
             "#f1b6da"
            ],
            [
             0.4,
             "#fde0ef"
            ],
            [
             0.5,
             "#f7f7f7"
            ],
            [
             0.6,
             "#e6f5d0"
            ],
            [
             0.7,
             "#b8e186"
            ],
            [
             0.8,
             "#7fbc41"
            ],
            [
             0.9,
             "#4d9221"
            ],
            [
             1,
             "#276419"
            ]
           ],
           "sequential": [
            [
             0,
             "#0d0887"
            ],
            [
             0.1111111111111111,
             "#46039f"
            ],
            [
             0.2222222222222222,
             "#7201a8"
            ],
            [
             0.3333333333333333,
             "#9c179e"
            ],
            [
             0.4444444444444444,
             "#bd3786"
            ],
            [
             0.5555555555555556,
             "#d8576b"
            ],
            [
             0.6666666666666666,
             "#ed7953"
            ],
            [
             0.7777777777777778,
             "#fb9f3a"
            ],
            [
             0.8888888888888888,
             "#fdca26"
            ],
            [
             1,
             "#f0f921"
            ]
           ],
           "sequentialminus": [
            [
             0,
             "#0d0887"
            ],
            [
             0.1111111111111111,
             "#46039f"
            ],
            [
             0.2222222222222222,
             "#7201a8"
            ],
            [
             0.3333333333333333,
             "#9c179e"
            ],
            [
             0.4444444444444444,
             "#bd3786"
            ],
            [
             0.5555555555555556,
             "#d8576b"
            ],
            [
             0.6666666666666666,
             "#ed7953"
            ],
            [
             0.7777777777777778,
             "#fb9f3a"
            ],
            [
             0.8888888888888888,
             "#fdca26"
            ],
            [
             1,
             "#f0f921"
            ]
           ]
          },
          "colorway": [
           "#636efa",
           "#EF553B",
           "#00cc96",
           "#ab63fa",
           "#FFA15A",
           "#19d3f3",
           "#FF6692",
           "#B6E880",
           "#FF97FF",
           "#FECB52"
          ],
          "font": {
           "color": "#2a3f5f"
          },
          "geo": {
           "bgcolor": "white",
           "lakecolor": "white",
           "landcolor": "#E5ECF6",
           "showlakes": true,
           "showland": true,
           "subunitcolor": "white"
          },
          "hoverlabel": {
           "align": "left"
          },
          "hovermode": "closest",
          "mapbox": {
           "style": "light"
          },
          "paper_bgcolor": "white",
          "plot_bgcolor": "#E5ECF6",
          "polar": {
           "angularaxis": {
            "gridcolor": "white",
            "linecolor": "white",
            "ticks": ""
           },
           "bgcolor": "#E5ECF6",
           "radialaxis": {
            "gridcolor": "white",
            "linecolor": "white",
            "ticks": ""
           }
          },
          "scene": {
           "xaxis": {
            "backgroundcolor": "#E5ECF6",
            "gridcolor": "white",
            "gridwidth": 2,
            "linecolor": "white",
            "showbackground": true,
            "ticks": "",
            "zerolinecolor": "white"
           },
           "yaxis": {
            "backgroundcolor": "#E5ECF6",
            "gridcolor": "white",
            "gridwidth": 2,
            "linecolor": "white",
            "showbackground": true,
            "ticks": "",
            "zerolinecolor": "white"
           },
           "zaxis": {
            "backgroundcolor": "#E5ECF6",
            "gridcolor": "white",
            "gridwidth": 2,
            "linecolor": "white",
            "showbackground": true,
            "ticks": "",
            "zerolinecolor": "white"
           }
          },
          "shapedefaults": {
           "line": {
            "color": "#2a3f5f"
           }
          },
          "ternary": {
           "aaxis": {
            "gridcolor": "white",
            "linecolor": "white",
            "ticks": ""
           },
           "baxis": {
            "gridcolor": "white",
            "linecolor": "white",
            "ticks": ""
           },
           "bgcolor": "#E5ECF6",
           "caxis": {
            "gridcolor": "white",
            "linecolor": "white",
            "ticks": ""
           }
          },
          "title": {
           "x": 0.05
          },
          "xaxis": {
           "automargin": true,
           "gridcolor": "white",
           "linecolor": "white",
           "ticks": "",
           "title": {
            "standoff": 15
           },
           "zerolinecolor": "white",
           "zerolinewidth": 2
          },
          "yaxis": {
           "automargin": true,
           "gridcolor": "white",
           "linecolor": "white",
           "ticks": "",
           "title": {
            "standoff": 15
           },
           "zerolinecolor": "white",
           "zerolinewidth": 2
          }
         }
        },
        "xaxis": {
         "anchor": "y",
         "domain": [
          0,
          1
         ],
         "title": {
          "text": "Area"
         }
        },
        "yaxis": {
         "anchor": "x",
         "domain": [
          0,
          1
         ],
         "title": {
          "text": "count"
         }
        }
       }
      }
     },
     "metadata": {},
     "output_type": "display_data"
    }
   ],
   "source": [
    "#Carga del dataset\n",
    "crop_data = pd.read_csv(\"C:/Users/k_lei/Documents/america_crop_production/america_crop_production/Production_Crops_E_Americas.csv\", encoding='latin-1') \n",
    "\n",
    "#Histograma\n",
    "fig = px.histogram(crop_data, x=\"Area\") # crear un histograma\n",
    "fig.show() # crear gráfico de dispersión"
   ]
  },
  {
   "cell_type": "code",
   "execution_count": 25,
   "id": "336e8ecb",
   "metadata": {},
   "outputs": [
    {
     "data": {
      "application/vnd.plotly.v1+json": {
       "config": {
        "plotlyServerURL": "https://plot.ly"
       },
       "data": [
        {
         "bingroup": "x",
         "hovertemplate": "Item=%{x}<br>count=%{y}<extra></extra>",
         "legendgroup": "",
         "marker": {
          "color": "#636efa",
          "pattern": {
           "shape": ""
          }
         },
         "name": "",
         "orientation": "v",
         "showlegend": false,
         "type": "histogram",
         "x": [
          "Bananas",
          "Bananas",
          "Bananas",
          "Beans, green",
          "Beans, green",
          "Beans, green",
          "Cabbages and other brassicas",
          "Cabbages and other brassicas",
          "Cabbages and other brassicas",
          "Carrots and turnips",
          "Carrots and turnips",
          "Carrots and turnips",
          "Cassava",
          "Cassava",
          "Cassava",
          "Chillies and peppers, green",
          "Chillies and peppers, green",
          "Chillies and peppers, green",
          "Cucumbers and gherkins",
          "Cucumbers and gherkins",
          "Cucumbers and gherkins",
          "Eggplants (aubergines)",
          "Eggplants (aubergines)",
          "Eggplants (aubergines)",
          "Fruit, tropical fresh nes",
          "Fruit, tropical fresh nes",
          "Fruit, tropical fresh nes",
          "Lemons and limes",
          "Lemons and limes",
          "Lemons and limes",
          "Maize",
          "Maize",
          "Maize",
          "Mangoes, mangosteens, guavas",
          "Mangoes, mangosteens, guavas",
          "Mangoes, mangosteens, guavas",
          "Melons, other (inc.cantaloupes)",
          "Melons, other (inc.cantaloupes)",
          "Melons, other (inc.cantaloupes)",
          "Onions, dry",
          "Onions, dry",
          "Onions, dry",
          "Pineapples",
          "Pineapples",
          "Pineapples",
          "Pumpkins, squash and gourds",
          "Pumpkins, squash and gourds",
          "Pumpkins, squash and gourds",
          "Seed cotton",
          "Seed cotton",
          "Seed cotton",
          "Sugar cane",
          "Sugar cane",
          "Sugar cane",
          "Sweet potatoes",
          "Sweet potatoes",
          "Sweet potatoes",
          "Taro (cocoyam)",
          "Taro (cocoyam)",
          "Taro (cocoyam)",
          "Tomatoes",
          "Tomatoes",
          "Tomatoes",
          "Vegetables, fresh nes",
          "Vegetables, fresh nes",
          "Vegetables, fresh nes",
          "Yams",
          "Yams",
          "Yams",
          "Cereals, Total",
          "Cereals, Total",
          "Cereals, Total",
          "Citrus Fruit, Total",
          "Citrus Fruit, Total",
          "Citrus Fruit, Total",
          "Fibre Crops Primary",
          "Fibre Crops Primary",
          "Fibre Crops Primary",
          "Fruit Primary",
          "Fruit Primary",
          "Fruit Primary",
          "Oilcrops",
          "Oilcrops",
          "Oilcrops",
          "Oilcrops, Cake Equivalent",
          "Oilcrops, Cake Equivalent",
          "Oilcrops, Cake Equivalent",
          "Oilcrops, Oil Equivalent",
          "Oilcrops, Oil Equivalent",
          "Oilcrops, Oil Equivalent",
          "Roots and Tubers, Total",
          "Roots and Tubers, Total",
          "Roots and Tubers, Total",
          "Sugar Crops Primary",
          "Sugar Crops Primary",
          "Sugar Crops Primary",
          "Vegetables Primary",
          "Vegetables Primary",
          "Vegetables Primary",
          "Almonds, with shell",
          "Almonds, with shell",
          "Almonds, with shell",
          "Anise, badian, fennel, coriander",
          "Anise, badian, fennel, coriander",
          "Anise, badian, fennel, coriander",
          "Apples",
          "Apples",
          "Apples",
          "Apricots",
          "Apricots",
          "Apricots",
          "Artichokes",
          "Artichokes",
          "Artichokes",
          "Asparagus",
          "Asparagus",
          "Asparagus",
          "Avocados",
          "Avocados",
          "Avocados",
          "Bananas",
          "Bananas",
          "Bananas",
          "Barley",
          "Barley",
          "Barley",
          "Beans, dry",
          "Beans, dry",
          "Beans, dry",
          "Beans, green",
          "Beans, green",
          "Beans, green",
          "Broad beans, horse beans, dry",
          "Broad beans, horse beans, dry",
          "Broad beans, horse beans, dry",
          "Canary seed",
          "Canary seed",
          "Canary seed",
          "Carrots and turnips",
          "Carrots and turnips",
          "Carrots and turnips",
          "Cassava",
          "Cassava",
          "Cassava",
          "Castor oil seed",
          "Castor oil seed",
          "Castor oil seed",
          "Cereals nes",
          "Cereals nes",
          "Cereals nes",
          "Cherries",
          "Cherries",
          "Cherries",
          "Chick peas",
          "Chick peas",
          "Chick peas",
          "Chillies and peppers, dry",
          "Chillies and peppers, dry",
          "Chillies and peppers, dry",
          "Chillies and peppers, green",
          "Chillies and peppers, green",
          "Chillies and peppers, green",
          "Fibre crops nes",
          "Fibre crops nes",
          "Fibre crops nes",
          "Figs",
          "Figs",
          "Figs",
          "Flax fibre and tow",
          "Flax fibre and tow",
          "Flax fibre and tow",
          "Garlic",
          "Garlic",
          "Garlic",
          "Grapefruit (inc. pomelos)",
          "Grapefruit (inc. pomelos)",
          "Grapefruit (inc. pomelos)",
          "Grapes",
          "Grapes",
          "Grapes",
          "Groundnuts, with shell",
          "Groundnuts, with shell",
          "Groundnuts, with shell",
          "Hops",
          "Hops",
          "Hops",
          "Lemons and limes",
          "Lemons and limes",
          "Lemons and limes",
          "Lentils",
          "Lentils",
          "Lentils",
          "Linseed",
          "Linseed",
          "Linseed",
          "Lupins",
          "Lupins",
          "Lupins",
          "Maize",
          "Maize",
          "Maize",
          "Mangoes, mangosteens, guavas",
          "Mangoes, mangosteens, guavas",
          "Mangoes, mangosteens, guavas",
          "Maté",
          "Maté",
          "Maté",
          "Melons, other (inc.cantaloupes)",
          "Melons, other (inc.cantaloupes)",
          "Melons, other (inc.cantaloupes)",
          "Millet",
          "Millet",
          "Millet",
          "Oats",
          "Oats",
          "Oats",
          "Oilseeds nes",
          "Olives",
          "Olives",
          "Olives",
          "Onions, dry",
          "Onions, dry",
          "Onions, dry",
          "Oranges",
          "Oranges",
          "Oranges",
          "Papayas",
          "Papayas",
          "Papayas",
          "Peaches and nectarines",
          "Peaches and nectarines",
          "Peaches and nectarines",
          "Pears",
          "Pears",
          "Pears",
          "Peas, dry",
          "Peas, dry",
          "Peas, dry",
          "Peas, green",
          "Peas, green",
          "Peas, green",
          "Peppermint",
          "Pineapples",
          "Pineapples",
          "Pineapples",
          "Plums and sloes",
          "Plums and sloes",
          "Plums and sloes",
          "Potatoes",
          "Potatoes",
          "Potatoes",
          "Pumpkins, squash and gourds",
          "Pumpkins, squash and gourds",
          "Pumpkins, squash and gourds",
          "Quinces",
          "Quinces",
          "Quinces",
          "Rapeseed",
          "Rapeseed",
          "Rapeseed",
          "Rice, paddy",
          "Rice, paddy",
          "Rice, paddy",
          "Rice, paddy (rice milled equivalent)",
          "Rye",
          "Rye",
          "Rye",
          "Safflower seed",
          "Safflower seed",
          "Safflower seed",
          "Seed cotton",
          "Seed cotton",
          "Seed cotton",
          "Sorghum",
          "Sorghum",
          "Sorghum",
          "Soybeans",
          "Soybeans",
          "Soybeans",
          "Spices nes",
          "Spices nes",
          "Spices nes",
          "Strawberries",
          "Strawberries",
          "Strawberries",
          "String beans",
          "String beans",
          "String beans",
          "Sugar cane",
          "Sugar cane",
          "Sugar cane",
          "Sunflower seed",
          "Sunflower seed",
          "Sunflower seed",
          "Sweet potatoes",
          "Sweet potatoes",
          "Sweet potatoes",
          "Tangerines, mandarins, clementines, satsumas",
          "Tangerines, mandarins, clementines, satsumas",
          "Tangerines, mandarins, clementines, satsumas",
          "Tea",
          "Tea",
          "Tea",
          "Tobacco, unmanufactured",
          "Tobacco, unmanufactured",
          "Tobacco, unmanufactured",
          "Tomatoes",
          "Tomatoes",
          "Tomatoes",
          "Tung nuts",
          "Tung nuts",
          "Tung nuts",
          "Vegetables, fresh nes",
          "Vegetables, fresh nes",
          "Vegetables, fresh nes",
          "Walnuts, with shell",
          "Walnuts, with shell",
          "Walnuts, with shell",
          "Watermelons",
          "Watermelons",
          "Watermelons",
          "Wheat",
          "Wheat",
          "Wheat",
          "Cereals, Total",
          "Cereals, Total",
          "Cereals, Total",
          "Citrus Fruit, Total",
          "Citrus Fruit, Total",
          "Citrus Fruit, Total",
          "Fibre Crops Primary",
          "Fibre Crops Primary",
          "Fibre Crops Primary",
          "Fruit Primary",
          "Fruit Primary",
          "Fruit Primary",
          "Oilcrops",
          "Oilcrops",
          "Oilcrops",
          "Oilcrops, Cake Equivalent",
          "Oilcrops, Cake Equivalent",
          "Oilcrops, Cake Equivalent",
          "Oilcrops, Oil Equivalent",
          "Oilcrops, Oil Equivalent",
          "Oilcrops, Oil Equivalent",
          "Pulses, Total",
          "Pulses, Total",
          "Pulses, Total",
          "Roots and Tubers, Total",
          "Roots and Tubers, Total",
          "Roots and Tubers, Total",
          "Sugar Crops Primary",
          "Sugar Crops Primary",
          "Sugar Crops Primary",
          "Treenuts, Total",
          "Treenuts, Total",
          "Treenuts, Total",
          "Vegetables Primary",
          "Vegetables Primary",
          "Vegetables Primary",
          "Avocados",
          "Avocados",
          "Avocados",
          "Bananas",
          "Bananas",
          "Bananas",
          "Cabbages and other brassicas",
          "Cabbages and other brassicas",
          "Cabbages and other brassicas",
          "Cassava",
          "Cassava",
          "Cassava",
          "Coconuts",
          "Coconuts",
          "Coconuts",
          "Fruit, tropical fresh nes",
          "Fruit, tropical fresh nes",
          "Fruit, tropical fresh nes",
          "Grapefruit (inc. pomelos)",
          "Grapefruit (inc. pomelos)",
          "Grapefruit (inc. pomelos)",
          "Lemons and limes",
          "Lemons and limes",
          "Lemons and limes",
          "Lettuce and chicory",
          "Lettuce and chicory",
          "Lettuce and chicory",
          "Maize",
          "Maize",
          "Maize",
          "Mangoes, mangosteens, guavas",
          "Mangoes, mangosteens, guavas",
          "Mangoes, mangosteens, guavas",
          "Millet",
          "Millet",
          "Okra",
          "Okra",
          "Okra",
          "Onions, dry",
          "Onions, dry",
          "Onions, dry",
          "Onions, shallots, green",
          "Onions, shallots, green",
          "Onions, shallots, green",
          "Oranges",
          "Oranges",
          "Oranges",
          "Papayas",
          "Papayas",
          "Papayas",
          "Pigeon peas",
          "Pigeon peas",
          "Pigeon peas",
          "Plantains and others",
          "Plantains and others",
          "Plantains and others",
          "Potatoes",
          "Potatoes",
          "Pumpkins, squash and gourds",
          "Pumpkins, squash and gourds",
          "Pumpkins, squash and gourds",
          "Sugar cane",
          "Sugar cane",
          "Sugar cane",
          "Sweet potatoes",
          "Sweet potatoes",
          "Sweet potatoes",
          "Tangerines, mandarins, clementines, satsumas",
          "Tangerines, mandarins, clementines, satsumas",
          "Tangerines, mandarins, clementines, satsumas",
          "Taro (cocoyam)",
          "Taro (cocoyam)",
          "Tomatoes",
          "Tomatoes",
          "Tomatoes",
          "Vegetables, fresh nes",
          "Vegetables, fresh nes",
          "Vegetables, fresh nes",
          "Cereals, Total",
          "Cereals, Total",
          "Cereals, Total",
          "Citrus Fruit, Total",
          "Citrus Fruit, Total",
          "Citrus Fruit, Total",
          "Fruit Primary",
          "Fruit Primary",
          "Fruit Primary",
          "Oilcrops",
          "Oilcrops",
          "Oilcrops",
          "Oilcrops, Cake Equivalent",
          "Oilcrops, Cake Equivalent",
          "Oilcrops, Cake Equivalent",
          "Oilcrops, Oil Equivalent",
          "Oilcrops, Oil Equivalent",
          "Oilcrops, Oil Equivalent",
          "Pulses, Total",
          "Pulses, Total",
          "Pulses, Total",
          "Roots and Tubers, Total",
          "Roots and Tubers, Total",
          "Roots and Tubers, Total",
          "Sugar Crops Primary",
          "Sugar Crops Primary",
          "Sugar Crops Primary",
          "Vegetables Primary",
          "Vegetables Primary",
          "Vegetables Primary",
          "Avocados",
          "Avocados",
          "Avocados",
          "Bananas",
          "Bananas",
          "Bananas",
          "Beans, dry",
          "Beans, dry",
          "Beans, dry",
          "Cabbages and other brassicas",
          "Cabbages and other brassicas",
          "Cabbages and other brassicas",
          "Carrots and turnips",
          "Carrots and turnips",
          "Carrots and turnips",
          "Cassava",
          "Cassava",
          "Cassava",
          "Chillies and peppers, green",
          "Chillies and peppers, green",
          "Chillies and peppers, green",
          "Coconuts",
          "Coconuts",
          "Coconuts",
          "Cucumbers and gherkins",
          "Cucumbers and gherkins",
          "Cucumbers and gherkins",
          "Fruit, fresh nes",
          "Fruit, fresh nes",
          "Fruit, fresh nes",
          "Fruit, tropical fresh nes",
          "Fruit, tropical fresh nes",
          "Fruit, tropical fresh nes",
          "Groundnuts, with shell",
          "Groundnuts, with shell",
          "Groundnuts, with shell",
          "Lettuce and chicory",
          "Lettuce and chicory",
          "Lettuce and chicory",
          "Maize",
          "Maize",
          "Maize",
          "Maize, green",
          "Maize, green",
          "Maize, green",
          "Melons, other (inc.cantaloupes)",
          "Melons, other (inc.cantaloupes)",
          "Melons, other (inc.cantaloupes)",
          "Okra",
          "Okra",
          "Okra",
          "Onions, dry",
          "Onions, dry",
          "Onions, dry",
          "Pulses nes",
          "Pulses nes",
          "Pulses nes",
          "Pumpkins, squash and gourds",
          "Pumpkins, squash and gourds",
          "Pumpkins, squash and gourds",
          "String beans",
          "String beans",
          "String beans",
          "Sugar cane",
          "Sugar cane",
          "Sugar cane",
          "Sweet potatoes",
          "Sweet potatoes",
          "Sweet potatoes",
          "Taro (cocoyam)",
          "Taro (cocoyam)",
          "Taro (cocoyam)",
          "Tomatoes",
          "Tomatoes",
          "Tomatoes",
          "Vegetables, fresh nes",
          "Vegetables, fresh nes",
          "Vegetables, fresh nes",
          "Yams",
          "Yams",
          "Yams",
          "Cereals, Total",
          "Cereals, Total",
          "Cereals, Total",
          "Fruit Primary",
          "Fruit Primary",
          "Fruit Primary",
          "Oilcrops",
          "Oilcrops",
          "Oilcrops",
          "Oilcrops, Cake Equivalent",
          "Oilcrops, Cake Equivalent",
          "Oilcrops, Cake Equivalent",
          "Oilcrops, Oil Equivalent",
          "Oilcrops, Oil Equivalent",
          "Oilcrops, Oil Equivalent",
          "Pulses, Total",
          "Pulses, Total",
          "Pulses, Total",
          "Roots and Tubers, Total",
          "Roots and Tubers, Total",
          "Roots and Tubers, Total",
          "Sugar Crops Primary",
          "Sugar Crops Primary",
          "Sugar Crops Primary",
          "Vegetables Primary",
          "Vegetables Primary",
          "Vegetables Primary",
          "Bananas",
          "Bananas",
          "Bananas",
          "Beans, dry",
          "Beans, dry",
          "Beans, dry",
          "Beans, green",
          "Beans, green",
          "Beans, green",
          "Cabbages and other brassicas",
          "Cabbages and other brassicas",
          "Cabbages and other brassicas",
          "Carrots and turnips",
          "Carrots and turnips",
          "Carrots and turnips",
          "Cashew nuts, with shell",
          "Cashew nuts, with shell",
          "Cashew nuts, with shell",
          "Cassava",
          "Cassava",
          "Cassava",
          "Chillies and peppers, green",
          "Chillies and peppers, green",
          "Chillies and peppers, green",
          "Cocoa, beans",
          "Cocoa, beans",
          "Cocoa, beans",
          "Coconuts",
          "Coconuts",
          "Coconuts",
          "Coffee, green",
          "Coffee, green",
          "Coffee, green",
          "Cucumbers and gherkins",
          "Cucumbers and gherkins",
          "Cucumbers and gherkins",
          "Fruit, fresh nes",
          "Fruit, fresh nes",
          "Fruit, fresh nes",
          "Grapefruit (inc. pomelos)",
          "Grapefruit (inc. pomelos)",
          "Grapefruit (inc. pomelos)",
          "Groundnuts, with shell",
          "Groundnuts, with shell",
          "Groundnuts, with shell",
          "Maize",
          "Maize",
          "Maize",
          "Mangoes, mangosteens, guavas",
          "Mangoes, mangosteens, guavas",
          "Mangoes, mangosteens, guavas",
          "Melons, other (inc.cantaloupes)",
          "Melons, other (inc.cantaloupes)",
          "Melons, other (inc.cantaloupes)",
          "Okra",
          "Okra",
          "Okra",
          "Onions, shallots, green",
          "Onions, shallots, green",
          "Onions, shallots, green",
          "Oranges",
          "Oranges",
          "Oranges",
          "Papayas",
          "Papayas",
          "Papayas",
          "Peas, dry",
          "Peas, dry",
          "Peas, dry",
          "Peas, green",
          "Peas, green",
          "Peas, green",
          "Pineapples",
          "Pineapples",
          "Pineapples",
          "Plantains and others",
          "Plantains and others",
          "Plantains and others",
          "Potatoes",
          "Potatoes",
          "Potatoes",
          "Pumpkins, squash and gourds",
          "Pumpkins, squash and gourds",
          "Pumpkins, squash and gourds",
          "Rice, paddy",
          "Rice, paddy",
          "Rice, paddy",
          "Rice, paddy (rice milled equivalent)",
          "Roots and tubers nes",
          "Roots and tubers nes",
          "Roots and tubers nes",
          "Sorghum",
          "Sorghum",
          "Sorghum",
          "Soybeans",
          "Soybeans",
          "Soybeans",
          "Sugar cane",
          "Sugar cane",
          "Sugar cane",
          "Sweet potatoes",
          "Sweet potatoes",
          "Sweet potatoes",
          "Tomatoes",
          "Tomatoes",
          "Tomatoes",
          "Vegetables, fresh nes",
          "Vegetables, fresh nes",
          "Vegetables, fresh nes",
          "Watermelons",
          "Watermelons",
          "Watermelons",
          "Yams",
          "Yams",
          "Yams",
          "Yautia (cocoyam)",
          "Yautia (cocoyam)",
          "Yautia (cocoyam)",
          "Cereals, Total",
          "Cereals, Total",
          "Cereals, Total",
          "Citrus Fruit, Total",
          "Citrus Fruit, Total",
          "Citrus Fruit, Total",
          "Fruit Primary",
          "Fruit Primary",
          "Fruit Primary",
          "Oilcrops",
          "Oilcrops",
          "Oilcrops",
          "Oilcrops, Cake Equivalent",
          "Oilcrops, Cake Equivalent",
          "Oilcrops, Cake Equivalent",
          "Oilcrops, Oil Equivalent",
          "Oilcrops, Oil Equivalent",
          "Oilcrops, Oil Equivalent",
          "Pulses, Total",
          "Pulses, Total",
          "Pulses, Total",
          "Roots and Tubers, Total",
          "Roots and Tubers, Total",
          "Roots and Tubers, Total",
          "Sugar Crops Primary",
          "Sugar Crops Primary",
          "Sugar Crops Primary",
          "Treenuts, Total",
          "Treenuts, Total",
          "Treenuts, Total",
          "Vegetables Primary",
          "Vegetables Primary",
          "Vegetables Primary",
          "Apples",
          "Apples",
          "Apples",
          "Avocados",
          "Avocados",
          "Avocados",
          "Bananas",
          "Bananas",
          "Bananas",
          "Barley",
          "Barley",
          "Barley",
          "Beans, dry",
          "Beans, dry",
          "Beans, dry",
          "Beans, green",
          "Beans, green",
          "Beans, green",
          "Brazil nuts, with shell",
          "Broad beans, horse beans, dry",
          "Broad beans, horse beans, dry",
          "Broad beans, horse beans, dry",
          "Cabbages and other brassicas",
          "Cabbages and other brassicas",
          "Cabbages and other brassicas",
          "Carrots and turnips",
          "Carrots and turnips",
          "Carrots and turnips",
          "Cassava",
          "Cassava",
          "Cassava",
          "Cauliflowers and broccoli",
          "Cauliflowers and broccoli",
          "Cauliflowers and broccoli",
          "Cereals nes",
          "Cereals nes",
          "Cereals nes",
          "Cherries",
          "Cherries",
          "Cherries",
          "Cherries, sour",
          "Cherries, sour",
          "Cherries, sour",
          "Chestnut",
          "Chestnut",
          "Chestnut",
          "Chick peas",
          "Chick peas",
          "Chick peas",
          "Chillies and peppers, green",
          "Chillies and peppers, green",
          "Chillies and peppers, green",
          "Cocoa, beans",
          "Cocoa, beans",
          "Cocoa, beans",
          "Coffee, green",
          "Coffee, green",
          "Coffee, green",
          "Cucumbers and gherkins",
          "Cucumbers and gherkins",
          "Cucumbers and gherkins",
          "Figs",
          "Figs",
          "Figs",
          "Fruit, fresh nes",
          "Fruit, fresh nes",
          "Fruit, fresh nes",
          "Garlic",
          "Garlic",
          "Garlic",
          "Grapefruit (inc. pomelos)",
          "Grapefruit (inc. pomelos)",
          "Grapefruit (inc. pomelos)",
          "Grapes",
          "Grapes",
          "Grapes",
          "Groundnuts, with shell",
          "Groundnuts, with shell",
          "Groundnuts, with shell",
          "Lemons and limes",
          "Lemons and limes",
          "Lemons and limes",
          "Lettuce and chicory",
          "Lettuce and chicory",
          "Lettuce and chicory",
          "Linseed",
          "Linseed",
          "Linseed",
          "Maize",
          "Maize",
          "Maize",
          "Maize, green",
          "Maize, green",
          "Maize, green",
          "Mangoes, mangosteens, guavas",
          "Mangoes, mangosteens, guavas",
          "Mangoes, mangosteens, guavas",
          "Oats",
          "Oats",
          "Oats",
          "Onions, dry",
          "Onions, dry",
          "Onions, dry",
          "Oranges",
          "Oranges",
          "Oranges",
          "Papayas",
          "Papayas",
          "Papayas",
          "Peaches and nectarines",
          "Peaches and nectarines",
          "Peaches and nectarines",
          "Pears",
          "Pears",
          "Pears",
          "Peas, dry",
          "Peas, dry",
          "Peas, dry",
          "Peas, green",
          "Peas, green",
          "Peas, green",
          "Pepper (piper spp.)",
          "Pepper (piper spp.)",
          "Pepper (piper spp.)",
          "Pineapples",
          "Pineapples",
          "Pineapples",
          "Plantains and others",
          "Plantains and others",
          "Plantains and others",
          "Plums and sloes",
          "Plums and sloes",
          "Plums and sloes",
          "Potatoes",
          "Potatoes",
          "Potatoes",
          "Pumpkins, squash and gourds",
          "Pumpkins, squash and gourds",
          "Pumpkins, squash and gourds",
          "Pyrethrum, dried",
          "Pyrethrum, dried",
          "Quinces",
          "Quinces",
          "Quinces",
          "Quinoa",
          "Quinoa",
          "Quinoa",
          "Rice, paddy",
          "Rice, paddy",
          "Rice, paddy",
          "Rice, paddy (rice milled equivalent)",
          "Roots and tubers nes",
          "Roots and tubers nes",
          "Roots and tubers nes",
          "Rubber, natural",
          "Rubber, natural",
          "Rye",
          "Rye",
          "Rye",
          "Seed cotton",
          "Seed cotton",
          "Seed cotton",
          "Sesame seed",
          "Sesame seed",
          "Sesame seed",
          "Sorghum",
          "Sorghum",
          "Sorghum",
          "Soybeans",
          "Soybeans",
          "Soybeans",
          "Spices nes",
          "Spices nes",
          "Spices nes",
          "Strawberries",
          "Strawberries",
          "Strawberries",
          "Sugar cane",
          "Sugar cane",
          "Sugar cane",
          "Sunflower seed",
          "Sunflower seed",
          "Sunflower seed",
          "Sweet potatoes",
          "Sweet potatoes",
          "Sweet potatoes",
          "Tangerines, mandarins, clementines, satsumas",
          "Tangerines, mandarins, clementines, satsumas",
          "Tangerines, mandarins, clementines, satsumas",
          "Tea",
          "Tea",
          "Tea",
          "Tobacco, unmanufactured",
          "Tobacco, unmanufactured",
          "Tobacco, unmanufactured",
          "Tomatoes",
          "Tomatoes",
          "Tomatoes",
          "Vegetables, fresh nes",
          "Vegetables, fresh nes",
          "Vegetables, fresh nes",
          "Vegetables, leguminous nes",
          "Vegetables, leguminous nes",
          "Vegetables, leguminous nes",
          "Watermelons",
          "Watermelons",
          "Watermelons",
          "Wheat",
          "Wheat",
          "Wheat",
          "Cereals, Total",
          "Cereals, Total",
          "Cereals, Total",
          "Citrus Fruit, Total",
          "Citrus Fruit, Total",
          "Citrus Fruit, Total",
          "Fibre Crops Primary",
          "Fibre Crops Primary",
          "Fibre Crops Primary",
          "Fruit Primary",
          "Fruit Primary",
          "Fruit Primary",
          "Oilcrops",
          "Oilcrops",
          "Oilcrops",
          "Oilcrops, Cake Equivalent",
          "Oilcrops, Cake Equivalent",
          "Oilcrops, Cake Equivalent",
          "Oilcrops, Oil Equivalent",
          "Oilcrops, Oil Equivalent",
          "Oilcrops, Oil Equivalent",
          "Pulses, Total",
          "Pulses, Total",
          "Pulses, Total",
          "Roots and Tubers, Total",
          "Roots and Tubers, Total",
          "Roots and Tubers, Total",
          "Sugar Crops Primary",
          "Sugar Crops Primary",
          "Sugar Crops Primary",
          "Treenuts, Total",
          "Treenuts, Total",
          "Treenuts, Total",
          "Vegetables Primary",
          "Vegetables Primary",
          "Vegetables Primary",
          "Almonds, with shell",
          "Almonds, with shell",
          "Apples",
          "Apples",
          "Apples",
          "Avocados",
          "Avocados",
          "Avocados",
          "Bananas",
          "Bananas",
          "Bananas",
          "Barley",
          "Barley",
          "Barley",
          "Bastfibres, other",
          "Bastfibres, other",
          "Bastfibres, other",
          "Beans, dry",
          "Beans, dry",
          "Beans, dry",
          "Brazil nuts, with shell",
          "Broad beans, horse beans, dry",
          "Broad beans, horse beans, dry",
          "Broad beans, horse beans, dry",
          "Buckwheat",
          "Buckwheat",
          "Buckwheat",
          "Cashew nuts, with shell",
          "Cashew nuts, with shell",
          "Cashew nuts, with shell",
          "Cashewapple",
          "Cashewapple",
          "Cashewapple",
          "Cassava",
          "Cassava",
          "Cassava",
          "Castor oil seed",
          "Castor oil seed",
          "Castor oil seed",
          "Chestnut",
          "Cocoa, beans",
          "Cocoa, beans",
          "Cocoa, beans",
          "Coconuts",
          "Coconuts",
          "Coconuts",
          "Coffee, green",
          "Coffee, green",
          "Coffee, green",
          "Fibre crops nes",
          "Figs",
          "Figs",
          "Figs",
          "Fruit, stone nes",
          "Fruit, stone nes",
          "Fruit, tropical fresh nes",
          "Fruit, tropical fresh nes",
          "Fruit, tropical fresh nes",
          "Garlic",
          "Garlic",
          "Garlic",
          "Grapefruit (inc. pomelos)",
          "Grapefruit (inc. pomelos)",
          "Grapefruit (inc. pomelos)",
          "Grapes",
          "Grapes",
          "Grapes",
          "Groundnuts, with shell",
          "Groundnuts, with shell",
          "Groundnuts, with shell",
          "Gums, natural",
          "Jute",
          "Jute",
          "Jute",
          "Lemons and limes",
          "Lemons and limes",
          "Lemons and limes",
          "Linseed",
          "Linseed",
          "Linseed",
          "Maize",
          "Maize",
          "Maize",
          "Mangoes, mangosteens, guavas",
          "Mangoes, mangosteens, guavas",
          "Mangoes, mangosteens, guavas",
          "Maté",
          "Maté",
          "Maté",
          "Melons, other (inc.cantaloupes)",
          "Melons, other (inc.cantaloupes)",
          "Melons, other (inc.cantaloupes)",
          "Nuts nes",
          "Nuts nes",
          "Nuts nes",
          "Oats",
          "Oats",
          "Oats",
          "Oil palm fruit",
          "Oil palm fruit",
          "Oil palm fruit",
          "Oilseeds nes",
          "Olives",
          "Olives",
          "Olives",
          "Onions, dry",
          "Onions, dry",
          "Onions, dry",
          "Oranges",
          "Oranges",
          "Oranges",
          "Papayas",
          "Papayas",
          "Papayas",
          "Peaches and nectarines",
          "Peaches and nectarines",
          "Peaches and nectarines",
          "Pears",
          "Pears",
          "Pears",
          "Peas, dry",
          "Peas, dry",
          "Peas, dry",
          "Pepper (piper spp.)",
          "Pepper (piper spp.)",
          "Pepper (piper spp.)",
          "Persimmons",
          "Persimmons",
          "Persimmons",
          "Pineapples",
          "Pineapples",
          "Pineapples",
          "Potatoes",
          "Potatoes",
          "Potatoes",
          "Pyrethrum, dried",
          "Pyrethrum, dried",
          "Quinces",
          "Quinces",
          "Quinces",
          "Ramie",
          "Ramie",
          "Ramie",
          "Rapeseed",
          "Rapeseed",
          "Rapeseed",
          "Rice, paddy",
          "Rice, paddy",
          "Rice, paddy",
          "Rice, paddy (rice milled equivalent)",
          "Rubber, natural",
          "Rubber, natural",
          "Rubber, natural",
          "Rye",
          "Rye",
          "Rye",
          "Seed cotton",
          "Seed cotton",
          "Seed cotton",
          "Sesame seed",
          "Sesame seed",
          "Sesame seed",
          "Sisal",
          "Sisal",
          "Sisal",
          "Sorghum",
          "Sorghum",
          "Sorghum",
          "Soybeans",
          "Soybeans",
          "Soybeans",
          "Strawberries",
          "Strawberries",
          "Strawberries",
          "Sugar cane",
          "Sugar cane",
          "Sugar cane",
          "Sunflower seed",
          "Sunflower seed",
          "Sunflower seed",
          "Sweet potatoes",
          "Sweet potatoes",
          "Sweet potatoes",
          "Tangerines, mandarins, clementines, satsumas",
          "Tangerines, mandarins, clementines, satsumas",
          "Tangerines, mandarins, clementines, satsumas",
          "Tea",
          "Tea",
          "Tea",
          "Tobacco, unmanufactured",
          "Tobacco, unmanufactured",
          "Tobacco, unmanufactured",
          "Tomatoes",
          "Tomatoes",
          "Tomatoes",
          "Triticale",
          "Triticale",
          "Triticale",
          "Tung nuts",
          "Tung nuts",
          "Tung nuts",
          "Vegetables, fresh nes",
          "Vegetables, fresh nes",
          "Vegetables, fresh nes",
          "Walnuts, with shell",
          "Walnuts, with shell",
          "Walnuts, with shell",
          "Watermelons",
          "Watermelons",
          "Watermelons",
          "Wheat",
          "Wheat",
          "Wheat",
          "Yams",
          "Yams",
          "Yams",
          "Cereals, Total",
          "Cereals, Total",
          "Cereals, Total",
          "Citrus Fruit, Total",
          "Citrus Fruit, Total",
          "Citrus Fruit, Total",
          "Fibre Crops Primary",
          "Fibre Crops Primary",
          "Fibre Crops Primary",
          "Fruit Primary",
          "Fruit Primary",
          "Fruit Primary",
          "Oilcrops",
          "Oilcrops",
          "Oilcrops",
          "Oilcrops, Cake Equivalent",
          "Oilcrops, Cake Equivalent",
          "Oilcrops, Cake Equivalent",
          "Oilcrops, Oil Equivalent",
          "Oilcrops, Oil Equivalent",
          "Oilcrops, Oil Equivalent",
          "Pulses, Total",
          "Pulses, Total",
          "Pulses, Total",
          "Roots and Tubers, Total",
          "Roots and Tubers, Total",
          "Roots and Tubers, Total",
          "Sugar Crops Primary",
          "Sugar Crops Primary",
          "Sugar Crops Primary",
          "Treenuts, Total",
          "Treenuts, Total",
          "Treenuts, Total",
          "Vegetables Primary",
          "Vegetables Primary",
          "Vegetables Primary",
          "Anise, badian, fennel, coriander",
          "Anise, badian, fennel, coriander",
          "Anise, badian, fennel, coriander",
          "Apples",
          "Apples",
          "Apples",
          "Apricots",
          "Apricots",
          "Apricots",
          "Asparagus",
          "Asparagus",
          "Asparagus",
          "Barley",
          "Barley",
          "Barley",
          "Beans, dry",
          "Beans, dry",
          "Beans, dry",
          "Beans, green",
          "Beans, green",
          "Beans, green",
          "Berries nes",
          "Berries nes",
          "Blueberries",
          "Blueberries",
          "Blueberries",
          "Broad beans, horse beans, dry",
          "Broad beans, horse beans, dry",
          "Broad beans, horse beans, dry",
          "Buckwheat",
          "Buckwheat",
          "Buckwheat",
          "Cabbages and other brassicas",
          "Cabbages and other brassicas",
          "Cabbages and other brassicas",
          "Canary seed",
          "Canary seed",
          "Canary seed",
          "Carrots and turnips",
          "Carrots and turnips",
          "Carrots and turnips",
          "Cauliflowers and broccoli",
          "Cauliflowers and broccoli",
          "Cauliflowers and broccoli",
          "Cherries",
          "Cherries",
          "Cherries",
          "Cherries, sour",
          "Cherries, sour",
          "Cherries, sour",
          "Chick peas",
          "Chick peas",
          "Chick peas",
          "Chillies and peppers, green",
          "Chillies and peppers, green",
          "Chillies and peppers, green",
          "Cranberries",
          "Cranberries",
          "Cranberries",
          "Cucumbers and gherkins",
          "Cucumbers and gherkins",
          "Cucumbers and gherkins",
          "Fibre crops nes",
          "Fibre crops nes",
          "Fibre crops nes",
          "Fruit, fresh nes",
          "Garlic",
          "Garlic",
          "Garlic",
          "Grain, mixed",
          "Grain, mixed",
          "Grain, mixed",
          "Grapes",
          "Grapes",
          "Grapes",
          "Hops",
          "Hops",
          "Hops",
          "Kiwi fruit",
          "Kiwi fruit",
          "Kiwi fruit",
          "Leeks, other alliaceous vegetables",
          "Leeks, other alliaceous vegetables",
          "Leeks, other alliaceous vegetables",
          "Lentils",
          "Lentils",
          "Lentils",
          "Lettuce and chicory",
          "Lettuce and chicory",
          "Lettuce and chicory",
          "Linseed",
          "Linseed",
          "Linseed",
          "Maize",
          "Maize",
          "Maize",
          "Maize, green",
          "Maize, green",
          "Maize, green",
          "Melons, other (inc.cantaloupes)",
          "Melons, other (inc.cantaloupes)",
          "Melons, other (inc.cantaloupes)",
          "Mushrooms and truffles",
          "Mustard seed",
          "Mustard seed",
          "Mustard seed",
          "Oats",
          "Oats",
          "Oats",
          "Oilseeds nes",
          "Oilseeds nes",
          "Oilseeds nes",
          "Onions, dry",
          "Onions, dry",
          "Onions, dry",
          "Peaches and nectarines",
          "Peaches and nectarines",
          "Peaches and nectarines",
          "Pears",
          "Pears",
          "Pears",
          "Peas, dry",
          "Peas, dry",
          "Peas, dry",
          "Peas, green",
          "Peas, green",
          "Peas, green",
          "Plums and sloes",
          "Plums and sloes",
          "Plums and sloes",
          "Potatoes",
          "Potatoes",
          "Potatoes",
          "Pumpkins, squash and gourds",
          "Pumpkins, squash and gourds",
          "Pumpkins, squash and gourds",
          "Rapeseed",
          "Rapeseed",
          "Rapeseed",
          "Raspberries",
          "Raspberries",
          "Raspberries",
          "Rye",
          "Rye",
          "Rye",
          "Safflower seed",
          "Safflower seed",
          "Safflower seed",
          "Soybeans",
          "Soybeans",
          "Soybeans",
          "Spinach",
          "Spinach",
          "Spinach",
          "Strawberries",
          "Strawberries",
          "Strawberries",
          "Sugar beet",
          "Sugar beet",
          "Sugar beet",
          "Sunflower seed",
          "Sunflower seed",
          "Sunflower seed",
          "Tobacco, unmanufactured",
          "Tobacco, unmanufactured",
          "Tobacco, unmanufactured",
          "Tomatoes",
          "Tomatoes",
          "Tomatoes",
          "Triticale",
          "Triticale",
          "Triticale",
          "Vegetables, fresh nes",
          "Vegetables, fresh nes",
          "Vegetables, fresh nes",
          "Watermelons",
          "Watermelons",
          "Watermelons",
          "Wheat",
          "Wheat",
          "Wheat",
          "Cereals, Total",
          "Cereals, Total",
          "Cereals, Total",
          "Fibre Crops Primary",
          "Fibre Crops Primary",
          "Fibre Crops Primary",
          "Fruit Primary",
          "Fruit Primary",
          "Fruit Primary",
          "Oilcrops",
          "Oilcrops",
          "Oilcrops",
          "Oilcrops, Cake Equivalent",
          "Oilcrops, Cake Equivalent",
          "Oilcrops, Cake Equivalent",
          "Oilcrops, Oil Equivalent",
          "Oilcrops, Oil Equivalent",
          "Oilcrops, Oil Equivalent",
          "Pulses, Total",
          "Pulses, Total",
          "Pulses, Total",
          "Roots and Tubers, Total",
          "Roots and Tubers, Total",
          "Roots and Tubers, Total",
          "Sugar Crops Primary",
          "Sugar Crops Primary",
          "Sugar Crops Primary",
          "Vegetables Primary",
          "Vegetables Primary",
          "Vegetables Primary",
          "Almonds, with shell",
          "Almonds, with shell",
          "Almonds, with shell",
          "Apples",
          "Apples",
          "Apples",
          "Apricots",
          "Apricots",
          "Apricots",
          "Artichokes",
          "Artichokes",
          "Artichokes",
          "Asparagus",
          "Asparagus",
          "Asparagus",
          "Avocados",
          "Avocados",
          "Avocados",
          "Barley",
          "Barley",
          "Barley",
          "Bastfibres, other",
          "Bastfibres, other",
          "Bastfibres, other",
          "Beans, dry",
          "Beans, dry",
          "Beans, dry",
          "Beans, green",
          "Beans, green",
          "Beans, green",
          "Cabbages and other brassicas",
          "Cabbages and other brassicas",
          "Cabbages and other brassicas",
          "Carrots and turnips",
          "Carrots and turnips",
          "Carrots and turnips",
          "Cauliflowers and broccoli",
          "Cauliflowers and broccoli",
          "Cauliflowers and broccoli",
          "Cherries",
          "Cherries",
          "Cherries",
          "Cherries, sour",
          "Cherries, sour",
          "Cherries, sour",
          "Chestnut",
          "Chestnut",
          "Chestnut",
          "Chick peas",
          "Chick peas",
          "Chick peas",
          "Chillies and peppers, green",
          "Chillies and peppers, green",
          "Chillies and peppers, green",
          "Cranberries",
          "Cranberries",
          "Cranberries",
          "Cucumbers and gherkins",
          "Cucumbers and gherkins",
          "Cucumbers and gherkins",
          "Currants",
          "Currants",
          "Currants",
          "Fibre crops nes",
          "Figs",
          "Figs",
          "Figs",
          "Flax fibre and tow",
          "Flax fibre and tow",
          "Flax fibre and tow",
          "Fruit, fresh nes",
          "Fruit, fresh nes",
          "Fruit, fresh nes",
          "Garlic",
          "Garlic",
          "Garlic",
          "Grapefruit (inc. pomelos)",
          "Grapefruit (inc. pomelos)",
          "Grapefruit (inc. pomelos)",
          "Grapes",
          "Grapes",
          "Grapes",
          "Hazelnuts, with shell",
          "Hazelnuts, with shell",
          "Hazelnuts, with shell",
          "Hemp tow waste",
          "Hemp tow waste",
          "Hemp tow waste",
          "Hempseed",
          "Hempseed",
          "Hempseed",
          "Kiwi fruit",
          "Kiwi fruit",
          "Kiwi fruit",
          "Lemons and limes",
          "Lemons and limes",
          "Lemons and limes",
          "Lentils",
          "Lentils",
          "Lentils",
          "Lettuce and chicory",
          "Lettuce and chicory",
          "Lettuce and chicory",
          "Linseed",
          "Linseed",
          "Linseed",
          "Lupins",
          "Lupins",
          "Lupins",
          "Maize",
          "Maize",
          "Maize",
          "Maize, green",
          "Maize, green",
          "Maize, green",
          "Melons, other (inc.cantaloupes)",
          "Melons, other (inc.cantaloupes)",
          "Melons, other (inc.cantaloupes)",
          "Nuts nes",
          "Nuts nes",
          "Oats",
          "Oats",
          "Oats",
          "Olives",
          "Olives",
          "Olives",
          "Onions, dry",
          "Onions, dry",
          "Onions, dry",
          "Oranges",
          "Oranges",
          "Oranges",
          "Papayas",
          "Papayas",
          "Papayas",
          "Peaches and nectarines",
          "Peaches and nectarines",
          "Peaches and nectarines",
          "Pears",
          "Pears",
          "Pears",
          "Peas, dry",
          "Peas, dry",
          "Peas, dry",
          "Peas, green",
          "Peas, green",
          "Peas, green",
          "Persimmons",
          "Persimmons",
          "Persimmons",
          "Plums and sloes",
          "Plums and sloes",
          "Plums and sloes",
          "Potatoes",
          "Potatoes",
          "Potatoes",
          "Pumpkins, squash and gourds",
          "Pumpkins, squash and gourds",
          "Pumpkins, squash and gourds",
          "Quinces",
          "Quinces",
          "Quinces",
          "Rapeseed",
          "Rapeseed",
          "Rapeseed",
          "Raspberries",
          "Raspberries",
          "Raspberries",
          "Rice, paddy",
          "Rice, paddy",
          "Rice, paddy",
          "Rice, paddy (rice milled equivalent)",
          "Rye",
          "Rye",
          "Rye",
          "Soybeans",
          "Soybeans",
          "Soybeans",
          "Strawberries",
          "Strawberries",
          "Strawberries",
          "Sugar beet",
          "Sugar beet",
          "Sugar beet",
          "Sunflower seed",
          "Sunflower seed",
          "Sunflower seed",
          "Sweet potatoes",
          "Sweet potatoes",
          "Sweet potatoes",
          "Tangerines, mandarins, clementines, satsumas",
          "Tangerines, mandarins, clementines, satsumas",
          "Tangerines, mandarins, clementines, satsumas",
          "Tobacco, unmanufactured",
          "Tobacco, unmanufactured",
          "Tobacco, unmanufactured",
          "Tomatoes",
          "Tomatoes",
          "Tomatoes",
          "Triticale",
          "Triticale",
          "Triticale",
          "Vegetables, fresh nes",
          "Vegetables, fresh nes",
          "Vegetables, fresh nes",
          "Vegetables, leguminous nes",
          "Vegetables, leguminous nes",
          "Vegetables, leguminous nes",
          "Walnuts, with shell",
          "Walnuts, with shell",
          "Walnuts, with shell",
          "Watermelons",
          "Watermelons",
          "Watermelons",
          "Wheat",
          "Wheat",
          "Wheat",
          "Cereals, Total",
          "Cereals, Total",
          "Cereals, Total",
          "Citrus Fruit, Total",
          "Citrus Fruit, Total",
          "Citrus Fruit, Total",
          "Fibre Crops Primary",
          "Fibre Crops Primary",
          "Fibre Crops Primary",
          "Fruit Primary",
          "Fruit Primary",
          "Fruit Primary",
          "Oilcrops",
          "Oilcrops",
          "Oilcrops",
          "Oilcrops, Cake Equivalent",
          "Oilcrops, Cake Equivalent",
          "Oilcrops, Cake Equivalent",
          "Oilcrops, Oil Equivalent",
          "Oilcrops, Oil Equivalent",
          "Oilcrops, Oil Equivalent",
          "Pulses, Total",
          "Pulses, Total",
          "Pulses, Total",
          "Roots and Tubers, Total",
          "Roots and Tubers, Total",
          "Roots and Tubers, Total",
          "Sugar Crops Primary",
          "Sugar Crops Primary",
          "Sugar Crops Primary",
          "Treenuts, Total",
          "Treenuts, Total",
          "Treenuts, Total",
          "Vegetables Primary",
          "Vegetables Primary",
          "Vegetables Primary",
          "Agave fibres nes",
          "Agave fibres nes",
          "Agave fibres nes",
          "Apples",
          "Apples",
          "Apples",
          "Asparagus",
          "Asparagus",
          "Asparagus",
          "Avocados",
          "Avocados",
          "Avocados",
          "Bananas",
          "Bananas",
          "Bananas",
          "Barley",
          "Barley",
          "Barley",
          "Beans, dry",
          "Beans, dry",
          "Beans, dry",
          "Broad beans, horse beans, dry",
          "Broad beans, horse beans, dry",
          "Broad beans, horse beans, dry",
          "Cabbages and other brassicas",
          "Cabbages and other brassicas",
          "Cabbages and other brassicas",
          "Carrots and turnips",
          "Carrots and turnips",
          "Carrots and turnips",
          "Cashew nuts, with shell",
          "Cashew nuts, with shell",
          "Cashew nuts, with shell",
          "Cassava",
          "Cassava",
          "Cassava",
          "Cassava leaves",
          "Cassava leaves",
          "Cassava leaves",
          "Cauliflowers and broccoli",
          "Cauliflowers and broccoli",
          "Cauliflowers and broccoli",
          "Cereals nes",
          "Cereals nes",
          "Cereals nes",
          "Chick peas",
          "Chick peas",
          "Chick peas",
          "Chillies and peppers, green",
          "Chillies and peppers, green",
          "Chillies and peppers, green",
          "Cocoa, beans",
          "Cocoa, beans",
          "Cocoa, beans",
          "Coconuts",
          "Coconuts",
          "Coconuts",
          "Coffee, green",
          "Coffee, green",
          "Coffee, green",
          "Cucumbers and gherkins",
          "Cucumbers and gherkins",
          "Cucumbers and gherkins",
          "Dates",
          "Dates",
          "Dates",
          "Eggplants (aubergines)",
          "Eggplants (aubergines)",
          "Eggplants (aubergines)",
          "Figs",
          "Figs",
          "Figs",
          "Fruit, citrus nes",
          "Fruit, citrus nes",
          "Fruit, citrus nes",
          "Fruit, fresh nes",
          "Fruit, fresh nes",
          "Fruit, fresh nes",
          "Fruit, tropical fresh nes",
          "Fruit, tropical fresh nes",
          "Fruit, tropical fresh nes",
          "Garlic",
          "Garlic",
          "Garlic",
          "Grapes",
          "Grapes",
          "Grapes",
          "Groundnuts, with shell",
          "Groundnuts, with shell",
          "Groundnuts, with shell",
          "Lemons and limes",
          "Lemons and limes",
          "Lemons and limes",
          "Lentils",
          "Lentils",
          "Lentils",
          "Lettuce and chicory",
          "Lettuce and chicory",
          "Lettuce and chicory",
          "Maize",
          "Maize",
          "Maize",
          "Mangoes, mangosteens, guavas",
          "Mangoes, mangosteens, guavas",
          "Mangoes, mangosteens, guavas",
          "Melons, other (inc.cantaloupes)",
          "Melons, other (inc.cantaloupes)",
          "Melons, other (inc.cantaloupes)",
          "Nuts nes",
          "Nuts nes",
          "Nuts nes",
          "Oats",
          "Oats",
          "Oats",
          "Oil palm fruit",
          "Oil palm fruit",
          "Oil palm fruit",
          "Onions, dry",
          "Onions, dry",
          "Onions, dry",
          "Oranges",
          "Oranges",
          "Oranges",
          "Papayas",
          "Papayas",
          "Papayas",
          "Peaches and nectarines",
          "Peaches and nectarines",
          "Peaches and nectarines",
          "Pears",
          "Pears",
          "Pears",
          "Peas, dry",
          "Peas, dry",
          "Peas, dry",
          "Peas, green",
          "Peas, green",
          "Peas, green",
          "Pigeon peas",
          "Pigeon peas",
          "Pigeon peas",
          "Pineapples",
          "Pineapples",
          "Pineapples",
          "Plantains and others",
          "Plantains and others",
          "Plantains and others",
          "Plums and sloes",
          "Plums and sloes",
          "Plums and sloes",
          "Potatoes",
          "Potatoes",
          "Potatoes",
          "Pulses nes",
          "Pulses nes",
          "Pumpkins, squash and gourds",
          "Pumpkins, squash and gourds",
          "Pumpkins, squash and gourds",
          "Rapeseed",
          "Rapeseed",
          "Rapeseed",
          "Rice, paddy",
          "Rice, paddy",
          "Rice, paddy",
          "Rice, paddy (rice milled equivalent)",
          "Roots and tubers nes",
          "Roots and tubers nes",
          "Roots and tubers nes",
          "Rubber, natural",
          "Rubber, natural",
          "Seed cotton",
          "Seed cotton",
          "Seed cotton",
          "Sesame seed",
          "Sesame seed",
          "Sesame seed",
          "Sorghum",
          "Sorghum",
          "Sorghum",
          "Soybeans",
          "Soybeans",
          "Soybeans",
          "Spices nes",
          "Spices nes",
          "Spices nes",
          "Spinach",
          "Spinach",
          "Spinach",
          "Strawberries",
          "Strawberries",
          "Strawberries",
          "Sugar beet",
          "Sugar beet",
          "Sugar beet",
          "Sugar cane",
          "Sugar cane",
          "Sugar cane",
          "Sugar crops nes",
          "Sugar crops nes",
          "Sunflower seed",
          "Sunflower seed",
          "Sunflower seed",
          "Tangerines, mandarins, clementines, satsumas",
          "Tangerines, mandarins, clementines, satsumas",
          "Tangerines, mandarins, clementines, satsumas",
          "Tea",
          "Tea",
          "Tea",
          "Tobacco, unmanufactured",
          "Tobacco, unmanufactured",
          "Tobacco, unmanufactured",
          "Tomatoes",
          "Tomatoes",
          "Tomatoes",
          "Vegetables, fresh nes",
          "Vegetables, fresh nes",
          "Vegetables, fresh nes",
          "Vegetables, leguminous nes",
          "Vegetables, leguminous nes",
          "Vegetables, leguminous nes",
          "Watermelons",
          "Watermelons",
          "Watermelons",
          "Wheat",
          "Wheat",
          "Wheat",
          "Yams",
          "Yams",
          "Yams",
          "Cereals, Total",
          "Cereals, Total",
          "Cereals, Total",
          "Citrus Fruit, Total",
          "Citrus Fruit, Total",
          "Citrus Fruit, Total",
          "Fibre Crops Primary",
          "Fibre Crops Primary",
          "Fibre Crops Primary",
          "Fruit Primary",
          "Fruit Primary",
          "Fruit Primary",
          "Oilcrops",
          "Oilcrops",
          "Oilcrops",
          "Oilcrops, Cake Equivalent",
          "Oilcrops, Cake Equivalent",
          "Oilcrops, Cake Equivalent",
          "Oilcrops, Oil Equivalent",
          "Oilcrops, Oil Equivalent",
          "Oilcrops, Oil Equivalent",
          "Pulses, Total",
          "Pulses, Total",
          "Pulses, Total",
          "Roots and Tubers, Total",
          "Roots and Tubers, Total",
          "Roots and Tubers, Total",
          "Sugar Crops Primary",
          "Sugar Crops Primary",
          "Sugar Crops Primary",
          "Treenuts, Total",
          "Treenuts, Total",
          "Treenuts, Total",
          "Vegetables Primary",
          "Vegetables Primary",
          "Vegetables Primary",
          "Artichokes",
          "Artichokes",
          "Artichokes",
          "Asparagus",
          "Asparagus",
          "Asparagus",
          "Avocados",
          "Avocados",
          "Avocados",
          "Bananas",
          "Bananas",
          "Bananas",
          "Beans, dry",
          "Beans, dry",
          "Beans, dry",
          "Beans, green",
          "Beans, green",
          "Beans, green",
          "Berries nes",
          "Berries nes",
          "Berries nes",
          "Cabbages and other brassicas",
          "Cabbages and other brassicas",
          "Cabbages and other brassicas",
          "Carrots and turnips",
          "Carrots and turnips",
          "Carrots and turnips",
          "Cassava",
          "Cassava",
          "Cassava",
          "Cauliflowers and broccoli",
          "Cauliflowers and broccoli",
          "Cauliflowers and broccoli",
          "Chillies and peppers, green",
          "Chillies and peppers, green",
          "Chillies and peppers, green",
          "Cocoa, beans",
          "Cocoa, beans",
          "Cocoa, beans",
          "Coconuts",
          "Coconuts",
          "Coconuts",
          "Coffee, green",
          "Coffee, green",
          "Coffee, green",
          "Cucumbers and gherkins",
          "Cucumbers and gherkins",
          "Cucumbers and gherkins",
          "Eggplants (aubergines)",
          "Eggplants (aubergines)",
          "Eggplants (aubergines)",
          "Fruit, fresh nes",
          "Fruit, fresh nes",
          "Fruit, fresh nes",
          "Fruit, tropical fresh nes",
          "Fruit, tropical fresh nes",
          "Fruit, tropical fresh nes",
          "Ginger",
          "Ginger",
          "Ginger",
          "Grapefruit (inc. pomelos)",
          "Grapefruit (inc. pomelos)",
          "Grapefruit (inc. pomelos)",
          "Groundnuts, with shell",
          "Groundnuts, with shell",
          "Groundnuts, with shell",
          "Leeks, other alliaceous vegetables",
          "Leeks, other alliaceous vegetables",
          "Leeks, other alliaceous vegetables",
          "Lemons and limes",
          "Lemons and limes",
          "Lemons and limes",
          "Lettuce and chicory",
          "Lettuce and chicory",
          "Lettuce and chicory",
          "Maize",
          "Maize",
          "Maize",
          "Mangoes, mangosteens, guavas",
          "Mangoes, mangosteens, guavas",
          "Mangoes, mangosteens, guavas",
          "Manila fibre (abaca)",
          "Manila fibre (abaca)",
          "Manila fibre (abaca)",
          "Melons, other (inc.cantaloupes)",
          "Melons, other (inc.cantaloupes)",
          "Melons, other (inc.cantaloupes)",
          "Nuts nes",
          "Nuts nes",
          "Nuts nes",
          "Oil palm fruit",
          "Oil palm fruit",
          "Oil palm fruit",
          "Oilseeds nes",
          "Onions, dry",
          "Onions, dry",
          "Onions, dry",
          "Onions, shallots, green",
          "Onions, shallots, green",
          "Onions, shallots, green",
          "Oranges",
          "Oranges",
          "Oranges",
          "Papayas",
          "Papayas",
          "Papayas",
          "Pepper (piper spp.)",
          "Pepper (piper spp.)",
          "Pepper (piper spp.)",
          "Pineapples",
          "Pineapples",
          "Pineapples",
          "Plantains and others",
          "Plantains and others",
          "Plantains and others",
          "Potatoes",
          "Potatoes",
          "Potatoes",
          "Rice, paddy",
          "Rice, paddy",
          "Rice, paddy",
          "Rice, paddy (rice milled equivalent)",
          "Roots and tubers nes",
          "Roots and tubers nes",
          "Roots and tubers nes",
          "Rubber, natural",
          "Rubber, natural",
          "Seed cotton",
          "Seed cotton",
          "Seed cotton",
          "Sesame seed",
          "Sesame seed",
          "Sesame seed",
          "Sorghum",
          "Sorghum",
          "Sorghum",
          "Soybeans",
          "Soybeans",
          "Soybeans",
          "Spinach",
          "Spinach",
          "Spinach",
          "Strawberries",
          "Strawberries",
          "Strawberries",
          "Sugar cane",
          "Sugar cane",
          "Sugar cane",
          "Sweet potatoes",
          "Sweet potatoes",
          "Sweet potatoes",
          "Tobacco, unmanufactured",
          "Tobacco, unmanufactured",
          "Tobacco, unmanufactured",
          "Tomatoes",
          "Tomatoes",
          "Tomatoes",
          "Vegetables, fresh nes",
          "Vegetables, fresh nes",
          "Vegetables, fresh nes",
          "Vegetables, leguminous nes",
          "Vegetables, leguminous nes",
          "Watermelons",
          "Watermelons",
          "Watermelons",
          "Yams",
          "Yams",
          "Yams",
          "Yautia (cocoyam)",
          "Yautia (cocoyam)",
          "Yautia (cocoyam)",
          "Cereals, Total",
          "Cereals, Total",
          "Cereals, Total",
          "Citrus Fruit, Total",
          "Citrus Fruit, Total",
          "Citrus Fruit, Total",
          "Fibre Crops Primary",
          "Fibre Crops Primary",
          "Fibre Crops Primary",
          "Fruit Primary",
          "Fruit Primary",
          "Fruit Primary",
          "Oilcrops",
          "Oilcrops",
          "Oilcrops",
          "Oilcrops, Cake Equivalent",
          "Oilcrops, Cake Equivalent",
          "Oilcrops, Cake Equivalent",
          "Oilcrops, Oil Equivalent",
          "Oilcrops, Oil Equivalent",
          "Oilcrops, Oil Equivalent",
          "Pulses, Total",
          "Pulses, Total",
          "Pulses, Total",
          "Roots and Tubers, Total",
          "Roots and Tubers, Total",
          "Roots and Tubers, Total",
          "Sugar Crops Primary",
          "Sugar Crops Primary",
          "Sugar Crops Primary",
          "Treenuts, Total",
          "Treenuts, Total",
          "Treenuts, Total",
          "Vegetables Primary",
          "Vegetables Primary",
          "Vegetables Primary",
          "Agave fibres nes",
          "Agave fibres nes",
          "Agave fibres nes",
          "Avocados",
          "Avocados",
          "Avocados",
          "Bananas",
          "Bananas",
          "Bananas",
          "Bastfibres, other",
          "Bastfibres, other",
          "Bastfibres, other",
          "Beans, dry",
          "Beans, dry",
          "Beans, dry",
          "Cabbages and other brassicas",
          "Cabbages and other brassicas",
          "Cabbages and other brassicas",
          "Cassava",
          "Cassava",
          "Cassava",
          "Chillies and peppers, green",
          "Chillies and peppers, green",
          "Chillies and peppers, green",
          "Cocoa, beans",
          "Cocoa, beans",
          "Cocoa, beans",
          "Coconuts",
          "Coconuts",
          "Coconuts",
          "Coffee, green",
          "Coffee, green",
          "Coffee, green",
          "Cucumbers and gherkins",
          "Cucumbers and gherkins",
          "Cucumbers and gherkins",
          "Eggplants (aubergines)",
          "Eggplants (aubergines)",
          "Fruit, citrus nes",
          "Fruit, citrus nes",
          "Fruit, citrus nes",
          "Fruit, fresh nes",
          "Fruit, fresh nes",
          "Fruit, fresh nes",
          "Fruit, tropical fresh nes",
          "Fruit, tropical fresh nes",
          "Fruit, tropical fresh nes",
          "Garlic",
          "Garlic",
          "Garlic",
          "Grapefruit (inc. pomelos)",
          "Grapefruit (inc. pomelos)",
          "Grapefruit (inc. pomelos)",
          "Grapes",
          "Grapes",
          "Grapes",
          "Groundnuts, with shell",
          "Groundnuts, with shell",
          "Groundnuts, with shell",
          "Lemons and limes",
          "Lemons and limes",
          "Lemons and limes",
          "Maize",
          "Maize",
          "Maize",
          "Mangoes, mangosteens, guavas",
          "Mangoes, mangosteens, guavas",
          "Mangoes, mangosteens, guavas",
          "Melons, other (inc.cantaloupes)",
          "Melons, other (inc.cantaloupes)",
          "Melons, other (inc.cantaloupes)",
          "Onions, dry",
          "Onions, dry",
          "Onions, dry",
          "Oranges",
          "Oranges",
          "Oranges",
          "Papayas",
          "Papayas",
          "Papayas",
          "Pineapples",
          "Pineapples",
          "Pineapples",
          "Plantains and others",
          "Plantains and others",
          "Plantains and others",
          "Potatoes",
          "Potatoes",
          "Potatoes",
          "Pumpkins, squash and gourds",
          "Pumpkins, squash and gourds",
          "Pumpkins, squash and gourds",
          "Rice, paddy",
          "Rice, paddy",
          "Rice, paddy",
          "Rice, paddy (rice milled equivalent)",
          "Seed cotton",
          "Seed cotton",
          "Seed cotton",
          "Sisal",
          "Sisal",
          "Sisal",
          "Sorghum",
          "Sorghum",
          "Sorghum",
          "Sugar cane",
          "Sugar cane",
          "Sugar cane",
          "Sweet potatoes",
          "Sweet potatoes",
          "Sweet potatoes",
          "Tangerines, mandarins, clementines, satsumas",
          "Tangerines, mandarins, clementines, satsumas",
          "Tangerines, mandarins, clementines, satsumas",
          "Tobacco, unmanufactured",
          "Tobacco, unmanufactured",
          "Tobacco, unmanufactured",
          "Tomatoes",
          "Tomatoes",
          "Tomatoes",
          "Vegetables, fresh nes",
          "Vegetables, fresh nes",
          "Vegetables, fresh nes",
          "Watermelons",
          "Watermelons",
          "Watermelons",
          "Yams",
          "Yams",
          "Yams",
          "Yautia (cocoyam)",
          "Yautia (cocoyam)",
          "Yautia (cocoyam)",
          "Cereals, Total",
          "Cereals, Total",
          "Cereals, Total",
          "Citrus Fruit, Total",
          "Citrus Fruit, Total",
          "Citrus Fruit, Total",
          "Fibre Crops Primary",
          "Fibre Crops Primary",
          "Fibre Crops Primary",
          "Fruit Primary",
          "Fruit Primary",
          "Fruit Primary",
          "Oilcrops",
          "Oilcrops",
          "Oilcrops",
          "Oilcrops, Cake Equivalent",
          "Oilcrops, Cake Equivalent",
          "Oilcrops, Cake Equivalent",
          "Oilcrops, Oil Equivalent",
          "Oilcrops, Oil Equivalent",
          "Oilcrops, Oil Equivalent",
          "Pulses, Total",
          "Pulses, Total",
          "Pulses, Total",
          "Roots and Tubers, Total",
          "Roots and Tubers, Total",
          "Roots and Tubers, Total",
          "Sugar Crops Primary",
          "Sugar Crops Primary",
          "Sugar Crops Primary",
          "Vegetables Primary",
          "Vegetables Primary",
          "Vegetables Primary",
          "Avocados",
          "Avocados",
          "Avocados",
          "Bananas",
          "Bananas",
          "Bananas",
          "Cabbages and other brassicas",
          "Cabbages and other brassicas",
          "Cabbages and other brassicas",
          "Carrots and turnips",
          "Carrots and turnips",
          "Carrots and turnips",
          "Cassava",
          "Cassava",
          "Cassava",
          "Cinnamon (cannella)",
          "Cinnamon (cannella)",
          "Cinnamon (cannella)",
          "Cocoa, beans",
          "Cocoa, beans",
          "Cocoa, beans",
          "Coconuts",
          "Coconuts",
          "Coconuts",
          "Coffee, green",
          "Coffee, green",
          "Coffee, green",
          "Cucumbers and gherkins",
          "Cucumbers and gherkins",
          "Cucumbers and gherkins",
          "Eggplants (aubergines)",
          "Eggplants (aubergines)",
          "Fruit, fresh nes",
          "Fruit, fresh nes",
          "Fruit, fresh nes",
          "Ginger",
          "Ginger",
          "Ginger",
          "Grapefruit (inc. pomelos)",
          "Grapefruit (inc. pomelos)",
          "Grapefruit (inc. pomelos)",
          "Lemons and limes",
          "Lemons and limes",
          "Lemons and limes",
          "Lettuce and chicory",
          "Lettuce and chicory",
          "Lettuce and chicory",
          "Maize",
          "Maize",
          "Maize",
          "Mangoes, mangosteens, guavas",
          "Mangoes, mangosteens, guavas",
          "Mangoes, mangosteens, guavas",
          "Nutmeg, mace and cardamoms",
          "Nutmeg, mace and cardamoms",
          "Nutmeg, mace and cardamoms",
          "Nuts nes",
          "Nuts nes",
          "Oranges",
          "Oranges",
          "Oranges",
          "Papayas",
          "Papayas",
          "Papayas",
          "Pepper (piper spp.)",
          "Pepper (piper spp.)",
          "Pineapples",
          "Pineapples",
          "Pineapples",
          "Plantains and others",
          "Plantains and others",
          "Plantains and others",
          "Potatoes",
          "Potatoes",
          "Potatoes",
          "Pulses nes",
          "Pulses nes",
          "Pulses nes",
          "Pumpkins, squash and gourds",
          "Pumpkins, squash and gourds",
          "Pumpkins, squash and gourds",
          "Roots and tubers nes",
          "Roots and tubers nes",
          "Roots and tubers nes",
          "Spices nes",
          "Spices nes",
          "Spices nes",
          "Sugar cane",
          "Sugar cane",
          "Sugar cane",
          "Sweet potatoes",
          "Sweet potatoes",
          "Sweet potatoes",
          "Taro (cocoyam)",
          "Taro (cocoyam)",
          "Taro (cocoyam)",
          "Tomatoes",
          "Tomatoes",
          "Tomatoes",
          "Vegetables, fresh nes",
          "Vegetables, fresh nes",
          "Vegetables, fresh nes",
          "Watermelons",
          "Watermelons",
          "Yams",
          "Yams",
          "Yams",
          "Yautia (cocoyam)",
          "Yautia (cocoyam)",
          "Yautia (cocoyam)",
          "Cereals, Total",
          "Cereals, Total",
          "Cereals, Total",
          "Citrus Fruit, Total",
          "Citrus Fruit, Total",
          "Citrus Fruit, Total",
          "Fruit Primary",
          "Fruit Primary",
          "Fruit Primary",
          "Oilcrops",
          "Oilcrops",
          "Oilcrops",
          "Oilcrops, Cake Equivalent",
          "Oilcrops, Cake Equivalent",
          "Oilcrops, Cake Equivalent",
          "Oilcrops, Oil Equivalent",
          "Oilcrops, Oil Equivalent",
          "Oilcrops, Oil Equivalent",
          "Pulses, Total",
          "Pulses, Total",
          "Pulses, Total",
          "Roots and Tubers, Total",
          "Roots and Tubers, Total",
          "Roots and Tubers, Total",
          "Sugar Crops Primary",
          "Sugar Crops Primary",
          "Sugar Crops Primary",
          "Treenuts, Total",
          "Treenuts, Total",
          "Vegetables Primary",
          "Vegetables Primary",
          "Vegetables Primary",
          "Avocados",
          "Avocados",
          "Avocados",
          "Bananas",
          "Bananas",
          "Bananas",
          "Beans, dry",
          "Beans, dry",
          "Beans, dry",
          "Broad beans, horse beans, dry",
          "Broad beans, horse beans, dry",
          "Broad beans, horse beans, dry",
          "Cabbages and other brassicas",
          "Cabbages and other brassicas",
          "Cabbages and other brassicas",
          "Carrots and turnips",
          "Carrots and turnips",
          "Carrots and turnips",
          "Cashew nuts, with shell",
          "Cashew nuts, with shell",
          "Cashew nuts, with shell",
          "Cassava",
          "Cassava",
          "Cassava",
          "Castor oil seed",
          "Castor oil seed",
          "Castor oil seed",
          "Chick peas",
          "Chick peas",
          "Chick peas",
          "Chillies and peppers, green",
          "Chillies and peppers, green",
          "Chillies and peppers, green",
          "Cocoa, beans",
          "Cocoa, beans",
          "Cocoa, beans",
          "Coconuts",
          "Coconuts",
          "Coconuts",
          "Coffee, green",
          "Coffee, green",
          "Coffee, green",
          "Cucumbers and gherkins",
          "Cucumbers and gherkins",
          "Cucumbers and gherkins",
          "Eggplants (aubergines)",
          "Eggplants (aubergines)",
          "Eggplants (aubergines)",
          "Fruit, fresh nes",
          "Fruit, fresh nes",
          "Fruit, fresh nes",
          "Fruit, tropical fresh nes",
          "Fruit, tropical fresh nes",
          "Fruit, tropical fresh nes",
          "Garlic",
          "Garlic",
          "Garlic",
          "Ginger",
          "Ginger",
          "Ginger",
          "Grapefruit (inc. pomelos)",
          "Grapefruit (inc. pomelos)",
          "Grapefruit (inc. pomelos)",
          "Groundnuts, with shell",
          "Groundnuts, with shell",
          "Groundnuts, with shell",
          "Lemons and limes",
          "Lemons and limes",
          "Lemons and limes",
          "Lettuce and chicory",
          "Lettuce and chicory",
          "Lettuce and chicory",
          "Maize",
          "Maize",
          "Maize",
          "Mangoes, mangosteens, guavas",
          "Mangoes, mangosteens, guavas",
          "Mangoes, mangosteens, guavas",
          "Melons, other (inc.cantaloupes)",
          "Melons, other (inc.cantaloupes)",
          "Melons, other (inc.cantaloupes)",
          "Oil palm fruit",
          "Oil palm fruit",
          "Oil palm fruit",
          "Onions, dry",
          "Onions, dry",
          "Onions, dry",
          "Oranges",
          "Oranges",
          "Oranges",
          "Papayas",
          "Papayas",
          "Papayas",
          "Peas, dry",
          "Peas, dry",
          "Peas, dry",
          "Pigeon peas",
          "Pigeon peas",
          "Pigeon peas",
          "Pineapples",
          "Pineapples",
          "Pineapples",
          "Plantains and others",
          "Plantains and others",
          "Plantains and others",
          "Potatoes",
          "Potatoes",
          "Potatoes",
          "Pulses nes",
          "Pulses nes",
          "Pulses nes",
          "Pumpkins, squash and gourds",
          "Pumpkins, squash and gourds",
          "Pumpkins, squash and gourds",
          "Rice, paddy",
          "Rice, paddy",
          "Rice, paddy",
          "Rice, paddy (rice milled equivalent)",
          "Roots and tubers nes",
          "Roots and tubers nes",
          "Roots and tubers nes",
          "Rubber, natural",
          "Rubber, natural",
          "Rubber, natural",
          "Seed cotton",
          "Seed cotton",
          "Seed cotton",
          "Sesame seed",
          "Sesame seed",
          "Sesame seed",
          "Sisal",
          "Sisal",
          "Sisal",
          "Sorghum",
          "Sorghum",
          "Sorghum",
          "Spices nes",
          "Spices nes",
          "Spices nes",
          "Sugar beet",
          "Sugar beet",
          "Sugar cane",
          "Sugar cane",
          "Sugar cane",
          "Sweet potatoes",
          "Sweet potatoes",
          "Sweet potatoes",
          "Tobacco, unmanufactured",
          "Tobacco, unmanufactured",
          "Tobacco, unmanufactured",
          "Tomatoes",
          "Tomatoes",
          "Tomatoes",
          "Vegetables, fresh nes",
          "Vegetables, fresh nes",
          "Vegetables, fresh nes",
          "Yams",
          "Yams",
          "Yams",
          "Yautia (cocoyam)",
          "Yautia (cocoyam)",
          "Yautia (cocoyam)",
          "Cereals, Total",
          "Cereals, Total",
          "Cereals, Total",
          "Citrus Fruit, Total",
          "Citrus Fruit, Total",
          "Citrus Fruit, Total",
          "Fibre Crops Primary",
          "Fibre Crops Primary",
          "Fibre Crops Primary",
          "Fruit Primary",
          "Fruit Primary",
          "Fruit Primary",
          "Oilcrops",
          "Oilcrops",
          "Oilcrops",
          "Oilcrops, Cake Equivalent",
          "Oilcrops, Cake Equivalent",
          "Oilcrops, Cake Equivalent",
          "Oilcrops, Oil Equivalent",
          "Oilcrops, Oil Equivalent",
          "Oilcrops, Oil Equivalent",
          "Pulses, Total",
          "Pulses, Total",
          "Pulses, Total",
          "Roots and Tubers, Total",
          "Roots and Tubers, Total",
          "Roots and Tubers, Total",
          "Sugar Crops Primary",
          "Sugar Crops Primary",
          "Sugar Crops Primary",
          "Treenuts, Total",
          "Treenuts, Total",
          "Treenuts, Total",
          "Vegetables Primary",
          "Vegetables Primary",
          "Vegetables Primary",
          "Agave fibres nes",
          "Agave fibres nes",
          "Agave fibres nes",
          "Anise, badian, fennel, coriander",
          "Anise, badian, fennel, coriander",
          "Anise, badian, fennel, coriander",
          "Apples",
          "Apples",
          "Apples",
          "Apricots",
          "Apricots",
          "Apricots",
          "Asparagus",
          "Asparagus",
          "Asparagus",
          "Avocados",
          "Avocados",
          "Avocados",
          "Bananas",
          "Bananas",
          "Bananas",
          "Barley",
          "Barley",
          "Barley",
          "Beans, dry",
          "Beans, dry",
          "Beans, dry",
          "Beans, green",
          "Beans, green",
          "Beans, green",
          "Berries nes",
          "Berries nes",
          "Berries nes",
          "Broad beans, horse beans, dry",
          "Broad beans, horse beans, dry",
          "Broad beans, horse beans, dry",
          "Cabbages and other brassicas",
          "Cabbages and other brassicas",
          "Cabbages and other brassicas",
          "Carrots and turnips",
          "Carrots and turnips",
          "Carrots and turnips",
          "Cassava",
          "Cassava",
          "Cassava",
          "Castor oil seed",
          "Castor oil seed",
          "Castor oil seed",
          "Cauliflowers and broccoli",
          "Cauliflowers and broccoli",
          "Cauliflowers and broccoli",
          "Chillies and peppers, green",
          "Chillies and peppers, green",
          "Chillies and peppers, green",
          "Cocoa, beans",
          "Cocoa, beans",
          "Cocoa, beans",
          "Coconuts",
          "Coconuts",
          "Coconuts",
          "Coffee, green",
          "Coffee, green",
          "Coffee, green",
          "Cucumbers and gherkins",
          "Cucumbers and gherkins",
          "Cucumbers and gherkins",
          "Figs",
          "Figs",
          "Figs",
          "Fruit, citrus nes",
          "Fruit, citrus nes",
          "Fruit, citrus nes",
          "Fruit, fresh nes",
          "Fruit, fresh nes",
          "Fruit, fresh nes",
          "Fruit, tropical fresh nes",
          "Fruit, tropical fresh nes",
          "Fruit, tropical fresh nes",
          "Garlic",
          "Garlic",
          "Garlic",
          "Grapefruit (inc. pomelos)",
          "Grapefruit (inc. pomelos)",
          "Grapefruit (inc. pomelos)",
          "Grapes",
          "Grapes",
          "Grapes",
          "Groundnuts, with shell",
          "Groundnuts, with shell",
          "Groundnuts, with shell",
          "Lemons and limes",
          "Lemons and limes",
          "Lemons and limes",
          "Lentils",
          "Lentils",
          "Lentils",
          "Lettuce and chicory",
          "Lettuce and chicory",
          "Lettuce and chicory",
          "Linseed",
          "Linseed",
          "Linseed",
          "Lupins",
          "Lupins",
          "Lupins",
          "Maize",
          "Maize",
          "Maize",
          "Mangoes, mangosteens, guavas",
          "Mangoes, mangosteens, guavas",
          "Mangoes, mangosteens, guavas",
          "Manila fibre (abaca)",
          "Manila fibre (abaca)",
          "Manila fibre (abaca)",
          "Melons, other (inc.cantaloupes)",
          "Melons, other (inc.cantaloupes)",
          "Melons, other (inc.cantaloupes)",
          "Oats",
          "Oats",
          "Oats",
          "Oil palm fruit",
          "Oil palm fruit",
          "Oil palm fruit",
          "Onions, shallots, green",
          "Onions, shallots, green",
          "Onions, shallots, green",
          "Oranges",
          "Oranges",
          "Oranges",
          "Papayas",
          "Papayas",
          "Papayas",
          "Peaches and nectarines",
          "Peaches and nectarines",
          "Peaches and nectarines",
          "Pears",
          "Pears",
          "Pears",
          "Peas, dry",
          "Peas, dry",
          "Peas, dry",
          "Peas, green",
          "Peas, green",
          "Peas, green",
          "Pepper (piper spp.)",
          "Pepper (piper spp.)",
          "Pepper (piper spp.)",
          "Pineapples",
          "Pineapples",
          "Pineapples",
          "Plantains and others",
          "Plantains and others",
          "Plantains and others",
          "Plums and sloes",
          "Plums and sloes",
          "Plums and sloes",
          "Potatoes",
          "Potatoes",
          "Potatoes",
          "Pulses nes",
          "Pulses nes",
          "Pumpkins, squash and gourds",
          "Pumpkins, squash and gourds",
          "Pumpkins, squash and gourds",
          "Pyrethrum, dried",
          "Pyrethrum, dried",
          "Pyrethrum, dried",
          "Quinoa",
          "Quinoa",
          "Quinoa",
          "Rice, paddy",
          "Rice, paddy",
          "Rice, paddy",
          "Rice, paddy (rice milled equivalent)",
          "Roots and tubers nes",
          "Roots and tubers nes",
          "Roots and tubers nes",
          "Rubber, natural",
          "Rubber, natural",
          "Rubber, natural",
          "Rye",
          "Rye",
          "Rye",
          "Seed cotton",
          "Seed cotton",
          "Seed cotton",
          "Sesame seed",
          "Sesame seed",
          "Sesame seed",
          "Sorghum",
          "Sorghum",
          "Sorghum",
          "Soybeans",
          "Soybeans",
          "Soybeans",
          "Spices nes",
          "Spices nes",
          "Spices nes",
          "Strawberries",
          "Strawberries",
          "Strawberries",
          "Sugar beet",
          "Sugar beet",
          "Sugar beet",
          "Sugar cane",
          "Sugar cane",
          "Sugar cane",
          "Sunflower seed",
          "Sunflower seed",
          "Sunflower seed",
          "Sweet potatoes",
          "Sweet potatoes",
          "Sweet potatoes",
          "Tangerines, mandarins, clementines, satsumas",
          "Tangerines, mandarins, clementines, satsumas",
          "Tangerines, mandarins, clementines, satsumas",
          "Tea",
          "Tea",
          "Tea",
          "Tobacco, unmanufactured",
          "Tobacco, unmanufactured",
          "Tobacco, unmanufactured",
          "Tomatoes",
          "Tomatoes",
          "Tomatoes",
          "Vegetables, fresh nes",
          "Vegetables, fresh nes",
          "Vegetables, fresh nes",
          "Vegetables, leguminous nes",
          "Vegetables, leguminous nes",
          "Vegetables, leguminous nes",
          "Watermelons",
          "Watermelons",
          "Watermelons",
          "Wheat",
          "Wheat",
          "Wheat",
          "Cereals, Total",
          "Cereals, Total",
          "Cereals, Total",
          "Citrus Fruit, Total",
          "Citrus Fruit, Total",
          "Citrus Fruit, Total",
          "Fibre Crops Primary",
          "Fibre Crops Primary",
          "Fibre Crops Primary",
          "Fruit Primary",
          "Fruit Primary",
          "Fruit Primary",
          "Oilcrops",
          "Oilcrops",
          "Oilcrops",
          "Oilcrops, Cake Equivalent",
          "Oilcrops, Cake Equivalent",
          "Oilcrops, Cake Equivalent",
          "Oilcrops, Oil Equivalent",
          "Oilcrops, Oil Equivalent",
          "Oilcrops, Oil Equivalent",
          "Pulses, Total",
          "Pulses, Total",
          "Pulses, Total",
          "Roots and Tubers, Total",
          "Roots and Tubers, Total",
          "Roots and Tubers, Total",
          "Sugar Crops Primary",
          "Sugar Crops Primary",
          "Sugar Crops Primary",
          "Vegetables Primary",
          "Vegetables Primary",
          "Vegetables Primary",
          "Agave fibres nes",
          "Agave fibres nes",
          "Agave fibres nes",
          "Apples",
          "Apples",
          "Apples",
          "Avocados",
          "Avocados",
          "Avocados",
          "Bananas",
          "Bananas",
          "Bananas",
          "Bastfibres, other",
          "Bastfibres, other",
          "Bastfibres, other",
          "Beans, dry",
          "Beans, dry",
          "Beans, dry",
          "Cabbages and other brassicas",
          "Cabbages and other brassicas",
          "Cabbages and other brassicas",
          "Cashew nuts, with shell",
          "Cashew nuts, with shell",
          "Cashew nuts, with shell",
          "Cassava",
          "Cassava",
          "Cassava",
          "Castor oil seed",
          "Castor oil seed",
          "Castor oil seed",
          "Chillies and peppers, green",
          "Chillies and peppers, green",
          "Chillies and peppers, green",
          "Cocoa, beans",
          "Cocoa, beans",
          "Cocoa, beans",
          "Coconuts",
          "Coconuts",
          "Coconuts",
          "Coffee, green",
          "Coffee, green",
          "Coffee, green",
          "Cucumbers and gherkins",
          "Cucumbers and gherkins",
          "Cucumbers and gherkins",
          "Fruit, fresh nes",
          "Fruit, fresh nes",
          "Fruit, fresh nes",
          "Groundnuts, with shell",
          "Groundnuts, with shell",
          "Jute",
          "Jute",
          "Jute",
          "Lemons and limes",
          "Lemons and limes",
          "Lemons and limes",
          "Maize",
          "Maize",
          "Maize",
          "Maize, green",
          "Maize, green",
          "Maize, green",
          "Mangoes, mangosteens, guavas",
          "Mangoes, mangosteens, guavas",
          "Mangoes, mangosteens, guavas",
          "Melons, other (inc.cantaloupes)",
          "Melons, other (inc.cantaloupes)",
          "Melons, other (inc.cantaloupes)",
          "Oilseeds nes",
          "Oilseeds nes",
          "Olives",
          "Olives",
          "Olives",
          "Onions, dry",
          "Onions, dry",
          "Onions, dry",
          "Oranges",
          "Oranges",
          "Oranges",
          "Papayas",
          "Papayas",
          "Papayas",
          "Pineapples",
          "Pineapples",
          "Pineapples",
          "Plantains and others",
          "Plantains and others",
          "Plantains and others",
          "Potatoes",
          "Potatoes",
          "Potatoes",
          "Pumpkins, squash and gourds",
          "Pumpkins, squash and gourds",
          "Pumpkins, squash and gourds",
          "Rice, paddy",
          "Rice, paddy",
          "Rice, paddy",
          "Rice, paddy (rice milled equivalent)",
          "Seed cotton",
          "Seed cotton",
          "Seed cotton",
          "Sesame seed",
          "Sesame seed",
          "Sesame seed",
          "Sorghum",
          "Sorghum",
          "Sorghum",
          "Soybeans",
          "Soybeans",
          "Soybeans",
          "Sugar cane",
          "Sugar cane",
          "Sugar cane",
          "Sweet potatoes",
          "Sweet potatoes",
          "Sweet potatoes",
          "Tangerines, mandarins, clementines, satsumas",
          "Tangerines, mandarins, clementines, satsumas",
          "Tangerines, mandarins, clementines, satsumas",
          "Tea",
          "Tea",
          "Tea",
          "Tobacco, unmanufactured",
          "Tobacco, unmanufactured",
          "Tobacco, unmanufactured",
          "Tomatoes",
          "Tomatoes",
          "Tomatoes",
          "Vegetables, fresh nes",
          "Vegetables, fresh nes",
          "Vegetables, fresh nes",
          "Watermelons",
          "Watermelons",
          "Watermelons",
          "Yautia (cocoyam)",
          "Yautia (cocoyam)",
          "Yautia (cocoyam)",
          "Cereals, Total",
          "Cereals, Total",
          "Cereals, Total",
          "Citrus Fruit, Total",
          "Citrus Fruit, Total",
          "Citrus Fruit, Total",
          "Fibre Crops Primary",
          "Fibre Crops Primary",
          "Fibre Crops Primary",
          "Fruit Primary",
          "Fruit Primary",
          "Fruit Primary",
          "Oilcrops",
          "Oilcrops",
          "Oilcrops",
          "Oilcrops, Cake Equivalent",
          "Oilcrops, Cake Equivalent",
          "Oilcrops, Cake Equivalent",
          "Oilcrops, Oil Equivalent",
          "Oilcrops, Oil Equivalent",
          "Oilcrops, Oil Equivalent",
          "Pulses, Total",
          "Pulses, Total",
          "Pulses, Total",
          "Roots and Tubers, Total",
          "Roots and Tubers, Total",
          "Roots and Tubers, Total",
          "Sugar Crops Primary",
          "Sugar Crops Primary",
          "Sugar Crops Primary",
          "Treenuts, Total",
          "Treenuts, Total",
          "Treenuts, Total",
          "Vegetables Primary",
          "Vegetables Primary",
          "Vegetables Primary",
          "Avocados",
          "Avocados",
          "Avocados",
          "Bananas",
          "Bananas",
          "Bananas",
          "Beans, green",
          "Beans, green",
          "Beans, green",
          "Cabbages and other brassicas",
          "Cabbages and other brassicas",
          "Cabbages and other brassicas",
          "Cassava",
          "Cassava",
          "Cassava",
          "Chillies and peppers, dry",
          "Chillies and peppers, dry",
          "Chillies and peppers, dry",
          "Coconuts",
          "Coconuts",
          "Coconuts",
          "Cucumbers and gherkins",
          "Cucumbers and gherkins",
          "Cucumbers and gherkins",
          "Eggplants (aubergines)",
          "Eggplants (aubergines)",
          "Eggplants (aubergines)",
          "Fruit, citrus nes",
          "Fruit, citrus nes",
          "Fruit, citrus nes",
          "Fruit, fresh nes",
          "Fruit, fresh nes",
          "Fruit, fresh nes",
          "Fruit, tropical fresh nes",
          "Fruit, tropical fresh nes",
          "Fruit, tropical fresh nes",
          "Grapefruit (inc. pomelos)",
          "Grapefruit (inc. pomelos)",
          "Grapefruit (inc. pomelos)",
          "Lemons and limes",
          "Lemons and limes",
          "Lemons and limes",
          "Lettuce and chicory",
          "Lettuce and chicory",
          "Lettuce and chicory",
          "Maize",
          "Maize",
          "Maize",
          "Mangoes, mangosteens, guavas",
          "Mangoes, mangosteens, guavas",
          "Mangoes, mangosteens, guavas",
          "Oranges",
          "Oranges",
          "Oranges",
          "Papayas",
          "Papayas",
          "Papayas",
          "Pineapples",
          "Pineapples",
          "Pineapples",
          "Plantains and others",
          "Plantains and others",
          "Plantains and others",
          "Rice, paddy",
          "Rice, paddy",
          "Rice, paddy",
          "Rice, paddy (rice milled equivalent)",
          "Soybeans",
          "Soybeans",
          "Soybeans",
          "Sugar cane",
          "Sugar cane",
          "Sugar cane",
          "Tangerines, mandarins, clementines, satsumas",
          "Tangerines, mandarins, clementines, satsumas",
          "Tangerines, mandarins, clementines, satsumas",
          "Taro (cocoyam)",
          "Taro (cocoyam)",
          "Taro (cocoyam)",
          "Tomatoes",
          "Tomatoes",
          "Tomatoes",
          "Vegetables, fresh nes",
          "Vegetables, fresh nes",
          "Vegetables, fresh nes",
          "Watermelons",
          "Watermelons",
          "Watermelons",
          "Cereals, Total",
          "Cereals, Total",
          "Cereals, Total",
          "Citrus Fruit, Total",
          "Citrus Fruit, Total",
          "Citrus Fruit, Total",
          "Fruit Primary",
          "Fruit Primary",
          "Fruit Primary",
          "Oilcrops",
          "Oilcrops",
          "Oilcrops",
          "Oilcrops, Cake Equivalent",
          "Oilcrops, Cake Equivalent",
          "Oilcrops, Cake Equivalent",
          "Oilcrops, Oil Equivalent",
          "Oilcrops, Oil Equivalent",
          "Oilcrops, Oil Equivalent",
          "Roots and Tubers, Total",
          "Roots and Tubers, Total",
          "Roots and Tubers, Total",
          "Sugar Crops Primary",
          "Sugar Crops Primary",
          "Sugar Crops Primary",
          "Vegetables Primary",
          "Vegetables Primary",
          "Vegetables Primary",
          "Apples",
          "Apples",
          "Apples",
          "Avocados",
          "Avocados",
          "Avocados",
          "Bananas",
          "Bananas",
          "Bananas",
          "Beans, dry",
          "Beans, dry",
          "Beans, dry",
          "Cabbages and other brassicas",
          "Cabbages and other brassicas",
          "Cabbages and other brassicas",
          "Carrots and turnips",
          "Carrots and turnips",
          "Carrots and turnips",
          "Cassava",
          "Cassava",
          "Cassava",
          "Cauliflowers and broccoli",
          "Cauliflowers and broccoli",
          "Cauliflowers and broccoli",
          "Chillies and peppers, dry",
          "Chillies and peppers, dry",
          "Chillies and peppers, dry",
          "Cinnamon (cannella)",
          "Cloves",
          "Cocoa, beans",
          "Cocoa, beans",
          "Cocoa, beans",
          "Coconuts",
          "Coconuts",
          "Coconuts",
          "Cucumbers and gherkins",
          "Cucumbers and gherkins",
          "Cucumbers and gherkins",
          "Fruit, citrus nes",
          "Fruit, citrus nes",
          "Fruit, citrus nes",
          "Fruit, fresh nes",
          "Fruit, fresh nes",
          "Fruit, fresh nes",
          "Fruit, tropical fresh nes",
          "Ginger",
          "Ginger",
          "Ginger",
          "Grapefruit (inc. pomelos)",
          "Grapefruit (inc. pomelos)",
          "Grapefruit (inc. pomelos)",
          "Lemons and limes",
          "Lemons and limes",
          "Lemons and limes",
          "Lettuce and chicory",
          "Lettuce and chicory",
          "Lettuce and chicory",
          "Maize",
          "Maize",
          "Maize",
          "Mangoes, mangosteens, guavas",
          "Mangoes, mangosteens, guavas",
          "Mangoes, mangosteens, guavas",
          "Melons, other (inc.cantaloupes)",
          "Melons, other (inc.cantaloupes)",
          "Melons, other (inc.cantaloupes)",
          "Nutmeg, mace and cardamoms",
          "Nutmeg, mace and cardamoms",
          "Nutmeg, mace and cardamoms",
          "Oranges",
          "Oranges",
          "Oranges",
          "Papayas",
          "Papayas",
          "Pigeon peas",
          "Pigeon peas",
          "Pigeon peas",
          "Pineapples",
          "Pineapples",
          "Pineapples",
          "Plantains and others",
          "Plantains and others",
          "Plantains and others",
          "Plums and sloes",
          "Plums and sloes",
          "Plums and sloes",
          "Pumpkins, squash and gourds",
          "Pumpkins, squash and gourds",
          "Pumpkins, squash and gourds",
          "Roots and tubers nes",
          "Roots and tubers nes",
          "Roots and tubers nes",
          "Seed cotton",
          "Seed cotton",
          "Seed cotton",
          "Spices nes",
          "Spices nes",
          "Spices nes",
          "Sugar cane",
          "Sugar cane",
          "Sugar cane",
          "Sweet potatoes",
          "Sweet potatoes",
          "Sweet potatoes",
          "Tomatoes",
          "Tomatoes",
          "Tomatoes",
          "Vegetables, fresh nes",
          "Vegetables, fresh nes",
          "Vegetables, fresh nes",
          "Watermelons",
          "Watermelons",
          "Watermelons",
          "Yams",
          "Yams",
          "Yams",
          "Cereals, Total",
          "Cereals, Total",
          "Cereals, Total",
          "Citrus Fruit, Total",
          "Citrus Fruit, Total",
          "Citrus Fruit, Total",
          "Fibre Crops Primary",
          "Fibre Crops Primary",
          "Fibre Crops Primary",
          "Fruit Primary",
          "Fruit Primary",
          "Fruit Primary",
          "Oilcrops",
          "Oilcrops",
          "Oilcrops",
          "Oilcrops, Cake Equivalent",
          "Oilcrops, Cake Equivalent",
          "Oilcrops, Cake Equivalent",
          "Oilcrops, Oil Equivalent",
          "Oilcrops, Oil Equivalent",
          "Oilcrops, Oil Equivalent",
          "Pulses, Total",
          "Pulses, Total",
          "Pulses, Total",
          "Roots and Tubers, Total",
          "Roots and Tubers, Total",
          "Roots and Tubers, Total",
          "Sugar Crops Primary",
          "Sugar Crops Primary",
          "Sugar Crops Primary",
          "Vegetables Primary",
          "Vegetables Primary",
          "Vegetables Primary",
          "Apricots",
          "Avocados",
          "Avocados",
          "Avocados",
          "Bananas",
          "Bananas",
          "Bananas",
          "Beans, green",
          "Beans, green",
          "Beans, green",
          "Cabbages and other brassicas",
          "Cabbages and other brassicas",
          "Cabbages and other brassicas",
          "Carrots and turnips",
          "Carrots and turnips",
          "Carrots and turnips",
          "Cashew nuts, with shell",
          "Cashew nuts, with shell",
          "Cassava",
          "Cassava",
          "Cassava",
          "Chillies and peppers, green",
          "Chillies and peppers, green",
          "Chillies and peppers, green",
          "Cocoa, beans",
          "Cocoa, beans",
          "Cocoa, beans",
          "Coconuts",
          "Coconuts",
          "Coconuts",
          "Coffee, green",
          "Coffee, green",
          "Coffee, green",
          "Cucumbers and gherkins",
          "Cucumbers and gherkins",
          "Cucumbers and gherkins",
          "Eggplants (aubergines)",
          "Eggplants (aubergines)",
          "Eggplants (aubergines)",
          "Fruit, tropical fresh nes",
          "Fruit, tropical fresh nes",
          "Fruit, tropical fresh nes",
          "Grapefruit (inc. pomelos)",
          "Grapefruit (inc. pomelos)",
          "Grapefruit (inc. pomelos)",
          "Lemons and limes",
          "Lemons and limes",
          "Lemons and limes",
          "Lettuce and chicory",
          "Lettuce and chicory",
          "Lettuce and chicory",
          "Maize",
          "Maize",
          "Maize",
          "Mangoes, mangosteens, guavas",
          "Mangoes, mangosteens, guavas",
          "Mangoes, mangosteens, guavas",
          "Melons, other (inc.cantaloupes)",
          "Melons, other (inc.cantaloupes)",
          "Melons, other (inc.cantaloupes)",
          "Nuts nes",
          "Onions, dry",
          "Onions, dry",
          "Onions, dry",
          "Oranges",
          "Oranges",
          "Oranges",
          "Papayas",
          "Pineapples",
          "Pineapples",
          "Pineapples",
          "Plantains and others",
          "Plantains and others",
          "Plantains and others",
          "Potatoes",
          "Potatoes",
          "Potatoes",
          "Pulses nes",
          "Pulses nes",
          "Pulses nes",
          "Pumpkins, squash and gourds",
          "Pumpkins, squash and gourds",
          "Pumpkins, squash and gourds",
          "Roots and tubers nes",
          "Roots and tubers nes",
          "Roots and tubers nes",
          "Seed cotton",
          "Seed cotton",
          "Seed cotton",
          "Sugar cane",
          "Sugar cane",
          "Sugar cane",
          "Sweet potatoes",
          "Sweet potatoes",
          "Sweet potatoes",
          "Tangerines, mandarins, clementines, satsumas",
          "Tangerines, mandarins, clementines, satsumas",
          "Tangerines, mandarins, clementines, satsumas",
          "Tobacco, unmanufactured",
          "Tobacco, unmanufactured",
          "Tobacco, unmanufactured",
          "Tomatoes",
          "Tomatoes",
          "Tomatoes",
          "Vanilla",
          "Vanilla",
          "Vanilla",
          "Vegetables, fresh nes",
          "Vegetables, fresh nes",
          "Vegetables, fresh nes",
          "Watermelons",
          "Watermelons",
          "Watermelons",
          "Yams",
          "Yams",
          "Yams",
          "Cereals, Total",
          "Cereals, Total",
          "Cereals, Total",
          "Citrus Fruit, Total",
          "Citrus Fruit, Total",
          "Citrus Fruit, Total",
          "Fibre Crops Primary",
          "Fibre Crops Primary",
          "Fibre Crops Primary",
          "Fruit Primary",
          "Fruit Primary",
          "Fruit Primary",
          "Oilcrops",
          "Oilcrops",
          "Oilcrops",
          "Oilcrops, Cake Equivalent",
          "Oilcrops, Cake Equivalent",
          "Oilcrops, Cake Equivalent",
          "Oilcrops, Oil Equivalent",
          "Oilcrops, Oil Equivalent",
          "Oilcrops, Oil Equivalent",
          "Pulses, Total",
          "Pulses, Total",
          "Pulses, Total",
          "Roots and Tubers, Total",
          "Roots and Tubers, Total",
          "Roots and Tubers, Total",
          "Sugar Crops Primary",
          "Sugar Crops Primary",
          "Sugar Crops Primary",
          "Treenuts, Total",
          "Treenuts, Total",
          "Vegetables Primary",
          "Vegetables Primary",
          "Vegetables Primary",
          "Agave fibres nes",
          "Agave fibres nes",
          "Agave fibres nes",
          "Anise, badian, fennel, coriander",
          "Anise, badian, fennel, coriander",
          "Anise, badian, fennel, coriander",
          "Apples",
          "Apples",
          "Apples",
          "Avocados",
          "Avocados",
          "Avocados",
          "Bananas",
          "Bananas",
          "Bananas",
          "Barley",
          "Barley",
          "Barley",
          "Bastfibres, other",
          "Bastfibres, other",
          "Bastfibres, other",
          "Beans, dry",
          "Beans, dry",
          "Beans, dry",
          "Beans, green",
          "Beans, green",
          "Beans, green",
          "Broad beans, horse beans, dry",
          "Broad beans, horse beans, dry",
          "Broad beans, horse beans, dry",
          "Buckwheat",
          "Buckwheat",
          "Cabbages and other brassicas",
          "Cabbages and other brassicas",
          "Cabbages and other brassicas",
          "Carrots and turnips",
          "Carrots and turnips",
          "Carrots and turnips",
          "Cassava",
          "Cassava",
          "Cassava",
          "Cauliflowers and broccoli",
          "Cauliflowers and broccoli",
          "Cauliflowers and broccoli",
          "Chillies and peppers, green",
          "Chillies and peppers, green",
          "Chillies and peppers, green",
          "Cocoa, beans",
          "Cocoa, beans",
          "Cocoa, beans",
          "Coconuts",
          "Coconuts",
          "Coconuts",
          "Coffee, green",
          "Coffee, green",
          "Coffee, green",
          "Fruit, citrus nes",
          "Fruit, citrus nes",
          "Fruit, citrus nes",
          "Fruit, fresh nes",
          "Fruit, fresh nes",
          "Fruit, fresh nes",
          "Garlic",
          "Garlic",
          "Garlic",
          "Grapes",
          "Grapes",
          "Grapes",
          "Groundnuts, with shell",
          "Groundnuts, with shell",
          "Groundnuts, with shell",
          "Lemons and limes",
          "Lemons and limes",
          "Lemons and limes",
          "Lettuce and chicory",
          "Lettuce and chicory",
          "Lettuce and chicory",
          "Maize",
          "Maize",
          "Maize",
          "Mangoes, mangosteens, guavas",
          "Mangoes, mangosteens, guavas",
          "Mangoes, mangosteens, guavas",
          "Melons, other (inc.cantaloupes)",
          "Melons, other (inc.cantaloupes)",
          "Melons, other (inc.cantaloupes)",
          "Nutmeg, mace and cardamoms",
          "Nutmeg, mace and cardamoms",
          "Nutmeg, mace and cardamoms",
          "Nuts nes",
          "Nuts nes",
          "Nuts nes",
          "Oil palm fruit",
          "Oil palm fruit",
          "Oil palm fruit",
          "Okra",
          "Okra",
          "Okra",
          "Onions, dry",
          "Onions, dry",
          "Onions, dry",
          "Oranges",
          "Oranges",
          "Oranges",
          "Papayas",
          "Papayas",
          "Papayas",
          "Peaches and nectarines",
          "Peaches and nectarines",
          "Peaches and nectarines",
          "Peas, green",
          "Peas, green",
          "Peas, green",
          "Pepper (piper spp.)",
          "Pepper (piper spp.)",
          "Pepper (piper spp.)",
          "Pineapples",
          "Pineapples",
          "Pineapples",
          "Plantains and others",
          "Plantains and others",
          "Plantains and others",
          "Potatoes",
          "Potatoes",
          "Potatoes",
          "Pulses nes",
          "Pulses nes",
          "Pulses nes",
          "Rice, paddy",
          "Rice, paddy",
          "Rice, paddy",
          "Rice, paddy (rice milled equivalent)",
          "Rubber, natural",
          "Rubber, natural",
          "Rubber, natural",
          "Seed cotton",
          "Seed cotton",
          "Seed cotton",
          "Sesame seed",
          "Sesame seed",
          "Sesame seed",
          "Sisal",
          "Sisal",
          "Sorghum",
          "Sorghum",
          "Sorghum",
          "Soybeans",
          "Soybeans",
          "Soybeans",
          "Spices nes",
          "Spices nes",
          "Spices nes",
          "Strawberries",
          "Strawberries",
          "Strawberries",
          "Sugar cane",
          "Sugar cane",
          "Sugar cane",
          "Sweet potatoes",
          "Sweet potatoes",
          "Sweet potatoes",
          "Tea",
          "Tea",
          "Tea",
          "Tobacco, unmanufactured",
          "Tobacco, unmanufactured",
          "Tobacco, unmanufactured",
          "Tomatoes",
          "Tomatoes",
          "Tomatoes",
          "Vegetables, fresh nes",
          "Vegetables, fresh nes",
          "Vegetables, fresh nes",
          "Vegetables, leguminous nes",
          "Vegetables, leguminous nes",
          "Vegetables, leguminous nes",
          "Watermelons",
          "Watermelons",
          "Watermelons",
          "Wheat",
          "Wheat",
          "Wheat",
          "Cereals, Total",
          "Cereals, Total",
          "Cereals, Total",
          "Citrus Fruit, Total",
          "Citrus Fruit, Total",
          "Citrus Fruit, Total",
          "Fibre Crops Primary",
          "Fibre Crops Primary",
          "Fibre Crops Primary",
          "Fruit Primary",
          "Fruit Primary",
          "Fruit Primary",
          "Oilcrops",
          "Oilcrops",
          "Oilcrops",
          "Oilcrops, Cake Equivalent",
          "Oilcrops, Cake Equivalent",
          "Oilcrops, Cake Equivalent",
          "Oilcrops, Oil Equivalent",
          "Oilcrops, Oil Equivalent",
          "Oilcrops, Oil Equivalent",
          "Pulses, Total",
          "Pulses, Total",
          "Pulses, Total",
          "Roots and Tubers, Total",
          "Roots and Tubers, Total",
          "Roots and Tubers, Total",
          "Sugar Crops Primary",
          "Sugar Crops Primary",
          "Sugar Crops Primary",
          "Treenuts, Total",
          "Treenuts, Total",
          "Treenuts, Total",
          "Vegetables Primary",
          "Vegetables Primary",
          "Vegetables Primary",
          "Avocados",
          "Avocados",
          "Avocados",
          "Bananas",
          "Bananas",
          "Bananas",
          "Beans, green",
          "Beans, green",
          "Beans, green",
          "Broad beans, horse beans, dry",
          "Broad beans, horse beans, dry",
          "Broad beans, horse beans, dry",
          "Cabbages and other brassicas",
          "Cabbages and other brassicas",
          "Cabbages and other brassicas",
          "Cashewapple",
          "Cashewapple",
          "Cashewapple",
          "Cassava",
          "Cassava",
          "Cassava",
          "Cherries",
          "Cherries",
          "Cherries",
          "Chillies and peppers, green",
          "Chillies and peppers, green",
          "Chillies and peppers, green",
          "Cocoa, beans",
          "Cocoa, beans",
          "Cocoa, beans",
          "Coconuts",
          "Coconuts",
          "Coconuts",
          "Coffee, green",
          "Coffee, green",
          "Coffee, green",
          "Cow peas, dry",
          "Cow peas, dry",
          "Cow peas, dry",
          "Cucumbers and gherkins",
          "Cucumbers and gherkins",
          "Cucumbers and gherkins",
          "Eggplants (aubergines)",
          "Eggplants (aubergines)",
          "Eggplants (aubergines)",
          "Fruit, citrus nes",
          "Fruit, citrus nes",
          "Fruit, citrus nes",
          "Fruit, fresh nes",
          "Fruit, fresh nes",
          "Fruit, fresh nes",
          "Fruit, tropical fresh nes",
          "Fruit, tropical fresh nes",
          "Fruit, tropical fresh nes",
          "Ginger",
          "Ginger",
          "Ginger",
          "Grapefruit (inc. pomelos)",
          "Grapefruit (inc. pomelos)",
          "Grapefruit (inc. pomelos)",
          "Groundnuts, with shell",
          "Groundnuts, with shell",
          "Groundnuts, with shell",
          "Gums, natural",
          "Lemons and limes",
          "Lemons and limes",
          "Lemons and limes",
          "Maize",
          "Maize",
          "Maize",
          "Mangoes, mangosteens, guavas",
          "Mangoes, mangosteens, guavas",
          "Mangoes, mangosteens, guavas",
          "Okra",
          "Okra",
          "Okra",
          "Onions, dry",
          "Onions, dry",
          "Onions, dry",
          "Onions, shallots, green",
          "Onions, shallots, green",
          "Oranges",
          "Oranges",
          "Oranges",
          "Papayas",
          "Papayas",
          "Papayas",
          "Peas, dry",
          "Peas, dry",
          "Peas, dry",
          "Pepper (piper spp.)",
          "Pepper (piper spp.)",
          "Pepper (piper spp.)",
          "Pineapples",
          "Pineapples",
          "Pineapples",
          "Plantains and others",
          "Plantains and others",
          "Plantains and others",
          "Pumpkins, squash and gourds",
          "Pumpkins, squash and gourds",
          "Pumpkins, squash and gourds",
          "Rice, paddy",
          "Rice, paddy",
          "Rice, paddy",
          "Rice, paddy (rice milled equivalent)",
          "Roots and tubers nes",
          "Roots and tubers nes",
          "Roots and tubers nes",
          "Soybeans",
          "Soybeans",
          "Soybeans",
          "Spices nes",
          "Spices nes",
          "Spices nes",
          "Sugar cane",
          "Sugar cane",
          "Sugar cane",
          "Sweet potatoes",
          "Sweet potatoes",
          "Sweet potatoes",
          "Taro (cocoyam)",
          "Taro (cocoyam)",
          "Taro (cocoyam)",
          "Tobacco, unmanufactured",
          "Tobacco, unmanufactured",
          "Tobacco, unmanufactured",
          "Tomatoes",
          "Tomatoes",
          "Tomatoes",
          "Vegetables, fresh nes",
          "Vegetables, fresh nes",
          "Vegetables, fresh nes",
          "Watermelons",
          "Watermelons",
          "Watermelons",
          "Yams",
          "Yams",
          "Yams",
          "Cereals, Total",
          "Cereals, Total",
          "Cereals, Total",
          "Citrus Fruit, Total",
          "Citrus Fruit, Total",
          "Citrus Fruit, Total",
          "Fruit Primary",
          "Fruit Primary",
          "Fruit Primary",
          "Oilcrops",
          "Oilcrops",
          "Oilcrops",
          "Oilcrops, Cake Equivalent",
          "Oilcrops, Cake Equivalent",
          "Oilcrops, Cake Equivalent",
          "Oilcrops, Oil Equivalent",
          "Oilcrops, Oil Equivalent",
          "Oilcrops, Oil Equivalent",
          "Pulses, Total",
          "Pulses, Total",
          "Pulses, Total",
          "Roots and Tubers, Total",
          "Roots and Tubers, Total",
          "Roots and Tubers, Total",
          "Sugar Crops Primary",
          "Sugar Crops Primary",
          "Sugar Crops Primary",
          "Vegetables Primary",
          "Vegetables Primary",
          "Vegetables Primary",
          "Avocados",
          "Avocados",
          "Avocados",
          "Bananas",
          "Bananas",
          "Bananas",
          "Beans, dry",
          "Beans, dry",
          "Beans, dry",
          "Cabbages and other brassicas",
          "Cabbages and other brassicas",
          "Cabbages and other brassicas",
          "Cassava",
          "Cassava",
          "Cassava",
          "Castor oil seed",
          "Castor oil seed",
          "Castor oil seed",
          "Chicory roots",
          "Chicory roots",
          "Chicory roots",
          "Cocoa, beans",
          "Cocoa, beans",
          "Cocoa, beans",
          "Coconuts",
          "Coconuts",
          "Coconuts",
          "Coffee, green",
          "Coffee, green",
          "Coffee, green",
          "Cow peas, dry",
          "Cow peas, dry",
          "Cow peas, dry",
          "Eggplants (aubergines)",
          "Eggplants (aubergines)",
          "Eggplants (aubergines)",
          "Fruit, fresh nes",
          "Fruit, fresh nes",
          "Fruit, fresh nes",
          "Fruit, tropical fresh nes",
          "Fruit, tropical fresh nes",
          "Fruit, tropical fresh nes",
          "Garlic",
          "Garlic",
          "Garlic",
          "Grapefruit (inc. pomelos)",
          "Grapefruit (inc. pomelos)",
          "Grapefruit (inc. pomelos)",
          "Groundnuts, with shell",
          "Groundnuts, with shell",
          "Groundnuts, with shell",
          "Lemons and limes",
          "Lemons and limes",
          "Lemons and limes",
          "Lettuce and chicory",
          "Lettuce and chicory",
          "Lettuce and chicory",
          "Maize",
          "Maize",
          "Maize",
          "Mangoes, mangosteens, guavas",
          "Mangoes, mangosteens, guavas",
          "Mangoes, mangosteens, guavas",
          "Melons, other (inc.cantaloupes)",
          "Melons, other (inc.cantaloupes)",
          "Melons, other (inc.cantaloupes)",
          "Onions, dry",
          "Onions, dry",
          "Onions, dry",
          "Oranges",
          "Oranges",
          "Oranges",
          "Papayas",
          "Papayas",
          "Papayas",
          "Pigeon peas",
          "Pigeon peas",
          "Pigeon peas",
          "Pineapples",
          "Pineapples",
          "Pineapples",
          "Plantains and others",
          "Plantains and others",
          "Plantains and others",
          "Potatoes",
          "Potatoes",
          "Potatoes",
          "Pumpkins, squash and gourds",
          "Pumpkins, squash and gourds",
          "Pumpkins, squash and gourds",
          "Rice, paddy",
          "Rice, paddy",
          "Rice, paddy",
          "Rice, paddy (rice milled equivalent)",
          "Roots and tubers nes",
          "Roots and tubers nes",
          "Roots and tubers nes",
          "Seed cotton",
          "Seed cotton",
          "Seed cotton",
          "Sesame seed",
          "Sesame seed",
          "Sesame seed",
          "Sisal",
          "Sisal",
          "Sisal",
          "Sorghum",
          "Sorghum",
          "Sorghum",
          "Spinach",
          "Spinach",
          "Spinach",
          "Sugar cane",
          "Sugar cane",
          "Sugar cane",
          "Sweet potatoes",
          "Sweet potatoes",
          "Sweet potatoes",
          "Tangerines, mandarins, clementines, satsumas",
          "Tangerines, mandarins, clementines, satsumas",
          "Tangerines, mandarins, clementines, satsumas",
          "Tobacco, unmanufactured",
          "Tobacco, unmanufactured",
          "Tobacco, unmanufactured",
          "Tomatoes",
          "Tomatoes",
          "Tomatoes",
          "Vegetables, fresh nes",
          "Vegetables, fresh nes",
          "Vegetables, fresh nes",
          "Yams",
          "Yams",
          "Yams",
          "Cereals, Total",
          "Cereals, Total",
          "Cereals, Total",
          "Citrus Fruit, Total",
          "Citrus Fruit, Total",
          "Citrus Fruit, Total",
          "Fibre Crops Primary",
          "Fibre Crops Primary",
          "Fibre Crops Primary",
          "Fruit Primary",
          "Fruit Primary",
          "Fruit Primary",
          "Oilcrops",
          "Oilcrops",
          "Oilcrops",
          "Oilcrops, Cake Equivalent",
          "Oilcrops, Cake Equivalent",
          "Oilcrops, Cake Equivalent",
          "Oilcrops, Oil Equivalent",
          "Oilcrops, Oil Equivalent",
          "Oilcrops, Oil Equivalent",
          "Pulses, Total",
          "Pulses, Total",
          "Pulses, Total",
          "Roots and Tubers, Total",
          "Roots and Tubers, Total",
          "Roots and Tubers, Total",
          "Sugar Crops Primary",
          "Sugar Crops Primary",
          "Sugar Crops Primary",
          "Vegetables Primary",
          "Vegetables Primary",
          "Vegetables Primary",
          "Apples",
          "Apples",
          "Apples",
          "Avocados",
          "Avocados",
          "Avocados",
          "Bananas",
          "Bananas",
          "Bananas",
          "Beans, dry",
          "Beans, dry",
          "Beans, dry",
          "Cabbages and other brassicas",
          "Cabbages and other brassicas",
          "Cabbages and other brassicas",
          "Carrots and turnips",
          "Carrots and turnips",
          "Carrots and turnips",
          "Cashew nuts, with shell",
          "Cashew nuts, with shell",
          "Cashew nuts, with shell",
          "Cassava",
          "Cassava",
          "Cassava",
          "Cauliflowers and broccoli",
          "Cauliflowers and broccoli",
          "Cauliflowers and broccoli",
          "Chillies and peppers, green",
          "Chillies and peppers, green",
          "Chillies and peppers, green",
          "Cocoa, beans",
          "Cocoa, beans",
          "Cocoa, beans",
          "Coconuts",
          "Coconuts",
          "Coconuts",
          "Coffee, green",
          "Coffee, green",
          "Coffee, green",
          "Cucumbers and gherkins",
          "Cucumbers and gherkins",
          "Cucumbers and gherkins",
          "Eggplants (aubergines)",
          "Eggplants (aubergines)",
          "Eggplants (aubergines)",
          "Fruit, citrus nes",
          "Fruit, citrus nes",
          "Fruit, citrus nes",
          "Fruit, fresh nes",
          "Fruit, fresh nes",
          "Fruit, fresh nes",
          "Garlic",
          "Garlic",
          "Garlic",
          "Grapefruit (inc. pomelos)",
          "Grapefruit (inc. pomelos)",
          "Grapefruit (inc. pomelos)",
          "Grapes",
          "Grapes",
          "Grapes",
          "Groundnuts, with shell",
          "Groundnuts, with shell",
          "Groundnuts, with shell",
          "Lemons and limes",
          "Lemons and limes",
          "Lemons and limes",
          "Lettuce and chicory",
          "Lettuce and chicory",
          "Lettuce and chicory",
          "Maize",
          "Maize",
          "Maize",
          "Mangoes, mangosteens, guavas",
          "Mangoes, mangosteens, guavas",
          "Mangoes, mangosteens, guavas",
          "Melons, other (inc.cantaloupes)",
          "Melons, other (inc.cantaloupes)",
          "Melons, other (inc.cantaloupes)",
          "Nutmeg, mace and cardamoms",
          "Nutmeg, mace and cardamoms",
          "Nutmeg, mace and cardamoms",
          "Oil palm fruit",
          "Oil palm fruit",
          "Oil palm fruit",
          "Onions, dry",
          "Onions, dry",
          "Onions, dry",
          "Oranges",
          "Oranges",
          "Oranges",
          "Papayas",
          "Papayas",
          "Papayas",
          "Pepper (piper spp.)",
          "Pepper (piper spp.)",
          "Pepper (piper spp.)",
          "Pineapples",
          "Pineapples",
          "Pineapples",
          "Plantains and others",
          "Plantains and others",
          "Plantains and others",
          "Potatoes",
          "Potatoes",
          "Potatoes",
          "Pumpkins, squash and gourds",
          "Pumpkins, squash and gourds",
          "Pumpkins, squash and gourds",
          "Rice, paddy",
          "Rice, paddy",
          "Rice, paddy",
          "Rice, paddy (rice milled equivalent)",
          "Roots and tubers nes",
          "Roots and tubers nes",
          "Roots and tubers nes",
          "Seed cotton",
          "Seed cotton",
          "Seed cotton",
          "Sesame seed",
          "Sesame seed",
          "Sesame seed",
          "Sorghum",
          "Sorghum",
          "Sorghum",
          "Soybeans",
          "Soybeans",
          "Soybeans",
          "Sugar cane",
          "Sugar cane",
          "Sugar cane",
          "Sweet potatoes",
          "Sweet potatoes",
          "Sweet potatoes",
          "Taro (cocoyam)",
          "Taro (cocoyam)",
          "Taro (cocoyam)",
          "Tobacco, unmanufactured",
          "Tobacco, unmanufactured",
          "Tobacco, unmanufactured",
          "Tomatoes",
          "Tomatoes",
          "Tomatoes",
          "Vegetables, fresh nes",
          "Vegetables, fresh nes",
          "Vegetables, fresh nes",
          "Watermelons",
          "Watermelons",
          "Watermelons",
          "Wheat",
          "Wheat",
          "Wheat",
          "Cereals, Total",
          "Cereals, Total",
          "Cereals, Total",
          "Citrus Fruit, Total",
          "Citrus Fruit, Total",
          "Citrus Fruit, Total",
          "Fibre Crops Primary",
          "Fibre Crops Primary",
          "Fibre Crops Primary",
          "Fruit Primary",
          "Fruit Primary",
          "Fruit Primary",
          "Oilcrops",
          "Oilcrops",
          "Oilcrops",
          "Oilcrops, Cake Equivalent",
          "Oilcrops, Cake Equivalent",
          "Oilcrops, Cake Equivalent",
          "Oilcrops, Oil Equivalent",
          "Oilcrops, Oil Equivalent",
          "Oilcrops, Oil Equivalent",
          "Pulses, Total",
          "Pulses, Total",
          "Pulses, Total",
          "Roots and Tubers, Total",
          "Roots and Tubers, Total",
          "Roots and Tubers, Total",
          "Sugar Crops Primary",
          "Sugar Crops Primary",
          "Sugar Crops Primary",
          "Treenuts, Total",
          "Treenuts, Total",
          "Treenuts, Total",
          "Vegetables Primary",
          "Vegetables Primary",
          "Vegetables Primary",
          "Avocados",
          "Avocados",
          "Avocados",
          "Bananas",
          "Bananas",
          "Bananas",
          "Beans, dry",
          "Beans, dry",
          "Beans, dry",
          "Broad beans, horse beans, dry",
          "Broad beans, horse beans, dry",
          "Broad beans, horse beans, dry",
          "Cabbages and other brassicas",
          "Cabbages and other brassicas",
          "Cabbages and other brassicas",
          "Carrots and turnips",
          "Carrots and turnips",
          "Carrots and turnips",
          "Cassava",
          "Cassava",
          "Cassava",
          "Cauliflowers and broccoli",
          "Cauliflowers and broccoli",
          "Cauliflowers and broccoli",
          "Chillies and peppers, dry",
          "Chillies and peppers, dry",
          "Chillies and peppers, dry",
          "Chillies and peppers, green",
          "Chillies and peppers, green",
          "Chillies and peppers, green",
          "Cocoa, beans",
          "Cocoa, beans",
          "Cocoa, beans",
          "Coconuts",
          "Coconuts",
          "Coconuts",
          "Coffee, green",
          "Coffee, green",
          "Coffee, green",
          "Cow peas, dry",
          "Cow peas, dry",
          "Cow peas, dry",
          "Cucumbers and gherkins",
          "Cucumbers and gherkins",
          "Cucumbers and gherkins",
          "Eggplants (aubergines)",
          "Eggplants (aubergines)",
          "Eggplants (aubergines)",
          "Fibre crops nes",
          "Fruit, tropical fresh nes",
          "Fruit, tropical fresh nes",
          "Fruit, tropical fresh nes",
          "Ginger",
          "Ginger",
          "Ginger",
          "Grapefruit (inc. pomelos)",
          "Grapefruit (inc. pomelos)",
          "Grapefruit (inc. pomelos)",
          "Groundnuts, with shell",
          "Groundnuts, with shell",
          "Groundnuts, with shell",
          "Lemons and limes",
          "Lemons and limes",
          "Lemons and limes",
          "Lettuce and chicory",
          "Lettuce and chicory",
          "Lettuce and chicory",
          "Maize",
          "Maize",
          "Maize",
          "Maize, green",
          "Maize, green",
          "Maize, green",
          "Mangoes, mangosteens, guavas",
          "Mangoes, mangosteens, guavas",
          "Mangoes, mangosteens, guavas",
          "Melons, other (inc.cantaloupes)",
          "Melons, other (inc.cantaloupes)",
          "Melons, other (inc.cantaloupes)",
          "Okra",
          "Okra",
          "Okra",
          "Onions, dry",
          "Onions, dry",
          "Onions, dry",
          "Onions, shallots, green",
          "Onions, shallots, green",
          "Onions, shallots, green",
          "Oranges",
          "Oranges",
          "Oranges",
          "Papayas",
          "Papayas",
          "Papayas",
          "Peas, dry",
          "Peas, dry",
          "Peas, dry",
          "Pigeon peas",
          "Pigeon peas",
          "Pigeon peas",
          "Pineapples",
          "Pineapples",
          "Pineapples",
          "Plantains and others",
          "Plantains and others",
          "Plantains and others",
          "Potatoes",
          "Potatoes",
          "Potatoes",
          "Pumpkins, squash and gourds",
          "Pumpkins, squash and gourds",
          "Pumpkins, squash and gourds",
          "Rice, paddy",
          "Rice, paddy",
          "Rice, paddy",
          "Rice, paddy (rice milled equivalent)",
          "Roots and tubers nes",
          "Roots and tubers nes",
          "Roots and tubers nes",
          "Sisal",
          "Sisal",
          "Sisal",
          "Spices nes",
          "Spices nes",
          "Spices nes",
          "Spinach",
          "Spinach",
          "Spinach",
          "String beans",
          "String beans",
          "String beans",
          "Sugar cane",
          "Sugar cane",
          "Sugar cane",
          "Sweet potatoes",
          "Sweet potatoes",
          "Sweet potatoes",
          "Tangerines, mandarins, clementines, satsumas",
          "Tangerines, mandarins, clementines, satsumas",
          "Tangerines, mandarins, clementines, satsumas",
          "Tobacco, unmanufactured",
          "Tobacco, unmanufactured",
          "Tobacco, unmanufactured",
          "Tomatoes",
          "Tomatoes",
          "Tomatoes",
          "Vegetables, fresh nes",
          "Vegetables, fresh nes",
          "Vegetables, fresh nes",
          "Watermelons",
          "Watermelons",
          "Watermelons",
          "Yams",
          "Yams",
          "Yams",
          "Cereals, Total",
          "Cereals, Total",
          "Cereals, Total",
          "Citrus Fruit, Total",
          "Citrus Fruit, Total",
          "Citrus Fruit, Total",
          "Fibre Crops Primary",
          "Fibre Crops Primary",
          "Fibre Crops Primary",
          "Fruit Primary",
          "Fruit Primary",
          "Fruit Primary",
          "Oilcrops",
          "Oilcrops",
          "Oilcrops",
          "Oilcrops, Cake Equivalent",
          "Oilcrops, Cake Equivalent",
          "Oilcrops, Cake Equivalent",
          "Oilcrops, Oil Equivalent",
          "Oilcrops, Oil Equivalent",
          "Oilcrops, Oil Equivalent",
          "Pulses, Total",
          "Pulses, Total",
          "Pulses, Total",
          "Roots and Tubers, Total",
          "Roots and Tubers, Total",
          "Roots and Tubers, Total",
          "Sugar Crops Primary",
          "Sugar Crops Primary",
          "Sugar Crops Primary",
          "Vegetables Primary",
          "Vegetables Primary",
          "Vegetables Primary",
          "Avocados",
          "Avocados",
          "Avocados",
          "Bananas",
          "Bananas",
          "Bananas",
          "Beans, green",
          "Beans, green",
          "Beans, green",
          "Cabbages and other brassicas",
          "Cabbages and other brassicas",
          "Cabbages and other brassicas",
          "Carrots and turnips",
          "Carrots and turnips",
          "Carrots and turnips",
          "Cassava",
          "Cassava",
          "Cassava",
          "Chillies and peppers, dry",
          "Chillies and peppers, dry",
          "Chillies and peppers, dry",
          "Cocoa, beans",
          "Cocoa, beans",
          "Cocoa, beans",
          "Coconuts",
          "Coconuts",
          "Coconuts",
          "Coffee, green",
          "Coffee, green",
          "Coffee, green",
          "Cucumbers and gherkins",
          "Cucumbers and gherkins",
          "Cucumbers and gherkins",
          "Eggplants (aubergines)",
          "Eggplants (aubergines)",
          "Eggplants (aubergines)",
          "Fruit, citrus nes",
          "Fruit, citrus nes",
          "Fruit, citrus nes",
          "Grapefruit (inc. pomelos)",
          "Grapefruit (inc. pomelos)",
          "Grapefruit (inc. pomelos)",
          "Lemons and limes",
          "Lemons and limes",
          "Lemons and limes",
          "Lentils",
          "Lentils",
          "Lentils",
          "Lettuce and chicory",
          "Lettuce and chicory",
          "Lettuce and chicory",
          "Lupins",
          "Lupins",
          "Mangoes, mangosteens, guavas",
          "Mangoes, mangosteens, guavas",
          "Mangoes, mangosteens, guavas",
          "Melons, other (inc.cantaloupes)",
          "Melons, other (inc.cantaloupes)",
          "Melons, other (inc.cantaloupes)",
          "Oranges",
          "Oranges",
          "Oranges",
          "Pineapples",
          "Pineapples",
          "Pineapples",
          "Plantains and others",
          "Plantains and others",
          "Plantains and others",
          "Potatoes",
          "Potatoes",
          "Pumpkins, squash and gourds",
          "Pumpkins, squash and gourds",
          "Pumpkins, squash and gourds",
          "Roots and tubers nes",
          "Roots and tubers nes",
          "Roots and tubers nes",
          "Sugar cane",
          "Sugar cane",
          "Sugar cane",
          "Sweet potatoes",
          "Sweet potatoes",
          "Sweet potatoes",
          "Tomatoes",
          "Tomatoes",
          "Tomatoes",
          "Vegetables, fresh nes",
          "Vegetables, fresh nes",
          "Vegetables, fresh nes",
          "Yams",
          "Yams",
          "Yams",
          "Citrus Fruit, Total",
          "Citrus Fruit, Total",
          "Citrus Fruit, Total",
          "Fruit Primary",
          "Fruit Primary",
          "Fruit Primary",
          "Oilcrops",
          "Oilcrops",
          "Oilcrops",
          "Oilcrops, Cake Equivalent",
          "Oilcrops, Cake Equivalent",
          "Oilcrops, Cake Equivalent",
          "Oilcrops, Oil Equivalent",
          "Oilcrops, Oil Equivalent",
          "Oilcrops, Oil Equivalent",
          "Pulses, Total",
          "Pulses, Total",
          "Pulses, Total",
          "Roots and Tubers, Total",
          "Roots and Tubers, Total",
          "Roots and Tubers, Total",
          "Sugar Crops Primary",
          "Sugar Crops Primary",
          "Sugar Crops Primary",
          "Vegetables Primary",
          "Vegetables Primary",
          "Vegetables Primary",
          "Agave fibres nes",
          "Agave fibres nes",
          "Agave fibres nes",
          "Almonds, with shell",
          "Almonds, with shell",
          "Almonds, with shell",
          "Anise, badian, fennel, coriander",
          "Anise, badian, fennel, coriander",
          "Anise, badian, fennel, coriander",
          "Apples",
          "Apples",
          "Apples",
          "Apricots",
          "Apricots",
          "Apricots",
          "Artichokes",
          "Artichokes",
          "Artichokes",
          "Asparagus",
          "Asparagus",
          "Asparagus",
          "Avocados",
          "Avocados",
          "Avocados",
          "Bananas",
          "Bananas",
          "Bananas",
          "Barley",
          "Barley",
          "Barley",
          "Beans, dry",
          "Beans, dry",
          "Beans, dry",
          "Beans, green",
          "Beans, green",
          "Beans, green",
          "Berries nes",
          "Berries nes",
          "Berries nes",
          "Blueberries",
          "Blueberries",
          "Blueberries",
          "Broad beans, horse beans, dry",
          "Broad beans, horse beans, dry",
          "Broad beans, horse beans, dry",
          "Cabbages and other brassicas",
          "Cabbages and other brassicas",
          "Cabbages and other brassicas",
          "Canary seed",
          "Canary seed",
          "Canary seed",
          "Carobs",
          "Carobs",
          "Carobs",
          "Carrots and turnips",
          "Carrots and turnips",
          "Carrots and turnips",
          "Cashew nuts, with shell",
          "Cashew nuts, with shell",
          "Cashew nuts, with shell",
          "Cassava",
          "Cassava",
          "Cassava",
          "Castor oil seed",
          "Castor oil seed",
          "Castor oil seed",
          "Cauliflowers and broccoli",
          "Cauliflowers and broccoli",
          "Cauliflowers and broccoli",
          "Cereals nes",
          "Cereals nes",
          "Cereals nes",
          "Cherries",
          "Cherries",
          "Cherries",
          "Chick peas",
          "Chick peas",
          "Chick peas",
          "Chillies and peppers, dry",
          "Chillies and peppers, dry",
          "Chillies and peppers, dry",
          "Chillies and peppers, green",
          "Chillies and peppers, green",
          "Chillies and peppers, green",
          "Cloves",
          "Cloves",
          "Cocoa, beans",
          "Cocoa, beans",
          "Cocoa, beans",
          "Coconuts",
          "Coconuts",
          "Coconuts",
          "Coffee, green",
          "Coffee, green",
          "Coffee, green",
          "Cucumbers and gherkins",
          "Cucumbers and gherkins",
          "Cucumbers and gherkins",
          "Dates",
          "Dates",
          "Dates",
          "Eggplants (aubergines)",
          "Eggplants (aubergines)",
          "Eggplants (aubergines)",
          "Figs",
          "Figs",
          "Figs",
          "Fruit, citrus nes",
          "Fruit, citrus nes",
          "Fruit, citrus nes",
          "Fruit, fresh nes",
          "Fruit, fresh nes",
          "Fruit, fresh nes",
          "Fruit, tropical fresh nes",
          "Fruit, tropical fresh nes",
          "Fruit, tropical fresh nes",
          "Garlic",
          "Garlic",
          "Garlic",
          "Ginger",
          "Ginger",
          "Ginger",
          "Grapefruit (inc. pomelos)",
          "Grapefruit (inc. pomelos)",
          "Grapefruit (inc. pomelos)",
          "Grapes",
          "Grapes",
          "Grapes",
          "Groundnuts, with shell",
          "Groundnuts, with shell",
          "Groundnuts, with shell",
          "Gums, natural",
          "Jojoba seed",
          "Jojoba seed",
          "Jojoba seed",
          "Leeks, other alliaceous vegetables",
          "Leeks, other alliaceous vegetables",
          "Leeks, other alliaceous vegetables",
          "Lemons and limes",
          "Lemons and limes",
          "Lemons and limes",
          "Lentils",
          "Lentils",
          "Lentils",
          "Lettuce and chicory",
          "Lettuce and chicory",
          "Lettuce and chicory",
          "Linseed",
          "Linseed",
          "Linseed",
          "Maize",
          "Maize",
          "Maize",
          "Maize, green",
          "Maize, green",
          "Maize, green",
          "Mangoes, mangosteens, guavas",
          "Mangoes, mangosteens, guavas",
          "Mangoes, mangosteens, guavas",
          "Melons, other (inc.cantaloupes)",
          "Melons, other (inc.cantaloupes)",
          "Melons, other (inc.cantaloupes)",
          "Melonseed",
          "Melonseed",
          "Melonseed",
          "Millet",
          "Millet",
          "Millet",
          "Mustard seed",
          "Mustard seed",
          "Mustard seed",
          "Nuts nes",
          "Nuts nes",
          "Nuts nes",
          "Oats",
          "Oats",
          "Oats",
          "Oil palm fruit",
          "Oil palm fruit",
          "Oil palm fruit",
          "Okra",
          "Okra",
          "Okra",
          "Olives",
          "Olives",
          "Olives",
          "Onions, dry",
          "Onions, dry",
          "Onions, dry",
          "Onions, shallots, green",
          "Onions, shallots, green",
          "Onions, shallots, green",
          "Oranges",
          "Oranges",
          "Oranges",
          "Papayas",
          "Papayas",
          "Papayas",
          "Peaches and nectarines",
          "Peaches and nectarines",
          "Peaches and nectarines",
          "Pears",
          "Pears",
          "Pears",
          "Peas, dry",
          "Peas, dry",
          "Peas, dry",
          "Peas, green",
          "Peas, green",
          "Peas, green",
          "Pepper (piper spp.)",
          "Pepper (piper spp.)",
          "Pepper (piper spp.)",
          "Peppermint",
          "Peppermint",
          "Peppermint",
          "Persimmons",
          "Persimmons",
          "Persimmons",
          "Pineapples",
          "Pineapples",
          "Pineapples",
          "Pistachios",
          "Pistachios",
          "Pistachios",
          "Plums and sloes",
          "Plums and sloes",
          "Plums and sloes",
          "Potatoes",
          "Potatoes",
          "Potatoes",
          "Pulses nes",
          "Pulses nes",
          "Pulses nes",
          "Pumpkins, squash and gourds",
          "Pumpkins, squash and gourds",
          "Pumpkins, squash and gourds",
          "Quinces",
          "Quinces",
          "Quinces",
          "Rapeseed",
          "Rapeseed",
          "Rapeseed",
          "Raspberries",
          "Raspberries",
          "Raspberries",
          "Rice, paddy",
          "Rice, paddy",
          "Rice, paddy",
          "Rice, paddy (rice milled equivalent)",
          "Roots and tubers nes",
          "Roots and tubers nes",
          "Roots and tubers nes",
          "Rubber, natural",
          "Rubber, natural",
          "Rubber, natural",
          "Rye",
          "Rye",
          "Rye",
          "Safflower seed",
          "Safflower seed",
          "Safflower seed",
          "Seed cotton",
          "Seed cotton",
          "Seed cotton",
          "Sesame seed",
          "Sesame seed",
          "Sesame seed",
          "Sisal",
          "Sisal",
          "Sisal",
          "Sorghum",
          "Sorghum",
          "Sorghum",
          "Soybeans",
          "Soybeans",
          "Soybeans",
          "Spices nes",
          "Spices nes",
          "Spices nes",
          "Spinach",
          "Spinach",
          "Spinach",
          "Strawberries",
          "Strawberries",
          "Strawberries",
          "String beans",
          "String beans",
          "String beans",
          "Sugar beet",
          "Sugar beet",
          "Sugar beet",
          "Sugar cane",
          "Sugar cane",
          "Sugar cane",
          "Sunflower seed",
          "Sunflower seed",
          "Sunflower seed",
          "Sweet potatoes",
          "Sweet potatoes",
          "Sweet potatoes",
          "Tangerines, mandarins, clementines, satsumas",
          "Tangerines, mandarins, clementines, satsumas",
          "Tangerines, mandarins, clementines, satsumas",
          "Tobacco, unmanufactured",
          "Tobacco, unmanufactured",
          "Tobacco, unmanufactured",
          "Tomatoes",
          "Tomatoes",
          "Tomatoes",
          "Triticale",
          "Triticale",
          "Triticale",
          "Vanilla",
          "Vanilla",
          "Vanilla",
          "Vegetables, fresh nes",
          "Vegetables, fresh nes",
          "Vegetables, fresh nes",
          "Vegetables, leguminous nes",
          "Vegetables, leguminous nes",
          "Vegetables, leguminous nes",
          "Vetches",
          "Vetches",
          "Vetches",
          "Walnuts, with shell",
          "Walnuts, with shell",
          "Walnuts, with shell",
          "Watermelons",
          "Watermelons",
          "Watermelons",
          "Wheat",
          "Wheat",
          "Wheat",
          "Yautia (cocoyam)",
          "Yautia (cocoyam)",
          "Yautia (cocoyam)",
          "Cereals, Total",
          "Cereals, Total",
          "Cereals, Total",
          "Citrus Fruit, Total",
          "Citrus Fruit, Total",
          "Citrus Fruit, Total",
          "Fibre Crops Primary",
          "Fibre Crops Primary",
          "Fibre Crops Primary",
          "Fruit Primary",
          "Fruit Primary",
          "Fruit Primary",
          "Oilcrops",
          "Oilcrops",
          "Oilcrops",
          "Oilcrops, Cake Equivalent",
          "Oilcrops, Cake Equivalent",
          "Oilcrops, Cake Equivalent",
          "Oilcrops, Oil Equivalent",
          "Oilcrops, Oil Equivalent",
          "Oilcrops, Oil Equivalent",
          "Pulses, Total",
          "Pulses, Total",
          "Pulses, Total",
          "Roots and Tubers, Total",
          "Roots and Tubers, Total",
          "Roots and Tubers, Total",
          "Sugar Crops Primary",
          "Sugar Crops Primary",
          "Sugar Crops Primary",
          "Treenuts, Total",
          "Treenuts, Total",
          "Treenuts, Total",
          "Vegetables Primary",
          "Vegetables Primary",
          "Vegetables Primary",
          "Agave fibres nes",
          "Agave fibres nes",
          "Agave fibres nes",
          "Bananas",
          "Bananas",
          "Bananas",
          "Beans, dry",
          "Beans, dry",
          "Beans, dry",
          "Cabbages and other brassicas",
          "Cabbages and other brassicas",
          "Cabbages and other brassicas",
          "Carrots and turnips",
          "Carrots and turnips",
          "Carrots and turnips",
          "Cassava",
          "Cassava",
          "Cassava",
          "Castor oil seed",
          "Castor oil seed",
          "Castor oil seed",
          "Chillies and peppers, green",
          "Chillies and peppers, green",
          "Chillies and peppers, green",
          "Cocoa, beans",
          "Cocoa, beans",
          "Cocoa, beans",
          "Coconuts",
          "Coconuts",
          "Coconuts",
          "Coffee, green",
          "Coffee, green",
          "Coffee, green",
          "Fruit, citrus nes",
          "Fruit, citrus nes",
          "Fruit, citrus nes",
          "Fruit, fresh nes",
          "Fruit, fresh nes",
          "Fruit, fresh nes",
          "Groundnuts, with shell",
          "Groundnuts, with shell",
          "Groundnuts, with shell",
          "Maize",
          "Maize",
          "Maize",
          "Oil palm fruit",
          "Oil palm fruit",
          "Oil palm fruit",
          "Onions, dry",
          "Onions, dry",
          "Onions, dry",
          "Oranges",
          "Oranges",
          "Oranges",
          "Pineapples",
          "Pineapples",
          "Pineapples",
          "Plantains and others",
          "Plantains and others",
          "Plantains and others",
          "Potatoes",
          "Potatoes",
          "Potatoes",
          "Rice, paddy",
          "Rice, paddy",
          "Rice, paddy",
          "Rice, paddy (rice milled equivalent)",
          "Roots and tubers nes",
          "Roots and tubers nes",
          "Roots and tubers nes",
          "Seed cotton",
          "Seed cotton",
          "Seed cotton",
          "Sesame seed",
          "Sesame seed",
          "Sesame seed",
          "Sorghum",
          "Sorghum",
          "Sorghum",
          "Soybeans",
          "Soybeans",
          "Soybeans",
          "Sugar beet",
          "Sugar beet",
          "Sugar cane",
          "Sugar cane",
          "Sugar cane",
          "Taro (cocoyam)",
          "Taro (cocoyam)",
          "Taro (cocoyam)",
          "Tobacco, unmanufactured",
          "Tobacco, unmanufactured",
          "Tobacco, unmanufactured",
          "Tomatoes",
          "Tomatoes",
          "Tomatoes",
          "Vegetables, fresh nes",
          "Vegetables, fresh nes",
          "Vegetables, fresh nes",
          "Yams",
          "Yams",
          "Yams",
          "Yautia (cocoyam)",
          "Yautia (cocoyam)",
          "Yautia (cocoyam)",
          "Cereals, Total",
          "Cereals, Total",
          "Cereals, Total",
          "Citrus Fruit, Total",
          "Citrus Fruit, Total",
          "Citrus Fruit, Total",
          "Fibre Crops Primary",
          "Fibre Crops Primary",
          "Fibre Crops Primary",
          "Fruit Primary",
          "Fruit Primary",
          "Fruit Primary",
          "Oilcrops",
          "Oilcrops",
          "Oilcrops",
          "Oilcrops, Cake Equivalent",
          "Oilcrops, Cake Equivalent",
          "Oilcrops, Cake Equivalent",
          "Oilcrops, Oil Equivalent",
          "Oilcrops, Oil Equivalent",
          "Oilcrops, Oil Equivalent",
          "Pulses, Total",
          "Pulses, Total",
          "Pulses, Total",
          "Roots and Tubers, Total",
          "Roots and Tubers, Total",
          "Roots and Tubers, Total",
          "Sugar Crops Primary",
          "Sugar Crops Primary",
          "Sugar Crops Primary",
          "Vegetables Primary",
          "Vegetables Primary",
          "Vegetables Primary",
          "Avocados",
          "Avocados",
          "Avocados",
          "Bananas",
          "Bananas",
          "Bananas",
          "Beans, dry",
          "Beans, dry",
          "Beans, dry",
          "Cabbages and other brassicas",
          "Cabbages and other brassicas",
          "Cabbages and other brassicas",
          "Carrots and turnips",
          "Carrots and turnips",
          "Carrots and turnips",
          "Cassava",
          "Cassava",
          "Cassava",
          "Chillies and peppers, green",
          "Chillies and peppers, green",
          "Chillies and peppers, green",
          "Cocoa, beans",
          "Cocoa, beans",
          "Cocoa, beans",
          "Coconuts",
          "Coconuts",
          "Coconuts",
          "Coffee, green",
          "Coffee, green",
          "Coffee, green",
          "Cucumbers and gherkins",
          "Cucumbers and gherkins",
          "Cucumbers and gherkins",
          "Fruit, fresh nes",
          "Fruit, fresh nes",
          "Fruit, fresh nes",
          "Lettuce and chicory",
          "Lettuce and chicory",
          "Lettuce and chicory",
          "Maize",
          "Maize",
          "Maize",
          "Mangoes, mangosteens, guavas",
          "Mangoes, mangosteens, guavas",
          "Mangoes, mangosteens, guavas",
          "Melons, other (inc.cantaloupes)",
          "Melons, other (inc.cantaloupes)",
          "Melons, other (inc.cantaloupes)",
          "Oil palm fruit",
          "Oil palm fruit",
          "Oil palm fruit",
          "Onions, dry",
          "Onions, dry",
          "Onions, dry",
          "Oranges",
          "Oranges",
          "Oranges",
          "Papayas",
          "Papayas",
          "Papayas",
          "Pigeon peas",
          "Pigeon peas",
          "Pigeon peas",
          "Pineapples",
          "Pineapples",
          "Pineapples",
          "Plantains and others",
          "Plantains and others",
          "Plantains and others",
          "Potatoes",
          "Potatoes",
          "Potatoes",
          "Pulses nes",
          "Pulses nes",
          "Pulses nes",
          "Rice, paddy",
          "Rice, paddy",
          "Rice, paddy",
          "Rice, paddy (rice milled equivalent)",
          "Roots and tubers nes",
          "Roots and tubers nes",
          "Roots and tubers nes",
          "Sesame seed",
          "Sesame seed",
          "Sesame seed",
          "Sorghum",
          "Sorghum",
          "Sorghum",
          "Soybeans",
          "Soybeans",
          "Soybeans",
          "Sugar cane",
          "Sugar cane",
          "Sugar cane",
          "Tea",
          "Tea",
          "Tea",
          "Tobacco, unmanufactured",
          "Tobacco, unmanufactured",
          "Tobacco, unmanufactured",
          "Tomatoes",
          "Tomatoes",
          "Tomatoes",
          "Vegetables, fresh nes",
          "Vegetables, fresh nes",
          "Vegetables, fresh nes",
          "Watermelons",
          "Watermelons",
          "Watermelons",
          "Yams",
          "Yams",
          "Yams",
          "Yautia (cocoyam)",
          "Yautia (cocoyam)",
          "Yautia (cocoyam)",
          "Cereals, Total",
          "Cereals, Total",
          "Cereals, Total",
          "Citrus Fruit, Total",
          "Citrus Fruit, Total",
          "Citrus Fruit, Total",
          "Fruit Primary",
          "Fruit Primary",
          "Fruit Primary",
          "Oilcrops",
          "Oilcrops",
          "Oilcrops",
          "Oilcrops, Cake Equivalent",
          "Oilcrops, Cake Equivalent",
          "Oilcrops, Cake Equivalent",
          "Oilcrops, Oil Equivalent",
          "Oilcrops, Oil Equivalent",
          "Oilcrops, Oil Equivalent",
          "Pulses, Total",
          "Pulses, Total",
          "Pulses, Total",
          "Roots and Tubers, Total",
          "Roots and Tubers, Total",
          "Roots and Tubers, Total",
          "Sugar Crops Primary",
          "Sugar Crops Primary",
          "Sugar Crops Primary",
          "Vegetables Primary",
          "Vegetables Primary",
          "Vegetables Primary",
          "Apples",
          "Apples",
          "Apples",
          "Avocados",
          "Avocados",
          "Avocados",
          "Bananas",
          "Bananas",
          "Bananas",
          "Beans, dry",
          "Beans, dry",
          "Beans, dry",
          "Broad beans, horse beans, dry",
          "Broad beans, horse beans, dry",
          "Broad beans, horse beans, dry",
          "Carrots and turnips",
          "Carrots and turnips",
          "Carrots and turnips",
          "Cassava",
          "Cassava",
          "Cassava",
          "Castor oil seed",
          "Castor oil seed",
          "Castor oil seed",
          "Chillies and peppers, green",
          "Chillies and peppers, green",
          "Chillies and peppers, green",
          "Coffee, green",
          "Coffee, green",
          "Coffee, green",
          "Fruit, fresh nes",
          "Fruit, fresh nes",
          "Fruit, fresh nes",
          "Fruit, tropical fresh nes",
          "Fruit, tropical fresh nes",
          "Fruit, tropical fresh nes",
          "Garlic",
          "Garlic",
          "Garlic",
          "Grapefruit (inc. pomelos)",
          "Grapefruit (inc. pomelos)",
          "Grapefruit (inc. pomelos)",
          "Grapes",
          "Grapes",
          "Grapes",
          "Groundnuts, with shell",
          "Groundnuts, with shell",
          "Groundnuts, with shell",
          "Lemons and limes",
          "Lemons and limes",
          "Lemons and limes",
          "Maize",
          "Maize",
          "Maize",
          "Mangoes, mangosteens, guavas",
          "Mangoes, mangosteens, guavas",
          "Mangoes, mangosteens, guavas",
          "Maté",
          "Maté",
          "Maté",
          "Melons, other (inc.cantaloupes)",
          "Melons, other (inc.cantaloupes)",
          "Melons, other (inc.cantaloupes)",
          "Oil palm fruit",
          "Oil palm fruit",
          "Oil palm fruit",
          "Onions, dry",
          "Onions, dry",
          "Onions, dry",
          "Onions, shallots, green",
          "Onions, shallots, green",
          "Onions, shallots, green",
          "Oranges",
          "Oranges",
          "Oranges",
          "Papayas",
          "Papayas",
          "Papayas",
          "Peaches and nectarines",
          "Peaches and nectarines",
          "Peaches and nectarines",
          "Pears",
          "Pears",
          "Pears",
          "Peas, dry",
          "Peas, dry",
          "Peas, dry",
          "Pineapples",
          "Pineapples",
          "Pineapples",
          "Plums and sloes",
          "Plums and sloes",
          "Plums and sloes",
          "Potatoes",
          "Potatoes",
          "Potatoes",
          "Pumpkins, squash and gourds",
          "Pumpkins, squash and gourds",
          "Pumpkins, squash and gourds",
          "Rapeseed",
          "Rapeseed",
          "Rapeseed",
          "Rice, paddy",
          "Rice, paddy",
          "Rice, paddy",
          "Rice, paddy (rice milled equivalent)",
          "Seed cotton",
          "Seed cotton",
          "Seed cotton",
          "Sesame seed",
          "Sesame seed",
          "Sesame seed",
          "Sorghum",
          "Sorghum",
          "Sorghum",
          "Soybeans",
          "Soybeans",
          "Soybeans",
          "Strawberries",
          "Strawberries",
          "Strawberries",
          "Sugar cane",
          "Sugar cane",
          "Sugar cane",
          "Sunflower seed",
          "Sunflower seed",
          "Sunflower seed",
          "Sweet potatoes",
          "Sweet potatoes",
          "Sweet potatoes",
          "Tangerines, mandarins, clementines, satsumas",
          "Tangerines, mandarins, clementines, satsumas",
          "Tangerines, mandarins, clementines, satsumas",
          "Tobacco, unmanufactured",
          "Tobacco, unmanufactured",
          "Tobacco, unmanufactured",
          "Tomatoes",
          "Tomatoes",
          "Tomatoes",
          "Tung nuts",
          "Tung nuts",
          "Tung nuts",
          "Vegetables, fresh nes",
          "Vegetables, fresh nes",
          "Vegetables, fresh nes",
          "Watermelons",
          "Watermelons",
          "Watermelons",
          "Wheat",
          "Wheat",
          "Wheat",
          "Cereals, Total",
          "Cereals, Total",
          "Cereals, Total",
          "Citrus Fruit, Total",
          "Citrus Fruit, Total",
          "Citrus Fruit, Total",
          "Fibre Crops Primary",
          "Fibre Crops Primary",
          "Fibre Crops Primary",
          "Fruit Primary",
          "Fruit Primary",
          "Fruit Primary",
          "Oilcrops",
          "Oilcrops",
          "Oilcrops",
          "Oilcrops, Cake Equivalent",
          "Oilcrops, Cake Equivalent",
          "Oilcrops, Cake Equivalent",
          "Oilcrops, Oil Equivalent",
          "Oilcrops, Oil Equivalent",
          "Oilcrops, Oil Equivalent",
          "Pulses, Total",
          "Pulses, Total",
          "Pulses, Total",
          "Roots and Tubers, Total",
          "Roots and Tubers, Total",
          "Roots and Tubers, Total",
          "Sugar Crops Primary",
          "Sugar Crops Primary",
          "Sugar Crops Primary",
          "Vegetables Primary",
          "Vegetables Primary",
          "Vegetables Primary",
          "Almonds, with shell",
          "Almonds, with shell",
          "Anise, badian, fennel, coriander",
          "Anise, badian, fennel, coriander",
          "Anise, badian, fennel, coriander",
          "Apples",
          "Apples",
          "Apples",
          "Apricots",
          "Apricots",
          "Apricots",
          "Artichokes",
          "Artichokes",
          "Artichokes",
          "Asparagus",
          "Asparagus",
          "Asparagus",
          "Avocados",
          "Avocados",
          "Avocados",
          "Bananas",
          "Bananas",
          "Barley",
          "Barley",
          "Barley",
          "Beans, dry",
          "Beans, dry",
          "Beans, dry",
          "Beans, green",
          "Beans, green",
          "Beans, green",
          "Blueberries",
          "Blueberries",
          "Blueberries",
          "Brazil nuts, with shell",
          "Brazil nuts, with shell",
          "Brazil nuts, with shell",
          "Broad beans, horse beans, dry",
          "Broad beans, horse beans, dry",
          "Broad beans, horse beans, dry",
          "Cabbages and other brassicas",
          "Cabbages and other brassicas",
          "Cabbages and other brassicas",
          "Carrots and turnips",
          "Carrots and turnips",
          "Carrots and turnips",
          "Cashew nuts, with shell",
          "Cashew nuts, with shell",
          "Cashew nuts, with shell",
          "Cassava",
          "Cassava",
          "Cassava",
          "Castor oil seed",
          "Castor oil seed",
          "Castor oil seed",
          "Cauliflowers and broccoli",
          "Cauliflowers and broccoli",
          "Cauliflowers and broccoli",
          "Cereals nes",
          "Cereals nes",
          "Cereals nes",
          "Cherries",
          "Cherries",
          "Cherries",
          "Cherries, sour",
          "Cherries, sour",
          "Cherries, sour",
          "Chestnut",
          "Chestnut",
          "Chestnut",
          "Chick peas",
          "Chick peas",
          "Chick peas",
          "Chillies and peppers, dry",
          "Chillies and peppers, dry",
          "Chillies and peppers, dry",
          "Chillies and peppers, green",
          "Chillies and peppers, green",
          "Chillies and peppers, green",
          "Cocoa, beans",
          "Cocoa, beans",
          "Cocoa, beans",
          "Coconuts",
          "Coconuts",
          "Coconuts",
          "Coffee, green",
          "Coffee, green",
          "Coffee, green",
          "Cow peas, dry",
          "Cow peas, dry",
          "Cow peas, dry",
          "Cucumbers and gherkins",
          "Cucumbers and gherkins",
          "Cucumbers and gherkins",
          "Dates",
          "Dates",
          "Dates",
          "Eggplants (aubergines)",
          "Eggplants (aubergines)",
          "Eggplants (aubergines)",
          "Figs",
          "Figs",
          "Figs",
          "Fruit, citrus nes",
          "Fruit, citrus nes",
          "Fruit, citrus nes",
          "Fruit, fresh nes",
          "Fruit, fresh nes",
          "Fruit, fresh nes",
          "Fruit, tropical fresh nes",
          "Fruit, tropical fresh nes",
          "Fruit, tropical fresh nes",
          "Garlic",
          "Garlic",
          "Garlic",
          "Ginger",
          "Ginger",
          "Ginger",
          "Grapefruit (inc. pomelos)",
          "Grapefruit (inc. pomelos)",
          "Grapefruit (inc. pomelos)",
          "Grapes",
          "Grapes",
          "Grapes",
          "Groundnuts, with shell",
          "Groundnuts, with shell",
          "Groundnuts, with shell",
          "Jute",
          "Jute",
          "Jute",
          "Leeks, other alliaceous vegetables",
          "Leeks, other alliaceous vegetables",
          "Leeks, other alliaceous vegetables",
          "Lemons and limes",
          "Lemons and limes",
          "Lemons and limes",
          "Lentils",
          "Lentils",
          "Lentils",
          "Lettuce and chicory",
          "Lettuce and chicory",
          "Lettuce and chicory",
          "Linseed",
          "Linseed",
          "Linseed",
          "Lupins",
          "Lupins",
          "Lupins",
          "Maize",
          "Maize",
          "Maize",
          "Maize, green",
          "Maize, green",
          "Maize, green",
          "Mangoes, mangosteens, guavas",
          "Mangoes, mangosteens, guavas",
          "Mangoes, mangosteens, guavas",
          "Melons, other (inc.cantaloupes)",
          "Melons, other (inc.cantaloupes)",
          "Melons, other (inc.cantaloupes)",
          "Nuts nes",
          "Nuts nes",
          "Nuts nes",
          "Oats",
          "Oats",
          "Oats",
          "Oil palm fruit",
          "Oil palm fruit",
          "Oil palm fruit",
          "Oilseeds nes",
          "Oilseeds nes",
          "Olives",
          "Olives",
          "Olives",
          "Onions, dry",
          "Onions, dry",
          "Onions, dry",
          "Oranges",
          "Oranges",
          "Oranges",
          "Papayas",
          "Papayas",
          "Papayas",
          "Peaches and nectarines",
          "Peaches and nectarines",
          "Peaches and nectarines",
          "Pears",
          "Pears",
          "Pears",
          "Peas, dry",
          "Peas, dry",
          "Peas, dry",
          "Peas, green",
          "Peas, green",
          "Peas, green",
          "Pepper (piper spp.)",
          "Pepper (piper spp.)",
          "Pepper (piper spp.)",
          "Pineapples",
          "Pineapples",
          "Pineapples",
          "Plantains and others",
          "Plantains and others",
          "Plantains and others",
          "Plums and sloes",
          "Plums and sloes",
          "Plums and sloes",
          "Potatoes",
          "Potatoes",
          "Potatoes",
          "Pulses nes",
          "Pulses nes",
          "Pulses nes",
          "Pumpkins, squash and gourds",
          "Pumpkins, squash and gourds",
          "Pumpkins, squash and gourds",
          "Quinces",
          "Quinces",
          "Quinces",
          "Quinoa",
          "Quinoa",
          "Quinoa",
          "Rice, paddy",
          "Rice, paddy",
          "Rice, paddy",
          "Rice, paddy (rice milled equivalent)",
          "Roots and tubers nes",
          "Roots and tubers nes",
          "Roots and tubers nes",
          "Rubber, natural",
          "Rubber, natural",
          "Rye",
          "Rye",
          "Rye",
          "Seed cotton",
          "Seed cotton",
          "Seed cotton",
          "Sesame seed",
          "Sesame seed",
          "Sesame seed",
          "Sorghum",
          "Sorghum",
          "Sorghum",
          "Soybeans",
          "Soybeans",
          "Soybeans",
          "Spices nes",
          "Spices nes",
          "Spices nes",
          "Spinach",
          "Spinach",
          "Spinach",
          "Strawberries",
          "Strawberries",
          "Strawberries",
          "String beans",
          "String beans",
          "String beans",
          "Sugar cane",
          "Sugar cane",
          "Sugar cane",
          "Sweet potatoes",
          "Sweet potatoes",
          "Sweet potatoes",
          "Tangerines, mandarins, clementines, satsumas",
          "Tangerines, mandarins, clementines, satsumas",
          "Tangerines, mandarins, clementines, satsumas",
          "Tea",
          "Tea",
          "Tea",
          "Tobacco, unmanufactured",
          "Tobacco, unmanufactured",
          "Tobacco, unmanufactured",
          "Tomatoes",
          "Tomatoes",
          "Tomatoes",
          "Vegetables, fresh nes",
          "Vegetables, fresh nes",
          "Vegetables, fresh nes",
          "Vegetables, leguminous nes",
          "Vegetables, leguminous nes",
          "Vegetables, leguminous nes",
          "Walnuts, with shell",
          "Walnuts, with shell",
          "Walnuts, with shell",
          "Watermelons",
          "Watermelons",
          "Watermelons",
          "Wheat",
          "Wheat",
          "Wheat",
          "Yautia (cocoyam)",
          "Yautia (cocoyam)",
          "Yautia (cocoyam)",
          "Cereals, Total",
          "Cereals, Total",
          "Cereals, Total",
          "Citrus Fruit, Total",
          "Citrus Fruit, Total",
          "Citrus Fruit, Total",
          "Fibre Crops Primary",
          "Fibre Crops Primary",
          "Fibre Crops Primary",
          "Fruit Primary",
          "Fruit Primary",
          "Fruit Primary",
          "Oilcrops",
          "Oilcrops",
          "Oilcrops",
          "Oilcrops, Cake Equivalent",
          "Oilcrops, Cake Equivalent",
          "Oilcrops, Cake Equivalent",
          "Oilcrops, Oil Equivalent",
          "Oilcrops, Oil Equivalent",
          "Oilcrops, Oil Equivalent",
          "Pulses, Total",
          "Pulses, Total",
          "Pulses, Total",
          "Roots and Tubers, Total",
          "Roots and Tubers, Total",
          "Roots and Tubers, Total",
          "Sugar Crops Primary",
          "Sugar Crops Primary",
          "Sugar Crops Primary",
          "Treenuts, Total",
          "Treenuts, Total",
          "Treenuts, Total",
          "Vegetables Primary",
          "Vegetables Primary",
          "Vegetables Primary",
          "Avocados",
          "Avocados",
          "Avocados",
          "Bananas",
          "Bananas",
          "Bananas",
          "Beans, dry",
          "Beans, dry",
          "Beans, dry",
          "Beans, green",
          "Beans, green",
          "Beans, green",
          "Cabbages and other brassicas",
          "Cabbages and other brassicas",
          "Cabbages and other brassicas",
          "Cassava",
          "Cassava",
          "Cassava",
          "Chicory roots",
          "Chicory roots",
          "Chicory roots",
          "Chillies and peppers, green",
          "Chillies and peppers, green",
          "Chillies and peppers, green",
          "Coconuts",
          "Coconuts",
          "Coconuts",
          "Coffee, green",
          "Coffee, green",
          "Coffee, green",
          "Cucumbers and gherkins",
          "Cucumbers and gherkins",
          "Cucumbers and gherkins",
          "Eggplants (aubergines)",
          "Eggplants (aubergines)",
          "Eggplants (aubergines)",
          "Fruit, fresh nes",
          "Fruit, fresh nes",
          "Fruit, fresh nes",
          "Ginger",
          "Ginger",
          "Ginger",
          "Grapefruit (inc. pomelos)",
          "Grapefruit (inc. pomelos)",
          "Grapefruit (inc. pomelos)",
          "Lemons and limes",
          "Lemons and limes",
          "Lemons and limes",
          "Lettuce and chicory",
          "Lettuce and chicory",
          "Lettuce and chicory",
          "Maize",
          "Maize",
          "Maize",
          "Maize, green",
          "Maize, green",
          "Maize, green",
          "Mangoes, mangosteens, guavas",
          "Mangoes, mangosteens, guavas",
          "Mangoes, mangosteens, guavas",
          "Melons, other (inc.cantaloupes)",
          "Melons, other (inc.cantaloupes)",
          "Melons, other (inc.cantaloupes)",
          "Okra",
          "Okra",
          "Okra",
          "Onions, shallots, green",
          "Onions, shallots, green",
          "Onions, shallots, green",
          "Oranges",
          "Oranges",
          "Oranges",
          "Papayas",
          "Papayas",
          "Papayas",
          "Pigeon peas",
          "Pigeon peas",
          "Pigeon peas",
          "Pineapples",
          "Pineapples",
          "Pineapples",
          "Plantains and others",
          "Plantains and others",
          "Plantains and others",
          "Pumpkins, squash and gourds",
          "Pumpkins, squash and gourds",
          "Pumpkins, squash and gourds",
          "Rice, paddy",
          "Rice, paddy",
          "Rice, paddy",
          "Rice, paddy (rice milled equivalent)",
          "Roots and tubers nes",
          "Roots and tubers nes",
          "Roots and tubers nes",
          "Sugar cane",
          "Sugar cane",
          "Sugar cane",
          "Sweet potatoes",
          "Sweet potatoes",
          "Sweet potatoes",
          "Tobacco, unmanufactured",
          "Tobacco, unmanufactured",
          "Tobacco, unmanufactured",
          "Tomatoes",
          "Tomatoes",
          "Tomatoes",
          "Watermelons",
          "Watermelons",
          "Watermelons",
          "Yams",
          "Yams",
          "Yams",
          "Yautia (cocoyam)",
          "Yautia (cocoyam)",
          "Yautia (cocoyam)",
          "Cereals, Total",
          "Cereals, Total",
          "Cereals, Total",
          "Citrus Fruit, Total",
          "Citrus Fruit, Total",
          "Citrus Fruit, Total",
          "Fruit Primary",
          "Fruit Primary",
          "Fruit Primary",
          "Oilcrops",
          "Oilcrops",
          "Oilcrops",
          "Oilcrops, Cake Equivalent",
          "Oilcrops, Cake Equivalent",
          "Oilcrops, Cake Equivalent",
          "Oilcrops, Oil Equivalent",
          "Oilcrops, Oil Equivalent",
          "Oilcrops, Oil Equivalent",
          "Pulses, Total",
          "Pulses, Total",
          "Pulses, Total",
          "Roots and Tubers, Total",
          "Roots and Tubers, Total",
          "Roots and Tubers, Total",
          "Sugar Crops Primary",
          "Sugar Crops Primary",
          "Sugar Crops Primary",
          "Vegetables Primary",
          "Vegetables Primary",
          "Vegetables Primary",
          "Cabbages and other brassicas",
          "Cabbages and other brassicas",
          "Cabbages and other brassicas",
          "Carrots and turnips",
          "Carrots and turnips",
          "Carrots and turnips",
          "Chillies and peppers, green",
          "Chillies and peppers, green",
          "Chillies and peppers, green",
          "Coconuts",
          "Coconuts",
          "Coconuts",
          "Cucumbers and gherkins",
          "Cucumbers and gherkins",
          "Cucumbers and gherkins",
          "Fruit, tropical fresh nes",
          "Fruit, tropical fresh nes",
          "Fruit, tropical fresh nes",
          "Groundnuts, with shell",
          "Groundnuts, with shell",
          "Groundnuts, with shell",
          "Onions, dry",
          "Onions, dry",
          "Onions, dry",
          "Pineapples",
          "Pineapples",
          "Pineapples",
          "Potatoes",
          "Potatoes",
          "Potatoes",
          "Pulses nes",
          "Pulses nes",
          "Pulses nes",
          "Roots and tubers nes",
          "Roots and tubers nes",
          "Roots and tubers nes",
          "Seed cotton",
          "Seed cotton",
          "Seed cotton",
          "Sugar cane",
          "Sugar cane",
          "Sugar cane",
          "Sweet potatoes",
          "Sweet potatoes",
          "Sweet potatoes",
          "Tomatoes",
          "Tomatoes",
          "Tomatoes",
          "Vegetables, fresh nes",
          "Vegetables, fresh nes",
          "Vegetables, fresh nes",
          "Watermelons",
          "Watermelons",
          "Watermelons",
          "Yams",
          "Yams",
          "Yams",
          "Fibre Crops Primary",
          "Fibre Crops Primary",
          "Fibre Crops Primary",
          "Fruit Primary",
          "Fruit Primary",
          "Fruit Primary",
          "Oilcrops",
          "Oilcrops",
          "Oilcrops",
          "Oilcrops, Cake Equivalent",
          "Oilcrops, Cake Equivalent",
          "Oilcrops, Cake Equivalent",
          "Oilcrops, Oil Equivalent",
          "Oilcrops, Oil Equivalent",
          "Oilcrops, Oil Equivalent",
          "Pulses, Total",
          "Pulses, Total",
          "Pulses, Total",
          "Roots and Tubers, Total",
          "Roots and Tubers, Total",
          "Roots and Tubers, Total",
          "Sugar Crops Primary",
          "Sugar Crops Primary",
          "Sugar Crops Primary",
          "Vegetables Primary",
          "Vegetables Primary",
          "Vegetables Primary",
          "Avocados",
          "Avocados",
          "Avocados",
          "Bananas",
          "Bananas",
          "Bananas",
          "Cabbages and other brassicas",
          "Cabbages and other brassicas",
          "Cabbages and other brassicas",
          "Carrots and turnips",
          "Carrots and turnips",
          "Carrots and turnips",
          "Cassava",
          "Cassava",
          "Cassava",
          "Cocoa, beans",
          "Cocoa, beans",
          "Cocoa, beans",
          "Coconuts",
          "Coconuts",
          "Coconuts",
          "Coffee, green",
          "Coffee, green",
          "Coffee, green",
          "Cucumbers and gherkins",
          "Cucumbers and gherkins",
          "Cucumbers and gherkins",
          "Fruit, fresh nes",
          "Fruit, fresh nes",
          "Fruit, fresh nes",
          "Fruit, tropical fresh nes",
          "Fruit, tropical fresh nes",
          "Fruit, tropical fresh nes",
          "Ginger",
          "Ginger",
          "Ginger",
          "Grapefruit (inc. pomelos)",
          "Grapefruit (inc. pomelos)",
          "Grapefruit (inc. pomelos)",
          "Lemons and limes",
          "Lemons and limes",
          "Lemons and limes",
          "Lettuce and chicory",
          "Lettuce and chicory",
          "Lettuce and chicory",
          "Maize",
          "Maize",
          "Maize",
          "Mangoes, mangosteens, guavas",
          "Mangoes, mangosteens, guavas",
          "Mangoes, mangosteens, guavas",
          "Nutmeg, mace and cardamoms",
          "Nutmeg, mace and cardamoms",
          "Nutmeg, mace and cardamoms",
          "Oranges",
          "Oranges",
          "Oranges",
          "Pepper (piper spp.)",
          "Pepper (piper spp.)",
          "Pepper (piper spp.)",
          "Pineapples",
          "Pineapples",
          "Pineapples",
          "Plantains and others",
          "Plantains and others",
          "Plantains and others",
          "Pulses nes",
          "Pulses nes",
          "Pulses nes",
          "Pumpkins, squash and gourds",
          "Pumpkins, squash and gourds",
          "Pumpkins, squash and gourds",
          "Roots and tubers nes",
          "Roots and tubers nes",
          "Roots and tubers nes",
          "Spices nes",
          "Spices nes",
          "Spices nes",
          "Sugar cane",
          "Sugar cane",
          "Sugar cane",
          "Sweet potatoes",
          "Sweet potatoes",
          "Sweet potatoes",
          "Taro (cocoyam)",
          "Taro (cocoyam)",
          "Taro (cocoyam)",
          "Tomatoes",
          "Tomatoes",
          "Tomatoes",
          "Vegetables, fresh nes",
          "Vegetables, fresh nes",
          "Vegetables, fresh nes",
          "Watermelons",
          "Watermelons",
          "Watermelons",
          "Yams",
          "Yams",
          "Yams",
          "Yautia (cocoyam)",
          "Yautia (cocoyam)",
          "Yautia (cocoyam)",
          "Cereals, Total",
          "Cereals, Total",
          "Cereals, Total",
          "Citrus Fruit, Total",
          "Citrus Fruit, Total",
          "Citrus Fruit, Total",
          "Fruit Primary",
          "Fruit Primary",
          "Fruit Primary",
          "Oilcrops",
          "Oilcrops",
          "Oilcrops",
          "Oilcrops, Cake Equivalent",
          "Oilcrops, Cake Equivalent",
          "Oilcrops, Cake Equivalent",
          "Oilcrops, Oil Equivalent",
          "Oilcrops, Oil Equivalent",
          "Oilcrops, Oil Equivalent",
          "Pulses, Total",
          "Pulses, Total",
          "Pulses, Total",
          "Roots and Tubers, Total",
          "Roots and Tubers, Total",
          "Roots and Tubers, Total",
          "Sugar Crops Primary",
          "Sugar Crops Primary",
          "Sugar Crops Primary",
          "Vegetables Primary",
          "Vegetables Primary",
          "Vegetables Primary",
          "Apples",
          "Apples",
          "Apples",
          "Bananas",
          "Bananas",
          "Bananas",
          "Carrots and turnips",
          "Carrots and turnips",
          "Carrots and turnips",
          "Cassava",
          "Cassava",
          "Cassava",
          "Chillies and peppers, green",
          "Chillies and peppers, green",
          "Chillies and peppers, green",
          "Cocoa, beans",
          "Cocoa, beans",
          "Cocoa, beans",
          "Coconuts",
          "Coconuts",
          "Coconuts",
          "Coffee, green",
          "Coffee, green",
          "Coffee, green",
          "Fruit, fresh nes",
          "Fruit, fresh nes",
          "Fruit, fresh nes",
          "Grapefruit (inc. pomelos)",
          "Grapefruit (inc. pomelos)",
          "Grapefruit (inc. pomelos)",
          "Groundnuts, with shell",
          "Groundnuts, with shell",
          "Groundnuts, with shell",
          "Lemons and limes",
          "Lemons and limes",
          "Lemons and limes",
          "Maize",
          "Maize",
          "Maize",
          "Mangoes, mangosteens, guavas",
          "Mangoes, mangosteens, guavas",
          "Mangoes, mangosteens, guavas",
          "Nutmeg, mace and cardamoms",
          "Nutmeg, mace and cardamoms",
          "Nutmeg, mace and cardamoms",
          "Oranges",
          "Oranges",
          "Oranges",
          "Pears",
          "Pears",
          "Pears",
          "Pigeon peas",
          "Pigeon peas",
          "Pigeon peas",
          "Plantains and others",
          "Plantains and others",
          "Plantains and others",
          "Pulses nes",
          "Pulses nes",
          "Pulses nes",
          "Pumpkins, squash and gourds",
          "Pumpkins, squash and gourds",
          "Pumpkins, squash and gourds",
          "Rice, paddy",
          "Rice, paddy",
          "Rice, paddy",
          "Rice, paddy (rice milled equivalent)",
          "Roots and tubers nes",
          "Roots and tubers nes",
          "Roots and tubers nes",
          "Seed cotton",
          "Seed cotton",
          "Seed cotton",
          "Spices nes",
          "Spices nes",
          "Spices nes",
          "Sugar cane",
          "Sugar cane",
          "Sugar cane",
          "Sweet potatoes",
          "Sweet potatoes",
          "Sweet potatoes",
          "Tobacco, unmanufactured",
          "Tobacco, unmanufactured",
          "Tobacco, unmanufactured",
          "Vegetables, fresh nes",
          "Vegetables, fresh nes",
          "Vegetables, fresh nes",
          "Yams",
          "Yams",
          "Yams",
          "Cereals, Total",
          "Cereals, Total",
          "Cereals, Total",
          "Citrus Fruit, Total",
          "Citrus Fruit, Total",
          "Citrus Fruit, Total",
          "Fibre Crops Primary",
          "Fibre Crops Primary",
          "Fibre Crops Primary",
          "Fruit Primary",
          "Fruit Primary",
          "Fruit Primary",
          "Oilcrops",
          "Oilcrops",
          "Oilcrops",
          "Oilcrops, Cake Equivalent",
          "Oilcrops, Cake Equivalent",
          "Oilcrops, Cake Equivalent",
          "Oilcrops, Oil Equivalent",
          "Oilcrops, Oil Equivalent",
          "Oilcrops, Oil Equivalent",
          "Pulses, Total",
          "Pulses, Total",
          "Pulses, Total",
          "Roots and Tubers, Total",
          "Roots and Tubers, Total",
          "Roots and Tubers, Total",
          "Sugar Crops Primary",
          "Sugar Crops Primary",
          "Sugar Crops Primary",
          "Vegetables Primary",
          "Vegetables Primary",
          "Vegetables Primary",
          "Bananas",
          "Bananas",
          "Bananas",
          "Beans, green",
          "Beans, green",
          "Beans, green",
          "Cabbages and other brassicas",
          "Cabbages and other brassicas",
          "Cabbages and other brassicas",
          "Cassava",
          "Cassava",
          "Cassava",
          "Cherries",
          "Cherries",
          "Cherries",
          "Cocoa, beans",
          "Cocoa, beans",
          "Cocoa, beans",
          "Coconuts",
          "Coconuts",
          "Coconuts",
          "Coffee, green",
          "Coffee, green",
          "Coffee, green",
          "Cucumbers and gherkins",
          "Cucumbers and gherkins",
          "Cucumbers and gherkins",
          "Fruit, citrus nes",
          "Fruit, citrus nes",
          "Fruit, citrus nes",
          "Fruit, tropical fresh nes",
          "Fruit, tropical fresh nes",
          "Fruit, tropical fresh nes",
          "Grapefruit (inc. pomelos)",
          "Grapefruit (inc. pomelos)",
          "Grapefruit (inc. pomelos)",
          "Groundnuts, with shell",
          "Groundnuts, with shell",
          "Groundnuts, with shell",
          "Lemons and limes",
          "Lemons and limes",
          "Lemons and limes",
          "Maize",
          "Maize",
          "Maize",
          "Mangoes, mangosteens, guavas",
          "Mangoes, mangosteens, guavas",
          "Mangoes, mangosteens, guavas",
          "Oil palm fruit",
          "Oil palm fruit",
          "Oil palm fruit",
          "Oranges",
          "Oranges",
          "Oranges",
          "Papayas",
          "Papayas",
          "Papayas",
          "Pineapples",
          "Pineapples",
          "Pineapples",
          "Plantains and others",
          "Plantains and others",
          "Plantains and others",
          "Pulses nes",
          "Pulses nes",
          "Pulses nes",
          "Rice, paddy",
          "Rice, paddy",
          "Rice, paddy",
          "Rice, paddy (rice milled equivalent)",
          "Roots and tubers nes",
          "Roots and tubers nes",
          "Roots and tubers nes",
          "Soybeans",
          "Soybeans",
          "Soybeans",
          "Sugar cane",
          "Sugar cane",
          "Sugar cane",
          "Sweet potatoes",
          "Sweet potatoes",
          "Sweet potatoes",
          "Tomatoes",
          "Tomatoes",
          "Tomatoes",
          "Vegetables, fresh nes",
          "Vegetables, fresh nes",
          "Vegetables, fresh nes",
          "Watermelons",
          "Watermelons",
          "Watermelons",
          "Cereals, Total",
          "Cereals, Total",
          "Cereals, Total",
          "Citrus Fruit, Total",
          "Citrus Fruit, Total",
          "Citrus Fruit, Total",
          "Fruit Primary",
          "Fruit Primary",
          "Fruit Primary",
          "Oilcrops",
          "Oilcrops",
          "Oilcrops",
          "Oilcrops, Cake Equivalent",
          "Oilcrops, Cake Equivalent",
          "Oilcrops, Cake Equivalent",
          "Oilcrops, Oil Equivalent",
          "Oilcrops, Oil Equivalent",
          "Oilcrops, Oil Equivalent",
          "Pulses, Total",
          "Pulses, Total",
          "Pulses, Total",
          "Roots and Tubers, Total",
          "Roots and Tubers, Total",
          "Roots and Tubers, Total",
          "Sugar Crops Primary",
          "Sugar Crops Primary",
          "Sugar Crops Primary",
          "Vegetables Primary",
          "Vegetables Primary",
          "Vegetables Primary",
          "Avocados",
          "Avocados",
          "Avocados",
          "Bananas",
          "Bananas",
          "Bananas",
          "Cabbages and other brassicas",
          "Cabbages and other brassicas",
          "Cabbages and other brassicas",
          "Carrots and turnips",
          "Carrots and turnips",
          "Carrots and turnips",
          "Cassava",
          "Cassava",
          "Cassava",
          "Cauliflowers and broccoli",
          "Cauliflowers and broccoli",
          "Cauliflowers and broccoli",
          "Chestnut",
          "Chestnut",
          "Chillies and peppers, green",
          "Chillies and peppers, green",
          "Chillies and peppers, green",
          "Cocoa, beans",
          "Cocoa, beans",
          "Cocoa, beans",
          "Coconuts",
          "Coconuts",
          "Coconuts",
          "Coffee, green",
          "Coffee, green",
          "Coffee, green",
          "Cow peas, dry",
          "Cow peas, dry",
          "Cow peas, dry",
          "Cucumbers and gherkins",
          "Cucumbers and gherkins",
          "Cucumbers and gherkins",
          "Eggplants (aubergines)",
          "Eggplants (aubergines)",
          "Eggplants (aubergines)",
          "Fruit, citrus nes",
          "Fruit, citrus nes",
          "Fruit, citrus nes",
          "Fruit, fresh nes",
          "Fruit, fresh nes",
          "Fruit, fresh nes",
          "Ginger",
          "Ginger",
          "Ginger",
          "Grapefruit (inc. pomelos)",
          "Grapefruit (inc. pomelos)",
          "Grapefruit (inc. pomelos)",
          "Leeks, other alliaceous vegetables",
          "Leeks, other alliaceous vegetables",
          "Leeks, other alliaceous vegetables",
          "Lemons and limes",
          "Lemons and limes",
          "Lemons and limes",
          "Lettuce and chicory",
          "Lettuce and chicory",
          "Lettuce and chicory",
          "Maize",
          "Maize",
          "Maize",
          "Maize, green",
          "Maize, green",
          "Maize, green",
          "Mangoes, mangosteens, guavas",
          "Mangoes, mangosteens, guavas",
          "Mangoes, mangosteens, guavas",
          "Nutmeg, mace and cardamoms",
          "Nutmeg, mace and cardamoms",
          "Nutmeg, mace and cardamoms",
          "Okra",
          "Okra",
          "Okra",
          "Oranges",
          "Oranges",
          "Oranges",
          "Papayas",
          "Papayas",
          "Papayas",
          "Pigeon peas",
          "Pigeon peas",
          "Pigeon peas",
          "Pineapples",
          "Pineapples",
          "Pineapples",
          "Plantains and others",
          "Plantains and others",
          "Plantains and others",
          "Pulses nes",
          "Pulses nes",
          "Pulses nes",
          "Pumpkins, squash and gourds",
          "Pumpkins, squash and gourds",
          "Pumpkins, squash and gourds",
          "Rice, paddy",
          "Rice, paddy",
          "Rice, paddy",
          "Rice, paddy (rice milled equivalent)",
          "Roots and tubers nes",
          "Roots and tubers nes",
          "Roots and tubers nes",
          "Sugar cane",
          "Sugar cane",
          "Sugar cane",
          "Sweet potatoes",
          "Sweet potatoes",
          "Sweet potatoes",
          "Taro (cocoyam)",
          "Taro (cocoyam)",
          "Taro (cocoyam)",
          "Tobacco, unmanufactured",
          "Tobacco, unmanufactured",
          "Tobacco, unmanufactured",
          "Tomatoes",
          "Tomatoes",
          "Tomatoes",
          "Vegetables, fresh nes",
          "Vegetables, fresh nes",
          "Vegetables, fresh nes",
          "Watermelons",
          "Watermelons",
          "Watermelons",
          "Yams",
          "Yams",
          "Yams",
          "Yautia (cocoyam)",
          "Yautia (cocoyam)",
          "Yautia (cocoyam)",
          "Cereals, Total",
          "Cereals, Total",
          "Cereals, Total",
          "Citrus Fruit, Total",
          "Citrus Fruit, Total",
          "Citrus Fruit, Total",
          "Fruit Primary",
          "Fruit Primary",
          "Fruit Primary",
          "Oilcrops",
          "Oilcrops",
          "Oilcrops",
          "Oilcrops, Cake Equivalent",
          "Oilcrops, Cake Equivalent",
          "Oilcrops, Cake Equivalent",
          "Oilcrops, Oil Equivalent",
          "Oilcrops, Oil Equivalent",
          "Oilcrops, Oil Equivalent",
          "Pulses, Total",
          "Pulses, Total",
          "Pulses, Total",
          "Roots and Tubers, Total",
          "Roots and Tubers, Total",
          "Roots and Tubers, Total",
          "Sugar Crops Primary",
          "Sugar Crops Primary",
          "Sugar Crops Primary",
          "Treenuts, Total",
          "Treenuts, Total",
          "Vegetables Primary",
          "Vegetables Primary",
          "Vegetables Primary",
          "Almonds, with shell",
          "Almonds, with shell",
          "Almonds, with shell",
          "Apples",
          "Apples",
          "Apples",
          "Apricots",
          "Apricots",
          "Apricots",
          "Artichokes",
          "Artichokes",
          "Artichokes",
          "Asparagus",
          "Asparagus",
          "Asparagus",
          "Avocados",
          "Avocados",
          "Avocados",
          "Bananas",
          "Bananas",
          "Bananas",
          "Barley",
          "Barley",
          "Barley",
          "Beans, dry",
          "Beans, dry",
          "Beans, dry",
          "Beans, green",
          "Beans, green",
          "Beans, green",
          "Berries nes",
          "Berries nes",
          "Berries nes",
          "Blueberries",
          "Blueberries",
          "Blueberries",
          "Buckwheat",
          "Buckwheat",
          "Buckwheat",
          "Cabbages and other brassicas",
          "Cabbages and other brassicas",
          "Cabbages and other brassicas",
          "Carrots and turnips",
          "Carrots and turnips",
          "Carrots and turnips",
          "Castor oil seed",
          "Castor oil seed",
          "Castor oil seed",
          "Cauliflowers and broccoli",
          "Cauliflowers and broccoli",
          "Cauliflowers and broccoli",
          "Cereals nes",
          "Cereals nes",
          "Cherries",
          "Cherries",
          "Cherries",
          "Cherries, sour",
          "Cherries, sour",
          "Cherries, sour",
          "Chick peas",
          "Chick peas",
          "Chick peas",
          "Chillies and peppers, dry",
          "Chillies and peppers, dry",
          "Chillies and peppers, dry",
          "Chillies and peppers, green",
          "Chillies and peppers, green",
          "Chillies and peppers, green",
          "Coffee, green",
          "Coffee, green",
          "Coffee, green",
          "Cow peas, dry",
          "Cow peas, dry",
          "Cow peas, dry",
          "Cranberries",
          "Cranberries",
          "Cranberries",
          "Cucumbers and gherkins",
          "Cucumbers and gherkins",
          "Cucumbers and gherkins",
          "Currants",
          "Currants",
          "Currants",
          "Dates",
          "Dates",
          "Dates",
          "Eggplants (aubergines)",
          "Eggplants (aubergines)",
          "Eggplants (aubergines)",
          "Figs",
          "Figs",
          "Figs",
          "Fruit, citrus nes",
          "Fruit, citrus nes",
          "Fruit, citrus nes",
          "Fruit, fresh nes",
          "Fruit, fresh nes",
          "Fruit, fresh nes",
          "Garlic",
          "Garlic",
          "Garlic",
          "Ginger",
          "Ginger",
          "Ginger",
          "Grapefruit (inc. pomelos)",
          "Grapefruit (inc. pomelos)",
          "Grapefruit (inc. pomelos)",
          "Grapes",
          "Grapes",
          "Grapes",
          "Groundnuts, with shell",
          "Groundnuts, with shell",
          "Groundnuts, with shell",
          "Hazelnuts, with shell",
          "Hazelnuts, with shell",
          "Hazelnuts, with shell",
          "Hops",
          "Hops",
          "Hops",
          "Kiwi fruit",
          "Kiwi fruit",
          "Kiwi fruit",
          "Lemons and limes",
          "Lemons and limes",
          "Lemons and limes",
          "Lentils",
          "Lentils",
          "Lentils",
          "Lettuce and chicory",
          "Lettuce and chicory",
          "Lettuce and chicory",
          "Linseed",
          "Linseed",
          "Linseed",
          "Maize",
          "Maize",
          "Maize",
          "Maize, green",
          "Maize, green",
          "Maize, green",
          "Mangoes, mangosteens, guavas",
          "Mangoes, mangosteens, guavas",
          "Mangoes, mangosteens, guavas",
          "Melons, other (inc.cantaloupes)",
          "Melons, other (inc.cantaloupes)",
          "Melons, other (inc.cantaloupes)",
          "Millet",
          "Millet",
          "Millet",
          "Mushrooms and truffles",
          "Mustard seed",
          "Mustard seed",
          "Mustard seed",
          "Nuts nes",
          "Nuts nes",
          "Nuts nes",
          "Oats",
          "Oats",
          "Oats",
          "Okra",
          "Okra",
          "Okra",
          "Olives",
          "Olives",
          "Olives",
          "Onions, dry",
          "Onions, dry",
          "Onions, dry",
          "Oranges",
          "Oranges",
          "Oranges",
          "Papayas",
          "Papayas",
          "Papayas",
          "Peaches and nectarines",
          "Peaches and nectarines",
          "Peaches and nectarines",
          "Pears",
          "Pears",
          "Pears",
          "Peas, dry",
          "Peas, dry",
          "Peas, dry",
          "Peas, green",
          "Peas, green",
          "Peas, green",
          "Pineapples",
          "Pineapples",
          "Pineapples",
          "Pistachios",
          "Pistachios",
          "Pistachios",
          "Plums and sloes",
          "Plums and sloes",
          "Plums and sloes",
          "Potatoes",
          "Potatoes",
          "Potatoes",
          "Pumpkins, squash and gourds",
          "Pumpkins, squash and gourds",
          "Pumpkins, squash and gourds",
          "Rapeseed",
          "Rapeseed",
          "Rapeseed",
          "Raspberries",
          "Raspberries",
          "Raspberries",
          "Rice, paddy",
          "Rice, paddy",
          "Rice, paddy",
          "Rice, paddy (rice milled equivalent)",
          "Rye",
          "Rye",
          "Rye",
          "Safflower seed",
          "Safflower seed",
          "Safflower seed",
          "Seed cotton",
          "Seed cotton",
          "Seed cotton",
          "Sesame seed",
          "Sesame seed",
          "Sesame seed",
          "Sorghum",
          "Sorghum",
          "Sorghum",
          "Soybeans",
          "Soybeans",
          "Soybeans",
          "Spinach",
          "Spinach",
          "Spinach",
          "Strawberries",
          "Strawberries",
          "Strawberries",
          "String beans",
          "String beans",
          "String beans",
          "Sugar beet",
          "Sugar beet",
          "Sugar beet",
          "Sugar cane",
          "Sugar cane",
          "Sugar cane",
          "Sunflower seed",
          "Sunflower seed",
          "Sunflower seed",
          "Sweet potatoes",
          "Sweet potatoes",
          "Sweet potatoes",
          "Tangerines, mandarins, clementines, satsumas",
          "Tangerines, mandarins, clementines, satsumas",
          "Tangerines, mandarins, clementines, satsumas",
          "Taro (cocoyam)",
          "Taro (cocoyam)",
          "Taro (cocoyam)",
          "Tobacco, unmanufactured",
          "Tobacco, unmanufactured",
          "Tobacco, unmanufactured",
          "Tomatoes",
          "Tomatoes",
          "Tomatoes",
          "Tung nuts",
          "Tung nuts",
          "Vegetables, fresh nes",
          "Vegetables, fresh nes",
          "Vegetables, fresh nes",
          "Vegetables, leguminous nes",
          "Vegetables, leguminous nes",
          "Vegetables, leguminous nes",
          "Walnuts, with shell",
          "Walnuts, with shell",
          "Walnuts, with shell",
          "Watermelons",
          "Watermelons",
          "Watermelons",
          "Wheat",
          "Wheat",
          "Wheat",
          "Cereals, Total",
          "Cereals, Total",
          "Cereals, Total",
          "Citrus Fruit, Total",
          "Citrus Fruit, Total",
          "Citrus Fruit, Total",
          "Fibre Crops Primary",
          "Fibre Crops Primary",
          "Fibre Crops Primary",
          "Fruit Primary",
          "Fruit Primary",
          "Fruit Primary",
          "Oilcrops",
          "Oilcrops",
          "Oilcrops",
          "Oilcrops, Cake Equivalent",
          "Oilcrops, Cake Equivalent",
          "Oilcrops, Cake Equivalent",
          "Oilcrops, Oil Equivalent",
          "Oilcrops, Oil Equivalent",
          "Oilcrops, Oil Equivalent",
          "Pulses, Total",
          "Pulses, Total",
          "Pulses, Total",
          "Roots and Tubers, Total",
          "Roots and Tubers, Total",
          "Roots and Tubers, Total",
          "Sugar Crops Primary",
          "Sugar Crops Primary",
          "Sugar Crops Primary",
          "Treenuts, Total",
          "Treenuts, Total",
          "Treenuts, Total",
          "Vegetables Primary",
          "Vegetables Primary",
          "Vegetables Primary",
          "Apples",
          "Apples",
          "Apples",
          "Barley",
          "Barley",
          "Barley",
          "Beans, dry",
          "Beans, dry",
          "Beans, dry",
          "Beans, green",
          "Beans, green",
          "Beans, green",
          "Broad beans, horse beans, dry",
          "Broad beans, horse beans, dry",
          "Broad beans, horse beans, dry",
          "Cabbages and other brassicas",
          "Cabbages and other brassicas",
          "Cabbages and other brassicas",
          "Canary seed",
          "Canary seed",
          "Canary seed",
          "Carrots and turnips",
          "Carrots and turnips",
          "Carrots and turnips",
          "Chillies and peppers, green",
          "Chillies and peppers, green",
          "Chillies and peppers, green",
          "Fruit, fresh nes",
          "Fruit, fresh nes",
          "Fruit, fresh nes",
          "Garlic",
          "Garlic",
          "Garlic",
          "Grapefruit (inc. pomelos)",
          "Grapefruit (inc. pomelos)",
          "Grapefruit (inc. pomelos)",
          "Grapes",
          "Grapes",
          "Grapes",
          "Groundnuts, with shell",
          "Groundnuts, with shell",
          "Groundnuts, with shell",
          "Lemons and limes",
          "Lemons and limes",
          "Lemons and limes",
          "Linseed",
          "Linseed",
          "Linseed",
          "Maize",
          "Maize",
          "Maize",
          "Maize, green",
          "Maize, green",
          "Maize, green",
          "Melons, other (inc.cantaloupes)",
          "Melons, other (inc.cantaloupes)",
          "Melons, other (inc.cantaloupes)",
          "Oats",
          "Oats",
          "Oats",
          "Olives",
          "Olives",
          "Olives",
          "Onions, dry",
          "Onions, dry",
          "Onions, dry",
          "Oranges",
          "Oranges",
          "Oranges",
          "Peaches and nectarines",
          "Peaches and nectarines",
          "Peaches and nectarines",
          "Pears",
          "Pears",
          "Pears",
          "Peas, dry",
          "Peas, dry",
          "Peas, dry",
          "Plums and sloes",
          "Plums and sloes",
          "Plums and sloes",
          "Potatoes",
          "Potatoes",
          "Potatoes",
          "Pumpkins, squash and gourds",
          "Pumpkins, squash and gourds",
          "Pumpkins, squash and gourds",
          "Quinces",
          "Quinces",
          "Quinces",
          "Rapeseed",
          "Rapeseed",
          "Rapeseed",
          "Rice, paddy",
          "Rice, paddy",
          "Rice, paddy",
          "Rice, paddy (rice milled equivalent)",
          "Seed cotton",
          "Seed cotton",
          "Seed cotton",
          "Sorghum",
          "Sorghum",
          "Sorghum",
          "Soybeans",
          "Soybeans",
          "Soybeans",
          "Sugar beet",
          "Sugar beet",
          "Sugar beet",
          "Sugar cane",
          "Sugar cane",
          "Sugar cane",
          "Sunflower seed",
          "Sunflower seed",
          "Sunflower seed",
          "Sweet potatoes",
          "Sweet potatoes",
          "Sweet potatoes",
          "Tangerines, mandarins, clementines, satsumas",
          "Tangerines, mandarins, clementines, satsumas",
          "Tangerines, mandarins, clementines, satsumas",
          "Tobacco, unmanufactured",
          "Tobacco, unmanufactured",
          "Tobacco, unmanufactured",
          "Tomatoes",
          "Tomatoes",
          "Tomatoes",
          "Vegetables, fresh nes",
          "Vegetables, fresh nes",
          "Vegetables, fresh nes",
          "Watermelons",
          "Watermelons",
          "Watermelons",
          "Wheat",
          "Wheat",
          "Wheat",
          "Cereals, Total",
          "Cereals, Total",
          "Cereals, Total",
          "Citrus Fruit, Total",
          "Citrus Fruit, Total",
          "Citrus Fruit, Total",
          "Fibre Crops Primary",
          "Fibre Crops Primary",
          "Fibre Crops Primary",
          "Fruit Primary",
          "Fruit Primary",
          "Fruit Primary",
          "Oilcrops",
          "Oilcrops",
          "Oilcrops",
          "Oilcrops, Cake Equivalent",
          "Oilcrops, Cake Equivalent",
          "Oilcrops, Cake Equivalent",
          "Oilcrops, Oil Equivalent",
          "Oilcrops, Oil Equivalent",
          "Oilcrops, Oil Equivalent",
          "Pulses, Total",
          "Pulses, Total",
          "Pulses, Total",
          "Roots and Tubers, Total",
          "Roots and Tubers, Total",
          "Roots and Tubers, Total",
          "Sugar Crops Primary",
          "Sugar Crops Primary",
          "Sugar Crops Primary",
          "Vegetables Primary",
          "Vegetables Primary",
          "Vegetables Primary",
          "Avocados",
          "Avocados",
          "Avocados",
          "Bananas",
          "Bananas",
          "Bananas",
          "Beans, dry",
          "Beans, dry",
          "Beans, dry",
          "Cabbages and other brassicas",
          "Cabbages and other brassicas",
          "Cabbages and other brassicas",
          "Carrots and turnips",
          "Carrots and turnips",
          "Carrots and turnips",
          "Cassava",
          "Cassava",
          "Cassava",
          "Cauliflowers and broccoli",
          "Cauliflowers and broccoli",
          "Cauliflowers and broccoli",
          "Chillies and peppers, green",
          "Chillies and peppers, green",
          "Chillies and peppers, green",
          "Cocoa, beans",
          "Cocoa, beans",
          "Cocoa, beans",
          "Coconuts",
          "Coconuts",
          "Coconuts",
          "Coffee, green",
          "Coffee, green",
          "Coffee, green",
          "Cucumbers and gherkins",
          "Cucumbers and gherkins",
          "Cucumbers and gherkins",
          "Eggplants (aubergines)",
          "Eggplants (aubergines)",
          "Eggplants (aubergines)",
          "Figs",
          "Figs",
          "Figs",
          "Fruit, fresh nes",
          "Fruit, fresh nes",
          "Fruit, fresh nes",
          "Fruit, tropical fresh nes",
          "Fruit, tropical fresh nes",
          "Fruit, tropical fresh nes",
          "Garlic",
          "Garlic",
          "Garlic",
          "Grapefruit (inc. pomelos)",
          "Grapefruit (inc. pomelos)",
          "Grapefruit (inc. pomelos)",
          "Grapes",
          "Grapes",
          "Grapes",
          "Groundnuts, with shell",
          "Groundnuts, with shell",
          "Groundnuts, with shell",
          "Gums, natural",
          "Lemons and limes",
          "Lemons and limes",
          "Lemons and limes",
          "Lettuce and chicory",
          "Lettuce and chicory",
          "Lettuce and chicory",
          "Maize",
          "Maize",
          "Maize",
          "Mangoes, mangosteens, guavas",
          "Mangoes, mangosteens, guavas",
          "Mangoes, mangosteens, guavas",
          "Melons, other (inc.cantaloupes)",
          "Melons, other (inc.cantaloupes)",
          "Melons, other (inc.cantaloupes)",
          "Oil palm fruit",
          "Oil palm fruit",
          "Oil palm fruit",
          "Onions, dry",
          "Onions, dry",
          "Onions, dry",
          "Onions, shallots, green",
          "Onions, shallots, green",
          "Onions, shallots, green",
          "Oranges",
          "Oranges",
          "Oranges",
          "Papayas",
          "Papayas",
          "Papayas",
          "Peaches and nectarines",
          "Peaches and nectarines",
          "Peaches and nectarines",
          "Peas, dry",
          "Peas, dry",
          "Peas, dry",
          "Pigeon peas",
          "Pigeon peas",
          "Pigeon peas",
          "Pineapples",
          "Pineapples",
          "Pineapples",
          "Plantains and others",
          "Plantains and others",
          "Plantains and others",
          "Potatoes",
          "Potatoes",
          "Potatoes",
          "Pumpkins, squash and gourds",
          "Pumpkins, squash and gourds",
          "Pumpkins, squash and gourds",
          "Rice, paddy",
          "Rice, paddy",
          "Rice, paddy",
          "Rice, paddy (rice milled equivalent)",
          "Roots and tubers nes",
          "Roots and tubers nes",
          "Roots and tubers nes",
          "Seed cotton",
          "Seed cotton",
          "Seed cotton",
          "Sesame seed",
          "Sesame seed",
          "Sesame seed",
          "Sisal",
          "Sisal",
          "Sisal",
          "Sorghum",
          "Sorghum",
          "Sorghum",
          "Soybeans",
          "Soybeans",
          "Soybeans",
          "Spinach",
          "Spinach",
          "Spinach",
          "Strawberries",
          "Strawberries",
          "Strawberries",
          "String beans",
          "String beans",
          "String beans",
          "Sugar beet",
          "Sugar beet",
          "Sugar beet",
          "Sugar cane",
          "Sugar cane",
          "Sugar cane",
          "Sunflower seed",
          "Sunflower seed",
          "Sunflower seed",
          "Sweet potatoes",
          "Sweet potatoes",
          "Sweet potatoes",
          "Tangerines, mandarins, clementines, satsumas",
          "Tangerines, mandarins, clementines, satsumas",
          "Tangerines, mandarins, clementines, satsumas",
          "Tobacco, unmanufactured",
          "Tobacco, unmanufactured",
          "Tobacco, unmanufactured",
          "Tomatoes",
          "Tomatoes",
          "Tomatoes",
          "Vegetables, fresh nes",
          "Vegetables, fresh nes",
          "Vegetables, fresh nes",
          "Watermelons",
          "Watermelons",
          "Watermelons",
          "Wheat",
          "Wheat",
          "Wheat",
          "Yams",
          "Yams",
          "Yams",
          "Yautia (cocoyam)",
          "Yautia (cocoyam)",
          "Yautia (cocoyam)",
          "Cereals, Total",
          "Cereals, Total",
          "Cereals, Total",
          "Citrus Fruit, Total",
          "Citrus Fruit, Total",
          "Citrus Fruit, Total",
          "Fibre Crops Primary",
          "Fibre Crops Primary",
          "Fibre Crops Primary",
          "Fruit Primary",
          "Fruit Primary",
          "Fruit Primary",
          "Oilcrops",
          "Oilcrops",
          "Oilcrops",
          "Oilcrops, Cake Equivalent",
          "Oilcrops, Cake Equivalent",
          "Oilcrops, Cake Equivalent",
          "Oilcrops, Oil Equivalent",
          "Oilcrops, Oil Equivalent",
          "Oilcrops, Oil Equivalent",
          "Pulses, Total",
          "Pulses, Total",
          "Pulses, Total",
          "Roots and Tubers, Total",
          "Roots and Tubers, Total",
          "Roots and Tubers, Total",
          "Sugar Crops Primary",
          "Sugar Crops Primary",
          "Sugar Crops Primary",
          "Vegetables Primary",
          "Vegetables Primary",
          "Vegetables Primary"
         ],
         "xaxis": "x",
         "yaxis": "y"
        }
       ],
       "layout": {
        "barmode": "relative",
        "legend": {
         "tracegroupgap": 0
        },
        "margin": {
         "t": 60
        },
        "template": {
         "data": {
          "bar": [
           {
            "error_x": {
             "color": "#2a3f5f"
            },
            "error_y": {
             "color": "#2a3f5f"
            },
            "marker": {
             "line": {
              "color": "#E5ECF6",
              "width": 0.5
             },
             "pattern": {
              "fillmode": "overlay",
              "size": 10,
              "solidity": 0.2
             }
            },
            "type": "bar"
           }
          ],
          "barpolar": [
           {
            "marker": {
             "line": {
              "color": "#E5ECF6",
              "width": 0.5
             },
             "pattern": {
              "fillmode": "overlay",
              "size": 10,
              "solidity": 0.2
             }
            },
            "type": "barpolar"
           }
          ],
          "carpet": [
           {
            "aaxis": {
             "endlinecolor": "#2a3f5f",
             "gridcolor": "white",
             "linecolor": "white",
             "minorgridcolor": "white",
             "startlinecolor": "#2a3f5f"
            },
            "baxis": {
             "endlinecolor": "#2a3f5f",
             "gridcolor": "white",
             "linecolor": "white",
             "minorgridcolor": "white",
             "startlinecolor": "#2a3f5f"
            },
            "type": "carpet"
           }
          ],
          "choropleth": [
           {
            "colorbar": {
             "outlinewidth": 0,
             "ticks": ""
            },
            "type": "choropleth"
           }
          ],
          "contour": [
           {
            "colorbar": {
             "outlinewidth": 0,
             "ticks": ""
            },
            "colorscale": [
             [
              0,
              "#0d0887"
             ],
             [
              0.1111111111111111,
              "#46039f"
             ],
             [
              0.2222222222222222,
              "#7201a8"
             ],
             [
              0.3333333333333333,
              "#9c179e"
             ],
             [
              0.4444444444444444,
              "#bd3786"
             ],
             [
              0.5555555555555556,
              "#d8576b"
             ],
             [
              0.6666666666666666,
              "#ed7953"
             ],
             [
              0.7777777777777778,
              "#fb9f3a"
             ],
             [
              0.8888888888888888,
              "#fdca26"
             ],
             [
              1,
              "#f0f921"
             ]
            ],
            "type": "contour"
           }
          ],
          "contourcarpet": [
           {
            "colorbar": {
             "outlinewidth": 0,
             "ticks": ""
            },
            "type": "contourcarpet"
           }
          ],
          "heatmap": [
           {
            "colorbar": {
             "outlinewidth": 0,
             "ticks": ""
            },
            "colorscale": [
             [
              0,
              "#0d0887"
             ],
             [
              0.1111111111111111,
              "#46039f"
             ],
             [
              0.2222222222222222,
              "#7201a8"
             ],
             [
              0.3333333333333333,
              "#9c179e"
             ],
             [
              0.4444444444444444,
              "#bd3786"
             ],
             [
              0.5555555555555556,
              "#d8576b"
             ],
             [
              0.6666666666666666,
              "#ed7953"
             ],
             [
              0.7777777777777778,
              "#fb9f3a"
             ],
             [
              0.8888888888888888,
              "#fdca26"
             ],
             [
              1,
              "#f0f921"
             ]
            ],
            "type": "heatmap"
           }
          ],
          "histogram": [
           {
            "marker": {
             "pattern": {
              "fillmode": "overlay",
              "size": 10,
              "solidity": 0.2
             }
            },
            "type": "histogram"
           }
          ],
          "histogram2d": [
           {
            "colorbar": {
             "outlinewidth": 0,
             "ticks": ""
            },
            "colorscale": [
             [
              0,
              "#0d0887"
             ],
             [
              0.1111111111111111,
              "#46039f"
             ],
             [
              0.2222222222222222,
              "#7201a8"
             ],
             [
              0.3333333333333333,
              "#9c179e"
             ],
             [
              0.4444444444444444,
              "#bd3786"
             ],
             [
              0.5555555555555556,
              "#d8576b"
             ],
             [
              0.6666666666666666,
              "#ed7953"
             ],
             [
              0.7777777777777778,
              "#fb9f3a"
             ],
             [
              0.8888888888888888,
              "#fdca26"
             ],
             [
              1,
              "#f0f921"
             ]
            ],
            "type": "histogram2d"
           }
          ],
          "histogram2dcontour": [
           {
            "colorbar": {
             "outlinewidth": 0,
             "ticks": ""
            },
            "colorscale": [
             [
              0,
              "#0d0887"
             ],
             [
              0.1111111111111111,
              "#46039f"
             ],
             [
              0.2222222222222222,
              "#7201a8"
             ],
             [
              0.3333333333333333,
              "#9c179e"
             ],
             [
              0.4444444444444444,
              "#bd3786"
             ],
             [
              0.5555555555555556,
              "#d8576b"
             ],
             [
              0.6666666666666666,
              "#ed7953"
             ],
             [
              0.7777777777777778,
              "#fb9f3a"
             ],
             [
              0.8888888888888888,
              "#fdca26"
             ],
             [
              1,
              "#f0f921"
             ]
            ],
            "type": "histogram2dcontour"
           }
          ],
          "mesh3d": [
           {
            "colorbar": {
             "outlinewidth": 0,
             "ticks": ""
            },
            "type": "mesh3d"
           }
          ],
          "parcoords": [
           {
            "line": {
             "colorbar": {
              "outlinewidth": 0,
              "ticks": ""
             }
            },
            "type": "parcoords"
           }
          ],
          "pie": [
           {
            "automargin": true,
            "type": "pie"
           }
          ],
          "scatter": [
           {
            "fillpattern": {
             "fillmode": "overlay",
             "size": 10,
             "solidity": 0.2
            },
            "type": "scatter"
           }
          ],
          "scatter3d": [
           {
            "line": {
             "colorbar": {
              "outlinewidth": 0,
              "ticks": ""
             }
            },
            "marker": {
             "colorbar": {
              "outlinewidth": 0,
              "ticks": ""
             }
            },
            "type": "scatter3d"
           }
          ],
          "scattercarpet": [
           {
            "marker": {
             "colorbar": {
              "outlinewidth": 0,
              "ticks": ""
             }
            },
            "type": "scattercarpet"
           }
          ],
          "scattergeo": [
           {
            "marker": {
             "colorbar": {
              "outlinewidth": 0,
              "ticks": ""
             }
            },
            "type": "scattergeo"
           }
          ],
          "scattergl": [
           {
            "marker": {
             "colorbar": {
              "outlinewidth": 0,
              "ticks": ""
             }
            },
            "type": "scattergl"
           }
          ],
          "scattermap": [
           {
            "marker": {
             "colorbar": {
              "outlinewidth": 0,
              "ticks": ""
             }
            },
            "type": "scattermap"
           }
          ],
          "scattermapbox": [
           {
            "marker": {
             "colorbar": {
              "outlinewidth": 0,
              "ticks": ""
             }
            },
            "type": "scattermapbox"
           }
          ],
          "scatterpolar": [
           {
            "marker": {
             "colorbar": {
              "outlinewidth": 0,
              "ticks": ""
             }
            },
            "type": "scatterpolar"
           }
          ],
          "scatterpolargl": [
           {
            "marker": {
             "colorbar": {
              "outlinewidth": 0,
              "ticks": ""
             }
            },
            "type": "scatterpolargl"
           }
          ],
          "scatterternary": [
           {
            "marker": {
             "colorbar": {
              "outlinewidth": 0,
              "ticks": ""
             }
            },
            "type": "scatterternary"
           }
          ],
          "surface": [
           {
            "colorbar": {
             "outlinewidth": 0,
             "ticks": ""
            },
            "colorscale": [
             [
              0,
              "#0d0887"
             ],
             [
              0.1111111111111111,
              "#46039f"
             ],
             [
              0.2222222222222222,
              "#7201a8"
             ],
             [
              0.3333333333333333,
              "#9c179e"
             ],
             [
              0.4444444444444444,
              "#bd3786"
             ],
             [
              0.5555555555555556,
              "#d8576b"
             ],
             [
              0.6666666666666666,
              "#ed7953"
             ],
             [
              0.7777777777777778,
              "#fb9f3a"
             ],
             [
              0.8888888888888888,
              "#fdca26"
             ],
             [
              1,
              "#f0f921"
             ]
            ],
            "type": "surface"
           }
          ],
          "table": [
           {
            "cells": {
             "fill": {
              "color": "#EBF0F8"
             },
             "line": {
              "color": "white"
             }
            },
            "header": {
             "fill": {
              "color": "#C8D4E3"
             },
             "line": {
              "color": "white"
             }
            },
            "type": "table"
           }
          ]
         },
         "layout": {
          "annotationdefaults": {
           "arrowcolor": "#2a3f5f",
           "arrowhead": 0,
           "arrowwidth": 1
          },
          "autotypenumbers": "strict",
          "coloraxis": {
           "colorbar": {
            "outlinewidth": 0,
            "ticks": ""
           }
          },
          "colorscale": {
           "diverging": [
            [
             0,
             "#8e0152"
            ],
            [
             0.1,
             "#c51b7d"
            ],
            [
             0.2,
             "#de77ae"
            ],
            [
             0.3,
             "#f1b6da"
            ],
            [
             0.4,
             "#fde0ef"
            ],
            [
             0.5,
             "#f7f7f7"
            ],
            [
             0.6,
             "#e6f5d0"
            ],
            [
             0.7,
             "#b8e186"
            ],
            [
             0.8,
             "#7fbc41"
            ],
            [
             0.9,
             "#4d9221"
            ],
            [
             1,
             "#276419"
            ]
           ],
           "sequential": [
            [
             0,
             "#0d0887"
            ],
            [
             0.1111111111111111,
             "#46039f"
            ],
            [
             0.2222222222222222,
             "#7201a8"
            ],
            [
             0.3333333333333333,
             "#9c179e"
            ],
            [
             0.4444444444444444,
             "#bd3786"
            ],
            [
             0.5555555555555556,
             "#d8576b"
            ],
            [
             0.6666666666666666,
             "#ed7953"
            ],
            [
             0.7777777777777778,
             "#fb9f3a"
            ],
            [
             0.8888888888888888,
             "#fdca26"
            ],
            [
             1,
             "#f0f921"
            ]
           ],
           "sequentialminus": [
            [
             0,
             "#0d0887"
            ],
            [
             0.1111111111111111,
             "#46039f"
            ],
            [
             0.2222222222222222,
             "#7201a8"
            ],
            [
             0.3333333333333333,
             "#9c179e"
            ],
            [
             0.4444444444444444,
             "#bd3786"
            ],
            [
             0.5555555555555556,
             "#d8576b"
            ],
            [
             0.6666666666666666,
             "#ed7953"
            ],
            [
             0.7777777777777778,
             "#fb9f3a"
            ],
            [
             0.8888888888888888,
             "#fdca26"
            ],
            [
             1,
             "#f0f921"
            ]
           ]
          },
          "colorway": [
           "#636efa",
           "#EF553B",
           "#00cc96",
           "#ab63fa",
           "#FFA15A",
           "#19d3f3",
           "#FF6692",
           "#B6E880",
           "#FF97FF",
           "#FECB52"
          ],
          "font": {
           "color": "#2a3f5f"
          },
          "geo": {
           "bgcolor": "white",
           "lakecolor": "white",
           "landcolor": "#E5ECF6",
           "showlakes": true,
           "showland": true,
           "subunitcolor": "white"
          },
          "hoverlabel": {
           "align": "left"
          },
          "hovermode": "closest",
          "mapbox": {
           "style": "light"
          },
          "paper_bgcolor": "white",
          "plot_bgcolor": "#E5ECF6",
          "polar": {
           "angularaxis": {
            "gridcolor": "white",
            "linecolor": "white",
            "ticks": ""
           },
           "bgcolor": "#E5ECF6",
           "radialaxis": {
            "gridcolor": "white",
            "linecolor": "white",
            "ticks": ""
           }
          },
          "scene": {
           "xaxis": {
            "backgroundcolor": "#E5ECF6",
            "gridcolor": "white",
            "gridwidth": 2,
            "linecolor": "white",
            "showbackground": true,
            "ticks": "",
            "zerolinecolor": "white"
           },
           "yaxis": {
            "backgroundcolor": "#E5ECF6",
            "gridcolor": "white",
            "gridwidth": 2,
            "linecolor": "white",
            "showbackground": true,
            "ticks": "",
            "zerolinecolor": "white"
           },
           "zaxis": {
            "backgroundcolor": "#E5ECF6",
            "gridcolor": "white",
            "gridwidth": 2,
            "linecolor": "white",
            "showbackground": true,
            "ticks": "",
            "zerolinecolor": "white"
           }
          },
          "shapedefaults": {
           "line": {
            "color": "#2a3f5f"
           }
          },
          "ternary": {
           "aaxis": {
            "gridcolor": "white",
            "linecolor": "white",
            "ticks": ""
           },
           "baxis": {
            "gridcolor": "white",
            "linecolor": "white",
            "ticks": ""
           },
           "bgcolor": "#E5ECF6",
           "caxis": {
            "gridcolor": "white",
            "linecolor": "white",
            "ticks": ""
           }
          },
          "title": {
           "x": 0.05
          },
          "xaxis": {
           "automargin": true,
           "gridcolor": "white",
           "linecolor": "white",
           "ticks": "",
           "title": {
            "standoff": 15
           },
           "zerolinecolor": "white",
           "zerolinewidth": 2
          },
          "yaxis": {
           "automargin": true,
           "gridcolor": "white",
           "linecolor": "white",
           "ticks": "",
           "title": {
            "standoff": 15
           },
           "zerolinecolor": "white",
           "zerolinewidth": 2
          }
         }
        },
        "xaxis": {
         "anchor": "y",
         "domain": [
          0,
          1
         ],
         "title": {
          "text": "Item"
         }
        },
        "yaxis": {
         "anchor": "x",
         "domain": [
          0,
          1
         ],
         "title": {
          "text": "count"
         }
        }
       }
      }
     },
     "metadata": {},
     "output_type": "display_data"
    }
   ],
   "source": [
    "fig = px.histogram(crop_data, x=\"Item\") # crear un histograma\n",
    "fig.show() # crear gráfico de dispersión"
   ]
  },
  {
   "cell_type": "markdown",
   "id": "17c6b3c5",
   "metadata": {},
   "source": [
    "Visualizaciones de exploración"
   ]
  },
  {
   "cell_type": "code",
   "execution_count": null,
   "id": "3c70b6a3",
   "metadata": {},
   "outputs": [],
   "source": [
    "# Filtrar datos por Elemento\n",
    "production = crop_data[crop_data['Element'] == 'Production'].copy()\n",
    "area = crop_data[crop_data['Element'] == 'Area harvested'].copy()\n",
    "yield_ = crop_data[crop_data['Element'] == 'Yield'].copy()\n"
   ]
  },
  {
   "cell_type": "code",
   "execution_count": 16,
   "id": "2f87f0e7",
   "metadata": {},
   "outputs": [],
   "source": [
    "# Extraer solo columnas de años (ignorando flags)\n",
    "# -----------------------\n",
    "years = [col for col in production.columns if col.startswith('Y') and not col.endswith('F')]\n",
    "\n",
    "# -----------------------\n",
    "# Transformar a formato largo\n",
    "# -----------------------\n",
    "def melt_element(df, value_name):\n",
    "    df_long = df.melt(\n",
    "        id_vars=['Area','Item'],      # columnas que identifican la fila\n",
    "        value_vars=years,             # columnas de datos\n",
    "        var_name='Year',              # nueva columna con el año\n",
    "        value_name=value_name         # nombre de la columna con valores\n",
    "    )\n",
    "    df_long['Year'] = df_long['Year'].str[1:].astype(int)\n",
    "    df_long[value_name] = pd.to_numeric(df_long[value_name], errors='coerce')\n",
    "    return df_long\n",
    "\n",
    "production_long = melt_element(production, 'Production')\n",
    "area_long = melt_element(area, 'Area_ha')\n",
    "yield_long = melt_element(yield_, 'Yield_hg_per_ha')\n"
   ]
  },
  {
   "cell_type": "code",
   "execution_count": 23,
   "id": "cb5d96cd",
   "metadata": {},
   "outputs": [
    {
     "data": {
      "application/vnd.plotly.v1+json": {
       "config": {
        "plotlyServerURL": "https://plot.ly"
       },
       "data": [
        {
         "hovertemplate": "Year=%{x}<br>Production=%{y}<extra></extra>",
         "legendgroup": "",
         "line": {
          "color": "#636efa",
          "dash": "solid"
         },
         "marker": {
          "symbol": "circle"
         },
         "mode": "lines+markers",
         "name": "",
         "orientation": "v",
         "showlegend": false,
         "type": "scatter",
         "x": {
          "bdata": "qQeqB6sHrAetB64HrwewB7EHsgezB7QHtQe2B7cHuAe5B7oHuwe8B70Hvge/B8AHwQfCB8MHxAfFB8YHxwfIB8kHygfLB8wHzQfOB88H0AfRB9IH0wfUB9UH1gfXB9gH2QfaB9sH3AfdB94H3wfgB+EH4gfjBw==",
          "dtype": "i2"
         },
         "xaxis": "x",
         "y": {
          "bdata": "AAAAAAC0xEAAAAAAAHzFQAAAAAAA2sZAAAAAAADUx0AAAAAAAADJQAAAAAAA+slAAAAAAACKy0AAAAAAAOjMQAAAAAAAeM5AAAAAAADWz0AAAAAAAJTRQAAAAAAAgtRAAAAAAAA+10AAAAAAAHDXQAAAAAAAathAAAAAAADn2EAAAAAAAGTZQAAAAAAAZNlAAAAAAABe2kAAAAAAANvaQAAAAAAAWNtAAAAAAMDG1EAAAAAAwA7VQAAAAACAVtVAAAAAAIBW1UAAAAAAgFbVQAAAAACAVtVAAAAAAIBW1UAAAAAAAHzVQAAAAAAAdtZAAAAAAACa1kAAAAAAAKjWQAAAAAAAwdZAAAAAAADa1kAAAAAAAPPWQAAAAAAAcNdAAAAAAABw10AAAAAAAHbWQAAAAAAAdtZAAAAAAMCB1UAAAAAAgG/UQAAAAAAAQdNAAAAAAED80UAAAAAAwKbQQAAAAACAaspAAAAAAAAEx0AAAAAAAHnAQAAAAAAAXrtAAAAAAAAKtkAAAAAAABKxQAAAAAAAIqlAAAAAAAAgmkAAAAAAAGyRQAAAAAAAhJJAAAAAAAC/x0AAAAAAACjIQAAAAAAAKMhAAAAAAABMzUAAAAAAgFrQQA==",
          "dtype": "f8"
         },
         "yaxis": "y"
        }
       ],
       "layout": {
        "legend": {
         "tracegroupgap": 0
        },
        "template": {
         "data": {
          "bar": [
           {
            "error_x": {
             "color": "#2a3f5f"
            },
            "error_y": {
             "color": "#2a3f5f"
            },
            "marker": {
             "line": {
              "color": "#E5ECF6",
              "width": 0.5
             },
             "pattern": {
              "fillmode": "overlay",
              "size": 10,
              "solidity": 0.2
             }
            },
            "type": "bar"
           }
          ],
          "barpolar": [
           {
            "marker": {
             "line": {
              "color": "#E5ECF6",
              "width": 0.5
             },
             "pattern": {
              "fillmode": "overlay",
              "size": 10,
              "solidity": 0.2
             }
            },
            "type": "barpolar"
           }
          ],
          "carpet": [
           {
            "aaxis": {
             "endlinecolor": "#2a3f5f",
             "gridcolor": "white",
             "linecolor": "white",
             "minorgridcolor": "white",
             "startlinecolor": "#2a3f5f"
            },
            "baxis": {
             "endlinecolor": "#2a3f5f",
             "gridcolor": "white",
             "linecolor": "white",
             "minorgridcolor": "white",
             "startlinecolor": "#2a3f5f"
            },
            "type": "carpet"
           }
          ],
          "choropleth": [
           {
            "colorbar": {
             "outlinewidth": 0,
             "ticks": ""
            },
            "type": "choropleth"
           }
          ],
          "contour": [
           {
            "colorbar": {
             "outlinewidth": 0,
             "ticks": ""
            },
            "colorscale": [
             [
              0,
              "#0d0887"
             ],
             [
              0.1111111111111111,
              "#46039f"
             ],
             [
              0.2222222222222222,
              "#7201a8"
             ],
             [
              0.3333333333333333,
              "#9c179e"
             ],
             [
              0.4444444444444444,
              "#bd3786"
             ],
             [
              0.5555555555555556,
              "#d8576b"
             ],
             [
              0.6666666666666666,
              "#ed7953"
             ],
             [
              0.7777777777777778,
              "#fb9f3a"
             ],
             [
              0.8888888888888888,
              "#fdca26"
             ],
             [
              1,
              "#f0f921"
             ]
            ],
            "type": "contour"
           }
          ],
          "contourcarpet": [
           {
            "colorbar": {
             "outlinewidth": 0,
             "ticks": ""
            },
            "type": "contourcarpet"
           }
          ],
          "heatmap": [
           {
            "colorbar": {
             "outlinewidth": 0,
             "ticks": ""
            },
            "colorscale": [
             [
              0,
              "#0d0887"
             ],
             [
              0.1111111111111111,
              "#46039f"
             ],
             [
              0.2222222222222222,
              "#7201a8"
             ],
             [
              0.3333333333333333,
              "#9c179e"
             ],
             [
              0.4444444444444444,
              "#bd3786"
             ],
             [
              0.5555555555555556,
              "#d8576b"
             ],
             [
              0.6666666666666666,
              "#ed7953"
             ],
             [
              0.7777777777777778,
              "#fb9f3a"
             ],
             [
              0.8888888888888888,
              "#fdca26"
             ],
             [
              1,
              "#f0f921"
             ]
            ],
            "type": "heatmap"
           }
          ],
          "histogram": [
           {
            "marker": {
             "pattern": {
              "fillmode": "overlay",
              "size": 10,
              "solidity": 0.2
             }
            },
            "type": "histogram"
           }
          ],
          "histogram2d": [
           {
            "colorbar": {
             "outlinewidth": 0,
             "ticks": ""
            },
            "colorscale": [
             [
              0,
              "#0d0887"
             ],
             [
              0.1111111111111111,
              "#46039f"
             ],
             [
              0.2222222222222222,
              "#7201a8"
             ],
             [
              0.3333333333333333,
              "#9c179e"
             ],
             [
              0.4444444444444444,
              "#bd3786"
             ],
             [
              0.5555555555555556,
              "#d8576b"
             ],
             [
              0.6666666666666666,
              "#ed7953"
             ],
             [
              0.7777777777777778,
              "#fb9f3a"
             ],
             [
              0.8888888888888888,
              "#fdca26"
             ],
             [
              1,
              "#f0f921"
             ]
            ],
            "type": "histogram2d"
           }
          ],
          "histogram2dcontour": [
           {
            "colorbar": {
             "outlinewidth": 0,
             "ticks": ""
            },
            "colorscale": [
             [
              0,
              "#0d0887"
             ],
             [
              0.1111111111111111,
              "#46039f"
             ],
             [
              0.2222222222222222,
              "#7201a8"
             ],
             [
              0.3333333333333333,
              "#9c179e"
             ],
             [
              0.4444444444444444,
              "#bd3786"
             ],
             [
              0.5555555555555556,
              "#d8576b"
             ],
             [
              0.6666666666666666,
              "#ed7953"
             ],
             [
              0.7777777777777778,
              "#fb9f3a"
             ],
             [
              0.8888888888888888,
              "#fdca26"
             ],
             [
              1,
              "#f0f921"
             ]
            ],
            "type": "histogram2dcontour"
           }
          ],
          "mesh3d": [
           {
            "colorbar": {
             "outlinewidth": 0,
             "ticks": ""
            },
            "type": "mesh3d"
           }
          ],
          "parcoords": [
           {
            "line": {
             "colorbar": {
              "outlinewidth": 0,
              "ticks": ""
             }
            },
            "type": "parcoords"
           }
          ],
          "pie": [
           {
            "automargin": true,
            "type": "pie"
           }
          ],
          "scatter": [
           {
            "fillpattern": {
             "fillmode": "overlay",
             "size": 10,
             "solidity": 0.2
            },
            "type": "scatter"
           }
          ],
          "scatter3d": [
           {
            "line": {
             "colorbar": {
              "outlinewidth": 0,
              "ticks": ""
             }
            },
            "marker": {
             "colorbar": {
              "outlinewidth": 0,
              "ticks": ""
             }
            },
            "type": "scatter3d"
           }
          ],
          "scattercarpet": [
           {
            "marker": {
             "colorbar": {
              "outlinewidth": 0,
              "ticks": ""
             }
            },
            "type": "scattercarpet"
           }
          ],
          "scattergeo": [
           {
            "marker": {
             "colorbar": {
              "outlinewidth": 0,
              "ticks": ""
             }
            },
            "type": "scattergeo"
           }
          ],
          "scattergl": [
           {
            "marker": {
             "colorbar": {
              "outlinewidth": 0,
              "ticks": ""
             }
            },
            "type": "scattergl"
           }
          ],
          "scattermap": [
           {
            "marker": {
             "colorbar": {
              "outlinewidth": 0,
              "ticks": ""
             }
            },
            "type": "scattermap"
           }
          ],
          "scattermapbox": [
           {
            "marker": {
             "colorbar": {
              "outlinewidth": 0,
              "ticks": ""
             }
            },
            "type": "scattermapbox"
           }
          ],
          "scatterpolar": [
           {
            "marker": {
             "colorbar": {
              "outlinewidth": 0,
              "ticks": ""
             }
            },
            "type": "scatterpolar"
           }
          ],
          "scatterpolargl": [
           {
            "marker": {
             "colorbar": {
              "outlinewidth": 0,
              "ticks": ""
             }
            },
            "type": "scatterpolargl"
           }
          ],
          "scatterternary": [
           {
            "marker": {
             "colorbar": {
              "outlinewidth": 0,
              "ticks": ""
             }
            },
            "type": "scatterternary"
           }
          ],
          "surface": [
           {
            "colorbar": {
             "outlinewidth": 0,
             "ticks": ""
            },
            "colorscale": [
             [
              0,
              "#0d0887"
             ],
             [
              0.1111111111111111,
              "#46039f"
             ],
             [
              0.2222222222222222,
              "#7201a8"
             ],
             [
              0.3333333333333333,
              "#9c179e"
             ],
             [
              0.4444444444444444,
              "#bd3786"
             ],
             [
              0.5555555555555556,
              "#d8576b"
             ],
             [
              0.6666666666666666,
              "#ed7953"
             ],
             [
              0.7777777777777778,
              "#fb9f3a"
             ],
             [
              0.8888888888888888,
              "#fdca26"
             ],
             [
              1,
              "#f0f921"
             ]
            ],
            "type": "surface"
           }
          ],
          "table": [
           {
            "cells": {
             "fill": {
              "color": "#EBF0F8"
             },
             "line": {
              "color": "white"
             }
            },
            "header": {
             "fill": {
              "color": "#C8D4E3"
             },
             "line": {
              "color": "white"
             }
            },
            "type": "table"
           }
          ]
         },
         "layout": {
          "annotationdefaults": {
           "arrowcolor": "#2a3f5f",
           "arrowhead": 0,
           "arrowwidth": 1
          },
          "autotypenumbers": "strict",
          "coloraxis": {
           "colorbar": {
            "outlinewidth": 0,
            "ticks": ""
           }
          },
          "colorscale": {
           "diverging": [
            [
             0,
             "#8e0152"
            ],
            [
             0.1,
             "#c51b7d"
            ],
            [
             0.2,
             "#de77ae"
            ],
            [
             0.3,
             "#f1b6da"
            ],
            [
             0.4,
             "#fde0ef"
            ],
            [
             0.5,
             "#f7f7f7"
            ],
            [
             0.6,
             "#e6f5d0"
            ],
            [
             0.7,
             "#b8e186"
            ],
            [
             0.8,
             "#7fbc41"
            ],
            [
             0.9,
             "#4d9221"
            ],
            [
             1,
             "#276419"
            ]
           ],
           "sequential": [
            [
             0,
             "#0d0887"
            ],
            [
             0.1111111111111111,
             "#46039f"
            ],
            [
             0.2222222222222222,
             "#7201a8"
            ],
            [
             0.3333333333333333,
             "#9c179e"
            ],
            [
             0.4444444444444444,
             "#bd3786"
            ],
            [
             0.5555555555555556,
             "#d8576b"
            ],
            [
             0.6666666666666666,
             "#ed7953"
            ],
            [
             0.7777777777777778,
             "#fb9f3a"
            ],
            [
             0.8888888888888888,
             "#fdca26"
            ],
            [
             1,
             "#f0f921"
            ]
           ],
           "sequentialminus": [
            [
             0,
             "#0d0887"
            ],
            [
             0.1111111111111111,
             "#46039f"
            ],
            [
             0.2222222222222222,
             "#7201a8"
            ],
            [
             0.3333333333333333,
             "#9c179e"
            ],
            [
             0.4444444444444444,
             "#bd3786"
            ],
            [
             0.5555555555555556,
             "#d8576b"
            ],
            [
             0.6666666666666666,
             "#ed7953"
            ],
            [
             0.7777777777777778,
             "#fb9f3a"
            ],
            [
             0.8888888888888888,
             "#fdca26"
            ],
            [
             1,
             "#f0f921"
            ]
           ]
          },
          "colorway": [
           "#636efa",
           "#EF553B",
           "#00cc96",
           "#ab63fa",
           "#FFA15A",
           "#19d3f3",
           "#FF6692",
           "#B6E880",
           "#FF97FF",
           "#FECB52"
          ],
          "font": {
           "color": "#2a3f5f"
          },
          "geo": {
           "bgcolor": "white",
           "lakecolor": "white",
           "landcolor": "#E5ECF6",
           "showlakes": true,
           "showland": true,
           "subunitcolor": "white"
          },
          "hoverlabel": {
           "align": "left"
          },
          "hovermode": "closest",
          "mapbox": {
           "style": "light"
          },
          "paper_bgcolor": "white",
          "plot_bgcolor": "#E5ECF6",
          "polar": {
           "angularaxis": {
            "gridcolor": "white",
            "linecolor": "white",
            "ticks": ""
           },
           "bgcolor": "#E5ECF6",
           "radialaxis": {
            "gridcolor": "white",
            "linecolor": "white",
            "ticks": ""
           }
          },
          "scene": {
           "xaxis": {
            "backgroundcolor": "#E5ECF6",
            "gridcolor": "white",
            "gridwidth": 2,
            "linecolor": "white",
            "showbackground": true,
            "ticks": "",
            "zerolinecolor": "white"
           },
           "yaxis": {
            "backgroundcolor": "#E5ECF6",
            "gridcolor": "white",
            "gridwidth": 2,
            "linecolor": "white",
            "showbackground": true,
            "ticks": "",
            "zerolinecolor": "white"
           },
           "zaxis": {
            "backgroundcolor": "#E5ECF6",
            "gridcolor": "white",
            "gridwidth": 2,
            "linecolor": "white",
            "showbackground": true,
            "ticks": "",
            "zerolinecolor": "white"
           }
          },
          "shapedefaults": {
           "line": {
            "color": "#2a3f5f"
           }
          },
          "ternary": {
           "aaxis": {
            "gridcolor": "white",
            "linecolor": "white",
            "ticks": ""
           },
           "baxis": {
            "gridcolor": "white",
            "linecolor": "white",
            "ticks": ""
           },
           "bgcolor": "#E5ECF6",
           "caxis": {
            "gridcolor": "white",
            "linecolor": "white",
            "ticks": ""
           }
          },
          "title": {
           "x": 0.05
          },
          "xaxis": {
           "automargin": true,
           "gridcolor": "white",
           "linecolor": "white",
           "ticks": "",
           "title": {
            "standoff": 15
           },
           "zerolinecolor": "white",
           "zerolinewidth": 2
          },
          "yaxis": {
           "automargin": true,
           "gridcolor": "white",
           "linecolor": "white",
           "ticks": "",
           "title": {
            "standoff": 15
           },
           "zerolinecolor": "white",
           "zerolinewidth": 2
          }
         }
        },
        "title": {
         "text": "Producción de Aguacates en Costa Rica"
        },
        "xaxis": {
         "anchor": "y",
         "domain": [
          0,
          1
         ],
         "title": {
          "text": "Year"
         }
        },
        "yaxis": {
         "anchor": "x",
         "domain": [
          0,
          1
         ],
         "title": {
          "text": "Production"
         }
        }
       }
      }
     },
     "metadata": {},
     "output_type": "display_data"
    }
   ],
   "source": [
    "# -----------------------\n",
    "# Tendencia temporal de producción (ejemplo: Bananas en Costa Rica)\n",
    "# -----------------------\n",
    "prod_subset = production_long[\n",
    "    (production_long['Area'] == 'Costa Rica') &\n",
    "    (production_long['Item'] == 'Avocados')\n",
    "]\n",
    "\n",
    "fig1 = px.line(\n",
    "    prod_subset, \n",
    "    x='Year', y='Production', \n",
    "    title='Producción de Aguacates en Costa Rica',\n",
    "    markers=True\n",
    ")\n",
    "fig1.show()\n"
   ]
  },
  {
   "cell_type": "code",
   "execution_count": 18,
   "id": "4ef81d48",
   "metadata": {},
   "outputs": [
    {
     "data": {
      "application/vnd.plotly.v1+json": {
       "config": {
        "plotlyServerURL": "https://plot.ly"
       },
       "data": [
        {
         "customdata": [
          [
           "Antigua and Barbuda"
          ],
          [
           "Argentina"
          ],
          [
           "Bahamas"
          ],
          [
           "Barbados"
          ],
          [
           "Belize"
          ],
          [
           "Bolivia (Plurinational State of)"
          ],
          [
           "Brazil"
          ],
          [
           "Colombia"
          ],
          [
           "Costa Rica"
          ],
          [
           "Cuba"
          ],
          [
           "Dominica"
          ],
          [
           "Dominican Republic"
          ],
          [
           "Ecuador"
          ],
          [
           "El Salvador"
          ],
          [
           "French Guyana"
          ],
          [
           "Grenada"
          ],
          [
           "Guadeloupe"
          ],
          [
           "Guatemala"
          ],
          [
           "Guyana"
          ],
          [
           "Haiti"
          ],
          [
           "Honduras"
          ],
          [
           "Jamaica"
          ],
          [
           "Martinique"
          ],
          [
           "Mexico"
          ],
          [
           "Nicaragua"
          ],
          [
           "Panama"
          ],
          [
           "Paraguay"
          ],
          [
           "Peru"
          ],
          [
           "Puerto Rico"
          ],
          [
           "Saint Lucia"
          ],
          [
           "Saint Vincent and the Grenadines"
          ],
          [
           "Suriname"
          ],
          [
           "Trinidad and Tobago"
          ],
          [
           "United States of America"
          ],
          [
           "Venezuela (Bolivarian Republic of)"
          ]
         ],
         "hovertemplate": "Item=Bananas<br>Area_avg=%{x}<br>Yield_avg=%{y}<br>Area=%{customdata[0]}<extra></extra>",
         "legendgroup": "Bananas",
         "marker": {
          "color": "#636efa",
          "symbol": "circle"
         },
         "mode": "markers",
         "name": "Bananas",
         "showlegend": true,
         "type": "scattergl",
         "x": {
          "bdata": "chzHcRxHM0B1Xx5bEei8QLsvj60ImnpAqfvy2IqgX0A0nNR9eVSYQIug4aSuaNBA2Yqg4XQsGUF1Xx5bMRjpQFL35bE1AOJAHlsRNJyzzUD88tiKoD+uQNmKoOHki9RA3ZfHVpQ9BEEAAAAAAHiaQE5vetOb3mtAUvflsRUrsUCykIUsZMW6QK4IGk7q9eBArggaTurWkkBS9+Wx9abiQI+tCBpOS9lApe7LY6uk0ECnN73pzVnCQBE0nNSdCPJAMI+tCBqWmUCPrQgazgjQQNV9eWzFj8BAAAAAAAAA+H+/PLYiaP6wQIug4aTu2rBASt2Xx1bOsUAAAAAAAGCbQBpO6r48CpJATuq+PLZyd0DQcFL3xdHlQA==",
          "dtype": "f8"
         },
         "xaxis": "x",
         "y": {
          "bdata": "HMdxHGfo80Ddl8dWjOwMQQAAAADI0wFBuy+Prdh28UCChpO6360JQUHDSd0vbwBBw0ndl4drAEErgoaTAg4TQfPYiqCt+hlB2Yqg4az5AUENJ3VfPpT3QKn78tiKUQxBeWxF0JBOD0Fu27ZtWzD3QG9605uu+PVAAAAAAMDs4EAtZCEL/X8IQQAAAADwxxJBh5O6Lz+A9kDdl8dWpD3tQFL35bHNuBdBUvflsVUW80DIQhayjAEOQb88tiLo9gtBGk7qvhQfHkFoOKn7TvMaQfzy2IrgUgNBAAAAAAAA+H+Yx1YEfZkLQV8eWxEQNRFBOKn78gjG90C2Img4maQOQbsvj60IwuZAXx5bERyFAEGUui+PnZcFQQ==",
          "dtype": "f8"
         },
         "yaxis": "y"
        },
        {
         "customdata": [
          [
           "Antigua and Barbuda"
          ],
          [
           "Argentina"
          ],
          [
           "Belize"
          ],
          [
           "Bolivia (Plurinational State of)"
          ],
          [
           "Canada"
          ],
          [
           "Chile"
          ],
          [
           "Costa Rica"
          ],
          [
           "Ecuador"
          ],
          [
           "French Guyana"
          ],
          [
           "Guadeloupe"
          ],
          [
           "Guatemala"
          ],
          [
           "Guyana"
          ],
          [
           "Martinique"
          ],
          [
           "Mexico"
          ],
          [
           "Peru"
          ],
          [
           "Puerto Rico"
          ],
          [
           "Suriname"
          ],
          [
           "United States of America"
          ],
          [
           "Uruguay"
          ]
         ],
         "hovertemplate": "Item=Beans, green<br>Area_avg=%{x}<br>Yield_avg=%{y}<br>Area=%{customdata[0]}<extra></extra>",
         "legendgroup": "Beans, green",
         "marker": {
          "color": "#EF553B",
          "symbol": "circle"
         },
         "mode": "markers",
         "name": "Beans, green",
         "showlegend": true,
         "type": "scattergl",
         "x": {
          "bdata": "WxE0nNR9L0BF0HBS982MQGZmZmZmxltAbbLJJpuMcEDdl8dWhAzBQIKGk7ovj79AkYUsZCE7ckB+eWxF0EHJQDuxEzuxQ3BA6k1vetM7YUBfQnsJ7f2XQGZmZmZmZodAFrKQhSxEZUAeWxE0nIrAQLYiaDipDrlAPDw8PDw8Q0CYx1YEDSdbQMxjK4KGgtZApe7LYyuCekA=",
          "dtype": "f8"
         },
         "xaxis": "x",
         "y": {
          "bdata": "goaTuq8s40BF0HBSN+zoQM3MzMxM0tdAH3zwwQck1UDZiqDhJJzrQFcEDSdlgfFAvelNb/p+w0AjaDipe2fFQIqd2Im9OvpAIQtZyC5SAEEvob2EJrT1QAAAAAB4C/RAIQtZyIrH9ECl7stjS3LtQE7qvjz20NZApqWlpSVnzkBkK4KGA+f4QOKk7svjy+hAoeGk7ktv3EA=",
          "dtype": "f8"
         },
         "yaxis": "y"
        },
        {
         "customdata": [
          [
           "Antigua and Barbuda"
          ],
          [
           "Bahamas"
          ],
          [
           "Barbados"
          ],
          [
           "Belize"
          ],
          [
           "Bolivia (Plurinational State of)"
          ],
          [
           "Canada"
          ],
          [
           "Chile"
          ],
          [
           "Colombia"
          ],
          [
           "Costa Rica"
          ],
          [
           "Cuba"
          ],
          [
           "Dominica"
          ],
          [
           "Dominican Republic"
          ],
          [
           "Ecuador"
          ],
          [
           "El Salvador"
          ],
          [
           "French Guyana"
          ],
          [
           "Grenada"
          ],
          [
           "Guadeloupe"
          ],
          [
           "Guatemala"
          ],
          [
           "Guyana"
          ],
          [
           "Haiti"
          ],
          [
           "Honduras"
          ],
          [
           "Jamaica"
          ],
          [
           "Martinique"
          ],
          [
           "Mexico"
          ],
          [
           "Nicaragua"
          ],
          [
           "Panama"
          ],
          [
           "Peru"
          ],
          [
           "Puerto Rico"
          ],
          [
           "Saint Kitts and Nevis"
          ],
          [
           "Saint Lucia"
          ],
          [
           "Suriname"
          ],
          [
           "Trinidad and Tobago"
          ],
          [
           "United States of America"
          ],
          [
           "Uruguay"
          ],
          [
           "Venezuela (Bolivarian Republic of)"
          ]
         ],
         "hovertemplate": "Item=Cabbages and other brassicas<br>Area_avg=%{x}<br>Yield_avg=%{y}<br>Area=%{customdata[0]}<extra></extra>",
         "legendgroup": "Cabbages and other brassicas",
         "marker": {
          "color": "#00cc96",
          "symbol": "circle"
         },
         "mode": "markers",
         "name": "Cabbages and other brassicas",
         "showlegend": true,
         "type": "scattergl",
         "x": {
          "bdata": "zGMrgoaTNEDNzMzMzExLQGxF0HBSN1NArbXWWmstSUA9tiJoOFmTQAQNJ3Vf/bZA3ZfHVgQpmkDipO7LY1G8QDip+/LYIoxAK4KGk7pNr0AZnI/B+ZhSQNV9eWxFAHpAoeGk7ssPmUAAAAAAAABRQGIndmInVnVAqfvy2IrgU0BvetOb3uRmQHVfHlsRJJ1AJ3VfHlvRaEAwj60IGrqWQLYiaDipS5RAeWxF0HA+lUAAAAAAAMBoQDCPrQga9LFA4qTuy2NHtEAwj60IGh5wQGQrgoaTeqZARdBwUvdlXkAzMzMzMzMdQAAAAAAAwDVAK4KGk7qvTEBO6r48tuJaQEXQcFJ3A+5AAAAAAADgeECYx1YEDVOaQA==",
          "dtype": "f8"
         },
         "xaxis": "x",
         "y": {
          "bdata": "uy+PrUgY50AzMzMztWkQQchWBA3X6P5AY4wxxgjODEGl7stjC8j0QGxF0HAiiQ1BTuq+PIaLDEE9tiJoLMITQfPYiqBZpgNBbEXQcDJsBkH0MTgfM0r5QHVfHlutJhhBK4KGk8IYBUGHk7ovn5P0QIqd2Im1mAJBoeGk7oun90BOb3rTe14FQSd1Xx4bVwtB6r48tjL8/kCLoOGkznHtQNV9eWy1MgZBRdBwUj8ZAEFvetObHs//QN2Xx1Yk5hBBGk7qvjwn/0DipO7L04/+QE7qvjw+1wBB6r48tgoRB0GJiIiIIBz5QAAAAIDiKQBBshVBw+H2A0FO6r48lkEJQQAAAABI6w5BVwQNJ+Up8kA9tiJoNLEQQQ==",
          "dtype": "f8"
         },
         "yaxis": "y"
        },
        {
         "customdata": [
          [
           "Antigua and Barbuda"
          ],
          [
           "Argentina"
          ],
          [
           "Barbados"
          ],
          [
           "Belize"
          ],
          [
           "Bolivia (Plurinational State of)"
          ],
          [
           "Canada"
          ],
          [
           "Chile"
          ],
          [
           "Colombia"
          ],
          [
           "Costa Rica"
          ],
          [
           "Dominica"
          ],
          [
           "Dominican Republic"
          ],
          [
           "Ecuador"
          ],
          [
           "Grenada"
          ],
          [
           "Guadeloupe"
          ],
          [
           "Guatemala"
          ],
          [
           "Honduras"
          ],
          [
           "Jamaica"
          ],
          [
           "Martinique"
          ],
          [
           "Mexico"
          ],
          [
           "Nicaragua"
          ],
          [
           "Panama"
          ],
          [
           "Paraguay"
          ],
          [
           "Peru"
          ],
          [
           "Saint Kitts and Nevis"
          ],
          [
           "Saint Lucia"
          ],
          [
           "Saint Vincent and the Grenadines"
          ],
          [
           "Trinidad and Tobago"
          ],
          [
           "United States of America"
          ],
          [
           "Uruguay"
          ],
          [
           "Venezuela (Bolivarian Republic of)"
          ]
         ],
         "hovertemplate": "Item=Carrots and turnips<br>Area_avg=%{x}<br>Yield_avg=%{y}<br>Area=%{customdata[0]}<extra></extra>",
         "legendgroup": "Carrots and turnips",
         "marker": {
          "color": "#ab63fa",
          "symbol": "circle"
         },
         "mode": "markers",
         "name": "Carrots and turnips",
         "showlegend": true,
         "type": "scattergl",
         "x": {
          "bdata": "PbYiaDgpRUB1Xx5bEZ+/QF8eWxE0nGBAKVyPwvUoN0CPrQgaTraoQHlsRdBwwrxAVwQNJ3WNqEBF0HBS9yK4QFVVVVVVNYRA7UrUrkTtT0AWQcNJ3YeHQKHhpO7LaaZAyFYEDSd1IUDIQhaykDVgQHsJ7SW0T5xAzczMzMysc0AeWxE0nOiUQNOb3vSml3ZArggaTupyv0BY7mmE5e54QFsRNJzUvXFA4eUUvJwekEDz2Iqg4Wu0QImIiIiIiCpAAAAAAAAA5j8WQcNJ3ZdIQAAAAAAAAPA/FkHDSZ0V4kBS9+WxFbGaQPzy2IqggrBA",
          "dtype": "f8"
         },
         "xaxis": "x",
         "y": {
          "bdata": "BA0ndZ885UCp+/LY2pYKQaHhpO7bzvhAw/UoXJ+S+EA0nNR9Sdv0QErdl8cGXxVBJ3VfHpeJEUE0nNR9GdEPQe/u7u6USRVBMjgfg9Od9kDIVgQNBy8DQeq+PLYygfJA9+WxFcEb8kCGLGQhK7j3QNFeQns5uhFB7+7u7j5g/EBsRdBwInv7QJGFLGSpAvJAyFYEDUMYEUE1wnJP50sRQb88tiKYE/RAFbycgufc9kB5bEXQ6JYEQc3MzMyEvPBAAAAAAACaAEFfHlsR9IPxQAAAAAAAiBNB3ZfHVmATFUGChpO6z775QN2Xx1Z8WgdB",
          "dtype": "f8"
         },
         "yaxis": "y"
        },
        {
         "customdata": [
          [
           "Antigua and Barbuda"
          ],
          [
           "Argentina"
          ],
          [
           "Bahamas"
          ],
          [
           "Barbados"
          ],
          [
           "Belize"
          ],
          [
           "Bolivia (Plurinational State of)"
          ],
          [
           "Brazil"
          ],
          [
           "Colombia"
          ],
          [
           "Costa Rica"
          ],
          [
           "Cuba"
          ],
          [
           "Dominica"
          ],
          [
           "Dominican Republic"
          ],
          [
           "Ecuador"
          ],
          [
           "El Salvador"
          ],
          [
           "French Guyana"
          ],
          [
           "Grenada"
          ],
          [
           "Guadeloupe"
          ],
          [
           "Guatemala"
          ],
          [
           "Guyana"
          ],
          [
           "Haiti"
          ],
          [
           "Honduras"
          ],
          [
           "Jamaica"
          ],
          [
           "Martinique"
          ],
          [
           "Mexico"
          ],
          [
           "Nicaragua"
          ],
          [
           "Panama"
          ],
          [
           "Paraguay"
          ],
          [
           "Peru"
          ],
          [
           "Puerto Rico"
          ],
          [
           "Saint Lucia"
          ],
          [
           "Saint Vincent and the Grenadines"
          ],
          [
           "Suriname"
          ],
          [
           "Trinidad and Tobago"
          ],
          [
           "Venezuela (Bolivarian Republic of)"
          ]
         ],
         "hovertemplate": "Item=Cassava<br>Area_avg=%{x}<br>Yield_avg=%{y}<br>Area=%{customdata[0]}<extra></extra>",
         "legendgroup": "Cassava",
         "marker": {
          "color": "#FFA15A",
          "symbol": "circle"
         },
         "mode": "markers",
         "name": "Cassava",
         "showlegend": true,
         "type": "scattergl",
         "x": {
          "bdata": "J3VfHlsRLkCPrQgaDmPSQD22Img4KU1A0HBS9+WxQECttdZaay1MQHlsRdBwv9pAZCuCht17O0HZiqDhvPUFQfflsRVBjbdA6r48tmKU8UC2Img4qTtYQHFS9+XxRNdA89iKoCHo1kDMYyuChi+aQMhCFrKQZZRAcVL35bEVOEB605ve9BZvQE7qvjy2wKtAAAAAACCAnkAJGk7qXizyQO/LYyuCxKVAMI+tCBpmlEB6nud5nodfQDip+/LYypVANJzUffkbwUA0nNR9eb6oQFsRNJzEBgVBGk7qvjzP7UDMYyuChiuAQPflsRVBs3RAi6DhpO6LY0C2Img4qctxQIug4aTuq3VAI2g4qfsK4kA=",
          "dtype": "f8"
         },
         "xaxis": "x",
         "y": {
          "bdata": "UvflsTUF5UDvy2Mrcir5QFL35bHFHQBByFYEDW+dC0G21lprbQQAQaXuy2O7ZPlAQcNJ3d80AEHz2IqgMfv1QPPYiqBRRPZA1X15bOXJ5UDz2Iqg0UX3QE7qvjzWf+1AWxE0nLTw70BXBA0nFRj/QBaykIXkA/VArggaThpM8kAWspCFbET7QHFS9+Xxs9dAAAAAABQF+0B+eWxFkJLkQAkaTup+5e1AtiJoOMmCAUHKayiv2f3zQN2Xx1Yc+ABBETSc1O049EDQcFL35Sj5QHVfHls5NgJBtiJoOGkF/EB1Xx5bIWDwQKHhpO7LUN9A/PLYiiAP9UDdl8dW3D8BQUrdl8d2KfJAFkHDST3n+EA=",
          "dtype": "f8"
         },
         "yaxis": "y"
        },
        {
         "customdata": [
          [
           "Antigua and Barbuda"
          ],
          [
           "Argentina"
          ],
          [
           "Bahamas"
          ],
          [
           "Barbados"
          ],
          [
           "Belize"
          ],
          [
           "Bolivia (Plurinational State of)"
          ],
          [
           "Brazil"
          ],
          [
           "Canada"
          ],
          [
           "Chile"
          ],
          [
           "Colombia"
          ],
          [
           "Costa Rica"
          ],
          [
           "Cuba"
          ],
          [
           "Dominica"
          ],
          [
           "Dominican Republic"
          ],
          [
           "Ecuador"
          ],
          [
           "El Salvador"
          ],
          [
           "French Guyana"
          ],
          [
           "Grenada"
          ],
          [
           "Guadeloupe"
          ],
          [
           "Guatemala"
          ],
          [
           "Guyana"
          ],
          [
           "Haiti"
          ],
          [
           "Honduras"
          ],
          [
           "Jamaica"
          ],
          [
           "Mexico"
          ],
          [
           "Nicaragua"
          ],
          [
           "Panama"
          ],
          [
           "Paraguay"
          ],
          [
           "Peru"
          ],
          [
           "Puerto Rico"
          ],
          [
           "Saint Lucia"
          ],
          [
           "Saint Vincent and the Grenadines"
          ],
          [
           "Suriname"
          ],
          [
           "Trinidad and Tobago"
          ],
          [
           "United States of America"
          ],
          [
           "Uruguay"
          ],
          [
           "Venezuela (Bolivarian Republic of)"
          ]
         ],
         "hovertemplate": "Item=Cereals, Total<br>Area_avg=%{x}<br>Yield_avg=%{y}<br>Area=%{customdata[0]}<extra></extra>",
         "legendgroup": "Cereals, Total",
         "marker": {
          "color": "#19d3f3",
          "symbol": "circle"
         },
         "mode": "markers",
         "name": "Cereals, Total",
         "showlegend": true,
         "type": "scattergl",
         "x": {
          "bdata": "ewntJbSXP0CLoOFkSbZkQaHhpO7Lc3RADSd1Xx5Le0Ch4aTui8zRQE7qvjy2KiZBrgga/nnqcUGl7sszYi9xQbIVQcNjsSZBZCuChnqPMkFBw0nd15H3QAQNJ3UnjhBBMI+tCBpuYEC2Img4qRoCQUHDSd3RoCVBDSd1X1LOFkEtZCELWYarQHVfHlsRZHpAtbS0tLSEeUAAAAAAsukmQU7qvjy22/xA5rEVQcMmHEF5bEXQkOEYQQkaTuq+fKtAETSc1B6sYkF1Xx5bOb8VQY+tCBo+MQVBVwQNJ7PmI0Hz2IqggessQYeTui+PaZ1AAAAAAADgQECuCBpO6v5lQAkaTuq+h+lANJzUfXnisUCl7su7x6KNQR5bETTwsiRB3ZfHVgBeKEE=",
          "dtype": "f8"
         },
         "xaxis": "x",
         "y": {
          "bdata": "JrSX0F6h0UAAAAAAAHPcQI+tCBqO89tAnNR9eew12UBK3ZfHlp7UQEXQcFL3tcxAcVL35fH+10DMYyuCBkPZQGxF0HAy0+JAGk7qvnze2kA9tiJoePbaQOq+PLaixtVA78tjK4LQykAjaDipm2zhQL88tiKoxdNA89iKoOHy0kAhC1nIQj3bQHFS9+Wxr8JADw8PD08g0kDipO7LY3zQQIeTui9Pmt9AmMdWBI2Lw0CChpO6rwbLQLsvj60IQMpAMI+tCFrj10AaTuq+vFHOQF8eWxH0LdJAcVL35XF51EDDSd2XRzPaQIug4aTu+9xA8xrKaygCw0BK3ZfHRvr1QJzUfXkMqeJAK4KGk7pr10D35bEVYXfoQD22Imi4ktlABA0ndR8e2EA=",
          "dtype": "f8"
         },
         "yaxis": "y"
        },
        {
         "customdata": [
          [
           "Antigua and Barbuda"
          ],
          [
           "Argentina"
          ],
          [
           "Barbados"
          ],
          [
           "Belize"
          ],
          [
           "Bolivia (Plurinational State of)"
          ],
          [
           "Canada"
          ],
          [
           "Chile"
          ],
          [
           "Colombia"
          ],
          [
           "Costa Rica"
          ],
          [
           "Cuba"
          ],
          [
           "Dominican Republic"
          ],
          [
           "Ecuador"
          ],
          [
           "El Salvador"
          ],
          [
           "Guadeloupe"
          ],
          [
           "Guatemala"
          ],
          [
           "Guyana"
          ],
          [
           "Honduras"
          ],
          [
           "Jamaica"
          ],
          [
           "Mexico"
          ],
          [
           "Nicaragua"
          ],
          [
           "Panama"
          ],
          [
           "Paraguay"
          ],
          [
           "Peru"
          ],
          [
           "Puerto Rico"
          ],
          [
           "Saint Kitts and Nevis"
          ],
          [
           "Saint Vincent and the Grenadines"
          ],
          [
           "Trinidad and Tobago"
          ],
          [
           "United States of America"
          ],
          [
           "Uruguay"
          ],
          [
           "Venezuela (Bolivarian Republic of)"
          ]
         ],
         "hovertemplate": "Item=Chillies and peppers, green<br>Area_avg=%{x}<br>Yield_avg=%{y}<br>Area=%{customdata[0]}<extra></extra>",
         "legendgroup": "Chillies and peppers, green",
         "marker": {
          "color": "#FF6692",
          "symbol": "circle"
         },
         "mode": "markers",
         "name": "Chillies and peppers, green",
         "showlegend": true,
         "type": "scattergl",
         "x": {
          "bdata": "XkN5DeU1KECp+/LYiizCQJqZmZmZ2UlAhBBCCCEESEAaTuq+PPamQCd1Xx5bZZhAzGMrgoY9oUB5bEXQcAqbQHh4eHh4GHtA6r48tiLEsECLoOGk7n+rQJS6L4+tSJJAI2g4qfuCckCbbLLJJpsoQGxF0HBSB4pAiYiIiIiAfUDx8PDw8NCFQI+tCBpOSn9Aj60IGs5Y9UD3NMJyT2NhQNBwUvflUWRA5rEVQcOpn0DQcFL35X60QKHhpO7Lw31A5DiO4ziOE0DmsRVBw0lHQKHhpO7Lo11AJ3VfHtvp10C/PLYiaLiAQDip+/LY8K5A",
          "dtype": "f8"
         },
         "xaxis": "x",
         "y": {
          "bdata": "3EdwH6E15kB+eWxFQF/9QBERERGRCP1ASimllPIK+EBK3ZfHVsPSQDCPrQjyCQNBzGMrgrYJC0FoOKn7knv/QIiHh4eH7uJA1X15bKWh+UD35bEVkfHwQOaxFUGjze5Auy+PrVgM/ECjiy66+Pf+QFL35bFFwP1A7+7u7qr9CUHi4eHhkWr8QO/LYyvC8/hAtiJoOPmQ+kCE5Z5GvDYrQVsRNJx0s/hArggaTkp+8EAjaDipW+TyQFL35bGlu/pAVVVVVbVu+EBK3ZfHNsntQIug4aQOhe5AFkHDSYU3CUHQcFL3TeIKQX55bEUwhP9A",
          "dtype": "f8"
         },
         "yaxis": "y"
        },
        {
         "customdata": [
          [
           "Antigua and Barbuda"
          ],
          [
           "Argentina"
          ],
          [
           "Bahamas"
          ],
          [
           "Belize"
          ],
          [
           "Bolivia (Plurinational State of)"
          ],
          [
           "Brazil"
          ],
          [
           "Chile"
          ],
          [
           "Colombia"
          ],
          [
           "Costa Rica"
          ],
          [
           "Cuba"
          ],
          [
           "Dominica"
          ],
          [
           "Dominican Republic"
          ],
          [
           "Ecuador"
          ],
          [
           "El Salvador"
          ],
          [
           "French Guyana"
          ],
          [
           "Grenada"
          ],
          [
           "Guadeloupe"
          ],
          [
           "Guatemala"
          ],
          [
           "Guyana"
          ],
          [
           "Haiti"
          ],
          [
           "Honduras"
          ],
          [
           "Jamaica"
          ],
          [
           "Martinique"
          ],
          [
           "Mexico"
          ],
          [
           "Nicaragua"
          ],
          [
           "Panama"
          ],
          [
           "Paraguay"
          ],
          [
           "Peru"
          ],
          [
           "Puerto Rico"
          ],
          [
           "Saint Lucia"
          ],
          [
           "Saint Vincent and the Grenadines"
          ],
          [
           "Suriname"
          ],
          [
           "Trinidad and Tobago"
          ],
          [
           "United States of America"
          ],
          [
           "Uruguay"
          ],
          [
           "Venezuela (Bolivarian Republic of)"
          ]
         ],
         "hovertemplate": "Item=Citrus Fruit, Total<br>Area_avg=%{x}<br>Yield_avg=%{y}<br>Area=%{customdata[0]}<extra></extra>",
         "legendgroup": "Citrus Fruit, Total",
         "marker": {
          "color": "#B6E880",
          "symbol": "circle"
         },
         "mode": "markers",
         "name": "Citrus Fruit, Total",
         "showlegend": true,
         "type": "scattergl",
         "x": {
          "bdata": "JUmSJEkSUkCamZmZvwwAQVAHdVAH3YNAfnlsRdChxkBBw0ndlwTYQIeTui8NKCVBNJzUfXm3ykDQcFL3xZLgQAkaTuq+TtBAhDqogxqC70DxFV/xFbWoQOMrvuIrqMZA6r48tuIO3EBoOKn78ma2QN1ginzW7YNAzczMzMwsfEBddNFFF1V9QCd1Xx7bh8tATuq+PLYamkAsvuIrPi3SQJzUfXns3cVAfnlsRVAqyUBZyEIWsrBtQOaxFUF/oRVBaDip+3I5zECogzqogy2wQFAHdVCH285A6r48tgJh5EAWX/EVX62cQLdt27Ztu2xAB3VQB3XQdkB1Xx5bEVSeQHFS9+Wxwa9AUvflscGmF0GEOqiDeu/RQAQNJ3U/nuJA",
          "dtype": "f8"
         },
         "xaxis": "x",
         "y": {
          "bdata": "X/EVX3Hw40CamZmZf/oGQbdt27bNzg9BnNR9eYyh/UB5bEXQACj0QNV9eWwl3wdBHlsRNPQPAUHqvjy2eh0EQYKGk7pfmflAAAAAAJD89EBCHdRBbU7yQCy+4iv+X/pAw0ndl+f1+EC7L4+tiOkDQYMp8ln3x9BAqIM6qIP29UCjiy66mP7vQD22ImhgnwBBAAAAACC17kC3bdu2rZDoQDCPrQh6UvtACRpO6s7N/UDqTW9683rtQOKk7stzFv1AVwQNJ7UF50AWX/EV/yz2QOqgDuqwwQpBi6DhpI5G/0AWX/EVH5r/QOqgDurAfPhA4yu+4juC80AJGk7qHsz0QMxjK4LGNOpAgoaTutdbEUHjK77iY4sBQeKk7ssDcftA",
          "dtype": "f8"
         },
         "yaxis": "y"
        },
        {
         "customdata": [
          [
           "Antigua and Barbuda"
          ],
          [
           "Barbados"
          ],
          [
           "Belize"
          ],
          [
           "Bolivia (Plurinational State of)"
          ],
          [
           "Canada"
          ],
          [
           "Chile"
          ],
          [
           "Colombia"
          ],
          [
           "Costa Rica"
          ],
          [
           "Cuba"
          ],
          [
           "Dominica"
          ],
          [
           "Dominican Republic"
          ],
          [
           "Ecuador"
          ],
          [
           "El Salvador"
          ],
          [
           "French Guyana"
          ],
          [
           "Grenada"
          ],
          [
           "Guadeloupe"
          ],
          [
           "Guyana"
          ],
          [
           "Honduras"
          ],
          [
           "Jamaica"
          ],
          [
           "Martinique"
          ],
          [
           "Mexico"
          ],
          [
           "Panama"
          ],
          [
           "Peru"
          ],
          [
           "Puerto Rico"
          ],
          [
           "Saint Kitts and Nevis"
          ],
          [
           "Saint Lucia"
          ],
          [
           "Suriname"
          ],
          [
           "Trinidad and Tobago"
          ],
          [
           "United States of America"
          ],
          [
           "Venezuela (Bolivarian Republic of)"
          ]
         ],
         "hovertemplate": "Item=Cucumbers and gherkins<br>Area_avg=%{x}<br>Yield_avg=%{y}<br>Area=%{customdata[0]}<extra></extra>",
         "legendgroup": "Cucumbers and gherkins",
         "marker": {
          "color": "#FF97FF",
          "symbol": "circle"
         },
         "mode": "markers",
         "name": "Cucumbers and gherkins",
         "showlegend": true,
         "type": "scattergl",
         "x": {
          "bdata": "6r48tiJoM0CPrQgaTipWQJ1zzjnnnDVAMzMzMzNnfkA9tiJoOG2qQBZBw0ndj5FAfnlsRdDwgkAndmIndoJfQAAAAACAH8NA52NwPganbUCh4aTuy9N5QMdxHMdx3HVA/PLYiqAxf0AAAAAAAMBkQFFeQ3kN9WBAvelNb3rTU0DTm970pvd6QJqZmZmZo5RAJ3VfHlvxhkCGLGQhC7lkQLsvj60IPctAvzy2ImjYaUBfHlsRNDSTQDw8PDw8PElACe0ltJfQIEAAAAAAAEBDQBE0nNR9+VFAeWxF0HDyakB+eWxFkATuQNBwUvfl2YpA",
          "dtype": "f8"
         },
         "xaxis": "x",
         "y": {
          "bdata": "rggaTqoH7kC7L4+t+D0BQSGEEEIYsPZAAAAAAKD770BO6r48zg4IQY+tCBo+kg1BMI+tCMIMAkE7sRM74T32QOKk7stjHPJAdyVqV0Kh8UB5bEXQwK8JQdFeQnvZnfNAFkHDSe22/0CKndiJPQwGQSivobwe+vdAvelNb640D0FOb3rTG4QIQWZmZmbSRxRBh5O6L9+H/UAtZCEL1V0HQRZBw0lVNQxBFkHDSb2w8kDmsRVB+60BQfHw8PD4UQJBX0J7CT1o+EAAAAAA+EYHQSuChpPSzwRBHlsRNHyM90DipO7LG0UAQZS6L4+NFf5A",
          "dtype": "f8"
         },
         "yaxis": "y"
        },
        {
         "customdata": [
          [
           "Antigua and Barbuda"
          ],
          [
           "Colombia"
          ],
          [
           "Costa Rica"
          ],
          [
           "Cuba"
          ],
          [
           "Dominica"
          ],
          [
           "Dominican Republic"
          ],
          [
           "French Guyana"
          ],
          [
           "Guadeloupe"
          ],
          [
           "Guyana"
          ],
          [
           "Haiti"
          ],
          [
           "Honduras"
          ],
          [
           "Jamaica"
          ],
          [
           "Martinique"
          ],
          [
           "Mexico"
          ],
          [
           "Peru"
          ],
          [
           "Puerto Rico"
          ],
          [
           "Trinidad and Tobago"
          ],
          [
           "United States of America"
          ],
          [
           "Venezuela (Bolivarian Republic of)"
          ]
         ],
         "hovertemplate": "Item=Eggplants (aubergines)<br>Area_avg=%{x}<br>Yield_avg=%{y}<br>Area=%{customdata[0]}<extra></extra>",
         "legendgroup": "Eggplants (aubergines)",
         "marker": {
          "color": "#FECB52",
          "symbol": "circle"
         },
         "mode": "markers",
         "name": "Eggplants (aubergines)",
         "showlegend": true,
         "type": "scattergl",
         "x": {
          "bdata": "Tuq+PLYiP0DmsRVBw+lqQJ7YiZ3YiSxAAAAAAAAA+H8AAAAAAAD4f7svj60Iup5AAAAAAAAAMEDFTuzETuxLQAAAAAAAeIFA0HBS9+VxVUC8u7u7u/N1QIug4aTuyzhAFrKQhSxkPUAWQcNJ3VOSQPQ8z/M8z0BA8fDw8PBwSUAndV8eW/FoQDCPrQgalppAh5O6L4/dfEA=",
          "dtype": "f8"
         },
         "xaxis": "x",
         "y": {
          "bdata": "2Yqg4YQE70Dvy2MrmkQBQezETuwUNepAAAAAAAAA+H8AAAAAAAD4f7YiaDgpa+hAAAAAALqVA0GQBmmQVrkLQSELWciWsxRBrggaTso0+UCamZmZkU4HQaXuy2MLKvNAb3rTm5oSCkG2Img4gfwUQc/zPM9z//RALS0tLZXbBEEEDSd1b/X/QIug4aSOWxBByFYEDZcJ/UA=",
          "dtype": "f8"
         },
         "yaxis": "y"
        },
        {
         "customdata": [
          [
           "Antigua and Barbuda"
          ],
          [
           "Argentina"
          ],
          [
           "Bolivia (Plurinational State of)"
          ],
          [
           "Brazil"
          ],
          [
           "Canada"
          ],
          [
           "Chile"
          ],
          [
           "Colombia"
          ],
          [
           "Costa Rica"
          ],
          [
           "Cuba"
          ],
          [
           "Dominican Republic"
          ],
          [
           "Ecuador"
          ],
          [
           "El Salvador"
          ],
          [
           "Grenada"
          ],
          [
           "Guadeloupe"
          ],
          [
           "Guatemala"
          ],
          [
           "Haiti"
          ],
          [
           "Honduras"
          ],
          [
           "Jamaica"
          ],
          [
           "Mexico"
          ],
          [
           "Nicaragua"
          ],
          [
           "Paraguay"
          ],
          [
           "Peru"
          ],
          [
           "Saint Kitts and Nevis"
          ],
          [
           "Saint Vincent and the Grenadines"
          ],
          [
           "United States of America"
          ],
          [
           "Uruguay"
          ],
          [
           "Venezuela (Bolivarian Republic of)"
          ]
         ],
         "hovertemplate": "Item=Fibre Crops Primary<br>Area_avg=%{x}<br>Yield_avg=%{y}<br>Area=%{customdata[0]}<extra></extra>",
         "legendgroup": "Fibre Crops Primary",
         "marker": {
          "color": "#636efa",
          "symbol": "circle"
         },
         "mode": "markers",
         "name": "Fibre Crops Primary",
         "showlegend": true,
         "type": "scattergl",
         "x": {
          "bdata": "mMdWBA1ngUBkK4KGF9YbQV8eWxEUYulA78tjq4bLQkEiNcF4azndQFcEDSf1fMtA78tjK0rZAkF5bEXQcA6qQMhWBA2nltVAw0ndl8cQrUBkK4KGUxTfQI+tCBqu1uNAAAAAAADgZUAAAAAAADhzQLYiaDgpz+VA9+WxFQG12kBoOKn78hWyQGg4qfvyWIVA9+WxFRFWGEGl7stjK1bvQD22Imj47ARBHlsRNNzy+0Cc1H15bEVJQAAAAAAAQGlAi6DhJAO0UUFX9jmkJmh+QErdl8dWIeRA",
          "dtype": "f8"
         },
         "xaxis": "x",
         "y": {
          "bdata": "AAAAAAAAAAD88tiKoGFXQAAAAAAAAAAADSd1Xx4fmkB5K/sc0oTHQEXQcFL3cMRAvzy2Imh+oEDipO7LY5O0QAAAAAAAZ8RAbEXQcFLLl0AWQcNJ3Qu6QD22Img4w65AAAAAAAAAAAAAAAAAAAAAADSc1H15fJFAGk7qvjzBsEAAAAAAAAAAACNoOKl7CcFAh5O6L4/DoEBXBA0ndfmmQAAAAAAAAAAADSd1Xx67Y0AAAAAAAAAAAAAAAAAAAAAAAAAAAAAAAAAAAAAAAAAAANmKoOGkDKJA",
          "dtype": "f8"
         },
         "yaxis": "y"
        },
        {
         "customdata": [
          [
           "Antigua and Barbuda"
          ],
          [
           "Argentina"
          ],
          [
           "Bahamas"
          ],
          [
           "Barbados"
          ],
          [
           "Belize"
          ],
          [
           "Bolivia (Plurinational State of)"
          ],
          [
           "Brazil"
          ],
          [
           "Canada"
          ],
          [
           "Chile"
          ],
          [
           "Colombia"
          ],
          [
           "Costa Rica"
          ],
          [
           "Cuba"
          ],
          [
           "Dominica"
          ],
          [
           "Dominican Republic"
          ],
          [
           "Ecuador"
          ],
          [
           "El Salvador"
          ],
          [
           "French Guyana"
          ],
          [
           "Grenada"
          ],
          [
           "Guadeloupe"
          ],
          [
           "Guatemala"
          ],
          [
           "Guyana"
          ],
          [
           "Haiti"
          ],
          [
           "Honduras"
          ],
          [
           "Jamaica"
          ],
          [
           "Martinique"
          ],
          [
           "Mexico"
          ],
          [
           "Nicaragua"
          ],
          [
           "Panama"
          ],
          [
           "Paraguay"
          ],
          [
           "Peru"
          ],
          [
           "Puerto Rico"
          ],
          [
           "Saint Kitts and Nevis"
          ],
          [
           "Saint Lucia"
          ],
          [
           "Saint Vincent and the Grenadines"
          ],
          [
           "Suriname"
          ],
          [
           "Trinidad and Tobago"
          ],
          [
           "United States of America"
          ],
          [
           "Uruguay"
          ],
          [
           "Venezuela (Bolivarian Republic of)"
          ]
         ],
         "hovertemplate": "Item=Fruit Primary<br>Area_avg=%{x}<br>Yield_avg=%{y}<br>Area=%{customdata[0]}<extra></extra>",
         "legendgroup": "Fruit Primary",
         "marker": {
          "color": "#EF553B",
          "symbol": "circle"
         },
         "mode": "markers",
         "name": "Fruit Primary",
         "showlegend": true,
         "type": "scattergl",
         "x": {
          "bdata": "VVVVVVU5jECuCBpO4vMaQfzy2IqgeZJA/PLYiqBxdkArgoaTOsPLQFsRNJx02/RAvzy2ImcHPUGUui+P7UDzQO/LYytSDQ9BbEXQcIK2H0GHk7ov77X4QBE0nNRtAQFBXx5bETR0vkCYx1YEPX/5QJjHVgR1MxNB4qTuy+Nh00DTm970pu2UQH55bEXQ67dAIQtZyIKLwEAaTuq+jDX3QDSc1H157cJAfnlsRaAlAEGLoOGkLgXtQLYiaDiJWOFAWchCFnLrxEAaTuq++GcrQSd1Xx5bBdpAw0ndlweD3UA0nNR92YvqQIKGk7p3DgxBXx5bEbSHy0Ad1EEd1MFtQPzy2Iqg9rZAi6DhpO6gtEAWQcNJ3R+xQL88tiLo5cNAmMdWBDryM0HMYyuCxhLeQEXQcFK/WwdB",
          "dtype": "f8"
         },
         "xaxis": "x",
         "y": {
          "bdata": "ewntpfAfP0FS9+Wx7d8CQQkaTuru9AVB89iKoAFrAEGh4aTuC38AQTCPrQgKLfdAnNR9efTjAEHIVgQN5xn3QIKGk7rfd/5AbEXQcBK2+UANJ3VfquAQQbsvj62IiQBBi6DhpD5D9kB5bEXQ4O0EQdV9eWythwVB2Yqg4fQdAkEtZCELyb3wQAkaTureoOpA05ve9CrnBUGYx1YEPQQIQTCPrQia6upAnNR9eWyE9UBO6r48DmMOQchWBA03VPtA3/SmN1n/DUFfHlsRZAn/QIug4aTOPfpAGk7qvrxqFkGHk7ov53oCQdBwUvcVRP1ASt2Xx3bzBUHqoA7qMPrwQNBwUvd96gZB3ZfHVqTj90ANJ3Vfxn0EQchWBA2HsfFA6r48tpp+CUEwj60Iwr0AQV8eWxFEDv9A",
          "dtype": "f8"
         },
         "yaxis": "y"
        },
        {
         "customdata": [
          [
           "Antigua and Barbuda"
          ],
          [
           "Bahamas"
          ],
          [
           "Barbados"
          ],
          [
           "Brazil"
          ],
          [
           "Colombia"
          ],
          [
           "Costa Rica"
          ],
          [
           "Cuba"
          ],
          [
           "Dominican Republic"
          ],
          [
           "Ecuador"
          ],
          [
           "French Guyana"
          ],
          [
           "Guadeloupe"
          ],
          [
           "Guyana"
          ],
          [
           "Haiti"
          ],
          [
           "Jamaica"
          ],
          [
           "Mexico"
          ],
          [
           "Paraguay"
          ],
          [
           "Peru"
          ],
          [
           "Saint Kitts and Nevis"
          ],
          [
           "Saint Lucia"
          ],
          [
           "Suriname"
          ],
          [
           "Venezuela (Bolivarian Republic of)"
          ]
         ],
         "hovertemplate": "Item=Fruit, tropical fresh nes<br>Area_avg=%{x}<br>Yield_avg=%{y}<br>Area=%{customdata[0]}<extra></extra>",
         "legendgroup": "Fruit, tropical fresh nes",
         "marker": {
          "color": "#00cc96",
          "symbol": "circle"
         },
         "mode": "markers",
         "name": "Fruit, tropical fresh nes",
         "showlegend": true,
         "type": "scattergl",
         "x": {
          "bdata": "27Zt27YtjUDUQR3UQUWBQIuv+IqvGGhAmpmZmVmm5EAAAAAAonvjQMTDw8PD74pA3ZfHVgQBqkBERERERNSeQFVVVVVVc6ZAAAAAAADAW0B00UUXXcRuQNBwUvfl8YFAVVVVVVU1Z0AsvuIrvsKmQH55bEXQrNhA6qAO6qDuokDXo3A9CorNQDMzMzMzk2xAX/EVX/FlekAAAAAAAABEQEId1EEdWqtA",
          "dtype": "f8"
         },
         "xaxis": "x",
         "y": {
          "bdata": "SZIkSWJB8kAlSZIkCd7yQCy+4iv+tPFAdVAHdfAM/0AAAAAA5V75QEtLS0trBuxAoeGk7nt480DNzMzM1N76QBzHcRxD0fJAYid2YifHBEEvuuiiyyHmQJS6L4/tC+pA7+7u7j7m+EDjK77iizYGQfPYiqARmfxASZIkSbJg80CPwvUoBGf0QB3UQR10cfBAvuIrvvLl8EBmZmZmpg4BQbD4iq9YM/ZA",
          "dtype": "f8"
         },
         "yaxis": "y"
        },
        {
         "customdata": [
          [
           "Antigua and Barbuda"
          ],
          [
           "Argentina"
          ],
          [
           "Bahamas"
          ],
          [
           "Bolivia (Plurinational State of)"
          ],
          [
           "Brazil"
          ],
          [
           "Chile"
          ],
          [
           "Colombia"
          ],
          [
           "Costa Rica"
          ],
          [
           "Cuba"
          ],
          [
           "Dominica"
          ],
          [
           "Dominican Republic"
          ],
          [
           "Ecuador"
          ],
          [
           "El Salvador"
          ],
          [
           "French Guyana"
          ],
          [
           "Grenada"
          ],
          [
           "Guadeloupe"
          ],
          [
           "Guatemala"
          ],
          [
           "Guyana"
          ],
          [
           "Haiti"
          ],
          [
           "Honduras"
          ],
          [
           "Jamaica"
          ],
          [
           "Martinique"
          ],
          [
           "Mexico"
          ],
          [
           "Paraguay"
          ],
          [
           "Peru"
          ],
          [
           "Puerto Rico"
          ],
          [
           "Saint Lucia"
          ],
          [
           "Saint Vincent and the Grenadines"
          ],
          [
           "Suriname"
          ],
          [
           "Trinidad and Tobago"
          ],
          [
           "United States of America"
          ],
          [
           "Uruguay"
          ],
          [
           "Venezuela (Bolivarian Republic of)"
          ]
         ],
         "hovertemplate": "Item=Lemons and limes<br>Area_avg=%{x}<br>Yield_avg=%{y}<br>Area=%{customdata[0]}<extra></extra>",
         "legendgroup": "Lemons and limes",
         "marker": {
          "color": "#ab63fa",
          "symbol": "circle"
         },
         "mode": "markers",
         "name": "Lemons and limes",
         "showlegend": true,
         "type": "scattergl",
         "x": {
          "bdata": "JUmSJEkSUkCamZmZAaLhQDuogzqow2VAETSc1H33r0Dvy2MrohjgQGg4qfvyV7hAAAAAAIDMwUAAAAAAAGWKQAd1UAd1ULFAHdRBHdRhcUAHdVAHdciuQMxjK4KGiaVAoQ7qoA5em0AcTJHPujF0QGZmZmZmZjhAjC666KIzckCamZmZ2Z20QG9605veFHZAMzMzMzNXtUBmZmZmZo6JQMxjK4KG959A6aKLLrpIXUB5bEXQEMn1QKEO6qAOMoxA5rEVQcPdzEDqoA7qoM5oQA/qoA7qIEJAB3VQB3XQXkA7sRM7sZNNQJjHVgQNl3pA3ZfHVkSI2UCEOqiDOhKwQMVXfMVXkK9A",
          "dtype": "f8"
         },
         "xaxis": "x",
         "y": {
          "bdata": "X/EVX3Hw40DNzMzMao4QQYuv+IrPiAlB/PLYihD89UCc1H15DOcAQVsRNJx8FAJBwzAMw4hZAUEAAABAT1oEQaEO6qCO7+1At23btu3D70BJkiRJ0lbhQMNJ3ZcHRvNAO6iDOljHA0GDKfJZN9HTQPmKr/gSMgNBRhdddCFA50BmZmZmbfAKQbKQhSykOPRAmpmZmZki6EAiIiIiisn+QO/LYysC3/tA0UUXXZQm6EC7L4+tGHT7QF/xFV/haQZBAAAAACAH+0CLr/iKT/DuQMVXfMVHx/ZAhDqogyqL9EB5DeU1XE/1QIeTui+PG+JA78tjK5YhEkFmZmZmZiMAQc3MzMy8ev5A",
          "dtype": "f8"
         },
         "yaxis": "y"
        },
        {
         "customdata": [
          [
           "Antigua and Barbuda"
          ],
          [
           "Argentina"
          ],
          [
           "Bahamas"
          ],
          [
           "Barbados"
          ],
          [
           "Belize"
          ],
          [
           "Bolivia (Plurinational State of)"
          ],
          [
           "Brazil"
          ],
          [
           "Canada"
          ],
          [
           "Chile"
          ],
          [
           "Colombia"
          ],
          [
           "Costa Rica"
          ],
          [
           "Cuba"
          ],
          [
           "Dominica"
          ],
          [
           "Dominican Republic"
          ],
          [
           "Ecuador"
          ],
          [
           "El Salvador"
          ],
          [
           "French Guyana"
          ],
          [
           "Grenada"
          ],
          [
           "Guadeloupe"
          ],
          [
           "Guatemala"
          ],
          [
           "Guyana"
          ],
          [
           "Haiti"
          ],
          [
           "Honduras"
          ],
          [
           "Jamaica"
          ],
          [
           "Mexico"
          ],
          [
           "Nicaragua"
          ],
          [
           "Panama"
          ],
          [
           "Paraguay"
          ],
          [
           "Peru"
          ],
          [
           "Puerto Rico"
          ],
          [
           "Saint Lucia"
          ],
          [
           "Saint Vincent and the Grenadines"
          ],
          [
           "Suriname"
          ],
          [
           "Trinidad and Tobago"
          ],
          [
           "United States of America"
          ],
          [
           "Uruguay"
          ],
          [
           "Venezuela (Bolivarian Republic of)"
          ]
         ],
         "hovertemplate": "Item=Maize<br>Area_avg=%{x}<br>Yield_avg=%{y}<br>Area=%{customdata[0]}<extra></extra>",
         "legendgroup": "Maize",
         "marker": {
          "color": "#FFA15A",
          "symbol": "circle"
         },
         "mode": "markers",
         "name": "Maize",
         "showlegend": true,
         "type": "scattergl",
         "x": {
          "bdata": "ewntJbSXP0CyFUFDK75IQaHhpO7Lc3RADSd1Xx5Le0AWQcNJXbvJQNBwUvfBJxJB4qTuy9HzZkEEDSd1M88sQSd1Xx57S/lAbEXQcOQCI0EWQcNJPVTgQFL35bGljvtAMI+tCBpuYEAEDSd1H7PbQDSc1H2tAhZBTuq+PKYLD0Ecx3Ecx4FiQHVfHlsRZHpAtbS0tLSEeUBsRdBw3rgkQVL35bEVD6FAh5O6LzsKEEHQcFL34eAUQXFS9+WxdadAPbYiaGxJW0EAAAAAaOwOQdmKoOE0CvFApe7LYyfPF0FXBA0nZd0YQXFS9+WxHZhAAAAAAADgQEBsRdBwUvdlQOq+PLYiiGFAbEXQcFLDkUCUui+Pn/Z6QRE0nNR98/tABA0ndTNTHkE=",
          "dtype": "f8"
         },
         "xaxis": "x",
         "y": {
          "bdata": "JrSX0F6h0UBfHlsRVA/lQI+tCBqO89tAnNR9eew12UDvy2MrgsfTQErdl8dWLdFA4qTuyyNj2UCYx1YEbZjwQIKGk7rPRvFAUvflsRVQ0kBbETSclDfQQEHDSd2XYs1A78tjK4LQykCyFUHDSaPNQIug4aTuVc1AoeGk7stl1EBJkiRJ0ufbQHFS9+Wxr8JADw8PD08g0kB1Xx5bkYDQQLsvj60I/slAtiJoOKm9wEAwj60IGiTLQJjHVgSNF8hAlLovj20H1UBxUvflsVPGQHVfHlsReslArggaTurV1UANJ3VfnpzVQJzUfXksXtJA8xrKaygCw0CUui+Pbfr1QJzUfXksotNA5rEVQYPP3UDvy2MrMgbyQEHDSd0XAdhAlLovj+151kA=",
          "dtype": "f8"
         },
         "yaxis": "y"
        },
        {
         "customdata": [
          [
           "Antigua and Barbuda"
          ],
          [
           "Argentina"
          ],
          [
           "Bahamas"
          ],
          [
           "Belize"
          ],
          [
           "Bolivia (Plurinational State of)"
          ],
          [
           "Brazil"
          ],
          [
           "Colombia"
          ],
          [
           "Costa Rica"
          ],
          [
           "Cuba"
          ],
          [
           "Dominica"
          ],
          [
           "Dominican Republic"
          ],
          [
           "Ecuador"
          ],
          [
           "El Salvador"
          ],
          [
           "French Guyana"
          ],
          [
           "Grenada"
          ],
          [
           "Guadeloupe"
          ],
          [
           "Guatemala"
          ],
          [
           "Guyana"
          ],
          [
           "Haiti"
          ],
          [
           "Honduras"
          ],
          [
           "Jamaica"
          ],
          [
           "Martinique"
          ],
          [
           "Mexico"
          ],
          [
           "Panama"
          ],
          [
           "Paraguay"
          ],
          [
           "Peru"
          ],
          [
           "Puerto Rico"
          ],
          [
           "Saint Lucia"
          ],
          [
           "Saint Vincent and the Grenadines"
          ],
          [
           "Suriname"
          ],
          [
           "Trinidad and Tobago"
          ],
          [
           "United States of America"
          ],
          [
           "Venezuela (Bolivarian Republic of)"
          ]
         ],
         "hovertemplate": "Item=Mangoes, mangosteens, guavas<br>Area_avg=%{x}<br>Yield_avg=%{y}<br>Area=%{customdata[0]}<extra></extra>",
         "legendgroup": "Mangoes, mangosteens, guavas",
         "marker": {
          "color": "#19d3f3",
          "symbol": "circle"
         },
         "mode": "markers",
         "name": "Mangoes, mangosteens, guavas",
         "showlegend": true,
         "type": "scattergl",
         "x": {
          "bdata": "zczMzMw8cEBCHdRBHXRuQJqZmZmZiWFA1EEd1EG9b0Dz2Iqg4VyGQDCPrQj6Y+tAshVBw8nZw0DUQR3UQZG4QGxF0HCSs9FAD+qgDureokDbtm3btpnMQOq+PLYi3blAAAAAAABrsUDJZ91givxOQMVXfMVXvGhAjC666KKTj0BoL6G9hKHBQNRBHdRBJZBA8RVf8XVA50CEOqiDOliWQAAAAAAAyINAF1100UUXTUBXBA0nlXX6QGZmZmZm5otAkiRJkiRvsECh4aTuS33HQPPYiqDhBIhA+Yqv+Io7lkBu27Zt2xZuQAAAAAAACmRAbtu2bdt2VUDNzMzMzGSAQB5bETScgbtA",
          "dtype": "f8"
         },
         "xaxis": "x",
         "y": {
          "bdata": "Fl/xFX9N6kBCHdRB3QzzQJqZmZmZ3QVBMzMzM3PZ7kCLoOGk3gH2QPzy2IrodAJBXx5bEYTj/UDNzMzMbOflQNBwUvdFJQRB+Yqv+AqQwkAAAAAAoEryQDSc1H0BVgFBsPiKrxjY8kCKfNYNZoTfQG7btm1bhPZA6aKLLvq+2UDaS2gvmQ8CQUId1EEdSf1Ai6/4ih988kAd1EEd1JP2QOqgDuqgguxAdNFFFw3l6EBoOKn74on9QEmSJElyu+9AhDqog8p48kDDSd2Xhw7/QH55bEWwrQRBZmZmZuYw9EDbtm3blqDyQAAAAABLMP5AvuIrvgLd7kA9CtejqLv6QBE0nNRVYQFB",
          "dtype": "f8"
         },
         "yaxis": "y"
        },
        {
         "customdata": [
          [
           "Antigua and Barbuda"
          ],
          [
           "Argentina"
          ],
          [
           "Barbados"
          ],
          [
           "Belize"
          ],
          [
           "Brazil"
          ],
          [
           "Canada"
          ],
          [
           "Chile"
          ],
          [
           "Colombia"
          ],
          [
           "Costa Rica"
          ],
          [
           "Cuba"
          ],
          [
           "Dominican Republic"
          ],
          [
           "Ecuador"
          ],
          [
           "El Salvador"
          ],
          [
           "Grenada"
          ],
          [
           "Guadeloupe"
          ],
          [
           "Guatemala"
          ],
          [
           "Haiti"
          ],
          [
           "Honduras"
          ],
          [
           "Jamaica"
          ],
          [
           "Martinique"
          ],
          [
           "Mexico"
          ],
          [
           "Panama"
          ],
          [
           "Paraguay"
          ],
          [
           "Peru"
          ],
          [
           "Puerto Rico"
          ],
          [
           "United States of America"
          ],
          [
           "Uruguay"
          ],
          [
           "Venezuela (Bolivarian Republic of)"
          ]
         ],
         "hovertemplate": "Item=Melons, other (inc.cantaloupes)<br>Area_avg=%{x}<br>Yield_avg=%{y}<br>Area=%{customdata[0]}<extra></extra>",
         "legendgroup": "Melons, other (inc.cantaloupes)",
         "marker": {
          "color": "#FF6692",
          "symbol": "circle"
         },
         "mode": "markers",
         "name": "Melons, other (inc.cantaloupes)",
         "showlegend": true,
         "type": "scattergl",
         "x": {
          "bdata": "0V5CewntR0AndV8eW0G0QGZmZmZmZjBAIYQQQgghOEAndV8eW+XFQFsRNJzU3W5AshVBw0lzsUB5bEXQcEqXQOSzbjBF8LNAw0ndl8dVtkCh4aTuyyeRQGxF0HBS45RA78tjK4JujUAzMzMzM/NcQAtZyEIWsmJAmpmZmTk6xUDdl8dWBE1rQHFS9+WxP65Aip3YiZ14bUCjiy666LJoQL88tiKoWNdAETSc1H0do0B1Xx5bEf64QJzUfXlsfYdAmpmZmZm5OUB1Xx5b0XjmQKHhpO7Lk3lAMzMzM3OcwEA=",
          "dtype": "f8"
         },
         "xaxis": "x",
         "y": {
          "bdata": "Ce0ltFe4+UANJ3VfnvT/QDMzMzNnwAZBCCGEELKr+kBoOKn74tv5QA3lNZQn/g1B3ZfHVsRhB0EaTuq+XDkBQVPks24QRQ1BI2g4qWvW8UDvy2MrMuYEQQkaTuq+9vhASt2Xx5bL+0B3d3d3X4AEQchCFrIIcAJBAAAAANeiCUGc1H15DJb/QGxF0HCy4wNBAAAAAIgBAEEAAAAAiKv+QFsRNJxETgVBJ3VfHru29UDZiqDhBHbjQO/LYyviSAFBAAAAgHO9L0FxUvflsdMIQchWBA0n6vRAMzMzM++UBEE=",
          "dtype": "f8"
         },
         "yaxis": "y"
        },
        {
         "customdata": [
          [
           "Antigua and Barbuda"
          ],
          [
           "Argentina"
          ],
          [
           "Bahamas"
          ],
          [
           "Barbados"
          ],
          [
           "Belize"
          ],
          [
           "Bolivia (Plurinational State of)"
          ],
          [
           "Brazil"
          ],
          [
           "Canada"
          ],
          [
           "Chile"
          ],
          [
           "Colombia"
          ],
          [
           "Costa Rica"
          ],
          [
           "Cuba"
          ],
          [
           "Dominica"
          ],
          [
           "Dominican Republic"
          ],
          [
           "Ecuador"
          ],
          [
           "El Salvador"
          ],
          [
           "French Guyana"
          ],
          [
           "Grenada"
          ],
          [
           "Guadeloupe"
          ],
          [
           "Guatemala"
          ],
          [
           "Guyana"
          ],
          [
           "Haiti"
          ],
          [
           "Honduras"
          ],
          [
           "Jamaica"
          ],
          [
           "Martinique"
          ],
          [
           "Mexico"
          ],
          [
           "Nicaragua"
          ],
          [
           "Panama"
          ],
          [
           "Paraguay"
          ],
          [
           "Peru"
          ],
          [
           "Puerto Rico"
          ],
          [
           "Saint Kitts and Nevis"
          ],
          [
           "Saint Lucia"
          ],
          [
           "Saint Vincent and the Grenadines"
          ],
          [
           "Suriname"
          ],
          [
           "Trinidad and Tobago"
          ],
          [
           "United States of America"
          ],
          [
           "Uruguay"
          ],
          [
           "Venezuela (Bolivarian Republic of)"
          ]
         ],
         "hovertemplate": "Item=Oilcrops<br>Area_avg=%{x}<br>Yield_avg=%{y}<br>Area=%{customdata[0]}<extra></extra>",
         "legendgroup": "Oilcrops",
         "marker": {
          "color": "#B6E880",
          "symbol": "circle"
         },
         "mode": "markers",
         "name": "Oilcrops",
         "showlegend": true,
         "type": "scattergl",
         "x": {
          "bdata": "mMdWBA1ngUAeWxE0LjdjQZqZmZmZoXVAvuIrvuLrfkCEOqiDOuCeQJzUfXl67iBBDSd1ny8jbkGChpN6O8RUQSuChpMak+pAOKn78oyoE0HVfXlshbvgQFsRNJxUgdhAdVAHdVAFqUDqvjy2ckXyQE7qvjyOXQRBaDip+1K950AAAAAAAABJQB5bETScyJ5AIQ3SIA0ydUBO6r48NuL7QMxjK4KGiMJAfnlsRXAe6kCuCBpOKt/rQOq+PLbiJeZAuuiiiy4Cg0CHk7ovAcwvQbYiaDiZ4fZAzGMrgobFs0BbETScYug1QR5bETT07gBBDSd1Xx4DkUCHk7ovjz11QFAHdVAH065A/PLYiqBNmkB+eWxF0MSpQDip+/JYFsNA9+WxFWMUfkFfHlsRvCsVQdV9eWwVfwVB",
          "dtype": "f8"
         },
         "xaxis": "x",
         "y": {
          "bdata": "lLovj63apUAAAAAAgEDRQJqZmZlpQvNA27Zt20YsD0GSJEmS5N3bQDCPrQia1c9Ah5O6L4+V0kCYx1YEDUrMQF8eWxE0hdZAuy+PrYjR8UBF0HBS92j9QCuChpP6ydRAZmZmZkZ/4EBO6r48tvDjQCNoOKn7U+5A0HBS90WX4kAlSZIk6VrhQK4IGk4qleFADeU1lAfE5kBoOKn7cm3nQE7qvvyFtmxBnNR9eewwyEBxUvflkY/3QIug4aTOmeFAXXTRRTcR1kAwj60I2gfcQPzy2Irg+N1ARdBwUpNXH0HMYyuChk/VQNV9eWyFwOFA78tjK+KH70Dz2IqgQbLzQM3MzMzMGeVAPbYiaNgSJEFsRdBwcv3nQBpO6r68k+pAeWxF0LDD1UCl7stjq/zGQKHhpO7L/tpA",
          "dtype": "f8"
         },
         "yaxis": "y"
        },
        {
         "customdata": [
          [
           "Antigua and Barbuda"
          ],
          [
           "Argentina"
          ],
          [
           "Bahamas"
          ],
          [
           "Barbados"
          ],
          [
           "Belize"
          ],
          [
           "Bolivia (Plurinational State of)"
          ],
          [
           "Brazil"
          ],
          [
           "Canada"
          ],
          [
           "Chile"
          ],
          [
           "Colombia"
          ],
          [
           "Costa Rica"
          ],
          [
           "Cuba"
          ],
          [
           "Dominica"
          ],
          [
           "Dominican Republic"
          ],
          [
           "Ecuador"
          ],
          [
           "El Salvador"
          ],
          [
           "French Guyana"
          ],
          [
           "Grenada"
          ],
          [
           "Guadeloupe"
          ],
          [
           "Guatemala"
          ],
          [
           "Guyana"
          ],
          [
           "Haiti"
          ],
          [
           "Honduras"
          ],
          [
           "Jamaica"
          ],
          [
           "Martinique"
          ],
          [
           "Mexico"
          ],
          [
           "Nicaragua"
          ],
          [
           "Panama"
          ],
          [
           "Paraguay"
          ],
          [
           "Peru"
          ],
          [
           "Puerto Rico"
          ],
          [
           "Saint Kitts and Nevis"
          ],
          [
           "Saint Lucia"
          ],
          [
           "Saint Vincent and the Grenadines"
          ],
          [
           "Suriname"
          ],
          [
           "Trinidad and Tobago"
          ],
          [
           "United States of America"
          ],
          [
           "Uruguay"
          ],
          [
           "Venezuela (Bolivarian Republic of)"
          ]
         ],
         "hovertemplate": "Item=Oilcrops, Cake Equivalent<br>Area_avg=%{x}<br>Yield_avg=%{y}<br>Area=%{customdata[0]}<extra></extra>",
         "legendgroup": "Oilcrops, Cake Equivalent",
         "marker": {
          "color": "#FF97FF",
          "symbol": "circle"
         },
         "mode": "markers",
         "name": "Oilcrops, Cake Equivalent",
         "showlegend": true,
         "type": "scattergl",
         "x": {
          "bdata": "mMdWBA1ngUCChpNarxpjQZqZmZmZoXVAvuIrvuLrfkCEOqiDOuCeQJzUfXl67iBB6r48NtyobUGChpN6O8RUQT22ImjYBehAOKn78oyoE0HVfXlshbvgQFsRNJxUgdhAdVAHdVAFqUAaTuq+LDvyQKHhpO7DDgNBh5O6L8/B5UAAAAAAAABJQB5bETScyJ5AIQ3SIA0ydUBO6r48NuL7QMxjK4KGiMJApe7LY6vv6ECuCBpOKt/rQOq+PLbiJeZAuuiiiy4Cg0DmsRVBCYcvQX55bEXA2/ZAzGMrgobFs0DmsRVBbpo1QYeTui93AABBDSd1Xx4DkUCHk7ovjz11QFAHdVAH065A/PLYiqBNmkB+eWxF0MSpQDip+/JYFsNA/PLYei0QfkE9tiJoNBgVQdV9eWwVfwVB",
          "dtype": "f8"
         },
         "xaxis": "x",
         "y": {
          "bdata": "shVBw0kVjECl7stjK3LHQGZmZmbmprhA6qAO6uDe1ECEOqiDOm68QKn78tgK/cNAPbYiaLjKyUDIVgQNpynCQFsRNJxUz8ZAoeGk7sudukDvy2Mrgu2zQL88tiJoKqxAHdRBHdQdpUBkK4KGk0CrQMxjK4KG07RACRpO6r7Qv0CSJEmSJFSvQFsRNJzUF6dAG8prKK9cskCl7stjKzW9QGg4qfs5ZTJBgoaTui+JpEAEDSd1X8qyQB5bETSc8KdAF1100UU/nEBxUvflsa++QO/LYyuCG8JAK4KGk7oW5EBS9+WxlTbHQAkaTuq+4rZAI2g4qfsttEAWQcNJ3WC/QGZmZmZmAqtAXx5bEbRs6kARNJzUfZusQGxF0HBSArFAPbYiaDgXz0CHk7ovj02+QIKGk7ovGa5A",
          "dtype": "f8"
         },
         "yaxis": "y"
        },
        {
         "customdata": [
          [
           "Antigua and Barbuda"
          ],
          [
           "Argentina"
          ],
          [
           "Bahamas"
          ],
          [
           "Barbados"
          ],
          [
           "Belize"
          ],
          [
           "Bolivia (Plurinational State of)"
          ],
          [
           "Brazil"
          ],
          [
           "Canada"
          ],
          [
           "Chile"
          ],
          [
           "Colombia"
          ],
          [
           "Costa Rica"
          ],
          [
           "Cuba"
          ],
          [
           "Dominica"
          ],
          [
           "Dominican Republic"
          ],
          [
           "Ecuador"
          ],
          [
           "El Salvador"
          ],
          [
           "French Guyana"
          ],
          [
           "Grenada"
          ],
          [
           "Guadeloupe"
          ],
          [
           "Guatemala"
          ],
          [
           "Guyana"
          ],
          [
           "Haiti"
          ],
          [
           "Honduras"
          ],
          [
           "Jamaica"
          ],
          [
           "Martinique"
          ],
          [
           "Mexico"
          ],
          [
           "Nicaragua"
          ],
          [
           "Panama"
          ],
          [
           "Paraguay"
          ],
          [
           "Peru"
          ],
          [
           "Puerto Rico"
          ],
          [
           "Saint Kitts and Nevis"
          ],
          [
           "Saint Lucia"
          ],
          [
           "Saint Vincent and the Grenadines"
          ],
          [
           "Suriname"
          ],
          [
           "Trinidad and Tobago"
          ],
          [
           "United States of America"
          ],
          [
           "Uruguay"
          ],
          [
           "Venezuela (Bolivarian Republic of)"
          ]
         ],
         "hovertemplate": "Item=Oilcrops, Oil Equivalent<br>Area_avg=%{x}<br>Yield_avg=%{y}<br>Area=%{customdata[0]}<extra></extra>",
         "legendgroup": "Oilcrops, Oil Equivalent",
         "marker": {
          "color": "#FECB52",
          "symbol": "circle"
         },
         "mode": "markers",
         "name": "Oilcrops, Oil Equivalent",
         "showlegend": true,
         "type": "scattergl",
         "x": {
          "bdata": "mMdWBA1ngUAeWxE0LjdjQZqZmZmZoXVAvuIrvuLrfkCEOqiDOuCeQJzUfXl67iBBDSd1ny8jbkGChpN6O8RUQSuChpMak+pAOKn78oyoE0HVfXlshbvgQFsRNJxUgdhAdVAHdVAFqUDqvjy2ckXyQE7qvjyOXQRBaDip+1K950AAAAAAAABJQB5bETScyJ5AIQ3SIA0ydUBO6r48NuL7QMxjK4KGiMJAfnlsRXAe6kCuCBpOKt/rQOq+PLbiJeZAuuiiiy4Cg0CHk7ovAcwvQbYiaDiZ4fZAzGMrgobFs0BbETScYug1QR5bETT07gBBDSd1Xx4DkUCHk7ovjz11QFAHdVAH065A/PLYiqBNmkB+eWxF0MSpQDip+/JYFsNA9+WxFWMUfkFfHlsRvCsVQdV9eWwVfwVB",
          "dtype": "f8"
         },
         "xaxis": "x",
         "y": {
          "bdata": "VwQNJ3WfcUA0nNR9ecivQJqZmZmZB8RAhDqog3p44EDUQR3UQXqwQIKGk7ov66dAyFYEDSdVqkDvy2MrguOyQI+tCBpOYb5AUvflsZX1zED88tiK4JzYQMxjK4KGu61AMzMzMzMosUCyFUHDSRi9QJjHVgSN7slAzGMrgoZItUAlSZIkyV6yQMhWBA0nQLJA8xrKa6g3t0CuCBpO6lDCQAkaTuoM3z1BbEXQcFJLo0CyFUHDSbDTQCd1Xx5btLJAuuiiiy7zpkDVfXlsRY6yQJS6L4+tyLlAi6DhpN7r8EB1Xx5bEZivQF8eWxE0MLhA4qTuy2NlwEAaTuq+PHDFQB3UQR3U8bVAXx5bEfQO9UCh4aTuy3a+QK4IGk7qo7tAbEXQcFIdr0ArgoaTuvOoQLIVQcNJmLVA",
          "dtype": "f8"
         },
         "yaxis": "y"
        },
        {
         "customdata": [
          [
           "Antigua and Barbuda"
          ],
          [
           "Argentina"
          ],
          [
           "Bahamas"
          ],
          [
           "Barbados"
          ],
          [
           "Bolivia (Plurinational State of)"
          ],
          [
           "Brazil"
          ],
          [
           "Canada"
          ],
          [
           "Chile"
          ],
          [
           "Colombia"
          ],
          [
           "Costa Rica"
          ],
          [
           "Cuba"
          ],
          [
           "Dominican Republic"
          ],
          [
           "El Salvador"
          ],
          [
           "Guadeloupe"
          ],
          [
           "Guatemala"
          ],
          [
           "Guyana"
          ],
          [
           "Haiti"
          ],
          [
           "Honduras"
          ],
          [
           "Jamaica"
          ],
          [
           "Mexico"
          ],
          [
           "Nicaragua"
          ],
          [
           "Panama"
          ],
          [
           "Paraguay"
          ],
          [
           "Peru"
          ],
          [
           "Saint Kitts and Nevis"
          ],
          [
           "United States of America"
          ],
          [
           "Uruguay"
          ],
          [
           "Venezuela (Bolivarian Republic of)"
          ]
         ],
         "hovertemplate": "Item=Onions, dry<br>Area_avg=%{x}<br>Yield_avg=%{y}<br>Area=%{customdata[0]}<extra></extra>",
         "legendgroup": "Onions, dry",
         "marker": {
          "color": "#636efa",
          "symbol": "circle"
         },
         "mode": "markers",
         "name": "Onions, dry",
         "showlegend": true,
         "type": "scattergl",
         "x": {
          "bdata": "DSd1Xx5bL0Dvy2MrAvrSQLIVQcNJPWFADSd1Xx7bQ0BoOKn78iq5QL88tiIIu+1AQcNJ3ZcksUDz2Iqg4Vu6QJjHVgQN3s5AfnlsRdCohkB1Xx5bEQ6zQBE0nNR9madATuq+PLZCcEBVVVVVVVURQEHDSd2Xc6lARERERET0cUDMYyuChuOKQAAAAAAAyINAyFYEDSe1ZEC/PLYi6HngQPzy2IqgQZtA2Yqg4aSuf0ARNJzUfdCwQKXuy2OrtcVAq6qqqqqqGkBO6r48lirqQHlsRdBw1qFAyFYEDSf/tUA=",
          "dtype": "f8"
         },
         "xaxis": "x",
         "y": {
          "bdata": "shVBw+k57EDvy2MrUtQKQZzUfXn86fNAi6DhpB6jAkHQcFL3VT3xQGxF0HDqBwFBOKn78iwVFEGYx1YESecVQY+tCBqm3wxBbEXQcJq7B0E0nNR9edjyQOKk7ssjCvdAtiJoOOlV9ECrqqqqRqL4QHFS9+Vx4ARB3t3d3amvBkEndV8eWwroQOKk7stzE/tA0HBS91V89UBXBA0n5UIHQbsvj63ISehAshVBw4m2BkEndV8e+57tQAAAAAAINA5B2ktoL+F6+0Cl7stjX0UaQQAAAABwaflA1X15bG2XCEE=",
          "dtype": "f8"
         },
         "yaxis": "y"
        },
        {
         "customdata": [
          [
           "Antigua and Barbuda"
          ],
          [
           "Argentina"
          ],
          [
           "Belize"
          ],
          [
           "Bolivia (Plurinational State of)"
          ],
          [
           "Brazil"
          ],
          [
           "Colombia"
          ],
          [
           "Costa Rica"
          ],
          [
           "Cuba"
          ],
          [
           "Dominica"
          ],
          [
           "Dominican Republic"
          ],
          [
           "Ecuador"
          ],
          [
           "El Salvador"
          ],
          [
           "French Guyana"
          ],
          [
           "Grenada"
          ],
          [
           "Guadeloupe"
          ],
          [
           "Guatemala"
          ],
          [
           "Guyana"
          ],
          [
           "Haiti"
          ],
          [
           "Honduras"
          ],
          [
           "Jamaica"
          ],
          [
           "Martinique"
          ],
          [
           "Mexico"
          ],
          [
           "Nicaragua"
          ],
          [
           "Panama"
          ],
          [
           "Paraguay"
          ],
          [
           "Peru"
          ],
          [
           "Puerto Rico"
          ],
          [
           "Saint Kitts and Nevis"
          ],
          [
           "Saint Lucia"
          ],
          [
           "Suriname"
          ],
          [
           "Trinidad and Tobago"
          ],
          [
           "United States of America"
          ],
          [
           "Venezuela (Bolivarian Republic of)"
          ]
         ],
         "hovertemplate": "Item=Pineapples<br>Area_avg=%{x}<br>Yield_avg=%{y}<br>Area=%{customdata[0]}<extra></extra>",
         "legendgroup": "Pineapples",
         "marker": {
          "color": "#EF553B",
          "symbol": "circle"
         },
         "mode": "markers",
         "name": "Pineapples",
         "showlegend": true,
         "type": "scattergl",
         "x": {
          "bdata": "X/EVX/EVOEBCHdRBHZRmQDrnnHPOOWJANJzUfXlgn0CyFUHD6bblQBZBw0ndu7tAUvflsZWPyUD35bEVQa2jQGZmZmZmZh1AdV8eWxGLsECh4aTuy1OyQIKGk7ovN4xAAAAAAABsVkAAAAAAAAAuQLrooosumnBA/PLYiqDLr0C7L4+tCEp8QLdt27ZtS3dAUvflsRWzpkCl7stjK4qFQMTDw8PDO4BANJzUfXljx0BsRdBwUiGkQL7iK77iY5FAbEXQcFK1pkAAAAAAAAq9QK4IGk7qBo1AAAAAAABAFkAAAAAAAMASQAd1UAd10ERAD+qgDupAckCyFUHDyRXLQK4IGk5qh8JA",
          "dtype": "f8"
         },
         "xaxis": "x",
         "y": {
          "bdata": "xVd8xTfs+kAzMzMz4wcHQRljjDGWYQBBTuq+PCby+0DMYyuCZtEQQUXQcFILgRpBw0ndl5PlGkF+eWxF4L0LQQAAAADUyAFBmMdWBFWbCEHMYyuC9t0GQWQrgoYrmQRBAAAAgBg//UDv7u7uXmP8QHTRRRdxywZBGk7qvowACkHz2IqgQev6QL7iK75yD/pAVwQNJ/0bCUHDSd2XDzYDQXh4eHhchxhBI2g4qYMEGEH88tiKQPsEQbD4iq/Q5RlBZCuChmOLA0HIVgQN108FQbsvj62scRVBT+zEThxb/kAAAACAR2QBQfEVX/FluQJBbtu2bUvv+UCyFUHDJSsVQUXQcFKvVgZB",
          "dtype": "f8"
         },
         "yaxis": "y"
        },
        {
         "customdata": [
          [
           "Antigua and Barbuda"
          ],
          [
           "Argentina"
          ],
          [
           "Bahamas"
          ],
          [
           "Barbados"
          ],
          [
           "Belize"
          ],
          [
           "Bolivia (Plurinational State of)"
          ],
          [
           "Canada"
          ],
          [
           "Chile"
          ],
          [
           "Colombia"
          ],
          [
           "Cuba"
          ],
          [
           "Dominica"
          ],
          [
           "Dominican Republic"
          ],
          [
           "Ecuador"
          ],
          [
           "El Salvador"
          ],
          [
           "Grenada"
          ],
          [
           "Guadeloupe"
          ],
          [
           "Guyana"
          ],
          [
           "Haiti"
          ],
          [
           "Honduras"
          ],
          [
           "Jamaica"
          ],
          [
           "Martinique"
          ],
          [
           "Mexico"
          ],
          [
           "Paraguay"
          ],
          [
           "Peru"
          ],
          [
           "Puerto Rico"
          ],
          [
           "Saint Lucia"
          ],
          [
           "Saint Vincent and the Grenadines"
          ],
          [
           "Trinidad and Tobago"
          ],
          [
           "United States of America"
          ],
          [
           "Uruguay"
          ],
          [
           "Venezuela (Bolivarian Republic of)"
          ]
         ],
         "hovertemplate": "Item=Pumpkins, squash and gourds<br>Area_avg=%{x}<br>Yield_avg=%{y}<br>Area=%{customdata[0]}<extra></extra>",
         "legendgroup": "Pumpkins, squash and gourds",
         "marker": {
          "color": "#00cc96",
          "symbol": "circle"
         },
         "mode": "markers",
         "name": "Pumpkins, squash and gourds",
         "showlegend": true,
         "type": "scattergl",
         "x": {
          "bdata": "oeGk7stjO0BF0HBSt7bZQGZmZmZmhlpAuHzLt3zLRkBJkiRJkiRIQJqZmZmZZLtAt23btu2rsECyFUHDSeq0QOKk7stjl6tAbEXQcDJv4UATtStRuxJUQAkaTuq+IrdAmpmZmZmXrkCSJEmSJDGSQD22Img4qTtA05ve9KY3MkDqTW9603ONQAAAAAAAQEVAAAAAAAAIeEB5bEXQcPafQAAAAAAAwEdA2Yqg4eRS2UBBw0ndl2+WQLIVQcNJj7ZAbEXQcFJPoUAAAAAAACAtQCd1Xx5bEUBAoeGk7suzd0BmZmZmPuLgQMNJ3ZfH4K9AOY7jOI6ZrEA=",
          "dtype": "f8"
         },
         "xaxis": "x",
         "y": {
          "bdata": "lLovj70S8UBfHlsRVNr+QGZmZmZCCghBpEEapDEL9kC3bdu2DQjwQDMzMzMBYPNAx3Ecx1FBBUHQcFL3HakMQWg4qfs6CwBBK4KGk/qw40CWqF2JSmL3QJS6L49NCuBAREREROSJ5kCe53me5wXvQHVfHlthQftAb3rTm05390CnN73pobkVQc3MzMyUuflAMzMzMxMbAEGPrQgapj8BQSVJkiQ5KghBWxE0nPRK/kD35bEVgavkQHlsRdBARQVBXx5bERTj9kAAAAAAQhYPQeaxFUFjo/hArggaTrqO+kBmZmZmRlELQX55bEVAC/BAchzHcQh3BEE=",
          "dtype": "f8"
         },
         "yaxis": "y"
        },
        {
         "customdata": [
          [
           "Antigua and Barbuda"
          ],
          [
           "Argentina"
          ],
          [
           "Bahamas"
          ],
          [
           "Barbados"
          ],
          [
           "Belize"
          ],
          [
           "Bolivia (Plurinational State of)"
          ],
          [
           "Brazil"
          ],
          [
           "Canada"
          ],
          [
           "Chile"
          ],
          [
           "Colombia"
          ],
          [
           "Costa Rica"
          ],
          [
           "Cuba"
          ],
          [
           "Dominica"
          ],
          [
           "Dominican Republic"
          ],
          [
           "Ecuador"
          ],
          [
           "El Salvador"
          ],
          [
           "French Guyana"
          ],
          [
           "Grenada"
          ],
          [
           "Guadeloupe"
          ],
          [
           "Guatemala"
          ],
          [
           "Guyana"
          ],
          [
           "Haiti"
          ],
          [
           "Honduras"
          ],
          [
           "Jamaica"
          ],
          [
           "Martinique"
          ],
          [
           "Mexico"
          ],
          [
           "Nicaragua"
          ],
          [
           "Panama"
          ],
          [
           "Paraguay"
          ],
          [
           "Peru"
          ],
          [
           "Puerto Rico"
          ],
          [
           "Saint Kitts and Nevis"
          ],
          [
           "Saint Lucia"
          ],
          [
           "Saint Vincent and the Grenadines"
          ],
          [
           "Suriname"
          ],
          [
           "Trinidad and Tobago"
          ],
          [
           "United States of America"
          ],
          [
           "Uruguay"
          ],
          [
           "Venezuela (Bolivarian Republic of)"
          ]
         ],
         "hovertemplate": "Item=Roots and Tubers, Total<br>Area_avg=%{x}<br>Yield_avg=%{y}<br>Area=%{customdata[0]}<extra></extra>",
         "legendgroup": "Roots and Tubers, Total",
         "marker": {
          "color": "#ab63fa",
          "symbol": "circle"
         },
         "mode": "markers",
         "name": "Roots and Tubers, Total",
         "showlegend": true,
         "type": "scattergl",
         "x": {
          "bdata": "yFYEDSc1VEDZiqDhRBADQUXQcFL3xW5AFkHDSd1Pi0ANJ3VfHntmQD22ImgQrAZBcVL35ae7P0GyFUHDEbcIQZzUfXk8dvBAWxE0nEw1FEEWQcNJ3a/GQErdl8duOwRB2Yqg4aQcpkCuCBpOSlrkQLsvj62Y2/FAWxE0nNThrUBZyEIWstyfQBpO6r48lodAC1nIQhYmpUCuCBpO6i3OQMNJ3ZfHybBABA0ndadcB0E0nNR9eUW0QDSc1H159M5Apze96U3Go0B+eWxF0LrxQGxF0HBSAc9AQcNJ3RdhwEBkK4KG42kGQaXuy2OHthZBj60IGk4EtEBS9+WxFQF2QMhWBA0nNZ5Aw0ndl8fCqkARNJzUfVl4QF8eWxE0fJRAzGMrgm76IEEndV8eWzDZQHlsRdDgcfJA",
          "dtype": "f8"
         },
         "xaxis": "x",
         "y": {
          "bdata": "BA0ndR9J5kCp+/LY6gIGQWg4qfuS/uxACRpO6i7k/EDZiqDhtG8BQZjHVgSN9+xAETSc1OU1AEErgoaTQg0KQchWBA0/XAJB9+WxFdGY+0DDSd2XZ/T6QIeTui8PCuxASt2XxwZR90BS9+WxBZDwQHFS9+UhdvNA0HBS9zX9/kDf9KY31aL2QLYiaDjpvudA3/SmN12Q+UAeWxE03Iv8QGQrgoYTnfNAMI+tCPpr5EA0nNR9WcjxQBpO6r7cvABBpze96bV1+UDz2Iqg0dQFQSuChpPqqPRAK4KGk3qL9EBS9+WxtaoBQQQNJ3V/sPZAZCuChjMX70Cc1H15rFXgQH55bEVw0eNAZCuChuOQ8EDZiqDhNOD9QIeTui+PZvVAJ3VfHieCFEEwj60IGn31QL88tiJIiflA",
          "dtype": "f8"
         },
         "yaxis": "y"
        },
        {
         "customdata": [
          [
           "Antigua and Barbuda"
          ],
          [
           "Argentina"
          ],
          [
           "Bolivia (Plurinational State of)"
          ],
          [
           "Brazil"
          ],
          [
           "Colombia"
          ],
          [
           "Costa Rica"
          ],
          [
           "Cuba"
          ],
          [
           "Dominican Republic"
          ],
          [
           "Ecuador"
          ],
          [
           "El Salvador"
          ],
          [
           "Grenada"
          ],
          [
           "Guadeloupe"
          ],
          [
           "Guatemala"
          ],
          [
           "Haiti"
          ],
          [
           "Honduras"
          ],
          [
           "Mexico"
          ],
          [
           "Nicaragua"
          ],
          [
           "Paraguay"
          ],
          [
           "Peru"
          ],
          [
           "Saint Kitts and Nevis"
          ],
          [
           "Saint Vincent and the Grenadines"
          ],
          [
           "United States of America"
          ],
          [
           "Uruguay"
          ],
          [
           "Venezuela (Bolivarian Republic of)"
          ]
         ],
         "hovertemplate": "Item=Seed cotton<br>Area_avg=%{x}<br>Yield_avg=%{y}<br>Area=%{customdata[0]}<extra></extra>",
         "legendgroup": "Seed cotton",
         "marker": {
          "color": "#FFA15A",
          "symbol": "circle"
         },
         "mode": "markers",
         "name": "Seed cotton",
         "showlegend": true,
         "type": "scattergl",
         "x": {
          "bdata": "mMdWBA1ngUDipO7LU40bQV8eWxEUYulAXx5bkTOUQEHMYyuC7okAQTip+/LY5qFAAAAAAAAmu0Bu27Zt28azQIeTui8PHs1AoeGk7su030AAAAAAAOBlQAAAAAAAOHNAXx5bERRm5UAeWxE0nPO2QGg4qfvyFbJAGk7qvtwjEkFfHlsRdHbtQD22Imj47ARBdV8eW1Gc+0Cc1H15bEVJQAAAAAAAQGlAi6DhJAO0UUFX9jmkJmh+QOaxFUEj0eBA",
          "dtype": "f8"
         },
         "xaxis": "x",
         "y": {
          "bdata": "lLovj63apUArgoaTOtfIQFL35bEVv8hAHlsRNBx/0EBBw0ndV+zRQAAAAAAA6MdASZIkSZJ4ukA8PDw8fNjCQPzy2IogY8ZA3dMIy11y00AEDSd1X/SmQAAAAADgqMJAVwQNJ3WS2UAeWxE0nIKwQNV9eWwFEdRAGk7qvry+3ECLoOGkLv3TQPPYiqDhIsRARdBwUvel0kDQcFL35cC5QM3MzMzMZsBAHlsRNJxD0kAAAAAAsP29QGg4qfvyuMVA",
          "dtype": "f8"
         },
         "yaxis": "y"
        },
        {
         "customdata": [
          [
           "Antigua and Barbuda"
          ],
          [
           "Argentina"
          ],
          [
           "Bahamas"
          ],
          [
           "Barbados"
          ],
          [
           "Belize"
          ],
          [
           "Bolivia (Plurinational State of)"
          ],
          [
           "Brazil"
          ],
          [
           "Canada"
          ],
          [
           "Chile"
          ],
          [
           "Colombia"
          ],
          [
           "Costa Rica"
          ],
          [
           "Cuba"
          ],
          [
           "Dominica"
          ],
          [
           "Dominican Republic"
          ],
          [
           "Ecuador"
          ],
          [
           "El Salvador"
          ],
          [
           "French Guyana"
          ],
          [
           "Grenada"
          ],
          [
           "Guadeloupe"
          ],
          [
           "Guatemala"
          ],
          [
           "Guyana"
          ],
          [
           "Haiti"
          ],
          [
           "Honduras"
          ],
          [
           "Jamaica"
          ],
          [
           "Martinique"
          ],
          [
           "Mexico"
          ],
          [
           "Nicaragua"
          ],
          [
           "Panama"
          ],
          [
           "Paraguay"
          ],
          [
           "Peru"
          ],
          [
           "Puerto Rico"
          ],
          [
           "Saint Kitts and Nevis"
          ],
          [
           "Saint Lucia"
          ],
          [
           "Saint Vincent and the Grenadines"
          ],
          [
           "Suriname"
          ],
          [
           "Trinidad and Tobago"
          ],
          [
           "United States of America"
          ],
          [
           "Uruguay"
          ],
          [
           "Venezuela (Bolivarian Republic of)"
          ]
         ],
         "hovertemplate": "Item=Sugar Crops Primary<br>Area_avg=%{x}<br>Yield_avg=%{y}<br>Area=%{customdata[0]}<extra></extra>",
         "legendgroup": "Sugar Crops Primary",
         "marker": {
          "color": "#19d3f3",
          "symbol": "circle"
         },
         "mode": "markers",
         "name": "Sugar Crops Primary",
         "showlegend": true,
         "type": "scattergl",
         "x": {
          "bdata": "UV5DeQ1BmkAAAAAAhAwSQdpLaC+hDZxA89iKoGEDx0AjaDipuyPVQI+tCBq+tPRAshVBw4HrUUHIVgQN52/VQB5bETQcwd9A/PLYiuSkFEE0nNR9mdLlQNV9eWz1Ii5B1X15bEWwa0Ddl8dW1MIBQYKGk7rPzPZA89iKoEEO6EBOb3rTm55dQLYiaDipO2tAkYUsZCEI00C2Img4uXb/QErdl8eWJuZAVwQNJ1Ub50D88tiKoDzqQHFS9+UR1eRAvelNb3r2tUDdl8dWHPEhQWg4qfuywOVAh5O6Lw893kAAAAAAYOPsQOKk7ssjne9Abtu2bUsd5kBOb3rTm3+vQM3MzMzMbHtA0Bf0BX3BiECChpO6L0mjQFcQkyvIUNpAvzy2IlSLKUHDSd2Xx+PJQBpO6r5MlPZA",
          "dtype": "f8"
         },
         "xaxis": "x",
         "y": {
          "bdata": "SZIkSX64G0G2Img4UUYhQcdxHMedEA9BrggaTpKsIUF5bEXQHHIbQQkaTuoynBpBh5O6Lz/aIkHVfXlsrYMaQTip+/IadCJBPbYiaKCNJ0GPrQgaFGwkQSd1Xx4jvhlBGk7qvuR4CkFF0HBSU+MeQXlsRdDMniVBTuq+PFwQJ0HTm970+YMgQTip+/IYPRpBTm9605foH0EWQcNJ/U4rQdBwUvfdpyVBETSc1I2UG0ENJ3Vf8gsiQYeTui9LviJB3/SmNxznI0HIVgQNqUQlQcNJ3ZfBeyVB5rEVQQdFIUGuCBpOKg0bQQAAAABDQTNBwzAMwx7DIEFbsAVbKg8kQZqZmZndlCdBQV/QF9BnEkEwj60IUlYgQY76zkYl1yFBFkHDSbXZIkENJ3VfWvYaQQQNJ3V9eyRB",
          "dtype": "f8"
         },
         "yaxis": "y"
        },
        {
         "customdata": [
          [
           "Antigua and Barbuda"
          ],
          [
           "Argentina"
          ],
          [
           "Bahamas"
          ],
          [
           "Barbados"
          ],
          [
           "Belize"
          ],
          [
           "Bolivia (Plurinational State of)"
          ],
          [
           "Brazil"
          ],
          [
           "Colombia"
          ],
          [
           "Costa Rica"
          ],
          [
           "Cuba"
          ],
          [
           "Dominica"
          ],
          [
           "Dominican Republic"
          ],
          [
           "Ecuador"
          ],
          [
           "El Salvador"
          ],
          [
           "French Guyana"
          ],
          [
           "Grenada"
          ],
          [
           "Guadeloupe"
          ],
          [
           "Guatemala"
          ],
          [
           "Guyana"
          ],
          [
           "Haiti"
          ],
          [
           "Honduras"
          ],
          [
           "Jamaica"
          ],
          [
           "Martinique"
          ],
          [
           "Mexico"
          ],
          [
           "Nicaragua"
          ],
          [
           "Panama"
          ],
          [
           "Paraguay"
          ],
          [
           "Peru"
          ],
          [
           "Puerto Rico"
          ],
          [
           "Saint Kitts and Nevis"
          ],
          [
           "Saint Lucia"
          ],
          [
           "Saint Vincent and the Grenadines"
          ],
          [
           "Suriname"
          ],
          [
           "Trinidad and Tobago"
          ],
          [
           "United States of America"
          ],
          [
           "Uruguay"
          ],
          [
           "Venezuela (Bolivarian Republic of)"
          ]
         ],
         "hovertemplate": "Item=Sugar cane<br>Area_avg=%{x}<br>Yield_avg=%{y}<br>Area=%{customdata[0]}<extra></extra>",
         "legendgroup": "Sugar cane",
         "marker": {
          "color": "#FF6692",
          "symbol": "circle"
         },
         "mode": "markers",
         "name": "Sugar cane",
         "showlegend": true,
         "type": "scattergl",
         "x": {
          "bdata": "UV5DeQ1BmkAAAAAAhAwSQdpLaC+hDZxA89iKoGEDx0AjaDipuyPVQI+tCBq+tPRAshVBw4HrUUHDSd2XS58UQTSc1H2Z0uVA1X15bPUiLkHVfXlsRbBrQN2Xx1bUwgFB5rEVQeOu9kDz2IqgQQ7oQE5vetObnl1AtiJoOKk7a0CRhSxkIQjTQLYiaDi5dv9ASt2Xx5Ym5kBXBA0nVRvnQPzy2IqgPOpAcVL35RHV5EC96U1veva1QMNJ3Zfr8CFBaDip+7LA5UCHk7ovDz3eQAAAAABg4+xA4qTuyyOd70Bu27ZtSx3mQE5vetObf69AzczMzMxse0DQF/QFfcGIQIKGk7ovSaNAVxCTK8hQ2kCPrQgaWv4TQU7qvjy2MrlA9+WxFdF19kA=",
          "dtype": "f8"
         },
         "xaxis": "x",
         "y": {
          "bdata": "SZIkSX64G0G2Img4UUYhQcdxHMedEA9BrggaTpKsIUF5bEXQHHIbQQkaTuoynBpBh5O6Lz/aIkHZiqDhEJInQY+tCBoUbCRBJ3VfHiO+GUEaTuq+5HgKQUXQcFJT4x5BTuq+PGi5JUFO6r48XBAnQdOb3vT5gyBBOKn78hg9GkFOb3rTl+gfQRZBw0n9TitB0HBS992nJUERNJzUjZQbQQ0ndV/yCyJBh5O6L0u+IkHf9KY3HOcjQe/LYyvQRCVBw0ndl8F7JUHmsRVBB0UhQa4IGk4qDRtBAAAAAENBM0HDMAzDHsMgQVuwBVsqDyRBmpmZmd2UJ0FBX9AX0GcSQTCPrQhSViBBjvrORiXXIUE9tiJo/O4oQTip+/L0Ox5BzGMrgsiLJEE=",
          "dtype": "f8"
         },
         "yaxis": "y"
        },
        {
         "customdata": [
          [
           "Antigua and Barbuda"
          ],
          [
           "Argentina"
          ],
          [
           "Bahamas"
          ],
          [
           "Barbados"
          ],
          [
           "Belize"
          ],
          [
           "Bolivia (Plurinational State of)"
          ],
          [
           "Brazil"
          ],
          [
           "Chile"
          ],
          [
           "Costa Rica"
          ],
          [
           "Cuba"
          ],
          [
           "Dominica"
          ],
          [
           "Dominican Republic"
          ],
          [
           "Ecuador"
          ],
          [
           "El Salvador"
          ],
          [
           "Grenada"
          ],
          [
           "Guadeloupe"
          ],
          [
           "Guatemala"
          ],
          [
           "Guyana"
          ],
          [
           "Haiti"
          ],
          [
           "Honduras"
          ],
          [
           "Jamaica"
          ],
          [
           "Martinique"
          ],
          [
           "Mexico"
          ],
          [
           "Paraguay"
          ],
          [
           "Peru"
          ],
          [
           "Puerto Rico"
          ],
          [
           "Saint Kitts and Nevis"
          ],
          [
           "Saint Lucia"
          ],
          [
           "Saint Vincent and the Grenadines"
          ],
          [
           "Suriname"
          ],
          [
           "Trinidad and Tobago"
          ],
          [
           "United States of America"
          ],
          [
           "Uruguay"
          ],
          [
           "Venezuela (Bolivarian Republic of)"
          ]
         ],
         "hovertemplate": "Item=Sweet potatoes<br>Area_avg=%{x}<br>Yield_avg=%{y}<br>Area=%{customdata[0]}<extra></extra>",
         "legendgroup": "Sweet potatoes",
         "marker": {
          "color": "#B6E880",
          "symbol": "circle"
         },
         "mode": "markers",
         "name": "Sweet potatoes",
         "showlegend": true,
         "type": "scattergl",
         "x": {
          "bdata": "rggaTuq+QEAndV8eWzrbQLYiaDipe2dAAAAAAADQdkC+99577703QBE0nNR9YZ5A4qTuy9NL9UDMYyuChjuRQDuxEzuxM15AeWxF0DBp7EA0nNR9eRxzQFL35bEVvbxAVwQNJ3VLm0Ch4aTuyyNTQL88tiJoWGBAvelNb3ofgUDHcRzHcRw1QLKQhSxkuYFAtiJoOGmE7UAndV8eW2mFQAQNJ3VfAqBAvelNb3qzd0BbETSc1DG2QF8eWxG0GcVAbEXQcNJiykDqvjy2IoiVQBZBw0ndF0JAqfvy2IqgY0BXBA0ndV+ZQHFS9+WxFUFAtiJoOKm7Z0DipO7LQ37mQDSc1H35GMVAaDip+/IIl0A=",
          "dtype": "f8"
         },
         "xaxis": "x",
         "y": {
          "bdata": "aDip+3LI6kAwj60IKnX/QIKGk7oPxeBAHlsRNDRYAEF87733btbyQNV9eWxFYetAuy+PrZjd+kA4qfvy+HT1QMVO7MQO29xA9+WxFYEn6UBBw0ndV8XnQN2Xx1YUIPFADSd1Xx5J4UC2Img46a3rQNV9eWylMeFAhixkIXvL+UCO4ziOgxXvQNOb3vQ2mf9AOKn78ngv5UCp+/LYShDnQFsRNJy0jv5AQxaykCXf90BBw0ndfy8DQb88tiJYxvRApe7LY5MdAUFF0HBS513wQLIVQcNJ+u1AzGMrglbm80DMYyuChq7XQA0ndV+eFPZAI2g4qTvu60Cc1H15rL0DQd2Xx1bk4vBAPbYiaNiG7EA=",
          "dtype": "f8"
         },
         "yaxis": "y"
        },
        {
         "customdata": [
          [
           "Antigua and Barbuda"
          ],
          [
           "Bahamas"
          ],
          [
           "Barbados"
          ],
          [
           "Dominica"
          ],
          [
           "French Guyana"
          ],
          [
           "Guyana"
          ],
          [
           "Honduras"
          ],
          [
           "Nicaragua"
          ],
          [
           "Saint Lucia"
          ],
          [
           "Trinidad and Tobago"
          ],
          [
           "United States of America"
          ]
         ],
         "hovertemplate": "Item=Taro (cocoyam)<br>Area_avg=%{x}<br>Yield_avg=%{y}<br>Area=%{customdata[0]}<extra></extra>",
         "legendgroup": "Taro (cocoyam)",
         "marker": {
          "color": "#FF97FF",
          "symbol": "circle"
         },
         "mode": "markers",
         "name": "Taro (cocoyam)",
         "showlegend": true,
         "type": "scattergl",
         "x": {
          "bdata": "ewntJbSXIUAAAAAAAAD4f6HhpO7Lo1pAJ3VfHlsRkkAhC1nIQu6GQGZmZmZmEnJAVVVVVVX5gUAAAAAAgJKxQHFS9+WxlUtAJ3VfHlsBfECyFUHDSd1lQA==",
          "dtype": "f8"
         },
         "xaxis": "x",
         "y": {
          "bdata": "HMdxHOeQ4kAAAAAAAAD4f4+tCBquHuFAzGMrgvZC+UC96U1v2jL5QGZmZmZWfQdBq6qqqgpt7UBY7mmExTD8QEXQcFL3Te9AZCuChiMZ+UAwj60IsksEQQ==",
          "dtype": "f8"
         },
         "yaxis": "y"
        },
        {
         "customdata": [
          [
           "Antigua and Barbuda"
          ],
          [
           "Argentina"
          ],
          [
           "Bahamas"
          ],
          [
           "Barbados"
          ],
          [
           "Belize"
          ],
          [
           "Bolivia (Plurinational State of)"
          ],
          [
           "Brazil"
          ],
          [
           "Canada"
          ],
          [
           "Chile"
          ],
          [
           "Colombia"
          ],
          [
           "Costa Rica"
          ],
          [
           "Cuba"
          ],
          [
           "Dominica"
          ],
          [
           "Dominican Republic"
          ],
          [
           "Ecuador"
          ],
          [
           "El Salvador"
          ],
          [
           "French Guyana"
          ],
          [
           "Grenada"
          ],
          [
           "Guadeloupe"
          ],
          [
           "Guatemala"
          ],
          [
           "Guyana"
          ],
          [
           "Haiti"
          ],
          [
           "Honduras"
          ],
          [
           "Jamaica"
          ],
          [
           "Martinique"
          ],
          [
           "Mexico"
          ],
          [
           "Nicaragua"
          ],
          [
           "Panama"
          ],
          [
           "Paraguay"
          ],
          [
           "Peru"
          ],
          [
           "Puerto Rico"
          ],
          [
           "Saint Kitts and Nevis"
          ],
          [
           "Saint Lucia"
          ],
          [
           "Suriname"
          ],
          [
           "Trinidad and Tobago"
          ],
          [
           "United States of America"
          ],
          [
           "Uruguay"
          ],
          [
           "Venezuela (Bolivarian Republic of)"
          ]
         ],
         "hovertemplate": "Item=Tomatoes<br>Area_avg=%{x}<br>Yield_avg=%{y}<br>Area=%{customdata[0]}<extra></extra>",
         "legendgroup": "Tomatoes",
         "marker": {
          "color": "#FECB52",
          "symbol": "circle"
         },
         "mode": "markers",
         "name": "Tomatoes",
         "showlegend": true,
         "type": "scattergl",
         "x": {
          "bdata": "qfvy2IqgPUCPrQgaDoTWQMxjK4KGo3hAUvflsRVBWECttdZaa61MQOKk7stj27RAi6DhpA7M6kBS9+WxldnEQB5bETQcVMpAmMdWBI1WykBbETSc1FGWQKXuy2NrZ99AlqhdidqVOEBbETSc1KW3QAQNJ3Vf1qlAdV8eWxGMkkBGF1100WVUQAQNJ3VfvmJAQxaykIWsZkANJ3VfHjm/QHVfHlsR1HtAFkHDSd23ZkDqvjy2IgimQO/LYyuCDpNAnN70pjd1dUAndV8e2wD2QCd1Xx5boYNAWxE0nNQNkUBK3ZfHVpSdQMxjK4KGv7RARdBwUvfdhEC8u7u7u7smQAAAAAAAICVA78tjK4JGWkBxUvflsaVxQF8eWxEkvgRB3ZfHVgSRnkCp+/LYilfAQA==",
          "dtype": "f8"
         },
         "xaxis": "x",
         "y": {
          "bdata": "RdBwUkcK8UArgoaTxpAQQYeTui/HHAhBAAAAALCj90AppZRSUk0HQd2Xx1b0BvxAI2g4qa9pGEEJGk7qRpYeQeaxFUGHIxpBw0ndl3fKDEHvy2MrWl0QQbsvj60IVPdA52NwPqbQ+EArgoaTMhkPQbsvj63gkQZBh5O6L+9UCEFddNFFW24QQd2Xx1bUIfVAZCELWYSPAUF5bEXQGDMJQfzy2IooBQdBCRpO6n6CAkEEDSd1jyUGQYKGk7qXTABBC1nIQo48/UDIVgQNH/oKQan78thmoBFB5rEVQdvXDEFbETSczEQRQWQrgoZLQAxBJ3VfHt/5EEFEREREnJf8QAAAAABeGRBBmMdWBL0S+EDVfXls1Xn8QI+tCBps0yFBI2g4qfvaEUHmsRVBy2kGQQ==",
          "dtype": "f8"
         },
         "yaxis": "y"
        },
        {
         "customdata": [
          [
           "Antigua and Barbuda"
          ],
          [
           "Argentina"
          ],
          [
           "Bahamas"
          ],
          [
           "Barbados"
          ],
          [
           "Belize"
          ],
          [
           "Bolivia (Plurinational State of)"
          ],
          [
           "Brazil"
          ],
          [
           "Canada"
          ],
          [
           "Chile"
          ],
          [
           "Colombia"
          ],
          [
           "Costa Rica"
          ],
          [
           "Cuba"
          ],
          [
           "Dominica"
          ],
          [
           "Dominican Republic"
          ],
          [
           "Ecuador"
          ],
          [
           "El Salvador"
          ],
          [
           "French Guyana"
          ],
          [
           "Grenada"
          ],
          [
           "Guadeloupe"
          ],
          [
           "Guatemala"
          ],
          [
           "Guyana"
          ],
          [
           "Haiti"
          ],
          [
           "Honduras"
          ],
          [
           "Jamaica"
          ],
          [
           "Martinique"
          ],
          [
           "Mexico"
          ],
          [
           "Nicaragua"
          ],
          [
           "Panama"
          ],
          [
           "Paraguay"
          ],
          [
           "Peru"
          ],
          [
           "Puerto Rico"
          ],
          [
           "Saint Kitts and Nevis"
          ],
          [
           "Saint Lucia"
          ],
          [
           "Saint Vincent and the Grenadines"
          ],
          [
           "Suriname"
          ],
          [
           "Trinidad and Tobago"
          ],
          [
           "United States of America"
          ],
          [
           "Uruguay"
          ],
          [
           "Venezuela (Bolivarian Republic of)"
          ]
         ],
         "hovertemplate": "Item=Vegetables Primary<br>Area_avg=%{x}<br>Yield_avg=%{y}<br>Area=%{customdata[0]}<extra></extra>",
         "legendgroup": "Vegetables Primary",
         "marker": {
          "color": "#636efa",
          "symbol": "circle"
         },
         "mode": "markers",
         "name": "Vegetables Primary",
         "showlegend": true,
         "type": "scattergl",
         "x": {
          "bdata": "5rEVQcNJb0ArgoaTWoEFQa4IGk7qMqNA3ZfHVgS9j0DipO7LY+OKQFcEDSdV9fVA1X15bGFZFUFO6r48BpX5QOKk7suTM/NAtiJoOMlb/UB5bEXQcCO7QN2Xx1YUmv1ANJzUfXmchEAEDSd1H/nYQPPYiqDhYOpAHlsRNJwhtEDIQhaykLmEQJzUfXlsnYNATm9605uyl0DipO7L40/lQGxF0HBSe6tAOKn78jgD4kCLoOGkbr3HQEHDSd2X1cVA6k1vetN7nkArgoaTzu4YQRpO6r6868BAfnlsRdDmsED35bEVwY3MQJzUfXmMiABB4qTuy2N7rUAjaDip+7JTQB5bETScVGRA0HBS9+Uhd0AaTuq+PK6NQGQrgoaTKp9ASt2XxycoMkENJ3VfnlPNQBZBw0ndh+BA",
          "dtype": "f8"
         },
         "xaxis": "x",
         "y": {
          "bdata": "FkHDSd3t6kAaTuq+pMEBQb88tiIoWvlA6r48tsJn9EBK3ZfHNtXwQCd1Xx6b3OJAnNR9edR/AkHipO7LM44FQfzy2IqIjQlB5rEVQYO5BkFsRdBwOn8BQR5bETSsJ/NAfnlsRRCk9UDqvjy2wsv7QDip+/K4sfFA78tjK2qYAEGGLGQh00v9QNBwUveV6fZATm9605tIAUFBw0ndt1f7QLsvj634LvlATuq+PDZe7EAEDSd1Nw4AQcxjK4IWbPxAhixkIVtHAEFsRdBw2uAAQVcEDSelEPRAbEXQcDKz/kA4qfvyWPz0QKn78tiKSvdA9+WxFbHO+UDqvjy2QizyQGQrgoZjBPNAZCuChrMQ9ECYx1YELSf/QLIVQcPpS/lAOKn78mAoDUFBw0nd1874QGxF0HCCAQVB",
          "dtype": "f8"
         },
         "yaxis": "y"
        },
        {
         "customdata": [
          [
           "Antigua and Barbuda"
          ],
          [
           "Argentina"
          ],
          [
           "Bahamas"
          ],
          [
           "Barbados"
          ],
          [
           "Belize"
          ],
          [
           "Bolivia (Plurinational State of)"
          ],
          [
           "Brazil"
          ],
          [
           "Canada"
          ],
          [
           "Chile"
          ],
          [
           "Colombia"
          ],
          [
           "Costa Rica"
          ],
          [
           "Cuba"
          ],
          [
           "Dominica"
          ],
          [
           "Dominican Republic"
          ],
          [
           "Ecuador"
          ],
          [
           "El Salvador"
          ],
          [
           "French Guyana"
          ],
          [
           "Grenada"
          ],
          [
           "Guadeloupe"
          ],
          [
           "Guatemala"
          ],
          [
           "Guyana"
          ],
          [
           "Haiti"
          ],
          [
           "Honduras"
          ],
          [
           "Jamaica"
          ],
          [
           "Martinique"
          ],
          [
           "Mexico"
          ],
          [
           "Nicaragua"
          ],
          [
           "Panama"
          ],
          [
           "Paraguay"
          ],
          [
           "Peru"
          ],
          [
           "Saint Kitts and Nevis"
          ],
          [
           "Saint Lucia"
          ],
          [
           "Saint Vincent and the Grenadines"
          ],
          [
           "Suriname"
          ],
          [
           "Trinidad and Tobago"
          ],
          [
           "United States of America"
          ],
          [
           "Uruguay"
          ],
          [
           "Venezuela (Bolivarian Republic of)"
          ]
         ],
         "hovertemplate": "Item=Vegetables, fresh nes<br>Area_avg=%{x}<br>Yield_avg=%{y}<br>Area=%{customdata[0]}<extra></extra>",
         "legendgroup": "Vegetables, fresh nes",
         "marker": {
          "color": "#EF553B",
          "symbol": "circle"
         },
         "mode": "markers",
         "name": "Vegetables, fresh nes",
         "showlegend": true,
         "type": "scattergl",
         "x": {
          "bdata": "shVBw0ldQkBkK4KGE+/qQDip+/LYXp1AGk7qvjw2ckANJ3VfHsOAQPzy2IqgF69AVwQNJx0LC0HMYyuChpK2QMhWBA0no7ZApe7LYyvBu0CyFUHDSaOnQL88tiLoRdxAj60IGk5qc0Dqvjy2IsihQKn78tiKPqBAaDip+/Icm0CGLGQhC/F4QPPYiqDhJGdAb3rTm94Ef0AeWxE0nGfMQNmKoOGkDpJAtiJoOOmd4EDz2Iqg4fu1QJzUfXlsMZNAZCELWcjae0CYx1YE7VziQL88tiJoGIpAzGMrgoaLmEBfHlsRNAqlQJS6L4+t7KpAGk7qvjy2SkBsRdBwUvdgQJjHVgQNR25ABA0ndV/2gkBfHlsRNOxzQLIVQcNJ0udAOKn78thAoEBK3ZfHViqoQA==",
          "dtype": "f8"
         },
         "xaxis": "x",
         "y": {
          "bdata": "rggaTgqg60DMYyuC9iL+QH55bEXgi/dAbEXQcGK190Dvy2MrgvntQEXQcFL3nudApe7LY+vS9kCYx1YENdcOQSNoOKnzZgVBWxE0nHQdA0ErgoaTmuv6QFcEDSf1a/hAVwQNJyVr9kCuCBpOUqwBQQkaTuqOxPJAvzy2IhAOA0FkIQtZ0Pf8QA0ndV9uGfhAetOb3pRr/kDz2Iqg0Z/0QFsRNJy0aOZAJ3VfHlv860CPrQgavjj3QEHDSd2nrfhALWQhC1EwAEENJ3VfLtPzQHFS9+XBQfJAuy+PreiJ9EDqvjy2gujvQLYiaDjxEwBB/PLYiuBa7kBxUvfl8WvwQOq+PLbCtvVA1X15bL3MAEFO6r489ub0QA0ndV+Ogh1BaDip+8Ks90CUui+PXVMDQQ==",
          "dtype": "f8"
         },
         "yaxis": "y"
        },
        {
         "customdata": [
          [
           "Antigua and Barbuda"
          ],
          [
           "Barbados"
          ],
          [
           "Belize"
          ],
          [
           "Brazil"
          ],
          [
           "Colombia"
          ],
          [
           "Costa Rica"
          ],
          [
           "Cuba"
          ],
          [
           "Dominica"
          ],
          [
           "Dominican Republic"
          ],
          [
           "Grenada"
          ],
          [
           "Guadeloupe"
          ],
          [
           "Guyana"
          ],
          [
           "Haiti"
          ],
          [
           "Jamaica"
          ],
          [
           "Martinique"
          ],
          [
           "Nicaragua"
          ],
          [
           "Panama"
          ],
          [
           "Puerto Rico"
          ],
          [
           "Saint Kitts and Nevis"
          ],
          [
           "Saint Lucia"
          ],
          [
           "Saint Vincent and the Grenadines"
          ],
          [
           "Trinidad and Tobago"
          ],
          [
           "Venezuela (Bolivarian Republic of)"
          ]
         ],
         "hovertemplate": "Item=Yams<br>Area_avg=%{x}<br>Yield_avg=%{y}<br>Area=%{customdata[0]}<extra></extra>",
         "legendgroup": "Yams",
         "marker": {
          "color": "#00cc96",
          "symbol": "circle"
         },
         "mode": "markers",
         "name": "Yams",
         "showlegend": true,
         "type": "scattergl",
         "x": {
          "bdata": "UvflsRVBOECp+/LYihB3QAghhBBCCCdA6r48tiKQ1ECUui+PLbrRQJ1zzjnnnJhAAAAAAGD42ECChpO6L4eBQPPYiqDhMqZAzGMrgoZTaUCykIUsZMWRQCELWchCtmNA6r48tsIj4UCp+/LYCvTCQL3pTW96X5NAd3d3d3c3UkDz2Iqg4QCpQIug4aTuD5RAcVL35bEVS0C7L4+tCFqCQBpO6r48tm1AFkHDSd2XU0CPrQgaTjW9QA==",
          "dtype": "f8"
         },
         "xaxis": "x",
         "y": {
          "bdata": "dV8eWxG44UBbETScBIv8QMYYY4yRWPVAmMdWBK2A9kCuCBpOemn4QGOMMcYIfgFBbtu2bb8J8ED88tiKMFT+QJS6L4/NiPBAcVL35XFa1kBZyEIWgif7QAAAAABYqAhBGk7qvjzP50AEDSd1B28BQchCFrJYKfdAWO5phN0xAEGLoOGkTuPrQAQNJ3WPqvNAbtu2bV/V6UAjaDipu/fpQMNJ3ZfXOPlACRpO6i4O/EDvy2MrkvzwQA==",
          "dtype": "f8"
         },
         "yaxis": "y"
        },
        {
         "customdata": [
          [
           "Argentina"
          ],
          [
           "Brazil"
          ],
          [
           "Chile"
          ],
          [
           "Mexico"
          ],
          [
           "Peru"
          ],
          [
           "United States of America"
          ]
         ],
         "hovertemplate": "Item=Almonds, with shell<br>Area_avg=%{x}<br>Yield_avg=%{y}<br>Area=%{customdata[0]}<extra></extra>",
         "legendgroup": "Almonds, with shell",
         "marker": {
          "color": "#ab63fa",
          "symbol": "circle"
         },
         "mode": "markers",
         "name": "Almonds, with shell",
         "showlegend": true,
         "type": "scattergl",
         "x": {
          "bdata": "+Yqv+IrPcUAAAAAAAAD4fxZf8RVfK7dAAAAAAADYV0AAAAAAAAD4f4eTui8nZgZB",
          "dtype": "f8"
         },
         "xaxis": "x",
         "y": {
          "bdata": "MzMzM3NB0kAAAAAAAAD4fxZf8RXfHdNAzczMzETd00AAAAAAAAD4f+/LYyuCCNpA",
          "dtype": "f8"
         },
         "yaxis": "y"
        },
        {
         "customdata": [
          [
           "Argentina"
          ],
          [
           "Canada"
          ],
          [
           "Ecuador"
          ],
          [
           "Guatemala"
          ],
          [
           "Mexico"
          ],
          [
           "Peru"
          ]
         ],
         "hovertemplate": "Item=Anise, badian, fennel, coriander<br>Area_avg=%{x}<br>Yield_avg=%{y}<br>Area=%{customdata[0]}<extra></extra>",
         "legendgroup": "Anise, badian, fennel, coriander",
         "marker": {
          "color": "#FFA15A",
          "symbol": "circle"
         },
         "mode": "markers",
         "name": "Anise, badian, fennel, coriander",
         "showlegend": true,
         "type": "scattergl",
         "x": {
          "bdata": "LL7iK75yrkCvobyGcrfJQIwuuuiii0VALL7iK74ajECHk7ovjwGmQB4eHh4ePolA",
          "dtype": "f8"
         },
         "xaxis": "x",
         "y": {
          "bdata": "btu2bdvAvkBDeQ3lNT6+QHTRRRedabNAsPiKr3jNzUBXBA0nhZDyQA8PDw/Ph+BA",
          "dtype": "f8"
         },
         "yaxis": "y"
        },
        {
         "customdata": [
          [
           "Argentina"
          ],
          [
           "Bolivia (Plurinational State of)"
          ],
          [
           "Brazil"
          ],
          [
           "Canada"
          ],
          [
           "Chile"
          ],
          [
           "Colombia"
          ],
          [
           "Ecuador"
          ],
          [
           "El Salvador"
          ],
          [
           "Grenada"
          ],
          [
           "Guatemala"
          ],
          [
           "Honduras"
          ],
          [
           "Mexico"
          ],
          [
           "Paraguay"
          ],
          [
           "Peru"
          ],
          [
           "Saint Vincent and the Grenadines"
          ],
          [
           "United States of America"
          ],
          [
           "Uruguay"
          ]
         ],
         "hovertemplate": "Item=Apples<br>Area_avg=%{x}<br>Yield_avg=%{y}<br>Area=%{customdata[0]}<extra></extra>",
         "legendgroup": "Apples",
         "marker": {
          "color": "#19d3f3",
          "symbol": "circle"
         },
         "mode": "markers",
         "name": "Apples",
         "showlegend": true,
         "type": "scattergl",
         "x": {
          "bdata": "AAAAAMRk5EDz2Iqg4fSYQHlsRdDwA9RAlLovj61N3UAwj60I2inYQHqe53me13hAzGMrgobxo0CrqqqqqhizQJqZmZmZWVpAVwQNJ3WBpUC8u7u7u/tOQLYiaDjJQ+ZAvuIrvuLrVECuCBpOaqjBQHVQB3VQx2xAGk7qvnz6A0GLr/iKr1ymQA==",
          "dtype": "f8"
         },
         "xaxis": "x",
         "y": {
          "bdata": "mpmZmb5TDEGYx1YELUfqQE7qvjy2UQlBuy+PraguBEHvy2MropoPQTEMwzBc8vdA5rEVQUNe7UC8u7u7m1XwQMVXfMU3LuVAoeGk7ovJ7kBVVVVVdVjeQErdl8cGa/ZAi6/4is+R8kCHk7ovn87+QHVQB3WQS+VAPbYiaNguDkElSZIkwcoFQQ==",
          "dtype": "f8"
         },
         "yaxis": "y"
        },
        {
         "customdata": [
          [
           "Argentina"
          ],
          [
           "Canada"
          ],
          [
           "Chile"
          ],
          [
           "Ecuador"
          ],
          [
           "Mexico"
          ],
          [
           "Peru"
          ],
          [
           "United States of America"
          ]
         ],
         "hovertemplate": "Item=Apricots<br>Area_avg=%{x}<br>Yield_avg=%{y}<br>Area=%{customdata[0]}<extra></extra>",
         "legendgroup": "Apricots",
         "marker": {
          "color": "#FF6692",
          "symbol": "circle"
         },
         "mode": "markers",
         "name": "Apricots",
         "showlegend": true,
         "type": "scattergl",
         "x": {
          "bdata": "AAAAAMDkp0Awj60IGt5zQMhWBA0nWZhAdVAHdVBHUkAAAAAAAIiBQKRwPQrXo01AzGMrgoaYwUA=",
          "dtype": "f8"
         },
         "xaxis": "x",
         "y": {
          "bdata": "AAAAAHCd9EAwj60IWlvvQOq+PLYybfVAfMVXfMXB5kBfHlsRNHbzQFK4HoVrOepArggaTqpt/EA=",
          "dtype": "f8"
         },
         "yaxis": "y"
        },
        {
         "customdata": [
          [
           "Argentina"
          ],
          [
           "Chile"
          ],
          [
           "Costa Rica"
          ],
          [
           "Mexico"
          ],
          [
           "Peru"
          ],
          [
           "United States of America"
          ]
         ],
         "hovertemplate": "Item=Artichokes<br>Area_avg=%{x}<br>Yield_avg=%{y}<br>Area=%{customdata[0]}<extra></extra>",
         "legendgroup": "Artichokes",
         "marker": {
          "color": "#B6E880",
          "symbol": "circle"
         },
         "mode": "markers",
         "name": "Artichokes",
         "showlegend": true,
         "type": "scattergl",
         "x": {
          "bdata": "tiJoOKmFrED88tiKoKelQDEMwzAMwyBAl2/5lm/5aUCp+/LYinSeQEHDSd2Xha1A",
          "dtype": "f8"
         },
         "xaxis": "x",
         "y": {
          "bdata": "HlsRNIRNCEF+eWxFQD3yQPQ8z/Mc3+dA3/It34Jm90A4qfvyiPP9QNBwUvdFTPtA",
          "dtype": "f8"
         },
         "yaxis": "y"
        },
        {
         "customdata": [
          [
           "Argentina"
          ],
          [
           "Canada"
          ],
          [
           "Chile"
          ],
          [
           "Colombia"
          ],
          [
           "Costa Rica"
          ],
          [
           "Ecuador"
          ],
          [
           "Mexico"
          ],
          [
           "Peru"
          ],
          [
           "United States of America"
          ]
         ],
         "hovertemplate": "Item=Asparagus<br>Area_avg=%{x}<br>Yield_avg=%{y}<br>Area=%{customdata[0]}<extra></extra>",
         "legendgroup": "Asparagus",
         "marker": {
          "color": "#FF97FF",
          "symbol": "circle"
         },
         "mode": "markers",
         "name": "Asparagus",
         "showlegend": true,
         "type": "scattergl",
         "x": {
          "bdata": "UvflsRUFlkCChpO6L0+ZQA3lNZTXr6dAdM4555zzeEDFTuzETmw+QKuqqqqqmnZA89iKoOFqw0Dvy2MrggrJQOaxFUGDeN9A",
          "dtype": "f8"
         },
         "xaxis": "x",
         "y": {
          "bdata": "cVL35fHq4kAndV8eW+DWQKK8hvI64uNAAAAAAGAU5EA7sRM7Mb7kQN7d3d1dcNpApe7LY2u150DVfXlsBc/xQMNJ3ZfHYd1A",
          "dtype": "f8"
         },
         "yaxis": "y"
        },
        {
         "customdata": [
          [
           "Argentina"
          ],
          [
           "Bahamas"
          ],
          [
           "Barbados"
          ],
          [
           "Bolivia (Plurinational State of)"
          ],
          [
           "Brazil"
          ],
          [
           "Chile"
          ],
          [
           "Colombia"
          ],
          [
           "Costa Rica"
          ],
          [
           "Cuba"
          ],
          [
           "Dominica"
          ],
          [
           "Dominican Republic"
          ],
          [
           "Ecuador"
          ],
          [
           "El Salvador"
          ],
          [
           "French Guyana"
          ],
          [
           "Grenada"
          ],
          [
           "Guadeloupe"
          ],
          [
           "Guatemala"
          ],
          [
           "Guyana"
          ],
          [
           "Haiti"
          ],
          [
           "Honduras"
          ],
          [
           "Jamaica"
          ],
          [
           "Martinique"
          ],
          [
           "Mexico"
          ],
          [
           "Panama"
          ],
          [
           "Paraguay"
          ],
          [
           "Peru"
          ],
          [
           "Puerto Rico"
          ],
          [
           "Saint Lucia"
          ],
          [
           "Trinidad and Tobago"
          ],
          [
           "United States of America"
          ],
          [
           "Venezuela (Bolivarian Republic of)"
          ]
         ],
         "hovertemplate": "Item=Avocados<br>Area_avg=%{x}<br>Yield_avg=%{y}<br>Area=%{customdata[0]}<extra></extra>",
         "legendgroup": "Avocados",
         "marker": {
          "color": "#FECB52",
          "symbol": "circle"
         },
         "mode": "markers",
         "name": "Avocados",
         "showlegend": true,
         "type": "scattergl",
         "x": {
          "bdata": "dVAHdVDHgEAAAAAAAIBaQPEVX/EVH11ADSd1Xx6jiEDVfXlsRb/LQFsRNJzUmsxARdBwUvcEx0DDSd2Xx7irQMxjK4KGg4NASZIkSZIEYkChDuqgDuXAQKHhpO7Lk6hAqfvy2IrwokAcTJHPusFRQB3UQR3UgW5A6aKLLrpoNUDmsRVBw82xQAAAAAAAwGBAzczMzEznx0CPrQgaToKFQEmSJEmSNHxAXXTRRRdNaEAWQcNJXRnzQHzFV3zF25BAD+qgDuomokD88tiKoCjIQGQrgoaTqolAfMVXfMVXS0Dbtm3btm1TQN2Xx1aEptZAZCuChhNcw0A=",
          "dtype": "f8"
         },
         "xaxis": "x",
         "y": {
          "bdata": "X/EVXxGk70BmZmZmvhn+QLdt27ZNfedA4qTuy0MP7kCPrQganmb5QDip+/J4eOVASt2Xx+Ya90C/PLYiqAXpQK4IGk66NgZBWHzFV5yB4EBYfMVXXCoMQbYiaDh5avRAAAAAAADg+UDWDabIh6/jQOMrvuILru9AdNFFF4VJ+0B5bEXQIIb3QHzFV3zlduxAO6iDOigx7kCYx1YELYzkQGZmZmZ2fPBARhdddIFe50CyFUHDKa/3QIuv+IrvUORAUAd1UMd+7UAEDSd1T1b3QMhWBA1H/OJAt23btu3g7kC3bdu27fTqQJzUfXnMN+9Aqfvy2MpJ70A=",
          "dtype": "f8"
         },
         "yaxis": "y"
        },
        {
         "customdata": [
          [
           "Argentina"
          ],
          [
           "Bolivia (Plurinational State of)"
          ],
          [
           "Brazil"
          ],
          [
           "Canada"
          ],
          [
           "Chile"
          ],
          [
           "Colombia"
          ],
          [
           "Ecuador"
          ],
          [
           "Guatemala"
          ],
          [
           "Mexico"
          ],
          [
           "Peru"
          ],
          [
           "United States of America"
          ],
          [
           "Uruguay"
          ]
         ],
         "hovertemplate": "Item=Barley<br>Area_avg=%{x}<br>Yield_avg=%{y}<br>Area=%{customdata[0]}<extra></extra>",
         "legendgroup": "Barley",
         "marker": {
          "color": "#636efa",
          "symbol": "circle"
         },
         "mode": "markers",
         "name": "Barley",
         "showlegend": true,
         "type": "scattergl",
         "x": {
          "bdata": "pe7LYw+bG0GPrQgaTpX0QHlsRdDQV/RAh5O6L37qTEE9tiJo+JXgQNBwUvfldd5Ah5O6L++47UDz2Iqg4YRsQDCPrQi+iRBBDSd1X+6/AUHvy2Mrc49FQWxF0HCSPPNA",
          "dtype": "f8"
         },
         "xaxis": "x",
         "y": {
          "bdata": "Tuq+PPbn1UBxUvflsce8QB5bETScZ9FAi6DhpO492kBkK4KGM8jgQLYiaDgp7NFAuy+PrQi2vUBBw0ndV1LRQPzy2IpgtNJAcVL35bHCxUDdl8dWBMrcQMxjK4KGg9JA",
          "dtype": "f8"
         },
         "yaxis": "y"
        },
        {
         "customdata": [
          [
           "Argentina"
          ],
          [
           "Barbados"
          ],
          [
           "Belize"
          ],
          [
           "Bolivia (Plurinational State of)"
          ],
          [
           "Brazil"
          ],
          [
           "Canada"
          ],
          [
           "Chile"
          ],
          [
           "Colombia"
          ],
          [
           "Costa Rica"
          ],
          [
           "Cuba"
          ],
          [
           "Dominican Republic"
          ],
          [
           "Ecuador"
          ],
          [
           "El Salvador"
          ],
          [
           "Grenada"
          ],
          [
           "Guatemala"
          ],
          [
           "Haiti"
          ],
          [
           "Honduras"
          ],
          [
           "Jamaica"
          ],
          [
           "Mexico"
          ],
          [
           "Nicaragua"
          ],
          [
           "Panama"
          ],
          [
           "Paraguay"
          ],
          [
           "Peru"
          ],
          [
           "Puerto Rico"
          ],
          [
           "United States of America"
          ],
          [
           "Uruguay"
          ],
          [
           "Venezuela (Bolivarian Republic of)"
          ]
         ],
         "hovertemplate": "Item=Beans, dry<br>Area_avg=%{x}<br>Yield_avg=%{y}<br>Area=%{customdata[0]}<extra></extra>",
         "legendgroup": "Beans, dry",
         "marker": {
          "color": "#EF553B",
          "symbol": "circle"
         },
         "mode": "markers",
         "name": "Beans, dry",
         "showlegend": true,
         "type": "scattergl",
         "x": {
          "bdata": "Tuq+PH5CB0Evuuiii65EQD22Img4SbFA1X15bIVh1EDqvjy2XJxOQZS6L4/9QPRAVwQNJ3VP6kDVfXls9fb6QN2Xx1aEnOBAbEXQcMIw8kBK3ZfHtizkQE7qvjz2PelAQcNJ3Zej8EAndV8eW1FUQDSc1H1RoAJBgoaTum8Z+UDqvjy2wvn1QNBwUvflUWdAshVBw3/1OUFxUvflqe4AQZS6L4+tIchAXx5bEfQv60C/PLYiGLDwQDip+/LYKolAeWxF0FrrIkGHk7ovj7+yQA0ndV9+Ru5A",
          "dtype": "f8"
         },
         "xaxis": "x",
         "y": {
          "bdata": "3ZfHVoSVxECMLrrooivsQKn78tiKQ71ArggaTmp1w0Ch4aTuy5C6QFcEDSf1ENFAHlsRNBxNyUCc1H157NPAQIKGk7ovybRAvzy2ImgptkBsRdBw0nLAQKHhpO7Ln7JAh5O6L4/bvkAWQcNJ3TnEQEHDSd2XOL5ANJzUfXkNtkDIVgQNJ/G5QOq+PLai3MBAw0ndl8ejt0ARNJzUfXy8QH55bEXQ6qxAh5O6L48hv0BF0HBS92HCQOq+PLYiysJAi6DhpG6w0EB5bEXQcMq3QIKGk7ovlrdA",
          "dtype": "f8"
         },
         "yaxis": "y"
        },
        {
         "customdata": [
          [
           "Argentina"
          ],
          [
           "Bolivia (Plurinational State of)"
          ],
          [
           "Brazil"
          ],
          [
           "Canada"
          ],
          [
           "Colombia"
          ],
          [
           "Dominican Republic"
          ],
          [
           "Ecuador"
          ],
          [
           "Guatemala"
          ],
          [
           "Guyana"
          ],
          [
           "Jamaica"
          ],
          [
           "Mexico"
          ],
          [
           "Paraguay"
          ],
          [
           "Peru"
          ],
          [
           "Uruguay"
          ]
         ],
         "hovertemplate": "Item=Broad beans, horse beans, dry<br>Area_avg=%{x}<br>Yield_avg=%{y}<br>Area=%{customdata[0]}<extra></extra>",
         "legendgroup": "Broad beans, horse beans, dry",
         "marker": {
          "color": "#00cc96",
          "symbol": "circle"
         },
         "mode": "markers",
         "name": "Broad beans, horse beans, dry",
         "showlegend": true,
         "type": "scattergl",
         "x": {
          "bdata": "78tjK4LGl0Dz2IqgYS3FQOKk7svjMfhAAAAAAEjhsUCRhSxkIWOdQIug4aTuEb9A4qTuy2P6y0AAAAAAgEvSQAAAAAAAJHdAK4KGk7rvaEBBw0nd19/dQA0ndV8e9MRAHlsRNNzt30A0nNR9eXxwQA==",
          "dtype": "f8"
         },
         "xaxis": "x",
         "y": {
          "bdata": "ZCuChvNY70DipO7LY/HBQIug4aTuU6tAO7ETO3Gx1EDqTW96UxvnQOq+PLairMZAlLovj62qtEBXBA0ndaS7QM3MzMysB9hAPbYiaDgkwUCPrQgazu7DQPflsRVBKcBANJzUffmlxUDIVgQN5xHYQA==",
          "dtype": "f8"
         },
         "yaxis": "y"
        },
        {
         "customdata": [
          [
           "Argentina"
          ],
          [
           "Canada"
          ],
          [
           "Mexico"
          ],
          [
           "Uruguay"
          ]
         ],
         "hovertemplate": "Item=Canary seed<br>Area_avg=%{x}<br>Yield_avg=%{y}<br>Area=%{customdata[0]}<extra></extra>",
         "legendgroup": "Canary seed",
         "marker": {
          "color": "#ab63fa",
          "symbol": "circle"
         },
         "mode": "markers",
         "name": "Canary seed",
         "showlegend": true,
         "type": "scattergl",
         "x": {
          "bdata": "dV8eW9F74UAAAAAAEmv/QAQNJ3Vf5q9AMI+tCBqwp0A=",
          "dtype": "f8"
         },
         "xaxis": "x",
         "y": {
          "bdata": "K4KGkzquw0AzMzMzE0/GQLsvj60Ij8RABA0ndV+RvkA=",
          "dtype": "f8"
         },
         "yaxis": "y"
        },
        {
         "customdata": [
          [
           "Argentina"
          ],
          [
           "Brazil"
          ],
          [
           "Dominican Republic"
          ],
          [
           "Ecuador"
          ],
          [
           "El Salvador"
          ],
          [
           "Haiti"
          ],
          [
           "Mexico"
          ],
          [
           "Nicaragua"
          ],
          [
           "Paraguay"
          ],
          [
           "Peru"
          ],
          [
           "United States of America"
          ]
         ],
         "hovertemplate": "Item=Castor oil seed<br>Area_avg=%{x}<br>Yield_avg=%{y}<br>Area=%{customdata[0]}<extra></extra>",
         "legendgroup": "Castor oil seed",
         "marker": {
          "color": "#FFA15A",
          "symbol": "circle"
         },
         "mode": "markers",
         "name": "Castor oil seed",
         "showlegend": true,
         "type": "scattergl",
         "x": {
          "bdata": "QxaykIXKrECc1H153HUOQR+F61G4PnhA2Yqg4aTsxEAlSZIkSSJkQI+tCBpO7KJAUvflsRVjsECrqqqqqiqDQCd1Xx5bcMlACe0ltJesg0BpaWlpaRHLQA==",
          "dtype": "f8"
         },
         "xaxis": "x",
         "y": {
          "bdata": "h/IaymvtvEDz2Iqg4Um5QKuqqqqqc69AoeGk7st+xEB7FK5H4VasQCd1Xx5bQLVAbCivobyNukAAAAAAYBe3QCd1Xx5bHcdAAAAAAIi70EBJkiRJUtXBQA==",
          "dtype": "f8"
         },
         "yaxis": "y"
        },
        {
         "customdata": [
          [
           "Argentina"
          ],
          [
           "Bolivia (Plurinational State of)"
          ],
          [
           "Colombia"
          ],
          [
           "Mexico"
          ],
          [
           "Peru"
          ],
          [
           "United States of America"
          ]
         ],
         "hovertemplate": "Item=Cereals nes<br>Area_avg=%{x}<br>Yield_avg=%{y}<br>Area=%{customdata[0]}<extra></extra>",
         "legendgroup": "Cereals nes",
         "marker": {
          "color": "#19d3f3",
          "symbol": "circle"
         },
         "mode": "markers",
         "name": "Cereals nes",
         "showlegend": true,
         "type": "scattergl",
         "x": {
          "bdata": "QcNJ3ZeI1UBbETSc1MmSQAAAAACA5ZlAlNdQXkOXoEBVVVVVZeDAQAAAAAAAAPh/",
          "dtype": "f8"
         },
         "xaxis": "x",
         "y": {
          "bdata": "2Yqg4aRWvkD88tiKoH2zQAAAAAA4PtVAUV5Dec1YyEAAAAAAMGHAQAAAAAAAAPh/",
          "dtype": "f8"
         },
         "yaxis": "y"
        },
        {
         "customdata": [
          [
           "Argentina"
          ],
          [
           "Bolivia (Plurinational State of)"
          ],
          [
           "Canada"
          ],
          [
           "Chile"
          ],
          [
           "Guyana"
          ],
          [
           "Mexico"
          ],
          [
           "Peru"
          ],
          [
           "Suriname"
          ],
          [
           "United States of America"
          ]
         ],
         "hovertemplate": "Item=Cherries<br>Area_avg=%{x}<br>Yield_avg=%{y}<br>Area=%{customdata[0]}<extra></extra>",
         "legendgroup": "Cherries",
         "marker": {
          "color": "#FF6692",
          "symbol": "circle"
         },
         "mode": "markers",
         "name": "Cherries",
         "showlegend": true,
         "type": "scattergl",
         "x": {
          "bdata": "O6iDOqjrl0BXBA0nda9wQAAAAAAAIJhAi6DhpO4TuUCSJEmSJMlfQGZmZmZmZjpAw/UoXI/iXkAAAAAAAABAQPPYiqDhzNdA",
          "dtype": "f8"
         },
         "xaxis": "x",
         "y": {
          "bdata": "ZmZmZgZt5UDVfXlsxTvSQHFS9+Xxb+xAuy+PrWgw5EDP8zzPY6D+QITlnkYYSOVA9ihcj0KC5UBmZmZmpicPQcNJ3ZdHQ/JA",
          "dtype": "f8"
         },
         "yaxis": "y"
        },
        {
         "customdata": [
          [
           "Argentina"
          ],
          [
           "Bolivia (Plurinational State of)"
          ],
          [
           "Canada"
          ],
          [
           "Chile"
          ],
          [
           "Colombia"
          ],
          [
           "Dominican Republic"
          ],
          [
           "Mexico"
          ],
          [
           "Peru"
          ],
          [
           "United States of America"
          ]
         ],
         "hovertemplate": "Item=Chick peas<br>Area_avg=%{x}<br>Yield_avg=%{y}<br>Area=%{customdata[0]}<extra></extra>",
         "legendgroup": "Chick peas",
         "marker": {
          "color": "#B6E880",
          "symbol": "circle"
         },
         "mode": "markers",
         "name": "Chick peas",
         "showlegend": true,
         "type": "scattergl",
         "x": {
          "bdata": "w0ndl8d6yEDIVgQNJ+2FQJIkSZIchfVAVwQNJ3X9vkBJkiRJ0mfUQJjHVgQNp1lAQcNJ3Z9RAUH35bEVQZmlQGG5pxG2oO5A",
          "dtype": "f8"
         },
         "xaxis": "x",
         "y": {
          "bdata": "5rEVQcPCxEAJGk7qvpC7QLdt27aNls1Ah5O6L4/uu0Dbtm3bNgO4QD4G52NwiMVAtiJoOCmwyUBbETScVL7EQJ9GWO5p1sxA",
          "dtype": "f8"
         },
         "yaxis": "y"
        },
        {
         "customdata": [
          [
           "Argentina"
          ],
          [
           "French Guyana"
          ],
          [
           "Grenada"
          ],
          [
           "Jamaica"
          ],
          [
           "Martinique"
          ],
          [
           "Mexico"
          ],
          [
           "Peru"
          ],
          [
           "United States of America"
          ]
         ],
         "hovertemplate": "Item=Chillies and peppers, dry<br>Area_avg=%{x}<br>Yield_avg=%{y}<br>Area=%{customdata[0]}<extra></extra>",
         "legendgroup": "Chillies and peppers, dry",
         "marker": {
          "color": "#FF97FF",
          "symbol": "circle"
         },
         "mode": "markers",
         "name": "Chillies and peppers, dry",
         "showlegend": true,
         "type": "scattergl",
         "x": {
          "bdata": "/PLYiqDrpEAAAAAAAIAgQL7iK77iKyxAGk7qvjwmkUBVVVVVVbVHQB5bETRcJ95AIiIiIiL0s0BkIQtZyFe9QA==",
          "dtype": "f8"
         },
         "xaxis": "x",
         "y": {
          "bdata": "PbYiaDh6xUCrqqqqqkSlQG7btm3bJ+pA2Yqg4UQJ8EBVVVVV+cfwQDSc1H15QMtAq6qqqlrA7UByHMdx3AXaQA==",
          "dtype": "f8"
         },
         "yaxis": "y"
        },
        {
         "customdata": [
          [
           "Argentina"
          ],
          [
           "Canada"
          ]
         ],
         "hovertemplate": "Item=Fibre crops nes<br>Area_avg=%{x}<br>Yield_avg=%{y}<br>Area=%{customdata[0]}<extra></extra>",
         "legendgroup": "Fibre crops nes",
         "marker": {
          "color": "#FECB52",
          "symbol": "circle"
         },
         "mode": "markers",
         "name": "Fibre crops nes",
         "showlegend": true,
         "type": "scattergl",
         "x": {
          "bdata": "I2g4qfsGnUAiNcF4azndQA==",
          "dtype": "f8"
         },
         "xaxis": "x",
         "y": {
          "bdata": "UvflsZWOxEB5K/sc0oTHQA==",
          "dtype": "f8"
         },
         "yaxis": "y"
        },
        {
         "customdata": [
          [
           "Argentina"
          ],
          [
           "Bolivia (Plurinational State of)"
          ],
          [
           "Brazil"
          ],
          [
           "Chile"
          ],
          [
           "Colombia"
          ],
          [
           "Ecuador"
          ],
          [
           "Mexico"
          ],
          [
           "Peru"
          ],
          [
           "United States of America"
          ],
          [
           "Venezuela (Bolivarian Republic of)"
          ]
         ],
         "hovertemplate": "Item=Figs<br>Area_avg=%{x}<br>Yield_avg=%{y}<br>Area=%{customdata[0]}<extra></extra>",
         "legendgroup": "Figs",
         "marker": {
          "color": "#636efa",
          "symbol": "circle"
         },
         "mode": "markers",
         "name": "Figs",
         "showlegend": true,
         "type": "scattergl",
         "x": {
          "bdata": "JUmSJEkycUBbETSc1C1zQFcEDSd1IalAZmZmZmamS0BJkiRJkqRYQAAAAAAAGEBAbEXQcFLvlECp+/LYimiDQAQNJ3VfE7ZAHMdxHMfhbUA=",
          "dtype": "f8"
         },
         "xaxis": "x",
         "y": {
          "bdata": "i6/4iq8G4ECHk7ovD0buQGxF0HCyffJAhOWeRtj1zUD0PM/zNGcIQQAAAACsrcpA4qTuy+PB6kBXBA0n5ZXwQKn78ti6/vJA7+7u7m6D3EA=",
          "dtype": "f8"
         },
         "yaxis": "y"
        },
        {
         "customdata": [
          [
           "Argentina"
          ],
          [
           "Chile"
          ]
         ],
         "hovertemplate": "Item=Flax fibre and tow<br>Area_avg=%{x}<br>Yield_avg=%{y}<br>Area=%{customdata[0]}<extra></extra>",
         "legendgroup": "Flax fibre and tow",
         "marker": {
          "color": "#EF553B",
          "symbol": "circle"
         },
         "mode": "markers",
         "name": "Flax fibre and tow",
         "showlegend": true,
         "type": "scattergl",
         "x": {
          "bdata": "BA0ndV/epUBxUvflsXugQA==",
          "dtype": "f8"
         },
         "xaxis": "x",
         "y": {
          "bdata": "RdBwUvfrukANJ3VfnhvCQA==",
          "dtype": "f8"
         },
         "yaxis": "y"
        },
        {
         "customdata": [
          [
           "Argentina"
          ],
          [
           "Bolivia (Plurinational State of)"
          ],
          [
           "Brazil"
          ],
          [
           "Canada"
          ],
          [
           "Chile"
          ],
          [
           "Colombia"
          ],
          [
           "Cuba"
          ],
          [
           "Dominican Republic"
          ],
          [
           "Ecuador"
          ],
          [
           "Guatemala"
          ],
          [
           "Haiti"
          ],
          [
           "Honduras"
          ],
          [
           "Mexico"
          ],
          [
           "Paraguay"
          ],
          [
           "Peru"
          ],
          [
           "United States of America"
          ],
          [
           "Uruguay"
          ],
          [
           "Venezuela (Bolivarian Republic of)"
          ]
         ],
         "hovertemplate": "Item=Garlic<br>Area_avg=%{x}<br>Yield_avg=%{y}<br>Area=%{customdata[0]}<extra></extra>",
         "legendgroup": "Garlic",
         "marker": {
          "color": "#00cc96",
          "symbol": "circle"
         },
         "mode": "markers",
         "name": "Garlic",
         "showlegend": true,
         "type": "scattergl",
         "x": {
          "bdata": "3ZfHVgRRx0DVfXlsRSCJQAAAAAAAXshAw/UoXI+SckAWQcNJ3QmgQG7btm3bBnxAshVBw0nplkBoOKn78oiDQMNJ3ZfHTohA5rEVQcNBmUCl7stjK4IxQErdl8dWhExArggaTuoyuUBBw0ndl3d/QBE0nNR9kLBAfnlsRdAev0BkK4KGk+p9QNV9eWxFjJJA",
          "dtype": "f8"
         },
         "xaxis": "x",
         "y": {
          "bdata": "FkHDSa1d8UDZiqDhxC3nQJS6L49tIOtAXI/C9Wg520Cc1H15/LrxQD3P8zxvof1ARdBwUhe9/ECChpO636bwQOaxFUGDu91AdV8eW5Hk7EB1Xx5bCe0OQXlsRdAwq91A9+WxFYEF8kDDSd2Xx2PRQDip+/Io9vFAmMdWBBVXBEHqvjy2QrXgQIug4aSuAexA",
          "dtype": "f8"
         },
         "yaxis": "y"
        },
        {
         "customdata": [
          [
           "Argentina"
          ],
          [
           "Bahamas"
          ],
          [
           "Belize"
          ],
          [
           "Bolivia (Plurinational State of)"
          ],
          [
           "Brazil"
          ],
          [
           "Chile"
          ],
          [
           "Costa Rica"
          ],
          [
           "Cuba"
          ],
          [
           "Dominica"
          ],
          [
           "Dominican Republic"
          ],
          [
           "Ecuador"
          ],
          [
           "French Guyana"
          ],
          [
           "Grenada"
          ],
          [
           "Guadeloupe"
          ],
          [
           "Guyana"
          ],
          [
           "Haiti"
          ],
          [
           "Honduras"
          ],
          [
           "Jamaica"
          ],
          [
           "Martinique"
          ],
          [
           "Mexico"
          ],
          [
           "Paraguay"
          ],
          [
           "Peru"
          ],
          [
           "Puerto Rico"
          ],
          [
           "Saint Lucia"
          ],
          [
           "Saint Vincent and the Grenadines"
          ],
          [
           "Suriname"
          ],
          [
           "Trinidad and Tobago"
          ],
          [
           "United States of America"
          ],
          [
           "Uruguay"
          ],
          [
           "Venezuela (Bolivarian Republic of)"
          ]
         ],
         "hovertemplate": "Item=Grapefruit (inc. pomelos)<br>Area_avg=%{x}<br>Yield_avg=%{y}<br>Area=%{customdata[0]}<extra></extra>",
         "legendgroup": "Grapefruit (inc. pomelos)",
         "marker": {
          "color": "#ab63fa",
          "symbol": "circle"
         },
         "mode": "markers",
         "name": "Grapefruit (inc. pomelos)",
         "showlegend": true,
         "type": "scattergl",
         "x": {
          "bdata": "zczMzDxdw0BVVVVVVWV9QMNJ3ZfHxqBAZmZmZmb9lkDFV3zFV0asQBERERER+XJAq6qqqqqroUBQB3VQByPSQNu2bdu2B6BAQh3UQR1ch0Dqvjy2InCJQJgin3WDqUJAvuIrvuIrY0AXXXTRRddRQMhCFrKQJXtAAAAAAADMnkAzMzMzM3OZQL7iK77iiaNARhdddNFFOkCUui+PLfjBQDMzMzMzi5VAdV8eWxE0h0C+4iu+4itlQCy+4iu+Il5AqIM6qIM6RUBS9+WxFcFtQIKGk7ovJ5FAmMdWBI1U60AP6qAO6vB8QB3UQR3UaYxA",
          "dtype": "f8"
         },
         "xaxis": "x",
         "y": {
          "bdata": "AAAAAOEtB0EiIiIiJjkTQSNoOKl7AABBmpmZmXnK/EDNzMzMNHAGQU8jLPeUTO9A3t3d3S1R80Cogzqok8j5QBZf8RWf0/JAzczMzMwE+kDvy2MryrUFQSryWTeYdtdAqIM6qAPT/UBddNFFx375QJze9KbXJeNAQh3UQS0H9EChDuqgpiAEQYQ6qINihgVB6aKLLkqR50CYx1YEpSoFQV/xFV8tzBxBHlsRNGzp+UBCHdRBhecEQdu2bdumJfpAO6iDOkjD+UDVfXlsVWv7QAQNJ3VvA/JA/PLYitiLFEEWX/EVX3EAQbdt27bNrfZA",
          "dtype": "f8"
         },
         "yaxis": "y"
        },
        {
         "customdata": [
          [
           "Argentina"
          ],
          [
           "Bolivia (Plurinational State of)"
          ],
          [
           "Brazil"
          ],
          [
           "Canada"
          ],
          [
           "Chile"
          ],
          [
           "Colombia"
          ],
          [
           "Cuba"
          ],
          [
           "Ecuador"
          ],
          [
           "Guatemala"
          ],
          [
           "Honduras"
          ],
          [
           "Mexico"
          ],
          [
           "Paraguay"
          ],
          [
           "Peru"
          ],
          [
           "United States of America"
          ],
          [
           "Uruguay"
          ],
          [
           "Venezuela (Bolivarian Republic of)"
          ]
         ],
         "hovertemplate": "Item=Grapes<br>Area_avg=%{x}<br>Yield_avg=%{y}<br>Area=%{customdata[0]}<extra></extra>",
         "legendgroup": "Grapes",
         "marker": {
          "color": "#FFA15A",
          "symbol": "circle"
         },
         "mode": "markers",
         "name": "Grapes",
         "showlegend": true,
         "type": "scattergl",
         "x": {
          "bdata": "shVBw6HLDkHVfXlsRU6qQDSc1H1JHfBAOKn78tjrw0AWQcNJzdcAQdmKoOGkPpdAz/M8z/PIm0BxUvflsZVVQH55bEXQVJdAhfYS2ktoPkAjaDipO3/gQI+tCBpOdpNAw0ndl0cxyEB+eWxF/CwTQQAAAAAAxcpACe0ltJfMh0A=",
          "dtype": "f8"
         },
         "xaxis": "x",
         "y": {
          "bdata": "nNR9ecxI+kDQcFL3BQPvQKHhpO5bof9AI2g4qRtt8UBF0HBSF3H5QPPYiqChZv5AkiRJklQL/kAeWxE0XGPqQNBwUveFV+1A7SW0l/BL6kCuCBpOGiH5QMxjK4JGdvNAWxE0nAS7+EA9tiJogMsDQRZBw0m9YvhAAAAAAFDr/UA=",
          "dtype": "f8"
         },
         "yaxis": "y"
        },
        {
         "customdata": [
          [
           "Argentina"
          ],
          [
           "Barbados"
          ],
          [
           "Belize"
          ],
          [
           "Bolivia (Plurinational State of)"
          ],
          [
           "Brazil"
          ],
          [
           "Colombia"
          ],
          [
           "Costa Rica"
          ],
          [
           "Cuba"
          ],
          [
           "Dominican Republic"
          ],
          [
           "Ecuador"
          ],
          [
           "El Salvador"
          ],
          [
           "Guatemala"
          ],
          [
           "Guyana"
          ],
          [
           "Haiti"
          ],
          [
           "Honduras"
          ],
          [
           "Jamaica"
          ],
          [
           "Mexico"
          ],
          [
           "Nicaragua"
          ],
          [
           "Paraguay"
          ],
          [
           "Peru"
          ],
          [
           "Saint Kitts and Nevis"
          ],
          [
           "Saint Vincent and the Grenadines"
          ],
          [
           "Suriname"
          ],
          [
           "United States of America"
          ],
          [
           "Uruguay"
          ],
          [
           "Venezuela (Bolivarian Republic of)"
          ]
         ],
         "hovertemplate": "Item=Groundnuts, with shell<br>Area_avg=%{x}<br>Yield_avg=%{y}<br>Area=%{customdata[0]}<extra></extra>",
         "legendgroup": "Groundnuts, with shell",
         "marker": {
          "color": "#19d3f3",
          "symbol": "circle"
         },
         "mode": "markers",
         "name": "Groundnuts, with shell",
         "showlegend": true,
         "type": "scattergl",
         "x": {
          "bdata": "mMdWBJUuEEGIh4eHh4c5QAAAAAAAAFdAJ3VfHtsnxkBkK4KGoyQOQTCPrQgaGqNAKvJZN5hiaUAwj60IGgrKQKn78thKCNhAaDip+3LQyEAAAAAAAAD4f07qvjy22pVAGk7qvjwSlEBXBA0ntUvbQOq+PLYiqF9AyFYEDSepnUA0nNR9GVbwQDCPrQgaLc1AXx5bEbTK2kAwj60IGiqkQKHhpO7Lo1BA6r48tiJoZkCPrQgaTmpyQAkaTuoO/CFB2Yqg4aTip0Dvy2MrggOzQA==",
          "dtype": "f8"
         },
         "xaxis": "x",
         "y": {
          "bdata": "Xx5bEXQj0UBaWlpaGr7TQL733ntvT8lAI2g4qfumx0B5bEXQsI/SQO/LYyuCScpAYYp81g2pyEBK3ZfHVqjDQJS6L4+ti8dAOKn78tgpwkAAAAAAAAD4f+Kk7sujgdFAi6DhpK5T0UAWQcNJ3c68QDSc1H35CsJA3ZfHVoSxyEDqvjy2InfLQBpO6r68gN1Auy+PrYitwkAWQcNJ3d7MQCd1Xx5bxsxApe7LYyvFykCHk7ovD1DGQBE0nNS91dxArggaTuphuEAEDSd1n6PSQA==",
          "dtype": "f8"
         },
         "yaxis": "y"
        },
        {
         "customdata": [
          [
           "Argentina"
          ],
          [
           "Canada"
          ],
          [
           "United States of America"
          ]
         ],
         "hovertemplate": "Item=Hops<br>Area_avg=%{x}<br>Yield_avg=%{y}<br>Area=%{customdata[0]}<extra></extra>",
         "legendgroup": "Hops",
         "marker": {
          "color": "#FF6692",
          "symbol": "circle"
         },
         "mode": "markers",
         "name": "Hops",
         "showlegend": true,
         "type": "scattergl",
         "x": {
          "bdata": "BA0ndV9OcUC1tLS0tHRiQH55bEXQuctA",
          "dtype": "f8"
         },
         "xaxis": "x",
         "y": {
          "bdata": "4qTuy2Pjw0AAAAAAcH7QQKn78thK0tNA",
          "dtype": "f8"
         },
         "yaxis": "y"
        },
        {
         "customdata": [
          [
           "Argentina"
          ],
          [
           "Canada"
          ],
          [
           "Chile"
          ],
          [
           "Colombia"
          ],
          [
           "Ecuador"
          ],
          [
           "Martinique"
          ],
          [
           "Mexico"
          ],
          [
           "Peru"
          ],
          [
           "United States of America"
          ]
         ],
         "hovertemplate": "Item=Lentils<br>Area_avg=%{x}<br>Yield_avg=%{y}<br>Area=%{customdata[0]}<extra></extra>",
         "legendgroup": "Lentils",
         "marker": {
          "color": "#B6E880",
          "symbol": "circle"
         },
         "mode": "markers",
         "name": "Lentils",
         "showlegend": true,
         "type": "scattergl",
         "x": {
          "bdata": "ZCuChhPDyUDf2ajvmDIgQdBwUvdlp81A/PLYiqCNyUDIVgQNJ4+oQHTRRRddtqJATuq+PDbNwEDz2Iqg4aqsQBpO6r4M5/VA",
          "dtype": "f8"
         },
         "xaxis": "x",
         "y": {
          "bdata": "nNR9eWy6xkB9Z6O+s1LHQF8eWxE0NblASt2Xx1aErEB+eWxF0NizQIwuuuiiI69AGk7qvry1wUBkK4KGkw28QJjHVgSNCchA",
          "dtype": "f8"
         },
         "yaxis": "y"
        },
        {
         "customdata": [
          [
           "Argentina"
          ],
          [
           "Bolivia (Plurinational State of)"
          ],
          [
           "Brazil"
          ],
          [
           "Canada"
          ],
          [
           "Chile"
          ],
          [
           "Ecuador"
          ],
          [
           "Mexico"
          ],
          [
           "Peru"
          ],
          [
           "United States of America"
          ],
          [
           "Uruguay"
          ]
         ],
         "hovertemplate": "Item=Linseed<br>Area_avg=%{x}<br>Yield_avg=%{y}<br>Area=%{customdata[0]}<extra></extra>",
         "legendgroup": "Linseed",
         "marker": {
          "color": "#FF97FF",
          "symbol": "circle"
         },
         "mode": "markers",
         "name": "Linseed",
         "showlegend": true,
         "type": "scattergl",
         "x": {
          "bdata": "6r48toapGkHbtm3bto1wQMxjK4KGZ9RAshVBwzu+IkG7L4+tCGqbQMdxHMdxjFlAUvflsRV5tkAAAAAAALCBQH55bEWcbBZB2Yqg4aS64EA=",
          "dtype": "f8"
         },
         "xaxis": "x",
         "y": {
          "bdata": "aDip+3JswUBu27Zt2xajQOq+PLYi2L1AnNR9eextxUCc1H15bOS/QHIcx3GcCqxAuy+PrcgG0ECrqqqqqr29QErdl8dW98JAPbYiaDjNwEA=",
          "dtype": "f8"
         },
         "yaxis": "y"
        },
        {
         "customdata": [
          [
           "Argentina"
          ],
          [
           "Chile"
          ],
          [
           "Ecuador"
          ],
          [
           "Martinique"
          ],
          [
           "Peru"
          ]
         ],
         "hovertemplate": "Item=Lupins<br>Area_avg=%{x}<br>Yield_avg=%{y}<br>Area=%{customdata[0]}<extra></extra>",
         "legendgroup": "Lupins",
         "marker": {
          "color": "#FECB52",
          "symbol": "circle"
         },
         "mode": "markers",
         "name": "Lupins",
         "showlegend": true,
         "type": "scattergl",
         "x": {
          "bdata": "MI+tCBquY0DBFmzBlqPKQKXuy2MrRqhAAAAAAAAA+H/dl8dWBNO0QA==",
          "dtype": "f8"
         },
         "xaxis": "x",
         "y": {
          "bdata": "HlsRNBwFy0DSJ33SJ2TUQHFS9+WxtLNAAAAAAAAA+H91Xx5bEYLEQA==",
          "dtype": "f8"
         },
         "yaxis": "y"
        },
        {
         "customdata": [
          [
           "Argentina"
          ],
          [
           "Brazil"
          ],
          [
           "Paraguay"
          ]
         ],
         "hovertemplate": "Item=Maté<br>Area_avg=%{x}<br>Yield_avg=%{y}<br>Area=%{customdata[0]}<extra></extra>",
         "legendgroup": "Maté",
         "marker": {
          "color": "#636efa",
          "symbol": "circle"
         },
         "mode": "markers",
         "name": "Maté",
         "showlegend": true,
         "type": "scattergl",
         "x": {
          "bdata": "AAAAAD+rAUFVVVVVdaXmQD22Imj4wNBA",
          "dtype": "f8"
         },
         "xaxis": "x",
         "y": {
          "bdata": "mpmZmSluz0AhDdIgPa/8QFsRNJwUw99A",
          "dtype": "f8"
         },
         "yaxis": "y"
        },
        {
         "customdata": [
          [
           "Argentina"
          ],
          [
           "Bahamas"
          ],
          [
           "Mexico"
          ],
          [
           "United States of America"
          ]
         ],
         "hovertemplate": "Item=Millet<br>Area_avg=%{x}<br>Yield_avg=%{y}<br>Area=%{customdata[0]}<extra></extra>",
         "legendgroup": "Millet",
         "marker": {
          "color": "#EF553B",
          "symbol": "circle"
         },
         "mode": "markers",
         "name": "Millet",
         "showlegend": true,
         "type": "scattergl",
         "x": {
          "bdata": "VwQNJ7X79UAAAAAAAAD4f6iDOqiDWmZARdBwUldgAEE=",
          "dtype": "f8"
         },
         "xaxis": "x",
         "y": {
          "bdata": "MI+tCBq2ykAAAAAAAAD4fwAAAABzO+hAvzy2IugBzEA=",
          "dtype": "f8"
         },
         "yaxis": "y"
        },
        {
         "customdata": [
          [
           "Argentina"
          ],
          [
           "Bolivia (Plurinational State of)"
          ],
          [
           "Brazil"
          ],
          [
           "Canada"
          ],
          [
           "Chile"
          ],
          [
           "Colombia"
          ],
          [
           "Ecuador"
          ],
          [
           "Mexico"
          ],
          [
           "Peru"
          ],
          [
           "United States of America"
          ],
          [
           "Uruguay"
          ]
         ],
         "hovertemplate": "Item=Oats<br>Area_avg=%{x}<br>Yield_avg=%{y}<br>Area=%{customdata[0]}<extra></extra>",
         "legendgroup": "Oats",
         "marker": {
          "color": "#00cc96",
          "symbol": "circle"
         },
         "mode": "markers",
         "name": "Oats",
         "showlegend": true,
         "type": "scattergl",
         "x": {
          "bdata": "OKn78jjrFEFS9+WxFYy4QN2Xx1ZUbwNBQcNJ3WMxO0HDSd2XJ+L0QNFFF110eY1AbEXQcFIjkECyFUHDad/vQKHhpO7LirdA3ZfHVhK3R0Hdl8dWRILlQA==",
          "dtype": "f8"
         },
         "xaxis": "x",
         "y": {
          "bdata": "w0ndl0dNzkAJGk7qvjjCQA0ndV+eLMhAcVL35THo1kBXBA0ntXLbQGIYhmHYJtJAQcNJ3Ze2wECHk7ovjwzKQOKk7stjCr9AlLovjy3C00ANJ3VfHsnFQA==",
          "dtype": "f8"
         },
         "yaxis": "y"
        },
        {
         "customdata": [
          [
           "Argentina"
          ],
          [
           "Brazil"
          ],
          [
           "Chile"
          ],
          [
           "El Salvador"
          ],
          [
           "Mexico"
          ],
          [
           "Peru"
          ],
          [
           "United States of America"
          ],
          [
           "Uruguay"
          ]
         ],
         "hovertemplate": "Item=Olives<br>Area_avg=%{x}<br>Yield_avg=%{y}<br>Area=%{customdata[0]}<extra></extra>",
         "legendgroup": "Olives",
         "marker": {
          "color": "#ab63fa",
          "symbol": "circle"
         },
         "mode": "markers",
         "name": "Olives",
         "showlegend": true,
         "type": "scattergl",
         "x": {
          "bdata": "MzMzM3NY6UDbtm3bto1jQB3UQR3UNMFANJzUfXmGrkDmsRVBwzexQL88tiJoj7tAK4KGkzrgyUAAAAAAAHagQA==",
          "dtype": "f8"
         },
         "xaxis": "x",
         "y": {
          "bdata": "B3VQBzVM3UD5iq/4CjzDQLD4iq+YAeJA/PLYiiCGx0B5bEXQMCvdQIKGk7rvY+NAuy+PrUhc70AP6qAOqpXaQA==",
          "dtype": "f8"
         },
         "yaxis": "y"
        },
        {
         "customdata": [
          [
           "Argentina"
          ],
          [
           "Bahamas"
          ],
          [
           "Belize"
          ],
          [
           "Bolivia (Plurinational State of)"
          ],
          [
           "Brazil"
          ],
          [
           "Chile"
          ],
          [
           "Colombia"
          ],
          [
           "Costa Rica"
          ],
          [
           "Cuba"
          ],
          [
           "Dominica"
          ],
          [
           "Dominican Republic"
          ],
          [
           "Ecuador"
          ],
          [
           "El Salvador"
          ],
          [
           "French Guyana"
          ],
          [
           "Grenada"
          ],
          [
           "Guadeloupe"
          ],
          [
           "Guatemala"
          ],
          [
           "Guyana"
          ],
          [
           "Haiti"
          ],
          [
           "Honduras"
          ],
          [
           "Jamaica"
          ],
          [
           "Martinique"
          ],
          [
           "Mexico"
          ],
          [
           "Nicaragua"
          ],
          [
           "Panama"
          ],
          [
           "Paraguay"
          ],
          [
           "Peru"
          ],
          [
           "Puerto Rico"
          ],
          [
           "Saint Lucia"
          ],
          [
           "Saint Vincent and the Grenadines"
          ],
          [
           "Suriname"
          ],
          [
           "Trinidad and Tobago"
          ],
          [
           "United States of America"
          ],
          [
           "Uruguay"
          ],
          [
           "Venezuela (Bolivarian Republic of)"
          ]
         ],
         "hovertemplate": "Item=Oranges<br>Area_avg=%{x}<br>Yield_avg=%{y}<br>Area=%{customdata[0]}<extra></extra>",
         "legendgroup": "Oranges",
         "marker": {
          "color": "#FFA15A",
          "symbol": "circle"
         },
         "mode": "markers",
         "name": "Oranges",
         "showlegend": true,
         "type": "scattergl",
         "x": {
          "bdata": "zczMzCgd6UBmZmZmZiZkQA0ndV8ecMJAAAAAAADEyEARNJzU48MiQUHDSd2XwrdABA0ndV/hy0DQcFL3ZXnNQL7iK75iF+NASZIkSZIEikCamZmZmQC7QFsRNJxU489A9+WxFUFwsUDQusEU+cxpQCy+4iu+4mBAF1100UU3VEBmZmZmhvqxQD22Img4KZNA+Yqv+ArNwEA4qfvyWOXCQLIVQcNJEsBAZCELWchSY0C2Img4CWoLQXFS9+Ux7stAqIM6qIMtsEDUQR3UQWfEQFL35bEVptJAoQ7qoA7ulkA7qIM6qENSQKEO6qAO6mhAMI+tCBrqlkAJGk7qvl6hQMxjK4KCSxFBt23btu3vwEBsRdBwUsbdQA==",
          "dtype": "f8"
         },
         "xaxis": "x",
         "y": {
          "bdata": "AAAAAJGGA0EAAAAAuMcLQdV9eWy1N/1ArggaTtoy8kC7L4+tsH8IQe/LYyvCaAFBlLovjzWIA0GPrQgabsr5QPEVX/HlufJAJUmSJMnn8UBmZmZmDjYCQX55bEXg2PtAw0ndl384A0GRz7rBlITMQB3UQR209OtA0UUXXdT7+kAAAAAAyWoMQcxjK4JWkPJAFl/xFX8L5kBfHlsRBMr4QCNoOKmb4/dAFrKQhfyg4UDMYyuCxrn9QCd1Xx47FudAFl/xFf8s9kCEOqiD6rkLQfPYiqChUf9A6qAO6rgwA0EP6qAOWk/5QHzFV3wVT/NASt2Xx2bl80BkK4KG8zbjQBpO6r6Q2BBB6qAO6pgfA0ENJ3Vffm37QA==",
          "dtype": "f8"
         },
         "yaxis": "y"
        },
        {
         "customdata": [
          [
           "Argentina"
          ],
          [
           "Bahamas"
          ],
          [
           "Belize"
          ],
          [
           "Bolivia (Plurinational State of)"
          ],
          [
           "Brazil"
          ],
          [
           "Chile"
          ],
          [
           "Colombia"
          ],
          [
           "Costa Rica"
          ],
          [
           "Cuba"
          ],
          [
           "Dominica"
          ],
          [
           "Dominican Republic"
          ],
          [
           "Ecuador"
          ],
          [
           "El Salvador"
          ],
          [
           "French Guyana"
          ],
          [
           "Grenada"
          ],
          [
           "Guatemala"
          ],
          [
           "Guyana"
          ],
          [
           "Haiti"
          ],
          [
           "Honduras"
          ],
          [
           "Jamaica"
          ],
          [
           "Mexico"
          ],
          [
           "Panama"
          ],
          [
           "Paraguay"
          ],
          [
           "Peru"
          ],
          [
           "Puerto Rico"
          ],
          [
           "Suriname"
          ],
          [
           "Trinidad and Tobago"
          ],
          [
           "United States of America"
          ],
          [
           "Venezuela (Bolivarian Republic of)"
          ]
         ],
         "hovertemplate": "Item=Papayas<br>Area_avg=%{x}<br>Yield_avg=%{y}<br>Area=%{customdata[0]}<extra></extra>",
         "legendgroup": "Papayas",
         "marker": {
          "color": "#19d3f3",
          "symbol": "circle"
         },
         "mode": "markers",
         "name": "Papayas",
         "showlegend": true,
         "type": "scattergl",
         "x": {
          "bdata": "LL7iK77CY0DNzMzMzExBQEIIIYQQYm1A1X15bEV8l0D88tiK4BvUQGg4qfvyuGZA3ZfHVgQNpkAjaDip+4J+QIug4aTuDa5AAAAAAAAAFECPrQgaTr6WQFsRNJzUp6JAdVAHdVBncEDZiZ3YiZ1OQAAAAAAAAPh/d3d3d3c/mEDoeZ7neT5gQFVVVVVVVR9AIiIiIiJCWUDVfXlsRaBzQLIVQcPJ0spAlVJKKaV0ZkDbtm3btgmRQHVfHlsRrrxAfnlsRdAwZECamZmZmZkyQGG5pxGW+0NAJ3VfHltBhECYx1YEDWeyQA==",
          "dtype": "f8"
         },
         "xaxis": "x",
         "y": {
          "bdata": "6qAO6kCf/kDNzMzM+GMDQZ1zzjmjXR9BWxE0nBSn8kAAAAAAlEMTQan78tjqUPtAFkHDSZ1TFEG7L4+t1MkcQU7qvjx+aQRBAAAAAEAqA0GYx1YEldYsQYKGk7rPdAdBZmZmZl5wLUF2Yid2It/vQAAAAAAAAPh/MzMzM23uEkEYhmEYFksSQTMzMzN7VQBBmpmZmaEtCkFF0HBSv5kCQTip+/IwyRNBQgghhJQJF0GEOqiDevj5QErdl8dOXQFB2Yqg4WwABUG8u7u7f9gHQbmnEZZrPQNBWxE0nOyVEUGc1H153MQCQQ==",
          "dtype": "f8"
         },
         "yaxis": "y"
        },
        {
         "customdata": [
          [
           "Argentina"
          ],
          [
           "Bolivia (Plurinational State of)"
          ],
          [
           "Brazil"
          ],
          [
           "Canada"
          ],
          [
           "Chile"
          ],
          [
           "Colombia"
          ],
          [
           "Ecuador"
          ],
          [
           "Guatemala"
          ],
          [
           "Mexico"
          ],
          [
           "Paraguay"
          ],
          [
           "Peru"
          ],
          [
           "United States of America"
          ],
          [
           "Uruguay"
          ],
          [
           "Venezuela (Bolivarian Republic of)"
          ]
         ],
         "hovertemplate": "Item=Peaches and nectarines<br>Area_avg=%{x}<br>Yield_avg=%{y}<br>Area=%{customdata[0]}<extra></extra>",
         "legendgroup": "Peaches and nectarines",
         "marker": {
          "color": "#FF6692",
          "symbol": "circle"
         },
         "mode": "markers",
         "name": "Peaches and nectarines",
         "showlegend": true,
         "type": "scattergl",
         "x": {
          "bdata": "ZmZmZqbA2kArgoaTujG2QErdl8dWFdJApe7LYyuyr0AaTuq+vK3PQJIkSZIkSZVA89iKoOFYlUAmtJfQXoCoQCNoOKl7wttA1EEd1EFdbEAeWxE0nHivQJS6L499QfRAWHzFV3w9okDIVgQNJ+mWQA==",
          "dtype": "f8"
         },
         "xaxis": "x",
         "y": {
          "bdata": "zczMzBLw90AndV8ee+3pQJzUfXnMKvNAfnlsRYBE90Cp+/LYWsv9QOh5nud5jv1AUvflsVUZ5kByHMdxbBL7QNmKoOE0svBASZIkSTKn8EAwj60I+u71QOq+PLb69gNB6qAO6kDr80D88tiKkNj7QA==",
          "dtype": "f8"
         },
         "yaxis": "y"
        },
        {
         "customdata": [
          [
           "Argentina"
          ],
          [
           "Bolivia (Plurinational State of)"
          ],
          [
           "Brazil"
          ],
          [
           "Canada"
          ],
          [
           "Chile"
          ],
          [
           "Colombia"
          ],
          [
           "Ecuador"
          ],
          [
           "Mexico"
          ],
          [
           "Paraguay"
          ],
          [
           "Peru"
          ],
          [
           "Saint Vincent and the Grenadines"
          ],
          [
           "United States of America"
          ],
          [
           "Uruguay"
          ]
         ],
         "hovertemplate": "Item=Pears<br>Area_avg=%{x}<br>Yield_avg=%{y}<br>Area=%{customdata[0]}<extra></extra>",
         "legendgroup": "Pears",
         "marker": {
          "color": "#B6E880",
          "symbol": "circle"
         },
         "mode": "markers",
         "name": "Pears",
         "showlegend": true,
         "type": "scattergl",
         "x": {
          "bdata": "zczMzMTH00D35bEVQbOEQCuChpO6s6ZAPbYiaDivpEDZiqDhpKS7QAAAAAAAWJRAQcNJ3ZfTlkB+eWxF0EaxQB3UQR3UwUBA5rEVQcPZhUC+4iu+4itJQEHDSd3XTdxAAAAAAAAklEA=",
          "dtype": "f8"
         },
         "xaxis": "x",
         "y": {
          "bdata": "AAAAAIDCC0Gp+/LY6rfpQEHDSd1HD/lADSd1X06u90DDSd2XT0QGQauqqqqK7/1AshVBw0mL8UBF0HBSpwjzQLdt27YtG+9A4qTuy/OM9kDxFV/xVXXvQOq+PLaeiRBBhDqog7qY/0A=",
          "dtype": "f8"
         },
         "yaxis": "y"
        },
        {
         "customdata": [
          [
           "Argentina"
          ],
          [
           "Belize"
          ],
          [
           "Bolivia (Plurinational State of)"
          ],
          [
           "Brazil"
          ],
          [
           "Canada"
          ],
          [
           "Chile"
          ],
          [
           "Colombia"
          ],
          [
           "Dominican Republic"
          ],
          [
           "Ecuador"
          ],
          [
           "Guyana"
          ],
          [
           "Jamaica"
          ],
          [
           "Mexico"
          ],
          [
           "Paraguay"
          ],
          [
           "Peru"
          ],
          [
           "United States of America"
          ],
          [
           "Uruguay"
          ],
          [
           "Venezuela (Bolivarian Republic of)"
          ]
         ],
         "hovertemplate": "Item=Peas, dry<br>Area_avg=%{x}<br>Yield_avg=%{y}<br>Area=%{customdata[0]}<extra></extra>",
         "legendgroup": "Peas, dry",
         "marker": {
          "color": "#FF97FF",
          "symbol": "circle"
         },
         "mode": "markers",
         "name": "Peas, dry",
         "showlegend": true,
         "type": "scattergl",
         "x": {
          "bdata": "fnlsRdCu20DRXkJ7CRGfQNV9eWxFfq5AAAAAAFCypUArgoaTHJQiQYKGk7ovebpADSd1X97Y40DMYyuChouEQFL35bEV8MVACRpO6r74k0C/PLYiaDykQB5bETSc7KxAdV8eWxEQrUBK3ZfHFhHeQOKk7ssLiANBETSc1H3ZkEBkK4KGk9afQA==",
          "dtype": "f8"
         },
         "xaxis": "x",
         "y": {
          "bdata": "PbYiaDhQyUDaS2gvIcvHQI+tCBrO0cZAAAAAAH5K1kBsRdBwEmjSQPflsRVBfcFAhOWeRtgFxkB+eWxFUN3BQNBwUvfltrJA/PLYiqDht0B5bEXQ8KLBQAQNJ3Vf2MBAmMdWBI0swECChpO6r/DDQMhWBA3nMtRASt2Xx9b500A4qfvy2CnAQA==",
          "dtype": "f8"
         },
         "yaxis": "y"
        },
        {
         "customdata": [
          [
           "Argentina"
          ],
          [
           "Belize"
          ],
          [
           "Bolivia (Plurinational State of)"
          ],
          [
           "Canada"
          ],
          [
           "Chile"
          ],
          [
           "Colombia"
          ],
          [
           "Ecuador"
          ],
          [
           "Guatemala"
          ],
          [
           "Mexico"
          ],
          [
           "Peru"
          ],
          [
           "United States of America"
          ]
         ],
         "hovertemplate": "Item=Peas, green<br>Area_avg=%{x}<br>Yield_avg=%{y}<br>Area=%{customdata[0]}<extra></extra>",
         "legendgroup": "Peas, green",
         "marker": {
          "color": "#FECB52",
          "symbol": "circle"
         },
         "mode": "markers",
         "name": "Peas, green",
         "showlegend": true,
         "type": "scattergl",
         "x": {
          "bdata": "rggaTuq5x0AAAAAAAFaJQE7qvjw2yMlAFkHDSZ1G0UDmsRVBwxCzQFVVVVVVttdA2Yqg4aQGt0DtJbSX0K2zQGxF0HBS8cdAAAAAAADZ0kAaTuq+/EL9QA==",
          "dtype": "f8"
         },
         "xaxis": "x",
         "y": {
          "bdata": "j60IGs6O2EBVVVVVxTTbQLYiaDgpA8pABA0ndd/r4UCc1H15jJbrQAAAAABAS8VA78tjKwJ0yECY0F5CS4DwQH55bEXwS+JAnNR9eewQ3UA0nNR9OQrzQA==",
          "dtype": "f8"
         },
         "yaxis": "y"
        },
        {
         "customdata": [
          [
           "Argentina"
          ],
          [
           "Bolivia (Plurinational State of)"
          ],
          [
           "Canada"
          ],
          [
           "Chile"
          ],
          [
           "Colombia"
          ],
          [
           "Ecuador"
          ],
          [
           "Grenada"
          ],
          [
           "Mexico"
          ],
          [
           "Paraguay"
          ],
          [
           "Peru"
          ],
          [
           "United States of America"
          ],
          [
           "Uruguay"
          ]
         ],
         "hovertemplate": "Item=Plums and sloes<br>Area_avg=%{x}<br>Yield_avg=%{y}<br>Area=%{customdata[0]}<extra></extra>",
         "legendgroup": "Plums and sloes",
         "marker": {
          "color": "#636efa",
          "symbol": "circle"
         },
         "mode": "markers",
         "name": "Plums and sloes",
         "showlegend": true,
         "type": "scattergl",
         "x": {
          "bdata": "MzMzM5M3zUCh4aTuy4N3QNV9eWxFMJJAtiJoOCkXwkD0PM/zPFOXQCd1Xx5bEZJAMzMzMzOzZkBoOKn78g3IQIuv+Iqv2HJAmMdWBA3vkUCl7stjq07mQDMzMzMzA3lA",
          "dtype": "f8"
         },
         "xaxis": "x",
         "y": {
          "bdata": "AAAAAKj17kANJ3VfXgnuQHVfHlvxrOlAj60IGj5Y/ECSJEmStAb3QBZBw0lNe/BA8RVf8VWV4kANJ3Vf3mTuQAd1UAdV/+1A5rEVQUNr70BsRdBwctv+QJqZmZnJPvBA",
          "dtype": "f8"
         },
         "yaxis": "y"
        },
        {
         "customdata": [
          [
           "Argentina"
          ],
          [
           "Bahamas"
          ],
          [
           "Belize"
          ],
          [
           "Bolivia (Plurinational State of)"
          ],
          [
           "Brazil"
          ],
          [
           "Canada"
          ],
          [
           "Chile"
          ],
          [
           "Colombia"
          ],
          [
           "Costa Rica"
          ],
          [
           "Cuba"
          ],
          [
           "Dominica"
          ],
          [
           "Dominican Republic"
          ],
          [
           "Ecuador"
          ],
          [
           "El Salvador"
          ],
          [
           "Guadeloupe"
          ],
          [
           "Guatemala"
          ],
          [
           "Haiti"
          ],
          [
           "Honduras"
          ],
          [
           "Jamaica"
          ],
          [
           "Martinique"
          ],
          [
           "Mexico"
          ],
          [
           "Nicaragua"
          ],
          [
           "Panama"
          ],
          [
           "Paraguay"
          ],
          [
           "Peru"
          ],
          [
           "Saint Kitts and Nevis"
          ],
          [
           "United States of America"
          ],
          [
           "Uruguay"
          ],
          [
           "Venezuela (Bolivarian Republic of)"
          ]
         ],
         "hovertemplate": "Item=Potatoes<br>Area_avg=%{x}<br>Yield_avg=%{y}<br>Area=%{customdata[0]}<extra></extra>",
         "legendgroup": "Potatoes",
         "marker": {
          "color": "#EF553B",
          "symbol": "circle"
         },
         "mode": "markers",
         "name": "Potatoes",
         "showlegend": true,
         "type": "scattergl",
         "x": {
          "bdata": "BA0ndS+5+kAAAAAAAAD4f8YYY4wxxlFAlLovj33gAEEaTuq+ZMYEQbIVQcMRtwhBDSd1X04x8EDz2IqgEVL/QCd1Xx5bO6RAcVL35bGUxUBO6r48tqJBQKXuy2MrrqJAzGMrggY55UDqvjy2Irh5QKuqqqqqqi1Avzy2Iug4x0AndV8eW3mOQIeTui+PnZFAeWxF0HA6jUAAAAAAAAD4fyd1Xx7bzu1A89iKoOFolkB+eWxF0JyQQLYiaDipg4FAgoaTuq+nDkH88tiKoOEuQNmKoOFYIh9BGk7qvrxHzUBF0HBSt6vRQA==",
          "dtype": "f8"
         },
         "xaxis": "x",
         "y": {
          "bdata": "5rEVQXvICUEAAAAAAAD4f84555zDM/pAshVBw6md6kDqvjy2KvYCQSuChpNCDQpBfnlsRYiIAkGc1H15DOYBQQ0ndV9u2QVBmMdWBGWOBUEwj60I+vj1QCNoOKnbpwBBDSd1X34V90BxUvfl4bMEQQAAAACYRfJAVwQNJ8UCAkFBw0nddz0BQU7qvjyGVfxA9+WxFaG2/UAAAAAAAAD4fyuChpPyyAVB5rEVQYOl+kCl7stjgwYEQVL35bHV/PFANJzUfUlD90BoL6G9nBn8QBE0nNRZfBVBeWxF0IDB+kArgoaTCpEBQQ==",
          "dtype": "f8"
         },
         "yaxis": "y"
        },
        {
         "customdata": [
          [
           "Argentina"
          ],
          [
           "Bahamas"
          ],
          [
           "Barbados"
          ],
          [
           "Belize"
          ],
          [
           "Bolivia (Plurinational State of)"
          ],
          [
           "Brazil"
          ],
          [
           "Canada"
          ],
          [
           "Chile"
          ],
          [
           "Colombia"
          ],
          [
           "Costa Rica"
          ],
          [
           "Cuba"
          ],
          [
           "Dominica"
          ],
          [
           "Dominican Republic"
          ],
          [
           "Ecuador"
          ],
          [
           "El Salvador"
          ],
          [
           "Grenada"
          ],
          [
           "Guadeloupe"
          ],
          [
           "Guatemala"
          ],
          [
           "Guyana"
          ],
          [
           "Haiti"
          ],
          [
           "Honduras"
          ],
          [
           "Jamaica"
          ],
          [
           "Martinique"
          ],
          [
           "Mexico"
          ],
          [
           "Nicaragua"
          ],
          [
           "Panama"
          ],
          [
           "Paraguay"
          ],
          [
           "Peru"
          ],
          [
           "Puerto Rico"
          ],
          [
           "Saint Kitts and Nevis"
          ],
          [
           "Saint Lucia"
          ],
          [
           "Saint Vincent and the Grenadines"
          ],
          [
           "Suriname"
          ],
          [
           "Trinidad and Tobago"
          ],
          [
           "United States of America"
          ],
          [
           "Uruguay"
          ],
          [
           "Venezuela (Bolivarian Republic of)"
          ]
         ],
         "hovertemplate": "Item=Pulses, Total<br>Area_avg=%{x}<br>Yield_avg=%{y}<br>Area=%{customdata[0]}<extra></extra>",
         "legendgroup": "Pulses, Total",
         "marker": {
          "color": "#00cc96",
          "symbol": "circle"
         },
         "mode": "markers",
         "name": "Pulses, Total",
         "showlegend": true,
         "type": "scattergl",
         "x": {
          "bdata": "zGMrgq4QDkEWQcNJ3TdzQMNJ3ZfH5oNAMI+tCBrXtEBfHlsRtLvhQAQNJ/XcYE9BAAAAANWuMUERNJzUPf72QPzy2Ipg/QVB3ZfHVoSc4EBsRdBwwjDyQBpO6r48VmdAK4KGk8pK8UDZiqDh9GL0QEHDSd2Xo/BA2Yqg4aTGgkAeHh4eHo5uQCd1Xx7bJgVBlLovj62ElkANJ3Vf1kIHQeq+PLbC+fVA6r48tiIutEB00UUXXbaiQDSc1H0s3TxBcVL35anuAEFkK4KGUwLSQA0ndV/+HvFAw0ndl8eXAkF5bEXQcJCrQJjHVgQNh2RAzGMrgoaTNkARNJzUfXl1QPzy2IqgAWJAvzy2ImjAnkD88tiKcvQrQU7qvjy2/bdAh5O6L6898UA=",
          "dtype": "f8"
         },
         "xaxis": "x",
         "y": {
          "bdata": "BA0ndd/XxUAndV8eW3LGQDip+/JYjM1ADSd1Xx64vkDVfXlsRXbDQNV9eWxFXbpAcVL35TEI0EC/PLYi6LvIQCuChpM6j8FAgoaTui/JtEC/PLYiaCm2QDCPrQga7LNAPbYiaLjVwkBbETSc1AOzQIeTui+P275AGk7qvrykx0Di4eHhofTDQJS6L4+tt79ASt2Xx1Zuu0B+eWxF0DC2QMhWBA0n8blABA0ndV8KwkCMLrrooiOvQJS6L4+tertAETSc1H18vEBO6r48tvGwQPPYiqDhQr9Aqfvy2IpVw0BK3ZfH1vnEQIeTui8P78NAaDip+zJ61EDipO7LY9zDQDCPrQia/MBAfnlsRVDXzUArgoaTembQQJzUfXlsVMJA5rEVQcOmt0A=",
          "dtype": "f8"
         },
         "yaxis": "y"
        },
        {
         "customdata": [
          [
           "Argentina"
          ],
          [
           "Bolivia (Plurinational State of)"
          ],
          [
           "Brazil"
          ],
          [
           "Chile"
          ],
          [
           "Mexico"
          ],
          [
           "Peru"
          ],
          [
           "Uruguay"
          ]
         ],
         "hovertemplate": "Item=Quinces<br>Area_avg=%{x}<br>Yield_avg=%{y}<br>Area=%{customdata[0]}<extra></extra>",
         "legendgroup": "Quinces",
         "marker": {
          "color": "#ab63fa",
          "symbol": "circle"
         },
         "mode": "markers",
         "name": "Quinces",
         "showlegend": true,
         "type": "scattergl",
         "x": {
          "bdata": "HdRBHdT1p0B7Ce0ltKduQJjHVgQNkaVAZmZmZmbOeUArgoaTuiOTQDip+/LYGopAqIM6qIMafkA=",
          "dtype": "f8"
         },
         "xaxis": "x",
         "y": {
          "bdata": "t23btl2o80AAAAAAQAjsQIeTui9v+uNAIyz3NEJfy0Ddl8dWVHf4QFL35bHlZvZAoQ7qoPZLA0E=",
          "dtype": "f8"
         },
         "yaxis": "y"
        },
        {
         "customdata": [
          [
           "Argentina"
          ],
          [
           "Brazil"
          ],
          [
           "Canada"
          ],
          [
           "Chile"
          ],
          [
           "Colombia"
          ],
          [
           "Mexico"
          ],
          [
           "Paraguay"
          ],
          [
           "United States of America"
          ],
          [
           "Uruguay"
          ]
         ],
         "hovertemplate": "Item=Rapeseed<br>Area_avg=%{x}<br>Yield_avg=%{y}<br>Area=%{customdata[0]}<extra></extra>",
         "legendgroup": "Rapeseed",
         "marker": {
          "color": "#FFA15A",
          "symbol": "circle"
         },
         "mode": "markers",
         "name": "Rapeseed",
         "showlegend": true,
         "type": "scattergl",
         "x": {
          "bdata": "j60IGs7PyEAAAAAAwM3XQLIVQcM4Ik1BMI+tCBry30Crqqqqqnp9QPPYiqDhBKtAZmZmZh7f50BGF1109Q0YQTMzMzMzG9JA",
          "dtype": "f8"
         },
         "xaxis": "x",
         "y": {
          "bdata": "/PLYiqC+xkAzMzMzYzrHQBZBw0ldFctARdBwUjdM1kCrqqqqKoPJQNmKoOEk3MRAZmZmZoZxykC66KKLrq7PQImIiIiIKdJA",
          "dtype": "f8"
         },
         "yaxis": "y"
        },
        {
         "customdata": [
          [
           "Argentina"
          ],
          [
           "Belize"
          ],
          [
           "Bolivia (Plurinational State of)"
          ],
          [
           "Brazil"
          ],
          [
           "Chile"
          ],
          [
           "Colombia"
          ],
          [
           "Costa Rica"
          ],
          [
           "Cuba"
          ],
          [
           "Dominican Republic"
          ],
          [
           "Ecuador"
          ],
          [
           "El Salvador"
          ],
          [
           "French Guyana"
          ],
          [
           "Guatemala"
          ],
          [
           "Guyana"
          ],
          [
           "Haiti"
          ],
          [
           "Honduras"
          ],
          [
           "Jamaica"
          ],
          [
           "Mexico"
          ],
          [
           "Nicaragua"
          ],
          [
           "Panama"
          ],
          [
           "Paraguay"
          ],
          [
           "Peru"
          ],
          [
           "Puerto Rico"
          ],
          [
           "Saint Vincent and the Grenadines"
          ],
          [
           "Suriname"
          ],
          [
           "Trinidad and Tobago"
          ],
          [
           "United States of America"
          ],
          [
           "Uruguay"
          ],
          [
           "Venezuela (Bolivarian Republic of)"
          ]
         ],
         "hovertemplate": "Item=Rice, paddy<br>Area_avg=%{x}<br>Yield_avg=%{y}<br>Area=%{customdata[0]}<extra></extra>",
         "legendgroup": "Rice, paddy",
         "marker": {
          "color": "#19d3f3",
          "symbol": "circle"
         },
         "mode": "markers",
         "name": "Rice, paddy",
         "showlegend": true,
         "type": "scattergl",
         "x": {
          "bdata": "3ZfHVpSUAEE0nNR9ebypQMNJ3Zd3ZvpAw0ndlxTzTkEndV8eWzPcQFL35bHlEBlBi6DhpE4V7EDvy2MrguoCQRpO6r5cFPxA6r48tsrQDUHvy2MrAmbFQE5vetObnqpAi6DhpO6DyECUui+PPVP8QIKGk7ovm+hABA0ndV8uyUBfHlsRNByAQLsvj63IWfpATuq+PDad6UA0nNR9SYj4QJzUfXlMXeNAOKn78njXC0FXBA0ndS91QAAAAAAAAAxASt2XxzZ26UCyFUHDSeOqQIKGk7obizBB2Yqg4YS3+UDVfXlsjawCQQ==",
          "dtype": "f8"
         },
         "xaxis": "x",
         "y": {
          "bdata": "DSd1X35E50DDSd2XR+3ZQCd1Xx6bU9NAcVL35bGE2kDipO7LY2PkQFL35bFVL+RAOKn78pj/3kBF0HBSN6DaQLYiaDgpCuRAi6DhpK6330AAAAAAIJvmQL3pTW+aM9dAdV8eWxEp2ED88tiK4P7fQHlsRdCwMdZAWxE0nJSM2kDd0wjLna/XQKHhpO6rVeNA6r48toIr4UCUui+P7YPVQKXuy2OrgeBACRpO6h7+6kCSJEmSZJ3sQAAAAAAA4dlAFkHDSV2v4kCc1H15LDvVQAQNJ3W/5u5Aj60IGo6o6kBoOKn7EnfhQA==",
          "dtype": "f8"
         },
         "yaxis": "y"
        },
        {
         "customdata": [
          [
           "Argentina"
          ],
          [
           "Bolivia (Plurinational State of)"
          ],
          [
           "Brazil"
          ],
          [
           "Canada"
          ],
          [
           "Chile"
          ],
          [
           "Ecuador"
          ],
          [
           "Mexico"
          ],
          [
           "Peru"
          ],
          [
           "United States of America"
          ]
         ],
         "hovertemplate": "Item=Rye<br>Area_avg=%{x}<br>Yield_avg=%{y}<br>Area=%{customdata[0]}<extra></extra>",
         "legendgroup": "Rye",
         "marker": {
          "color": "#FF6692",
          "symbol": "circle"
         },
         "mode": "markers",
         "name": "Rye",
         "showlegend": true,
         "type": "scattergl",
         "x": {
          "bdata": "NJzUfRnIB0FxUvflsUV9QDSc1H15sMNAZCuChvveC0FO6r48tgivQJzUfXlsEZdAAAAAAAAAQECc1H15bJWFQIeTui8ncxBB",
          "dtype": "f8"
         },
         "xaxis": "x",
         "y": {
          "bdata": "OKn78tijxEDipO7LYye6QHFS9+Ux3sRAvzy2IijL0kAWQcNJXZrXQKXuy2MrrbRAF1100QUB1UB5bEXQcDnAQKXuy2PrJtBA",
          "dtype": "f8"
         },
         "yaxis": "y"
        },
        {
         "customdata": [
          [
           "Argentina"
          ],
          [
           "Canada"
          ],
          [
           "Mexico"
          ],
          [
           "United States of America"
          ]
         ],
         "hovertemplate": "Item=Safflower seed<br>Area_avg=%{x}<br>Yield_avg=%{y}<br>Area=%{customdata[0]}<extra></extra>",
         "legendgroup": "Safflower seed",
         "marker": {
          "color": "#B6E880",
          "symbol": "circle"
         },
         "mode": "markers",
         "name": "Safflower seed",
         "showlegend": true,
         "type": "scattergl",
         "x": {
          "bdata": "FDuxEzs72kDbtm3btr2SQAkaTurO6wJBdV8eW1Hp9UA=",
          "dtype": "f8"
         },
         "xaxis": "x",
         "y": {
          "bdata": "xU7sxA45vEC3bdu2bXq8QJzUfXlss8hAWxE0nFTA0EA=",
          "dtype": "f8"
         },
         "yaxis": "y"
        },
        {
         "customdata": [
          [
           "Argentina"
          ],
          [
           "Belize"
          ],
          [
           "Bolivia (Plurinational State of)"
          ],
          [
           "Brazil"
          ],
          [
           "Colombia"
          ],
          [
           "Costa Rica"
          ],
          [
           "Cuba"
          ],
          [
           "Dominican Republic"
          ],
          [
           "Ecuador"
          ],
          [
           "El Salvador"
          ],
          [
           "Guatemala"
          ],
          [
           "Haiti"
          ],
          [
           "Honduras"
          ],
          [
           "Mexico"
          ],
          [
           "Nicaragua"
          ],
          [
           "Panama"
          ],
          [
           "Paraguay"
          ],
          [
           "Peru"
          ],
          [
           "United States of America"
          ],
          [
           "Uruguay"
          ],
          [
           "Venezuela (Bolivarian Republic of)"
          ]
         ],
         "hovertemplate": "Item=Sorghum<br>Area_avg=%{x}<br>Yield_avg=%{y}<br>Area=%{customdata[0]}<extra></extra>",
         "legendgroup": "Sorghum",
         "marker": {
          "color": "#FF97FF",
          "symbol": "circle"
         },
         "mode": "markers",
         "name": "Sorghum",
         "showlegend": true,
         "type": "scattergl",
         "x": {
          "bdata": "DSd1X4Y7MUEZY4wxxiCqQNFFF12U4/VA0HBS94FsE0FK3ZfHVrH6QAAAAADIHMRANJzUfXmeqkAWQcNJ3UKzQLrooouu1bBAGk7qvjx1+kAeWxE0/KXjQB5bETREEgJBRdBwUrcK6UB5bEXQd1Y1QVsRNJz0quhAfQzOx+C0skB5bEXQ8IrJQGQrgoaTBrBACRpO6qOOT0EAAAAA4OTkQLdt27YhAQNB",
          "dtype": "f8"
         },
         "xaxis": "x",
         "y": {
          "bdata": "qfvy2Op24ED43nvvvd/aQF100UU3Hd5A9+WxFYEc1UBoOKn7cnbcQKWUUkqp1NFAtiJoOCl+xUCLoOGkLhrZQC+66KLrSNNAzGMrgga4yUBbETSc1KXLQBpO6r68EsBA/PLYiiCrxECl7stj67DeQNmKoOGkkM5AzsfgfAwd3kA0nNR9eWLSQDSc1H25bt9AGk7qvpxZ4kANJ3Vfnt7ZQLdt27YledNA",
          "dtype": "f8"
         },
         "yaxis": "y"
        },
        {
         "customdata": [
          [
           "Argentina"
          ],
          [
           "Belize"
          ],
          [
           "Bolivia (Plurinational State of)"
          ],
          [
           "Brazil"
          ],
          [
           "Canada"
          ],
          [
           "Chile"
          ],
          [
           "Colombia"
          ],
          [
           "Costa Rica"
          ],
          [
           "Ecuador"
          ],
          [
           "El Salvador"
          ],
          [
           "French Guyana"
          ],
          [
           "Guatemala"
          ],
          [
           "Guyana"
          ],
          [
           "Honduras"
          ],
          [
           "Mexico"
          ],
          [
           "Nicaragua"
          ],
          [
           "Panama"
          ],
          [
           "Paraguay"
          ],
          [
           "Peru"
          ],
          [
           "Suriname"
          ],
          [
           "United States of America"
          ],
          [
           "Uruguay"
          ],
          [
           "Venezuela (Bolivarian Republic of)"
          ]
         ],
         "hovertemplate": "Item=Soybeans<br>Area_avg=%{x}<br>Yield_avg=%{y}<br>Area=%{customdata[0]}<extra></extra>",
         "legendgroup": "Soybeans",
         "marker": {
          "color": "#FECB52",
          "symbol": "circle"
         },
         "mode": "markers",
         "name": "Soybeans",
         "showlegend": true,
         "type": "scattergl",
         "x": {
          "bdata": "yFYEDS+UWkHOOeecc+aUQGqC8VZi1xxBQcNJXXJcaEEwj60Iyo0oQQAAAAAAwI5AbEXQcLJu5kBGF1100WWAQKXuy2Or/95AUFBQUFDYkkAAAAAAAAAUQJTXUF4DLshAAAAAAABAQUDRXkJ7Cc2UQFcEDSddVwdBIiIiIiJesUCJiIiIiFhmQDSc1H2CXjFB1X15bEU0mkC2Img4qXtEQBZBw4nVr3dB5rEVQYPoC0EAAAAAwNPBQA==",
          "dtype": "f8"
         },
         "xaxis": "x",
         "y": {
          "bdata": "lLovj60y1EBjjDHGWCjQQNAhNcE4TtFAlLovjy2f00C7L4+tyEHXQIwuuuhiwsRAK4KGk3oU1EBmZmZmplPRQCuChpM6Ts1AIyMjI+OF0kAAAAAAAHbWQHkN5TVUWdhAkiRJkiR/tUBfQnsJ7cvTQBpO6r58HtFA+qRP+mTX0UCoEZZ7Gue1QMxjK4LGpdRAMI+tCBoCz0DIVgQNJ27CQMxjK4LGv9ZAXx5bEbQ6z0BLS0tLS6TRQA==",
          "dtype": "f8"
         },
         "yaxis": "y"
        },
        {
         "customdata": [
          [
           "Argentina"
          ],
          [
           "Bolivia (Plurinational State of)"
          ],
          [
           "Colombia"
          ],
          [
           "Dominica"
          ],
          [
           "Dominican Republic"
          ],
          [
           "Ecuador"
          ],
          [
           "Grenada"
          ],
          [
           "Guatemala"
          ],
          [
           "Guyana"
          ],
          [
           "Jamaica"
          ],
          [
           "Mexico"
          ],
          [
           "Peru"
          ],
          [
           "Saint Lucia"
          ],
          [
           "Saint Vincent and the Grenadines"
          ]
         ],
         "hovertemplate": "Item=Spices nes<br>Area_avg=%{x}<br>Yield_avg=%{y}<br>Area=%{customdata[0]}<extra></extra>",
         "legendgroup": "Spices nes",
         "marker": {
          "color": "#636efa",
          "symbol": "circle"
         },
         "mode": "markers",
         "name": "Spices nes",
         "showlegend": true,
         "type": "scattergl",
         "x": {
          "bdata": "sPiKr/g6l0CMLrroopecQLdt27ZtF6BAJUmSJEkSQ0BQB3VQB8WVQFh8xVd8RYBAdVAHdVAHX0AHdVAHdSiAQDMzMzMzMzRAETSc1H2ZZkCamZmZmQqAQDMzMzMzQ4ZALL7iK75CakBQB3VQB5VkQA==",
          "dtype": "f8"
         },
         "xaxis": "x",
         "y": {
          "bdata": "zczMzExEwkAQPvjgg6K4QEmSJEky6vNAO6iDOqj+s0BJkiRJkie4QFh8xVd8AstAWHzFV3xDtEC+4iu+4oS1QDMzMzPSoR9BETSc1N0q4UAzMzMzj1TtQClcj8I1xNtAO6iDOqgPukBf8RVfES/lQA==",
          "dtype": "f8"
         },
         "yaxis": "y"
        },
        {
         "customdata": [
          [
           "Argentina"
          ],
          [
           "Bolivia (Plurinational State of)"
          ],
          [
           "Brazil"
          ],
          [
           "Canada"
          ],
          [
           "Chile"
          ],
          [
           "Colombia"
          ],
          [
           "Costa Rica"
          ],
          [
           "Ecuador"
          ],
          [
           "Guatemala"
          ],
          [
           "Mexico"
          ],
          [
           "Paraguay"
          ],
          [
           "Peru"
          ],
          [
           "United States of America"
          ],
          [
           "Venezuela (Bolivarian Republic of)"
          ]
         ],
         "hovertemplate": "Item=Strawberries<br>Area_avg=%{x}<br>Yield_avg=%{y}<br>Area=%{customdata[0]}<extra></extra>",
         "legendgroup": "Strawberries",
         "marker": {
          "color": "#EF553B",
          "symbol": "circle"
         },
         "mode": "markers",
         "name": "Strawberries",
         "showlegend": true,
         "type": "scattergl",
         "x": {
          "bdata": "zczMzMwcjUC2YAu2YNt2QA/qoA7qtqZAtiJoOKmftEDdYIp81iWMQFpaWlpako9AAAAAAAAgXkCXb/mWb7ldQMVXfMVXHHtAHlsRNJxHukCSJEmSJElyQIKGk7ovh4hAVwQNJ/Vn1EB1Xx5bEQSFQA==",
          "dtype": "f8"
         },
         "xaxis": "x",
         "y": {
          "bdata": "HdRBHRQy+UByHMdxvM/iQIQ6qIN6nhJB78tjKwJV6EDrBlPk+yEMQaalpaWPXhBBZmZmZorQDkFP7MROzBoDQVh8xVfcLgNB6r48tnrmCkE7qIM6iHX1QErdl8cG3/tAi6DhpAa/E0GLoOGkRnwHQQ==",
          "dtype": "f8"
         },
         "yaxis": "y"
        },
        {
         "customdata": [
          [
           "Argentina"
          ],
          [
           "Barbados"
          ],
          [
           "Jamaica"
          ],
          [
           "Mexico"
          ],
          [
           "Peru"
          ],
          [
           "United States of America"
          ],
          [
           "Venezuela (Bolivarian Republic of)"
          ]
         ],
         "hovertemplate": "Item=String beans<br>Area_avg=%{x}<br>Yield_avg=%{y}<br>Area=%{customdata[0]}<extra></extra>",
         "legendgroup": "String beans",
         "marker": {
          "color": "#00cc96",
          "symbol": "circle"
         },
         "mode": "markers",
         "name": "String beans",
         "showlegend": true,
         "type": "scattergl",
         "x": {
          "bdata": "K4KGk7pzskAUO7ETOzFjQB5bETSc1HZAMzMzM8MPwkANJ3VfHq2uQGg4qfuCTvxATuq+PLYihkA=",
          "dtype": "f8"
         },
         "xaxis": "x",
         "y": {
          "bdata": "oeGk7suL80DmW77l+6/lQHFS9+XR1/BAMzMzM31f80B+eWxFMJ3iQEHDSd33GfFA5rEVQaP/7kA=",
          "dtype": "f8"
         },
         "yaxis": "y"
        },
        {
         "customdata": [
          [
           "Argentina"
          ],
          [
           "Bolivia (Plurinational State of)"
          ],
          [
           "Brazil"
          ],
          [
           "Canada"
          ],
          [
           "Chile"
          ],
          [
           "Colombia"
          ],
          [
           "Ecuador"
          ],
          [
           "Mexico"
          ],
          [
           "Paraguay"
          ],
          [
           "United States of America"
          ],
          [
           "Uruguay"
          ],
          [
           "Venezuela (Bolivarian Republic of)"
          ]
         ],
         "hovertemplate": "Item=Sunflower seed<br>Area_avg=%{x}<br>Yield_avg=%{y}<br>Area=%{customdata[0]}<extra></extra>",
         "legendgroup": "Sunflower seed",
         "marker": {
          "color": "#ab63fa",
          "symbol": "circle"
         },
         "mode": "markers",
         "name": "Sunflower seed",
         "showlegend": true,
         "type": "scattergl",
         "x": {
          "bdata": "j60IGkldPEEAAAAAcHT5QCd2Yicu0eNAPbYiaNgq6kDdl8dWhGbIQFVVVVVVKY1Aq6qqqqqKbUCSJEmSJOu1QNiCLdjiTOJAK4KGkzw8J0FK3ZfHdjHyQFPks26w2dhA",
          "dtype": "f8"
         },
         "xaxis": "x",
         "y": {
          "bdata": "nNR9eeypykAnm2yyyYrFQBQ7sRM7q8ZAqfvy2Ir1yUCyFUHDyfXNQAAAAACgw8pAVVVVVRVnzUC8nIKXU6nGQGzBFmxB5MlAfnlsRdDWykBCewntpUTAQFPks26wlMBA",
          "dtype": "f8"
         },
         "yaxis": "y"
        },
        {
         "customdata": [
          [
           "Argentina"
          ],
          [
           "Bahamas"
          ],
          [
           "Bolivia (Plurinational State of)"
          ],
          [
           "Brazil"
          ],
          [
           "Chile"
          ],
          [
           "Colombia"
          ],
          [
           "Cuba"
          ],
          [
           "Ecuador"
          ],
          [
           "El Salvador"
          ],
          [
           "French Guyana"
          ],
          [
           "Guadeloupe"
          ],
          [
           "Haiti"
          ],
          [
           "Jamaica"
          ],
          [
           "Mexico"
          ],
          [
           "Paraguay"
          ],
          [
           "Peru"
          ],
          [
           "United States of America"
          ],
          [
           "Uruguay"
          ],
          [
           "Venezuela (Bolivarian Republic of)"
          ]
         ],
         "hovertemplate": "Item=Tangerines, mandarins, clementines, satsumas<br>Area_avg=%{x}<br>Yield_avg=%{y}<br>Area=%{customdata[0]}<extra></extra>",
         "legendgroup": "Tangerines, mandarins, clementines, satsumas",
         "marker": {
          "color": "#FFA15A",
          "symbol": "circle"
         },
         "mode": "markers",
         "name": "Tangerines, mandarins, clementines, satsumas",
         "showlegend": true,
         "type": "scattergl",
         "x": {
          "bdata": "zczMzISc4EDNzMzMzIxFQDCPrQgaqbpAWxE0nJQd5UCJiIiIiJeiQLdt27ZtXr5A4yu+4isinkAndV8eW62uQIQ6qIM6aHhAu8EU+aybR0BddNFFF905QBZf8RVfIaRAGk7qvjyakUAeWxE03KjSQLD4iq/4/qdAj60IGk68tEBxUvflcRbVQHzFV3zF/LNA6qAO6qD6vkA=",
          "dtype": "f8"
         },
         "xaxis": "x",
         "y": {
          "bdata": "zczMzJleAUGamZmZURsGQaXuy2PraPVADSd1X55dA0FzTyMs1wv6QJ7neZ6PQQJBdVAHdRDH+0ARNJzUDQP1QL7iK76SD/tART7rBtNxyUAXXXTRdarsQKiDOqiDF+dAUvflsTX09UDQcFL3lRD8QCy+4itueQBB6r48tgrFA0EAAAAAMAoNQVAHdVDHGwJBmpmZmcENAEE=",
          "dtype": "f8"
         },
         "yaxis": "y"
        },
        {
         "customdata": [
          [
           "Argentina"
          ],
          [
           "Bolivia (Plurinational State of)"
          ],
          [
           "Brazil"
          ],
          [
           "Colombia"
          ],
          [
           "Ecuador"
          ],
          [
           "El Salvador"
          ],
          [
           "Guatemala"
          ],
          [
           "Panama"
          ],
          [
           "Peru"
          ]
         ],
         "hovertemplate": "Item=Tea<br>Area_avg=%{x}<br>Yield_avg=%{y}<br>Area=%{customdata[0]}<extra></extra>",
         "legendgroup": "Tea",
         "marker": {
          "color": "#19d3f3",
          "symbol": "circle"
         },
         "mode": "markers",
         "name": "Tea",
         "showlegend": true,
         "type": "scattergl",
         "x": {
          "bdata": "Tuq+PPYE4UCl7stjK9JyQPPYiqDh6KxAt23btm1bTUCl7stjKzKIQDMzMzMzs2hAqIM6qIOCh0AAAAAAAABCQF8eWxE0DKRA",
          "dtype": "f8"
         },
         "xaxis": "x",
         "y": {
          "bdata": "nNR9eexwykDZiqDhpGfXQErdl8cWnNFAbtu2bdtE1UAwj60IGhbNQO/u7u4uXdNAfMVXfMUHuUBVVVVV1Su/QLsvj60IeclA",
          "dtype": "f8"
         },
         "yaxis": "y"
        },
        {
         "customdata": [
          [
           "Argentina"
          ],
          [
           "Bolivia (Plurinational State of)"
          ],
          [
           "Brazil"
          ],
          [
           "Canada"
          ],
          [
           "Chile"
          ],
          [
           "Colombia"
          ],
          [
           "Costa Rica"
          ],
          [
           "Cuba"
          ],
          [
           "Dominican Republic"
          ],
          [
           "Ecuador"
          ],
          [
           "El Salvador"
          ],
          [
           "Guadeloupe"
          ],
          [
           "Guatemala"
          ],
          [
           "Guyana"
          ],
          [
           "Haiti"
          ],
          [
           "Honduras"
          ],
          [
           "Jamaica"
          ],
          [
           "Mexico"
          ],
          [
           "Nicaragua"
          ],
          [
           "Panama"
          ],
          [
           "Paraguay"
          ],
          [
           "Peru"
          ],
          [
           "Puerto Rico"
          ],
          [
           "Saint Vincent and the Grenadines"
          ],
          [
           "Trinidad and Tobago"
          ],
          [
           "United States of America"
          ],
          [
           "Uruguay"
          ],
          [
           "Venezuela (Bolivarian Republic of)"
          ]
         ],
         "hovertemplate": "Item=Tobacco, unmanufactured<br>Area_avg=%{x}<br>Yield_avg=%{y}<br>Area=%{customdata[0]}<extra></extra>",
         "legendgroup": "Tobacco, unmanufactured",
         "marker": {
          "color": "#FF6692",
          "symbol": "circle"
         },
         "mode": "markers",
         "name": "Tobacco, unmanufactured",
         "showlegend": true,
         "type": "scattergl",
         "x": {
          "bdata": "Xx5bEXQH7kD35bEVQTeTQFcEDScBAxRBbEXQcNLK3UAjaDip++SmQDCPrQiaj9JA3ZfHVgT1jED35bEVoRXmQH55bEWQ2tFAVwQNJ3Xjo0AJGk7qvryMQPWmN73pTStACRpO6r75vUCUui+PrYhYQMNJ3ZfHlndAJ3VfHlvmtUBO6r48tnqQQPzy2IpgidpAVwQNJ3Ufm0Cl7stjK96QQA0ndV+e5sJAFkHDSd2vo0AndV8eW5GXQEYXXXTRhU5AtiJoOKn7WkA9tiJocP8QQfflsRVBS4ZAj60IGk55ukA=",
          "dtype": "f8"
         },
         "xaxis": "x",
         "y": {
          "bdata": "bEXQcFL0zEAjaDip+wrDQPzy2IqgPs1AnNR9eSy110BxUvflMQPdQKXuy2OrCtFAfnlsRVB4zEBO6r48tgDBQOKk7stjNshA5rEVQcN0z0D88tiKYCjRQA3lNZTXbMpA78tjK4LR0EBS9+WxlVDCQPzy2IqgTsdApe7LYytRxkANJ3VfHqLPQJS6L49t4tBA9+WxFcGnzkDmsRVBw8HOQJzUfXnsgs9A89iKoKHL10Ddl8dWBEPJQC+66KLrY8lATuq+PDZ5yUBF0HBSt7HWQEHDSd3XEdhApe7LY6uRz0A=",
          "dtype": "f8"
         },
         "yaxis": "y"
        },
        {
         "customdata": [
          [
           "Argentina"
          ],
          [
           "Belize"
          ],
          [
           "Bolivia (Plurinational State of)"
          ],
          [
           "Brazil"
          ],
          [
           "Chile"
          ],
          [
           "Colombia"
          ],
          [
           "Costa Rica"
          ],
          [
           "Dominica"
          ],
          [
           "Dominican Republic"
          ],
          [
           "El Salvador"
          ],
          [
           "Guadeloupe"
          ],
          [
           "Guatemala"
          ],
          [
           "Honduras"
          ],
          [
           "Mexico"
          ],
          [
           "Peru"
          ],
          [
           "Trinidad and Tobago"
          ],
          [
           "United States of America"
          ]
         ],
         "hovertemplate": "Item=Treenuts, Total<br>Area_avg=%{x}<br>Yield_avg=%{y}<br>Area=%{customdata[0]}<extra></extra>",
         "legendgroup": "Treenuts, Total",
         "marker": {
          "color": "#B6E880",
          "symbol": "circle"
         },
         "mode": "markers",
         "name": "Treenuts, Total",
         "showlegend": true,
         "type": "scattergl",
         "x": {
          "bdata": "oQ7qoA6atUD0PM/zPP96QKEO6qBOGOFAzczMzBIiIUF8xVd8BVvXQAAAAAAAKKVAkMH5GJyPoUAAAAAAAAD4fwAAAAAAurdA5rEVQcNtpEAAAAAAAAD4fwbnY3A+Lq5ADw8PDw95k0BO6r48dl7tQIKGk7ovH7lAAAAAAAAA+H8EDSd1MxwVQQ==",
          "dtype": "f8"
         },
         "xaxis": "x",
         "y": {
          "bdata": "4yu+4ivk1UDNzMzMzDW5QOqgDupgiNRA6qAO6jAqEEFJkiRJkjXPQCz3NMJyXPFAonYlaleouEAAAAAAAAD4f5IkSZIkoZdAK4KGk7oivkAAAAAAAAD4f+djcD7mPOhAWlpaWppdyUBoOKn7cm3TQL88tiJoLcdAAAAAAAAA+H8EDSd137HbQA==",
          "dtype": "f8"
         },
         "yaxis": "y"
        },
        {
         "customdata": [
          [
           "Argentina"
          ],
          [
           "Brazil"
          ],
          [
           "Paraguay"
          ],
          [
           "United States of America"
          ]
         ],
         "hovertemplate": "Item=Tung nuts<br>Area_avg=%{x}<br>Yield_avg=%{y}<br>Area=%{customdata[0]}<extra></extra>",
         "legendgroup": "Tung nuts",
         "marker": {
          "color": "#FF97FF",
          "symbol": "circle"
         },
         "mode": "markers",
         "name": "Tung nuts",
         "showlegend": true,
         "type": "scattergl",
         "x": {
          "bdata": "89iKoGGE2UAvuuiii9WSQJHPusGUlsVAAAAAAAAA+H8=",
          "dtype": "f8"
         },
         "xaxis": "x",
         "y": {
          "bdata": "5rEVQYOb1EAvuuiiC6XWQNC6wRS5YuZAAAAAAAAA+H8=",
          "dtype": "f8"
         },
         "yaxis": "y"
        },
        {
         "customdata": [
          [
           "Argentina"
          ],
          [
           "Brazil"
          ],
          [
           "Chile"
          ],
          [
           "Mexico"
          ],
          [
           "Peru"
          ],
          [
           "United States of America"
          ]
         ],
         "hovertemplate": "Item=Walnuts, with shell<br>Area_avg=%{x}<br>Yield_avg=%{y}<br>Area=%{customdata[0]}<extra></extra>",
         "legendgroup": "Walnuts, with shell",
         "marker": {
          "color": "#FECB52",
          "symbol": "circle"
         },
         "mode": "markers",
         "name": "Walnuts, with shell",
         "showlegend": true,
         "type": "scattergl",
         "x": {
          "bdata": "8RVf8RV9tEB1UAd1UIOfQEmSJEmSvslApe7LY6uD2EA+jbDc08hjQCd1Xx47z/NA",
          "dtype": "f8"
         },
         "xaxis": "x",
         "y": {
          "bdata": "AAAAAMAs1kDNzMzMzLzQQM3MzMyM+tFAUvflsdUf3EB8GmG552rkQA0ndV/evttA",
          "dtype": "f8"
         },
         "yaxis": "y"
        },
        {
         "customdata": [
          [
           "Argentina"
          ],
          [
           "Belize"
          ],
          [
           "Bolivia (Plurinational State of)"
          ],
          [
           "Brazil"
          ],
          [
           "Canada"
          ],
          [
           "Chile"
          ],
          [
           "Colombia"
          ],
          [
           "Costa Rica"
          ],
          [
           "Cuba"
          ],
          [
           "Dominica"
          ],
          [
           "Ecuador"
          ],
          [
           "El Salvador"
          ],
          [
           "French Guyana"
          ],
          [
           "Grenada"
          ],
          [
           "Guadeloupe"
          ],
          [
           "Guatemala"
          ],
          [
           "Guyana"
          ],
          [
           "Honduras"
          ],
          [
           "Jamaica"
          ],
          [
           "Mexico"
          ],
          [
           "Panama"
          ],
          [
           "Paraguay"
          ],
          [
           "Peru"
          ],
          [
           "Puerto Rico"
          ],
          [
           "Saint Kitts and Nevis"
          ],
          [
           "Saint Lucia"
          ],
          [
           "Suriname"
          ],
          [
           "Trinidad and Tobago"
          ],
          [
           "United States of America"
          ],
          [
           "Uruguay"
          ],
          [
           "Venezuela (Bolivarian Republic of)"
          ]
         ],
         "hovertemplate": "Item=Watermelons<br>Area_avg=%{x}<br>Yield_avg=%{y}<br>Area=%{customdata[0]}<extra></extra>",
         "legendgroup": "Watermelons",
         "marker": {
          "color": "#636efa",
          "symbol": "circle"
         },
         "mode": "markers",
         "name": "Watermelons",
         "showlegend": true,
         "type": "scattergl",
         "x": {
          "bdata": "Gk7qvjzMxEBTSimllBJWQDMzMzOzbp5AmMdWBB2k9UBVVVVVVa94QIug4aTuOrVAmMdWBA03rEDOOeecc3qeQAAAAACA4bhAAAAAAAAA+H9xUvflsYWlQOKk7stjzaFAAAAAAABkZkBmZmZmZu6AQMhCFrKQhUdAZmZmZialpECnN73pTe9lQE7qvjy2epZADSd1Xx4bfECc1H15bHngQF8eWxE0oJJA4qTuy2NS0kAaTuq+PMymQB4eHh4e3mNA0V5CewntIUAAAAAAAOAmQDuogzqow2dAAAAAAADAX0Ddl8dW5D3zQPzy2Iqg8ZBAnNR9eWwYvUA=",
          "dtype": "f8"
         },
         "xaxis": "x",
         "y": {
          "bdata": "goaTutduAEHfe++9H98FQc3MzMx45PhAtiJoONmk+EAAAAAAxB8SQcxjK4IeFghB0HBS9/WQAUERQggh2PUUQUREREQUn/RAAAAAAAAA+H/msRVBU2r9QFsRNJwspQxBAAAAgAZTB0FVVVVV9YX9QMhCFrIArwVBAAAAAKXwEUHqTW96l4YTQchWBA0PswZB1X15bP1vA0ErgoaTMmwFQRZBw0mtWv9ArggaTur06UDdl8dWNFIHQaalpaXFygpBmNBeQrv9/kAAAACAih8OQQAAAAB4JARB1K5E7ZqK9EDMYyuCXu8JQQQNJ3Vf9P5Auy+PrQhqAkE=",
          "dtype": "f8"
         },
         "yaxis": "y"
        },
        {
         "customdata": [
          [
           "Argentina"
          ],
          [
           "Bolivia (Plurinational State of)"
          ],
          [
           "Brazil"
          ],
          [
           "Canada"
          ],
          [
           "Chile"
          ],
          [
           "Colombia"
          ],
          [
           "Ecuador"
          ],
          [
           "Guatemala"
          ],
          [
           "Honduras"
          ],
          [
           "Mexico"
          ],
          [
           "Paraguay"
          ],
          [
           "Peru"
          ],
          [
           "United States of America"
          ],
          [
           "Uruguay"
          ],
          [
           "Venezuela (Bolivarian Republic of)"
          ]
         ],
         "hovertemplate": "Item=Wheat<br>Area_avg=%{x}<br>Yield_avg=%{y}<br>Area=%{customdata[0]}<extra></extra>",
         "legendgroup": "Wheat",
         "marker": {
          "color": "#EF553B",
          "symbol": "circle"
         },
         "mode": "markers",
         "name": "Wheat",
         "showlegend": true,
         "type": "scattergl",
         "x": {
          "bdata": "yFYEjeLiU0E9tiJoeL78QNBwUvfitD9ByFYEzd+UZEErgoaTrnEdQY+tCBouVORAFkHDSV1x4UA9tiJoeFPSQGg4qfvy5JVAnNR9eYgGKEEjaDipe4wJQdV9eWzFzf5ATuq+LOg6dUENJ3Vftq8RQTSc1H15TItA",
          "dtype": "f8"
         },
         "xaxis": "x",
         "y": {
          "bdata": "bEXQcNIw1EC/PLYiaBjBQDip+/LYwM1AZCuChtNG1UA9tiJoOHvfQGxF0HBS3c5AfnlsRVBWwUBK3ZfH1krRQErdl8dWuLlAZCuChhPh40ArgoaTutXOQPzy2IqgJsdAAAAAAIBC2EBS9+WxVZ3SQHlsRdBwC8pA",
          "dtype": "f8"
         },
         "yaxis": "y"
        },
        {
         "customdata": [
          [
           "Bahamas"
          ],
          [
           "Barbados"
          ],
          [
           "Belize"
          ],
          [
           "Brazil"
          ],
          [
           "Colombia"
          ],
          [
           "Costa Rica"
          ],
          [
           "Cuba"
          ],
          [
           "Dominica"
          ],
          [
           "Dominican Republic"
          ],
          [
           "Ecuador"
          ],
          [
           "El Salvador"
          ],
          [
           "French Guyana"
          ],
          [
           "Grenada"
          ],
          [
           "Guadeloupe"
          ],
          [
           "Guatemala"
          ],
          [
           "Guyana"
          ],
          [
           "Haiti"
          ],
          [
           "Honduras"
          ],
          [
           "Jamaica"
          ],
          [
           "Martinique"
          ],
          [
           "Mexico"
          ],
          [
           "Nicaragua"
          ],
          [
           "Panama"
          ],
          [
           "Peru"
          ],
          [
           "Puerto Rico"
          ],
          [
           "Saint Kitts and Nevis"
          ],
          [
           "Saint Lucia"
          ],
          [
           "Saint Vincent and the Grenadines"
          ],
          [
           "Suriname"
          ],
          [
           "Trinidad and Tobago"
          ],
          [
           "Venezuela (Bolivarian Republic of)"
          ]
         ],
         "hovertemplate": "Item=Coconuts<br>Area_avg=%{x}<br>Yield_avg=%{y}<br>Area=%{customdata[0]}<extra></extra>",
         "legendgroup": "Coconuts",
         "marker": {
          "color": "#00cc96",
          "symbol": "circle"
         },
         "mode": "markers",
         "name": "Coconuts",
         "showlegend": true,
         "type": "scattergl",
         "x": {
          "bdata": "mpmZmZmhdUCVUkoppZSAQOqgDuqgLoZACRpO6vZnCkH5iq/4CljMQFcEDSd1a6ZA+Yqv+Aps0UB1UAd1UAWpQAkaTupe1+JAlLovj60aqkAaTuq+PKquQMVO7MRO7E9AHlsRNJwMnEC66KKLLhp0QHVfHlsROqZAJUmSJEn+ykBJkiRJkgTDQNV9eWxFOKVANJzUfZk45UC66KKLLgKDQHlsRdDAKQNBvuIrvuJDkEBf8RVf8bOwQOq+PLYiGJNADSd1Xx4DkUB8xVd8xXd3QFAHdVAH065A27Zt27Zbo0Awj60IGl6SQDip+/JYFsNAbEXQcNKS00A=",
          "dtype": "f8"
         },
         "xaxis": "x",
         "y": {
          "bdata": "mpmZmWlC80CVUkopZYffQLdt27YNieJAnNR9ecwr60CLr/iKH8TxQLYiaDhZEvJAqIM6qKM84EBmZmZmRn/gQLYiaDjpet9ANJzUfQlS9kD88tiKyEcEQezETuyE0+FABA0ndb9O40BddNFFd6PVQErdl8e2FeVAZmZmZob/7UD5iq/4CqXdQDSc1H1ZmO5AAAAAAMBc4kBddNFFNxHWQAkaTup+ePFAWHzFVxyD50AWX/EV/+7iQCd1Xx6zOQJB78tjK+KH70B1UAd10OTnQM3MzMzMGeVAD+qgDsr/4UDQcFL31YHxQBpO6r68k+pACRpO6n6a80A=",
          "dtype": "f8"
         },
         "yaxis": "y"
        },
        {
         "customdata": [
          [
           "Bahamas"
          ],
          [
           "Barbados"
          ],
          [
           "Bolivia (Plurinational State of)"
          ],
          [
           "Canada"
          ],
          [
           "Chile"
          ],
          [
           "Colombia"
          ],
          [
           "Costa Rica"
          ],
          [
           "Dominica"
          ],
          [
           "Dominican Republic"
          ],
          [
           "Ecuador"
          ],
          [
           "French Guyana"
          ],
          [
           "Grenada"
          ],
          [
           "Guadeloupe"
          ],
          [
           "Guatemala"
          ],
          [
           "Haiti"
          ],
          [
           "Honduras"
          ],
          [
           "Jamaica"
          ],
          [
           "Martinique"
          ],
          [
           "Mexico"
          ],
          [
           "Panama"
          ],
          [
           "Peru"
          ],
          [
           "Puerto Rico"
          ],
          [
           "Saint Lucia"
          ],
          [
           "Trinidad and Tobago"
          ],
          [
           "United States of America"
          ],
          [
           "Venezuela (Bolivarian Republic of)"
          ]
         ],
         "hovertemplate": "Item=Lettuce and chicory<br>Area_avg=%{x}<br>Yield_avg=%{y}<br>Area=%{customdata[0]}<extra></extra>",
         "legendgroup": "Lettuce and chicory",
         "marker": {
          "color": "#ab63fa",
          "symbol": "circle"
         },
         "mode": "markers",
         "name": "Lettuce and chicory",
         "showlegend": true,
         "type": "scattergl",
         "x": {
          "bdata": "AAAAAAAAIkBVVVVVVdVBQKn78tiKbJhAK4KGk7p3pUAndV8eWyiwQIeTui+PR6JA7MRO7MTuYkDC+Ricj8E1QKXuy2Mr6oJAshVBw0kpkkBddNFFF10sQL2G8hrK61lA3/SmN70JbUBO6r48tjqQQEHDSd2XJ2hAzczMzMwMXEBfHlsRNHx5QEMWspCFjGpAnNR9eWy0vkArgoaTus9uQCd1Xx5bl6ZApqWlpaWlGUAAAAAAAGAqQHVfHlsR9FhAMI+tCGoK+UAWQcNJ3cuSQA==",
          "dtype": "f8"
         },
         "xaxis": "x",
         "y": {
          "bdata": "zczMzDi7AEGF9hLaU2IDQVcEDSdlZPRAaDip+wrLCEFxUvflIfj+QLYiaDhZUv9AAAAAAMBQ20BRuxK1O4b7QJjHVgTd1PVARdBwUpcj+0AAAAAA9n8IQdhQXkOZ//JAQxaykCWFBEENJ3VfZpAJQXVfHlvRD9xARERERISxAUEEDSd130v6QAtZyEJqBQVBETSc1AVEBkHvy2MrQuz+QPPYiqDxlPxAPDw8PIxUIEEAAAAA3i/+QFcEDSeVE+9APbYiaBgWE0FsRdBwwmkHQQ==",
          "dtype": "f8"
         },
         "yaxis": "y"
        },
        {
         "customdata": [
          [
           "Bahamas"
          ],
          [
           "Barbados"
          ],
          [
           "Belize"
          ],
          [
           "Guatemala"
          ],
          [
           "Guyana"
          ],
          [
           "Jamaica"
          ],
          [
           "Mexico"
          ],
          [
           "Puerto Rico"
          ],
          [
           "Trinidad and Tobago"
          ],
          [
           "United States of America"
          ]
         ],
         "hovertemplate": "Item=Okra<br>Area_avg=%{x}<br>Yield_avg=%{y}<br>Area=%{customdata[0]}<extra></extra>",
         "legendgroup": "Okra",
         "marker": {
          "color": "#FFA15A",
          "symbol": "circle"
         },
         "mode": "markers",
         "name": "Okra",
         "showlegend": true,
         "type": "scattergl",
         "x": {
          "bdata": "AAAAAAAAM0Di4eHh4WFKQM4555xzzidAAAAAAABig0AtZCELWbh/QCIiIiIi+npAJ3VfHlurpEAPDw8PD49CQDuxEzux035Ad3d3d3dtkEA=",
          "dtype": "f8"
         },
         "xaxis": "x",
         "y": {
          "bdata": "mpmZmWFbDkFaWlpacqH2QEIIIYRQV+pAmpmZmekl90ALWchCpnoMQc3MzMyMt/RANJzUfSke8UAtLS0tjR/mQDuxEzvxyNdAuacRlsuJ8kA=",
          "dtype": "f8"
         },
         "yaxis": "y"
        },
        {
         "customdata": [
          [
           "Bahamas"
          ],
          [
           "Belize"
          ],
          [
           "Costa Rica"
          ],
          [
           "Ecuador"
          ],
          [
           "Guyana"
          ],
          [
           "Jamaica"
          ],
          [
           "Mexico"
          ],
          [
           "Paraguay"
          ],
          [
           "Puerto Rico"
          ],
          [
           "Venezuela (Bolivarian Republic of)"
          ]
         ],
         "hovertemplate": "Item=Onions, shallots, green<br>Area_avg=%{x}<br>Yield_avg=%{y}<br>Area=%{customdata[0]}<extra></extra>",
         "legendgroup": "Onions, shallots, green",
         "marker": {
          "color": "#19d3f3",
          "symbol": "circle"
         },
         "mode": "markers",
         "name": "Onions, shallots, green",
         "showlegend": true,
         "type": "scattergl",
         "x": {
          "bdata": "mpmZmZkZVEBiJ3ZiJ3Y/QG9605ve9CZADSd1X57owUAAAAAAAAD4f5zUfXlsDYZAMzMzM7Njv0Acx3EcxzSXQEmSJEmSRGZA5DiO4zgWpEA=",
          "dtype": "f8"
         },
         "xaxis": "x",
         "y": {
          "bdata": "AAAAAHAo80AhC1nIyvkEQfWmN71pyfBABA0ndY8I9UAAAAAAAAD4f9mKoOGUffRAEREREUH//EAAAAAAUFjwQFVVVVW1qQhBchzHcTDbB0E=",
          "dtype": "f8"
         },
         "yaxis": "y"
        },
        {
         "customdata": [
          [
           "Bahamas"
          ],
          [
           "Colombia"
          ],
          [
           "Dominican Republic"
          ],
          [
           "Grenada"
          ],
          [
           "Haiti"
          ],
          [
           "Jamaica"
          ],
          [
           "Panama"
          ],
          [
           "Puerto Rico"
          ],
          [
           "Saint Vincent and the Grenadines"
          ],
          [
           "Trinidad and Tobago"
          ],
          [
           "Venezuela (Bolivarian Republic of)"
          ]
         ],
         "hovertemplate": "Item=Pigeon peas<br>Area_avg=%{x}<br>Yield_avg=%{y}<br>Area=%{customdata[0]}<extra></extra>",
         "legendgroup": "Pigeon peas",
         "marker": {
          "color": "#FF6692",
          "symbol": "circle"
         },
         "mode": "markers",
         "name": "Pigeon peas",
         "showlegend": true,
         "type": "scattergl",
         "x": {
          "bdata": "FkHDSd03c0BHWO5phI2GQFL35bHVTdRANJzUfXk8gECp+/LYiinZQCuChpO6a5pAQcNJ3ZcFqUArgoaTukWlQJqZmZmZGTxAVwQNJ3XblkAndV8eW7G5QA==",
          "dtype": "f8"
         },
         "xaxis": "x",
         "y": {
          "bdata": "J3VfHltyxkB8GmG5p/vIQPzy2Iqgu8ZAw0ndl0cYyEBXBA0ndce1QKHhpO7LzMJAcVL35bEIuED88tiKoGDEQAAAAADgBPZAvzy2IuhLzkAWQcNJ3dy3QA==",
          "dtype": "f8"
         },
         "yaxis": "y"
        },
        {
         "customdata": [
          [
           "Bahamas"
          ],
          [
           "Belize"
          ],
          [
           "Bolivia (Plurinational State of)"
          ],
          [
           "Colombia"
          ],
          [
           "Costa Rica"
          ],
          [
           "Cuba"
          ],
          [
           "Dominica"
          ],
          [
           "Dominican Republic"
          ],
          [
           "Ecuador"
          ],
          [
           "El Salvador"
          ],
          [
           "French Guyana"
          ],
          [
           "Grenada"
          ],
          [
           "Guadeloupe"
          ],
          [
           "Guatemala"
          ],
          [
           "Guyana"
          ],
          [
           "Haiti"
          ],
          [
           "Honduras"
          ],
          [
           "Jamaica"
          ],
          [
           "Martinique"
          ],
          [
           "Nicaragua"
          ],
          [
           "Panama"
          ],
          [
           "Peru"
          ],
          [
           "Puerto Rico"
          ],
          [
           "Saint Lucia"
          ],
          [
           "Saint Vincent and the Grenadines"
          ],
          [
           "Suriname"
          ],
          [
           "Trinidad and Tobago"
          ],
          [
           "Venezuela (Bolivarian Republic of)"
          ]
         ],
         "hovertemplate": "Item=Plantains and others<br>Area_avg=%{x}<br>Yield_avg=%{y}<br>Area=%{customdata[0]}<extra></extra>",
         "legendgroup": "Plantains and others",
         "marker": {
          "color": "#B6E880",
          "symbol": "circle"
         },
         "mode": "markers",
         "name": "Plantains and others",
         "showlegend": true,
         "type": "scattergl",
         "x": {
          "bdata": "mpmZmZkZOUBTSimllNJ0QE7qvjy2F9dATuq+PDrYFEEJGk7qvue6QDCPrQga5+NAXXTRRRezgkAwj60I2mfoQJjHVgQNYvNASt2Xx1YEo0DIQhaykC1yQBZf8RVfCYdAb3rTm96kfEDdl8dWhNfAQHVfHlsRBrJAtiJoOAmh40C2Img4KZ3AQBpO6r484ppAAAAAAADofUBbETSc1I64QJqZmZmZKsJADSd1X14a90ANJ3VfHmW1QEmSJEmSpGZAsj401oeGZkBfHlsRNMx7QBZBw0ndd45Ai6DhpE7460A=",
          "dtype": "f8"
         },
         "xaxis": "x",
         "y": {
          "bdata": "zczMzJTK8kCllFJKpTQQQeq+PLYyEf1Avzy2IjjX8EBXBA0nhQr6QN2Xx1a00/NAjC666CII80AEDSd1/6r6QKXuy2MbqvdAQcNJ3Ycc/kAWspCFzGzyQEId1EGdJ/NAAAAAADQ3AEENJ3Vf7ssFQV8eWxEUE+BAcVL35fGj70DZiqDhVGf/QPzy2IqQPQFBOL3pTZcrBUGHk7ovj3v7QJqZmZmJ0PlA78tjK9Lk/UCChpO6/9cBQQzDMAzbMwJBwcspeOn4/kAEDSd1P4EHQXFS9+UxFeVAbEXQcHKn80A=",
          "dtype": "f8"
         },
         "yaxis": "y"
        },
        {
         "customdata": [
          [
           "Barbados"
          ],
          [
           "Belize"
          ],
          [
           "Bolivia (Plurinational State of)"
          ],
          [
           "Chile"
          ],
          [
           "Colombia"
          ],
          [
           "Costa Rica"
          ],
          [
           "Cuba"
          ],
          [
           "Dominica"
          ],
          [
           "Dominican Republic"
          ],
          [
           "Ecuador"
          ],
          [
           "El Salvador"
          ],
          [
           "French Guyana"
          ],
          [
           "Grenada"
          ],
          [
           "Guatemala"
          ],
          [
           "Guyana"
          ],
          [
           "Haiti"
          ],
          [
           "Honduras"
          ],
          [
           "Mexico"
          ],
          [
           "Nicaragua"
          ],
          [
           "Panama"
          ],
          [
           "Paraguay"
          ],
          [
           "Peru"
          ],
          [
           "Puerto Rico"
          ],
          [
           "Saint Lucia"
          ],
          [
           "Saint Vincent and the Grenadines"
          ],
          [
           "Trinidad and Tobago"
          ],
          [
           "United States of America"
          ],
          [
           "Uruguay"
          ],
          [
           "Venezuela (Bolivarian Republic of)"
          ]
         ],
         "hovertemplate": "Item=Fruit, fresh nes<br>Area_avg=%{x}<br>Yield_avg=%{y}<br>Area=%{customdata[0]}<extra></extra>",
         "legendgroup": "Fruit, fresh nes",
         "marker": {
          "color": "#FF97FF",
          "symbol": "circle"
         },
         "mode": "markers",
         "name": "Fruit, fresh nes",
         "showlegend": true,
         "type": "scattergl",
         "x": {
          "bdata": "Fl/xFV8xUUCogzqog4qJQB5bETScKJJAGk7qvjxSm0DxFV/x9QLpQLdt27Zt19hAvLu7u3v+ykDjK77iK75gQL7iK75iNMBAt23btu2uz0BmZmZmZlaXQKOLLrro4lBAfMVXfMUnhkBu27Zt24PNQMMwDMMwLIxAHdRBHdRYxkBCHdRBHTa6QIKGk7rvdOFA+Yqv+IpNpkCrqqqqqi6AQLD4iq/4HpJA9ihcj0JbwUAd1EEd1PGGQGZmZmZmlnFA7+7u7u4uZ0DUQR3UQc63QDSc1H15hIVAUAd1UAddgUBmZmZmZgO2QA==",
          "dtype": "f8"
         },
         "xaxis": "x",
         "y": {
          "bdata": "PDw8PAS890DjK77iK6PnQMhWBA1HGuRAlLovjy3Q6kDxFV/xJcv4QPEVX/Fl5vBAq6qqqnr1/EBu27ZtWzHwQOMrvuKrWf1AvuIrvoKq9EAsvuIr7lLxQKOLLrpICONAFl/xFd+q40DFV3zFF7rsQAzDMAzDbrpAmpmZmfno5kChDuqgzjL1QBpO6r78wvFAJUmSJCl46ECrqqqq2gvnQLdt27YNj/JACtejcJUU8kC+4iu+svzyQL7iK76iWPFAmpmZmcn7C0EHdVAHFfrvQHVfHlshewRBO6iDOpg98UCogzqoc2gAQQ==",
          "dtype": "f8"
         },
         "yaxis": "y"
        },
        {
         "customdata": [
          [
           "Barbados"
          ],
          [
           "Bolivia (Plurinational State of)"
          ],
          [
           "Canada"
          ],
          [
           "Chile"
          ],
          [
           "El Salvador"
          ],
          [
           "Jamaica"
          ],
          [
           "Mexico"
          ],
          [
           "Peru"
          ],
          [
           "Puerto Rico"
          ],
          [
           "Trinidad and Tobago"
          ],
          [
           "United States of America"
          ],
          [
           "Uruguay"
          ]
         ],
         "hovertemplate": "Item=Maize, green<br>Area_avg=%{x}<br>Yield_avg=%{y}<br>Area=%{customdata[0]}<extra></extra>",
         "legendgroup": "Maize, green",
         "marker": {
          "color": "#FECB52",
          "symbol": "circle"
         },
         "mode": "markers",
         "name": "Maize, green",
         "showlegend": true,
         "type": "scattergl",
         "x": {
          "bdata": "MzMzMzPDZEDdl8dWhNzTQEHDSd1Xj9tAcVL35TEpx0B3d3d3d0+lQCZXEJMriDdAmpmZmW2E4kAeWxE0nBHeQLW0tLS0HINAntiJndiZfkArgoaTgpMOQWxF0HBSu5BA",
          "dtype": "f8"
         },
         "xaxis": "x",
         "y": {
          "bdata": "IiIiIhLJ4UA0nNR9uUDbQN2Xx1bkt/ZAQcNJ3ZdCAEERERER8T78QMdxHMdxwdRAAAAAAAbM+kB+eWxF4GzxQNPS0tJSGcFAsRM7sRNS00BfHlsRRDAAQSuChpO6495A",
          "dtype": "f8"
         },
         "yaxis": "y"
        },
        {
         "customdata": [
          [
           "Barbados"
          ],
          [
           "Colombia"
          ],
          [
           "Dominica"
          ],
          [
           "Dominican Republic"
          ],
          [
           "Ecuador"
          ],
          [
           "Guadeloupe"
          ],
          [
           "Guatemala"
          ],
          [
           "Mexico"
          ],
          [
           "Panama"
          ],
          [
           "Peru"
          ],
          [
           "Saint Kitts and Nevis"
          ],
          [
           "Saint Lucia"
          ],
          [
           "Saint Vincent and the Grenadines"
          ],
          [
           "Suriname"
          ],
          [
           "Trinidad and Tobago"
          ]
         ],
         "hovertemplate": "Item=Pulses nes<br>Area_avg=%{x}<br>Yield_avg=%{y}<br>Area=%{customdata[0]}<extra></extra>",
         "legendgroup": "Pulses nes",
         "marker": {
          "color": "#636efa",
          "symbol": "circle"
         },
         "mode": "markers",
         "name": "Pulses nes",
         "showlegend": true,
         "type": "scattergl",
         "x": {
          "bdata": "4qTuy2Nrg0AAAAAAAAD4fxpO6r48VmdAq6qqqqqqW0AAAAAAAAD4fx4eHh4ejm5A5DiO47gIqUDbtm3btnl1QCmllFJKb7VAyFYEDSflpkCYx1YEDYdkQMxjK4KGkzZAshVBw0ktdUD88tiKoAFiQKHhpO7L83hA",
          "dtype": "f8"
         },
         "xaxis": "x",
         "y": {
          "bdata": "0HBS92XJy0AAAAAAAAD4fzCPrQga7LNAAAAAACgkFUEAAAAAAAD4f+Lh4eGh9MNAjuM4jrOd70AlSZIkqanEQCmllFJKYrZA6r48tiJxxUCHk7ovD+/DQGg4qfsyetRAMI+tCBp/wkAwj60ImvzAQOaxFUFDxtBA",
          "dtype": "f8"
         },
         "yaxis": "y"
        },
        {
         "customdata": [
          [
           "Belize"
          ],
          [
           "Brazil"
          ],
          [
           "Colombia"
          ],
          [
           "Dominican Republic"
          ],
          [
           "El Salvador"
          ],
          [
           "Guadeloupe"
          ],
          [
           "Honduras"
          ],
          [
           "Mexico"
          ],
          [
           "Peru"
          ]
         ],
         "hovertemplate": "Item=Cashew nuts, with shell<br>Area_avg=%{x}<br>Yield_avg=%{y}<br>Area=%{customdata[0]}<extra></extra>",
         "legendgroup": "Cashew nuts, with shell",
         "marker": {
          "color": "#EF553B",
          "symbol": "circle"
         },
         "mode": "markers",
         "name": "Cashew nuts, with shell",
         "showlegend": true,
         "type": "scattergl",
         "x": {
          "bdata": "9DzP8zz/ekBmZmZmMNIjQQnLPY2w8qNAAAAAAAC6t0DmsRVBw22kQAAAAAAAAPh/Dw8PDw95k0BVVVVVVSaSQGOMMcYY83xA",
          "dtype": "f8"
         },
         "xaxis": "x",
         "y": {
          "bdata": "zczMzMw1uUDe3d3d3YehQFjuaYSV5fFAkiRJkiShl0ArgoaTuiK+QAAAAAAAAPh/WlpaWppdyUBVVVVVBanVQBljjDHGjelA",
          "dtype": "f8"
         },
         "yaxis": "y"
        },
        {
         "customdata": [
          [
           "Belize"
          ],
          [
           "Bolivia (Plurinational State of)"
          ],
          [
           "Brazil"
          ],
          [
           "Colombia"
          ],
          [
           "Costa Rica"
          ],
          [
           "Cuba"
          ],
          [
           "Dominica"
          ],
          [
           "Dominican Republic"
          ],
          [
           "Ecuador"
          ],
          [
           "El Salvador"
          ],
          [
           "Grenada"
          ],
          [
           "Guadeloupe"
          ],
          [
           "Guatemala"
          ],
          [
           "Guyana"
          ],
          [
           "Haiti"
          ],
          [
           "Honduras"
          ],
          [
           "Jamaica"
          ],
          [
           "Martinique"
          ],
          [
           "Mexico"
          ],
          [
           "Nicaragua"
          ],
          [
           "Panama"
          ],
          [
           "Peru"
          ],
          [
           "Saint Lucia"
          ],
          [
           "Saint Vincent and the Grenadines"
          ],
          [
           "Suriname"
          ],
          [
           "Trinidad and Tobago"
          ],
          [
           "Venezuela (Bolivarian Republic of)"
          ]
         ],
         "hovertemplate": "Item=Cocoa, beans<br>Area_avg=%{x}<br>Yield_avg=%{y}<br>Area=%{customdata[0]}<extra></extra>",
         "legendgroup": "Cocoa, beans",
         "marker": {
          "color": "#00cc96",
          "symbol": "circle"
         },
         "mode": "markers",
         "name": "Cocoa, beans",
         "showlegend": true,
         "type": "scattergl",
         "x": {
          "bdata": "1X15bEWwbkBS9+WxFXu2QO/LYysy3CFBj60IGg6l9EC/PLYi6KDLQCNoOKn7XL5AdV8eWxGaokARNJzUraT9QDSc1H35EhNBHlsRNJwUf0AWQcNJ3TWkQBaykIUslGpAZCuChpOCq0CPrQgaTuqKQMxjK4IGDMdApe7LYyvWo0Cc1H15bF+vQAAAAAAAwGJA1X15bHXA8UCUui+PrYqvQOq+PLYiSLBAzGMrgsa94kAWQcNJ3RdZQMNJ3ZfHroNAQcNJ3Zenc0BxUvflMQjMQMNJ3ZfHQ+9A",
          "dtype": "f8"
         },
         "xaxis": "x",
         "y": {
          "bdata": "ZCuChpNkp0BF0HBS94+2QBE0nNR9OrFANJzUfXm0skDMYyuChrWiQMxjK4KGoaNA2Yqg4aSOm0AJGk7qvpytQGg4qfvy7KZAMI+tCBqftkC/PLYiaC+8QOh5nud5bpRAGk7qvjx5xkCh4aTuy9ufQIeTui+PkrNAUvflsRVsu0C2Img4qQiwQDmO4ziOs7VAVwQNJ3UNtEAwj60IGsagQAQNJ3VfNp9AI2g4qfs6tkB1Xx5bEf3CQK4IGk7q1qJADSd1Xx7/lEB5bEXQcAKXQDip+/LYeKZA",
          "dtype": "f8"
         },
         "yaxis": "y"
        },
        {
         "customdata": [
          [
           "Belize"
          ],
          [
           "Bolivia (Plurinational State of)"
          ],
          [
           "Brazil"
          ],
          [
           "Colombia"
          ],
          [
           "Costa Rica"
          ],
          [
           "Cuba"
          ],
          [
           "Dominica"
          ],
          [
           "Dominican Republic"
          ],
          [
           "Ecuador"
          ],
          [
           "El Salvador"
          ],
          [
           "Guadeloupe"
          ],
          [
           "Guatemala"
          ],
          [
           "Guyana"
          ],
          [
           "Haiti"
          ],
          [
           "Honduras"
          ],
          [
           "Jamaica"
          ],
          [
           "Martinique"
          ],
          [
           "Mexico"
          ],
          [
           "Nicaragua"
          ],
          [
           "Panama"
          ],
          [
           "Paraguay"
          ],
          [
           "Peru"
          ],
          [
           "Puerto Rico"
          ],
          [
           "Saint Lucia"
          ],
          [
           "Saint Vincent and the Grenadines"
          ],
          [
           "Suriname"
          ],
          [
           "Trinidad and Tobago"
          ],
          [
           "United States of America"
          ],
          [
           "Venezuela (Bolivarian Republic of)"
          ]
         ],
         "hovertemplate": "Item=Coffee, green<br>Area_avg=%{x}<br>Yield_avg=%{y}<br>Area=%{customdata[0]}<extra></extra>",
         "legendgroup": "Coffee, green",
         "marker": {
          "color": "#ab63fa",
          "symbol": "circle"
         },
         "mode": "markers",
         "name": "Coffee, green",
         "showlegend": true,
         "type": "scattergl",
         "x": {
          "bdata": "XXTRRRddT0CLoOGkLhDVQOKk7ksanEJBrggaTpg2KkFfHlsRRCL3QD22ImjoAfdAGZyPwfkofUAAAAAAsOAAQbYiaDjZiw1BSt2Xx+6uAkGRhSxkIetWQIeTui9fyw5Buy+PrQhii0BsRdBwcmzvQI+tCBr26AVB5rEVQcNUuUAAAAAAgAZ6QLYiaDhfciFBXx5bETS/90CHk7ovj9HWQPflsRVBo7tAGk7qvlzLCUEEDSd1fwLiQNQIyz2NsDRAh5O6L4/Nd0C/PLYiaEh7QCd1Xx5b3LZA4qTuy2OXm0BXBA0nNWwNQQ==",
          "dtype": "f8"
         },
         "xaxis": "x",
         "y": {
          "bdata": "0UUXXXSo00Dvy2Mrgu3AQPPYiqDhpb5A1X15bEXHvUCPrQgaTizGQAkaTuq+jqJAaleidiW7ukCuCBpO6laoQAAAAAAAHqVA89iKoOGnvkDqTW96U9DFQJjHVgQNaL5AMI+tCBpZukCHk7ovjxO0QIug4aTuG7tA3ZfHVgQGs0BmZmZmJgjVQErdl8dW9LFAfnlsRdACuEA4qfvy2GasQKHhpO7LwcJApe7LYyueuEDdl8dWBBmrQCVJkiRJZMNAFkHDSd1tq0CChpO6LyeYQPflsRVBsaBAZCuChpMzx0Dvy2MrgoSlQA==",
          "dtype": "f8"
         },
         "yaxis": "y"
        },
        {
         "customdata": [
          [
           "Belize"
          ],
          [
           "Bolivia (Plurinational State of)"
          ],
          [
           "Colombia"
          ],
          [
           "Costa Rica"
          ],
          [
           "Dominica"
          ],
          [
           "Dominican Republic"
          ],
          [
           "Ecuador"
          ],
          [
           "Grenada"
          ],
          [
           "Guadeloupe"
          ],
          [
           "Guyana"
          ],
          [
           "Haiti"
          ],
          [
           "Honduras"
          ],
          [
           "Jamaica"
          ],
          [
           "Martinique"
          ],
          [
           "Mexico"
          ],
          [
           "Nicaragua"
          ],
          [
           "Panama"
          ],
          [
           "Peru"
          ],
          [
           "Puerto Rico"
          ],
          [
           "Saint Kitts and Nevis"
          ],
          [
           "Saint Lucia"
          ],
          [
           "Saint Vincent and the Grenadines"
          ],
          [
           "Suriname"
          ],
          [
           "Trinidad and Tobago"
          ],
          [
           "Venezuela (Bolivarian Republic of)"
          ]
         ],
         "hovertemplate": "Item=Roots and tubers nes<br>Area_avg=%{x}<br>Yield_avg=%{y}<br>Area=%{customdata[0]}<extra></extra>",
         "legendgroup": "Roots and tubers nes",
         "marker": {
          "color": "#FFA15A",
          "symbol": "circle"
         },
         "mode": "markers",
         "name": "Roots and tubers nes",
         "showlegend": true,
         "type": "scattergl",
         "x": {
          "bdata": "qfvy2IpgUECPrQgaDrfRQLdt27ZtTb9AUV5DeQ3TnUAAAAAAAEA+QAAAAAAA0GBAaDip+/J9sUDIVgQNJ9V4QPWmN73p+YdArggaTupUpkAWQcNJne/TQCd1Xx5boYBA4qTuy2P7nECnN73pTeeIQFsRNJzUOLFA5rEVQcOJjkDv7u7u7m5JQEHDSd0XuORAeWxF0HA2nUCUui+PrchuQD22Img4gYhAWxE0nNT9lUA0nNR9eaxRQM4555xz7mRAETSc1H0PqkA=",
          "dtype": "f8"
         },
         "xaxis": "x",
         "y": {
          "bdata": "MI+tCNpHAUG/PLYi6MnfQPEVX/F1z/hAeQ3lNWy89UBmZmZmbxAEQQAAAABQgu9AshVBw6lp40CPrQgaLsvuQBaykIWETfdAuy+Prfgf8EAeWxE0nHvSQIug4aTulOtAFkHDSX3GAEGykIUs3JP8QErdl8ceiwpBUvflsfV740BVVVVV3eUIQbIVQcMpsOhAeWxF0LCw7UD35bEVQfzXQJzUfXnM6uNAcVL35cHL+kC/PLYiWCXyQHTOOee8T/RAzGMrgkYM9kA=",
          "dtype": "f8"
         },
         "yaxis": "y"
        },
        {
         "customdata": [
          [
           "Belize"
          ],
          [
           "Costa Rica"
          ],
          [
           "Cuba"
          ],
          [
           "Dominica"
          ],
          [
           "Dominican Republic"
          ],
          [
           "El Salvador"
          ],
          [
           "Mexico"
          ],
          [
           "Nicaragua"
          ],
          [
           "Panama"
          ],
          [
           "Peru"
          ],
          [
           "Puerto Rico"
          ],
          [
           "Saint Lucia"
          ],
          [
           "Trinidad and Tobago"
          ],
          [
           "Venezuela (Bolivarian Republic of)"
          ]
         ],
         "hovertemplate": "Item=Yautia (cocoyam)<br>Area_avg=%{x}<br>Yield_avg=%{y}<br>Area=%{customdata[0]}<extra></extra>",
         "legendgroup": "Yautia (cocoyam)",
         "marker": {
          "color": "#19d3f3",
          "symbol": "circle"
         },
         "mode": "markers",
         "name": "Yautia (cocoyam)",
         "showlegend": true,
         "type": "scattergl",
         "x": {
          "bdata": "dM4555xzS0CO4ziO40SeQKn78tgKJ8hACRpO6r50hEAEDSd1X4y0QNFeQnsJW6xAt23btm1jZ0De3d3dXUayQMxjK4KGC41AgoaTui9Xr0DDMAzDMGxqQFsRNJzUfTJAAAAAAAAAZEDdl8dWBAzAQA==",
          "dtype": "f8"
         },
         "xaxis": "x",
         "y": {
          "bdata": "33vvvYfx8kAmtJfQHnH6QOq+PLbSb/BAGk7qvsyE80AEDSd1X9jvQGIndmLf4wBBAAAAAHUpEEHmnkZYfp/6QDCPrQg6Du5AWxE0nNSp60CGYRiGgfvtQMxjK4KG5etABA0ndU98+UBF0HBSxxzzQA==",
          "dtype": "f8"
         },
         "yaxis": "y"
        },
        {
         "customdata": [
          [
           "Bolivia (Plurinational State of)"
          ],
          [
           "Canada"
          ],
          [
           "Chile"
          ],
          [
           "Colombia"
          ],
          [
           "Costa Rica"
          ],
          [
           "Ecuador"
          ],
          [
           "Grenada"
          ],
          [
           "Guatemala"
          ],
          [
           "Honduras"
          ],
          [
           "Jamaica"
          ],
          [
           "Mexico"
          ],
          [
           "Peru"
          ],
          [
           "Trinidad and Tobago"
          ],
          [
           "United States of America"
          ],
          [
           "Venezuela (Bolivarian Republic of)"
          ]
         ],
         "hovertemplate": "Item=Cauliflowers and broccoli<br>Area_avg=%{x}<br>Yield_avg=%{y}<br>Area=%{customdata[0]}<extra></extra>",
         "legendgroup": "Cauliflowers and broccoli",
         "marker": {
          "color": "#FF6692",
          "symbol": "circle"
         },
         "mode": "markers",
         "name": "Cauliflowers and broccoli",
         "showlegend": true,
         "type": "scattergl",
         "x": {
          "bdata": "ZmZmZmaIc0BO6r48tsKuQK4IGk7q+pBAh5O6L481kkBP7MRO7ARHQKn78tiKRKtAZmZmZmYmVkDZZJNNNlKzQFVVVVVV9VlA6r48tiJoU0AJGk7qPu7LQD22Img4iZZAw0ndl8fWQ0AndV8euwrlQEHDSd2X535A",
          "dtype": "f8"
         },
         "xaxis": "x",
         "y": {
          "bdata": "AAAAAFTV70Ch4aTum/X7QPzy2Ip48QFBXx5bEczsBkGKndiJ7YnxQKn78tiKhPtAvLu7u9vh60BGF110qTABQauqqqrqSPNAdV8eW/Hd9EA9tiJoeHL+QAQNJ3WnPQBBQcNJ3Zf48UC2Img4QRkBQan78tiaegNB",
          "dtype": "f8"
         },
         "yaxis": "y"
        },
        {
         "customdata": [
          [
           "Bolivia (Plurinational State of)"
          ],
          [
           "Canada"
          ],
          [
           "Chile"
          ],
          [
           "Peru"
          ],
          [
           "United States of America"
          ]
         ],
         "hovertemplate": "Item=Cherries, sour<br>Area_avg=%{x}<br>Yield_avg=%{y}<br>Area=%{customdata[0]}<extra></extra>",
         "legendgroup": "Cherries, sour",
         "marker": {
          "color": "#B6E880",
          "symbol": "circle"
         },
         "mode": "markers",
         "name": "Cherries, sour",
         "showlegend": true,
         "type": "scattergl",
         "x": {
          "bdata": "3t3d3d1db0AJGk7qvrSPQLy7u7u762JAWlpaWlo6aECPrQgajinSQA==",
          "dtype": "f8"
         },
         "xaxis": "x",
         "y": {
          "bdata": "d3d3dzdqzUC2Img4iUvwQE8jLPekLPNAxMPDw+M77ECc1H15jM3vQA==",
          "dtype": "f8"
         },
         "yaxis": "y"
        },
        {
         "customdata": [
          [
           "Bolivia (Plurinational State of)"
          ],
          [
           "Chile"
          ],
          [
           "Peru"
          ],
          [
           "Trinidad and Tobago"
          ]
         ],
         "hovertemplate": "Item=Chestnut<br>Area_avg=%{x}<br>Yield_avg=%{y}<br>Area=%{customdata[0]}<extra></extra>",
         "legendgroup": "Chestnut",
         "marker": {
          "color": "#FF97FF",
          "symbol": "circle"
         },
         "mode": "markers",
         "name": "Chestnut",
         "showlegend": true,
         "type": "scattergl",
         "x": {
          "bdata": "oQ7qoE4Y4UAAAAAAAHqBQBFCCCGEiIBAAAAAAAAA+H8=",
          "dtype": "f8"
         },
         "xaxis": "x",
         "y": {
          "bdata": "1EEd1MFtykAiIiIiYr7RQMYYY4zxfeBAAAAAAAAA+H8=",
          "dtype": "f8"
         },
         "yaxis": "y"
        },
        {
         "customdata": [
          [
           "Bolivia (Plurinational State of)"
          ],
          [
           "Brazil"
          ],
          [
           "Costa Rica"
          ],
          [
           "Dominica"
          ],
          [
           "Ecuador"
          ],
          [
           "Guatemala"
          ],
          [
           "Guyana"
          ],
          [
           "Honduras"
          ],
          [
           "Mexico"
          ],
          [
           "Peru"
          ],
          [
           "Saint Lucia"
          ]
         ],
         "hovertemplate": "Item=Pepper (piper spp.)<br>Area_avg=%{x}<br>Yield_avg=%{y}<br>Area=%{customdata[0]}<extra></extra>",
         "legendgroup": "Pepper (piper spp.)",
         "marker": {
          "color": "#FECB52",
          "symbol": "circle"
         },
         "mode": "markers",
         "name": "Pepper (piper spp.)",
         "showlegend": true,
         "type": "scattergl",
         "x": {
          "bdata": "dNFFF10UhEDipO7LoyDSQFVVVVVVRXJAAAAAAAAAAADoeZ7neY6XQNu2bdu29YlAZCELWci6hUDvy2MrgjaDQF8eWxE0SJ5ADw8PDw+PW0DNzMzMzOxuQA==",
          "dtype": "f8"
         },
         "xaxis": "x",
         "y": {
          "bdata": "F1100UVVukCc1H157GPWQH3Lt3xLaeZAAAAAAAAA+H8AAAAAgB/UQB3UQR3UYrdAAAAAAADisUCUui+PrUqzQGxF0HDSXMxAWlpaWhrC2EAAAAAAAGm8QA==",
          "dtype": "f8"
         },
         "yaxis": "y"
        },
        {
         "customdata": [
          [
           "Bolivia (Plurinational State of)"
          ],
          [
           "Brazil"
          ],
          [
           "Ecuador"
          ]
         ],
         "hovertemplate": "Item=Pyrethrum, dried<br>Area_avg=%{x}<br>Yield_avg=%{y}<br>Area=%{customdata[0]}<extra></extra>",
         "legendgroup": "Pyrethrum, dried",
         "marker": {
          "color": "#636efa",
          "symbol": "circle"
         },
         "mode": "markers",
         "name": "Pyrethrum, dried",
         "showlegend": true,
         "type": "scattergl",
         "x": {
          "bdata": "AAAAAAAA+H8AAAAAAAD4f1sRNJzUzZFA",
          "dtype": "f8"
         },
         "xaxis": "x",
         "y": {
          "bdata": "AAAAAAAA+H8AAAAAAAD4f5S6L4+tyrFA",
          "dtype": "f8"
         },
         "yaxis": "y"
        },
        {
         "customdata": [
          [
           "Bolivia (Plurinational State of)"
          ],
          [
           "Ecuador"
          ],
          [
           "Peru"
          ]
         ],
         "hovertemplate": "Item=Quinoa<br>Area_avg=%{x}<br>Yield_avg=%{y}<br>Area=%{customdata[0]}<extra></extra>",
         "legendgroup": "Quinoa",
         "marker": {
          "color": "#EF553B",
          "symbol": "circle"
         },
         "mode": "markers",
         "name": "Quinoa",
         "showlegend": true,
         "type": "scattergl",
         "x": {
          "bdata": "NJzUfZlw5UBkK4KGk9qXQFsRNJzUp9lA",
          "dtype": "f8"
         },
         "xaxis": "x",
         "y": {
          "bdata": "lLovj61LtkAaTuq+PDC7QOKk7stjD8FA",
          "dtype": "f8"
         },
         "yaxis": "y"
        },
        {
         "customdata": [
          [
           "Bolivia (Plurinational State of)"
          ],
          [
           "Brazil"
          ],
          [
           "Colombia"
          ],
          [
           "Costa Rica"
          ],
          [
           "Dominican Republic"
          ],
          [
           "Ecuador"
          ],
          [
           "Guatemala"
          ],
          [
           "Mexico"
          ],
          [
           "Peru"
          ]
         ],
         "hovertemplate": "Item=Rubber, natural<br>Area_avg=%{x}<br>Yield_avg=%{y}<br>Area=%{customdata[0]}<extra></extra>",
         "legendgroup": "Rubber, natural",
         "marker": {
          "color": "#00cc96",
          "symbol": "circle"
         },
         "mode": "markers",
         "name": "Rubber, natural",
         "showlegend": true,
         "type": "scattergl",
         "x": {
          "bdata": "AAAAAAAAAAC+4iu+wiH3QAAAAAAAAPh/AAAAAAAA+H/NzMzMzGxQQPQFfUFfC7dAmpmZmanu6UAAAAAAINPKQAAAAAAAAPh/",
          "dtype": "f8"
         },
         "xaxis": "x",
         "y": {
          "bdata": "AAAAAAAA+H9JkiRJklXDQAAAAAAAAPh/AAAAAAAA+H8AAAAAQOjAQLkj7og7tcVAZmZmZu6y0kDNzMzMNBjUQAAAAAAAAPh/",
          "dtype": "f8"
         },
         "yaxis": "y"
        },
        {
         "customdata": [
          [
           "Bolivia (Plurinational State of)"
          ],
          [
           "Brazil"
          ],
          [
           "Colombia"
          ],
          [
           "Costa Rica"
          ],
          [
           "Dominican Republic"
          ],
          [
           "Ecuador"
          ],
          [
           "El Salvador"
          ],
          [
           "Guatemala"
          ],
          [
           "Haiti"
          ],
          [
           "Honduras"
          ],
          [
           "Mexico"
          ],
          [
           "Nicaragua"
          ],
          [
           "Panama"
          ],
          [
           "Paraguay"
          ],
          [
           "Peru"
          ],
          [
           "United States of America"
          ],
          [
           "Venezuela (Bolivarian Republic of)"
          ]
         ],
         "hovertemplate": "Item=Sesame seed<br>Area_avg=%{x}<br>Yield_avg=%{y}<br>Area=%{customdata[0]}<extra></extra>",
         "legendgroup": "Sesame seed",
         "marker": {
          "color": "#ab63fa",
          "symbol": "circle"
         },
         "mode": "markers",
         "name": "Sesame seed",
         "showlegend": true,
         "type": "scattergl",
         "x": {
          "bdata": "7+7u7k6f0EBK3ZfHVr7OQNmKoOFk5NBAETSc1H3ZZ0AAAAAAAECCQBE0nNR96YRA/PLYiqDTu0Ch4aTuC8TbQGxF0HBSZcZAWxE0nNT9l0D88tiK0GIAQe/LYysCUsdAOKn78th6dEBiGIZhmKvoQEXQcFL3xWVAkiRJkiRZh0CHk7ovn8rzQA==",
          "dtype": "f8"
         },
         "xaxis": "x",
         "y": {
          "bdata": "jbDc0wgmvUDipO7LYxi4QCuChpO6uLlAmMdWBA0NtkDv7u7ubgGzQAkaTuq+4r1ADSd1Xx59v0AndV8eW+HAQPzy2IqgXaZAHlsRNJwwwEAAAAAAANe2QPPYiqDhy7ZA78tjK4JctUAYhmEYhry9QCuChpO6xcJAAAAAAABStUDMYyuChj60QA==",
          "dtype": "f8"
         },
         "yaxis": "y"
        },
        {
         "customdata": [
          [
           "Bolivia (Plurinational State of)"
          ],
          [
           "Chile"
          ],
          [
           "Colombia"
          ],
          [
           "Costa Rica"
          ],
          [
           "Ecuador"
          ],
          [
           "Guatemala"
          ],
          [
           "Mexico"
          ],
          [
           "Peru"
          ],
          [
           "United States of America"
          ]
         ],
         "hovertemplate": "Item=Vegetables, leguminous nes<br>Area_avg=%{x}<br>Yield_avg=%{y}<br>Area=%{customdata[0]}<extra></extra>",
         "legendgroup": "Vegetables, leguminous nes",
         "marker": {
          "color": "#FFA15A",
          "symbol": "circle"
         },
         "mode": "markers",
         "name": "Vegetables, leguminous nes",
         "showlegend": true,
         "type": "scattergl",
         "x": {
          "bdata": "Tuq+PDbk2EAwj60IGgKiQAAAAADgo7ZAAAAAAAAA+H9kK4KGk0C8QEHDSd2XY7VALL7iKz6nxUBkK4KGE6nDQAAAAAAIacxA",
          "dtype": "f8"
         },
         "xaxis": "x",
         "y": {
          "bdata": "OKn78pjA0UDZiqDhVNnzQAAAAACKEudAAAAAAAAA+H84qfvyWCvQQLYiaDjp1eNAB3VQB5U66UB1Xx5bEbrkQAAAAAAQF99A",
          "dtype": "f8"
         },
         "yaxis": "y"
        },
        {
         "customdata": [
          [
           "Brazil"
          ],
          [
           "Chile"
          ],
          [
           "Cuba"
          ],
          [
           "El Salvador"
          ],
          [
           "Guatemala"
          ]
         ],
         "hovertemplate": "Item=Bastfibres, other<br>Area_avg=%{x}<br>Yield_avg=%{y}<br>Area=%{customdata[0]}<extra></extra>",
         "legendgroup": "Bastfibres, other",
         "marker": {
          "color": "#19d3f3",
          "symbol": "circle"
         },
         "mode": "markers",
         "name": "Bastfibres, other",
         "showlegend": true,
         "type": "scattergl",
         "x": {
          "bdata": "Tuq+PLYT00BJkiRJkqHFQGg4qfvyv7lAj60IGk5aoEArgoaTut94QA==",
          "dtype": "f8"
         },
         "xaxis": "x",
         "y": {
          "bdata": "DSd1X55XyEAlSZIkCaPCQO/LYyvC7tpAHlsRNByUx0DDSd2Xx2TCQA==",
          "dtype": "f8"
         },
         "yaxis": "y"
        },
        {
         "customdata": [
          [
           "Brazil"
          ],
          [
           "Canada"
          ],
          [
           "Guatemala"
          ],
          [
           "United States of America"
          ]
         ],
         "hovertemplate": "Item=Buckwheat<br>Area_avg=%{x}<br>Yield_avg=%{y}<br>Area=%{customdata[0]}<extra></extra>",
         "legendgroup": "Buckwheat",
         "marker": {
          "color": "#FF6692",
          "symbol": "circle"
         },
         "mode": "markers",
         "name": "Buckwheat",
         "showlegend": true,
         "type": "scattergl",
         "x": {
          "bdata": "K4KGk7om4UAWQcNJ3erVQAAAAAAAAPh/j60IGg5H7EA=",
          "dtype": "f8"
         },
         "xaxis": "x",
         "y": {
          "bdata": "qfvy2Ir0xUD3EtpLqD3DQAAAAAAAAPh/CRpO6j6kxEA=",
          "dtype": "f8"
         },
         "yaxis": "y"
        },
        {
         "customdata": [
          [
           "Brazil"
          ],
          [
           "Guyana"
          ]
         ],
         "hovertemplate": "Item=Cashewapple<br>Area_avg=%{x}<br>Yield_avg=%{y}<br>Area=%{customdata[0]}<extra></extra>",
         "legendgroup": "Cashewapple",
         "marker": {
          "color": "#B6E880",
          "symbol": "circle"
         },
         "mode": "markers",
         "name": "Cashewapple",
         "showlegend": true,
         "type": "scattergl",
         "x": {
          "bdata": "78tjK/5cGUEAAAAAAADwPw==",
          "dtype": "f8"
         },
         "xaxis": "x",
         "y": {
          "bdata": "bEXQcDKh4EAAAAAAANvqQA==",
          "dtype": "f8"
         },
         "yaxis": "y"
        },
        {
         "customdata": [
          [
           "Brazil"
          ]
         ],
         "hovertemplate": "Item=Fruit, stone nes<br>Area_avg=%{x}<br>Yield_avg=%{y}<br>Area=%{customdata[0]}<extra></extra>",
         "legendgroup": "Fruit, stone nes",
         "marker": {
          "color": "#FF97FF",
          "symbol": "circle"
         },
         "mode": "markers",
         "name": "Fruit, stone nes",
         "showlegend": true,
         "type": "scattergl",
         "x": {
          "bdata": "AAAAAAAA+H8=",
          "dtype": "f8"
         },
         "xaxis": "x",
         "y": {
          "bdata": "AAAAAAAA+H8=",
          "dtype": "f8"
         },
         "yaxis": "y"
        },
        {
         "customdata": [
          [
           "Brazil"
          ],
          [
           "El Salvador"
          ],
          [
           "Peru"
          ]
         ],
         "hovertemplate": "Item=Jute<br>Area_avg=%{x}<br>Yield_avg=%{y}<br>Area=%{customdata[0]}<extra></extra>",
         "legendgroup": "Jute",
         "marker": {
          "color": "#FECB52",
          "symbol": "circle"
         },
         "mode": "markers",
         "name": "Jute",
         "showlegend": true,
         "type": "scattergl",
         "x": {
          "bdata": "J3VfHtulz0Bu27Zt25ZZQE7qvjy2opVA",
          "dtype": "f8"
         },
         "xaxis": "x",
         "y": {
          "bdata": "6r48tiJQx0BJkiRJ8qPQQIKGk7qvCs5A",
          "dtype": "f8"
         },
         "yaxis": "y"
        },
        {
         "customdata": [
          [
           "Brazil"
          ],
          [
           "Chile"
          ],
          [
           "Colombia"
          ],
          [
           "Costa Rica"
          ],
          [
           "Dominica"
          ],
          [
           "Guatemala"
          ],
          [
           "Mexico"
          ],
          [
           "Peru"
          ],
          [
           "United States of America"
          ]
         ],
         "hovertemplate": "Item=Nuts nes<br>Area_avg=%{x}<br>Yield_avg=%{y}<br>Area=%{customdata[0]}<extra></extra>",
         "legendgroup": "Nuts nes",
         "marker": {
          "color": "#636efa",
          "symbol": "circle"
         },
         "mode": "markers",
         "name": "Nuts nes",
         "showlegend": true,
         "type": "scattergl",
         "x": {
          "bdata": "mpmZmZmDqEAAAAAAAAD4fyVJkiRJsmpAkMH5GJyPoUAAAAAAAAD4fwbnY3A+Lq5A1X15bOW24EBS9+WxFcF+QCy+4isehfFA",
          "dtype": "f8"
         },
         "xaxis": "x",
         "y": {
          "bdata": "RERERETut0AAAAAAAAD4fyVJkiTJNN9AonYlaleouEAAAAAAAAD4f+djcD7mPOhAj60IGs4a00Cp+/LYil/QQPEVX/FVn9RA",
          "dtype": "f8"
         },
         "yaxis": "y"
        },
        {
         "customdata": [
          [
           "Brazil"
          ],
          [
           "Colombia"
          ],
          [
           "Costa Rica"
          ],
          [
           "Dominican Republic"
          ],
          [
           "Ecuador"
          ],
          [
           "Guatemala"
          ],
          [
           "Honduras"
          ],
          [
           "Mexico"
          ],
          [
           "Nicaragua"
          ],
          [
           "Panama"
          ],
          [
           "Paraguay"
          ],
          [
           "Peru"
          ],
          [
           "Suriname"
          ],
          [
           "Venezuela (Bolivarian Republic of)"
          ]
         ],
         "hovertemplate": "Item=Oil palm fruit<br>Area_avg=%{x}<br>Yield_avg=%{y}<br>Area=%{customdata[0]}<extra></extra>",
         "legendgroup": "Oil palm fruit",
         "marker": {
          "color": "#EF553B",
          "symbol": "circle"
         },
         "mode": "markers",
         "name": "Oil palm fruit",
         "showlegend": true,
         "type": "scattergl",
         "x": {
          "bdata": "FkHDST2+6UA0nNR9KVz7QO/LYyvCBNxAY4wxxphmzkCh4aTuu5n2QA6myGddJ+dAETSc1P0s50AEDSd1HznRQIqd2ImdSaVApze96U0btUANJ3VfHj7OQEjhehTua8tAKVyPwvV5oEBmZmZmJtXUQA==",
          "dtype": "f8"
         },
         "xaxis": "x",
         "y": {
          "bdata": "0HBS97Xh+UCh4aTua4gEQdBwUvdtNgJB33vvvV+YAUFkK4KGg8T5QFo3mCIPogFBaDip+wL+/UAJGk7qVscCQdmJndhBAwJBspCFLIT2+EAaTuq+rD/2QBSuR+E2SQNBhixkIUt43kAAAAAANrz5QA==",
          "dtype": "f8"
         },
         "yaxis": "y"
        },
        {
         "customdata": [
          [
           "Brazil"
          ],
          [
           "Chile"
          ],
          [
           "Mexico"
          ]
         ],
         "hovertemplate": "Item=Persimmons<br>Area_avg=%{x}<br>Yield_avg=%{y}<br>Area=%{customdata[0]}<extra></extra>",
         "legendgroup": "Persimmons",
         "marker": {
          "color": "#00cc96",
          "symbol": "circle"
         },
         "mode": "markers",
         "name": "Persimmons",
         "showlegend": true,
         "type": "scattergl",
         "x": {
          "bdata": "K4KGk7qItEAiIiIiIgJZQNmJndiJnUBA",
          "dtype": "f8"
         },
         "xaxis": "x",
         "y": {
          "bdata": "ZCuChqO7/kD3NMJyrx/kQNmJndiJ1PRA",
          "dtype": "f8"
         },
         "yaxis": "y"
        },
        {
         "customdata": [
          [
           "Brazil"
          ]
         ],
         "hovertemplate": "Item=Ramie<br>Area_avg=%{x}<br>Yield_avg=%{y}<br>Area=%{customdata[0]}<extra></extra>",
         "legendgroup": "Ramie",
         "marker": {
          "color": "#ab63fa",
          "symbol": "circle"
         },
         "mode": "markers",
         "name": "Ramie",
         "showlegend": true,
         "type": "scattergl",
         "x": {
          "bdata": "bEXQcFJWvEA=",
          "dtype": "f8"
         },
         "xaxis": "x",
         "y": {
          "bdata": "2FBeQzkD00A=",
          "dtype": "f8"
         },
         "yaxis": "y"
        },
        {
         "customdata": [
          [
           "Brazil"
          ],
          [
           "Cuba"
          ],
          [
           "Dominican Republic"
          ],
          [
           "Guatemala"
          ],
          [
           "Haiti"
          ],
          [
           "Jamaica"
          ],
          [
           "Mexico"
          ],
          [
           "Venezuela (Bolivarian Republic of)"
          ]
         ],
         "hovertemplate": "Item=Sisal<br>Area_avg=%{x}<br>Yield_avg=%{y}<br>Area=%{customdata[0]}<extra></extra>",
         "legendgroup": "Sisal",
         "marker": {
          "color": "#FFA15A",
          "symbol": "circle"
         },
         "mode": "markers",
         "name": "Sisal",
         "showlegend": true,
         "type": "scattergl",
         "x": {
          "bdata": "K4KGk6o1DkFSuB6F61CrQAAAAAAAaIZAAAAAAAAA+H8wj60IGvjUQGg4qfvyWIVAgoaTui8p90AeWxE0nIG6QA==",
          "dtype": "f8"
         },
         "xaxis": "x",
         "y": {
          "bdata": "nNR9eWyZv0CuR+F6lL29QO/LYyuCsKtAAAAAAAAA+H+ChpO6L7S1QLsvj60IC7ZAoeGk7stIxEAJGk7qPmnLQA==",
          "dtype": "f8"
         },
         "yaxis": "y"
        },
        {
         "customdata": [
          [
           "Brazil"
          ],
          [
           "Canada"
          ],
          [
           "Chile"
          ],
          [
           "Mexico"
          ]
         ],
         "hovertemplate": "Item=Triticale<br>Area_avg=%{x}<br>Yield_avg=%{y}<br>Area=%{customdata[0]}<extra></extra>",
         "legendgroup": "Triticale",
         "marker": {
          "color": "#19d3f3",
          "symbol": "circle"
         },
         "mode": "markers",
         "name": "Triticale",
         "showlegend": true,
         "type": "scattergl",
         "x": {
          "bdata": "ERERETEP50CllFJKKYvQQAAAAAA00tJAmpmZmZngm0A=",
          "dtype": "f8"
         },
         "xaxis": "x",
         "y": {
          "bdata": "iYiIiEjB1kAAAAAAQEjYQAAAAACk++lAAAAAAACH2kA=",
          "dtype": "f8"
         },
         "yaxis": "y"
        },
        {
         "customdata": [
          [
           "Canada"
          ],
          [
           "Costa Rica"
          ],
          [
           "Ecuador"
          ],
          [
           "Mexico"
          ],
          [
           "United States of America"
          ]
         ],
         "hovertemplate": "Item=Berries nes<br>Area_avg=%{x}<br>Yield_avg=%{y}<br>Area=%{customdata[0]}<extra></extra>",
         "legendgroup": "Berries nes",
         "marker": {
          "color": "#FF6692",
          "symbol": "circle"
         },
         "mode": "markers",
         "name": "Berries nes",
         "showlegend": true,
         "type": "scattergl",
         "x": {
          "bdata": "AAAAAAAA+H87qIM6qINMQBdddNFFhqBAZmZmZmZgs0Dqvjy2Ii6kQA==",
          "dtype": "f8"
         },
         "xaxis": "x",
         "y": {
          "bdata": "AAAAAAAA+H+3bdu2pYMJQS+66KJ7p9tAq6qqqr63AEGPrQga7qnxQA==",
          "dtype": "f8"
         },
         "yaxis": "y"
        },
        {
         "customdata": [
          [
           "Canada"
          ],
          [
           "Mexico"
          ],
          [
           "Peru"
          ],
          [
           "United States of America"
          ]
         ],
         "hovertemplate": "Item=Blueberries<br>Area_avg=%{x}<br>Yield_avg=%{y}<br>Area=%{customdata[0]}<extra></extra>",
         "legendgroup": "Blueberries",
         "marker": {
          "color": "#B6E880",
          "symbol": "circle"
         },
         "mode": "markers",
         "name": "Blueberries",
         "showlegend": true,
         "type": "scattergl",
         "x": {
          "bdata": "1X15bMUj0UC+hPYS2kOKQGZmZmZmSqJAFkHDSV320UA=",
          "dtype": "f8"
         },
         "xaxis": "x",
         "y": {
          "bdata": "zGMrggb620CY0F5Cq3rwQJqZmZnhp/NA78tjK8IO50A=",
          "dtype": "f8"
         },
         "yaxis": "y"
        },
        {
         "customdata": [
          [
           "Canada"
          ],
          [
           "Chile"
          ],
          [
           "United States of America"
          ]
         ],
         "hovertemplate": "Item=Cranberries<br>Area_avg=%{x}<br>Yield_avg=%{y}<br>Area=%{customdata[0]}<extra></extra>",
         "legendgroup": "Cranberries",
         "marker": {
          "color": "#FF97FF",
          "symbol": "circle"
         },
         "mode": "markers",
         "name": "Cranberries",
         "showlegend": true,
         "type": "scattergl",
         "x": {
          "bdata": "QcNJ3ZczoEBmZmZmZvm0QMxjK4IGw8dA",
          "dtype": "f8"
         },
         "xaxis": "x",
         "y": {
          "bdata": "rggaTuppAkGNsNzTqK7vQJzUfXkEtgJB",
          "dtype": "f8"
         },
         "yaxis": "y"
        },
        {
         "customdata": [
          [
           "Canada"
          ]
         ],
         "hovertemplate": "Item=Grain, mixed<br>Area_avg=%{x}<br>Yield_avg=%{y}<br>Area=%{customdata[0]}<extra></extra>",
         "legendgroup": "Grain, mixed",
         "marker": {
          "color": "#FECB52",
          "symbol": "circle"
         },
         "mode": "markers",
         "name": "Grain, mixed",
         "showlegend": true,
         "type": "scattergl",
         "x": {
          "bdata": "3ZfHVjBYFkE=",
          "dtype": "f8"
         },
         "xaxis": "x",
         "y": {
          "bdata": "AAAAAAAQ2kA=",
          "dtype": "f8"
         },
         "yaxis": "y"
        },
        {
         "customdata": [
          [
           "Canada"
          ],
          [
           "Chile"
          ],
          [
           "United States of America"
          ]
         ],
         "hovertemplate": "Item=Kiwi fruit<br>Area_avg=%{x}<br>Yield_avg=%{y}<br>Area=%{customdata[0]}<extra></extra>",
         "legendgroup": "Kiwi fruit",
         "marker": {
          "color": "#636efa",
          "symbol": "circle"
         },
         "mode": "markers",
         "name": "Kiwi fruit",
         "showlegend": true,
         "type": "scattergl",
         "x": {
          "bdata": "AAAAAADAIUBRXkN5DdS+QDMzMzOzoJ5A",
          "dtype": "f8"
         },
         "xaxis": "x",
         "y": {
          "bdata": "AAAAwLDUAEG9hvIaVlkBQZqZmZk22QBB",
          "dtype": "f8"
         },
         "yaxis": "y"
        },
        {
         "customdata": [
          [
           "Canada"
          ],
          [
           "Costa Rica"
          ],
          [
           "Mexico"
          ],
          [
           "Peru"
          ],
          [
           "Trinidad and Tobago"
          ]
         ],
         "hovertemplate": "Item=Leeks, other alliaceous vegetables<br>Area_avg=%{x}<br>Yield_avg=%{y}<br>Area=%{customdata[0]}<extra></extra>",
         "legendgroup": "Leeks, other alliaceous vegetables",
         "marker": {
          "color": "#EF553B",
          "symbol": "circle"
         },
         "mode": "markers",
         "name": "Leeks, other alliaceous vegetables",
         "showlegend": true,
         "type": "scattergl",
         "x": {
          "bdata": "VVVVVVWVc0BP7MRO7MQWQI7jOI7j4HdAyEIWspBhiUAAAAAAABBfQA==",
          "dtype": "f8"
         },
         "xaxis": "x",
         "y": {
          "bdata": "QnsJ7e0RAEEUO7ETy1P3QI7jOI5/cQFB3/SmN1V//0AAAAAAI7wEQQ==",
          "dtype": "f8"
         },
         "yaxis": "y"
        },
        {
         "customdata": [
          [
           "Canada"
          ],
          [
           "Mexico"
          ],
          [
           "United States of America"
          ]
         ],
         "hovertemplate": "Item=Mustard seed<br>Area_avg=%{x}<br>Yield_avg=%{y}<br>Area=%{customdata[0]}<extra></extra>",
         "legendgroup": "Mustard seed",
         "marker": {
          "color": "#00cc96",
          "symbol": "circle"
         },
         "mode": "markers",
         "name": "Mustard seed",
         "showlegend": true,
         "type": "scattergl",
         "x": {
          "bdata": "5rEVQVNxAkHyWTeYIp8yQDSc1H15idBA",
          "dtype": "f8"
         },
         "xaxis": "x",
         "y": {
          "bdata": "RdBwUncYwkDwwQcfPMHiQIeTui8PBcJA",
          "dtype": "f8"
         },
         "yaxis": "y"
        },
        {
         "customdata": [
          [
           "Canada"
          ],
          [
           "El Salvador"
          ],
          [
           "Peru"
          ]
         ],
         "hovertemplate": "Item=Oilseeds nes<br>Area_avg=%{x}<br>Yield_avg=%{y}<br>Area=%{customdata[0]}<extra></extra>",
         "legendgroup": "Oilseeds nes",
         "marker": {
          "color": "#ab63fa",
          "symbol": "circle"
         },
         "mode": "markers",
         "name": "Oilseeds nes",
         "showlegend": true,
         "type": "scattergl",
         "x": {
          "bdata": "Hh4eHh55sEAAAAAAAAD4fwAAAAAAAPh/",
          "dtype": "f8"
         },
         "xaxis": "x",
         "y": {
          "bdata": "4uHh4SHE0UAAAAAAAAD4fwAAAAAAAPh/",
          "dtype": "f8"
         },
         "yaxis": "y"
        },
        {
         "customdata": [
          [
           "Canada"
          ],
          [
           "Chile"
          ],
          [
           "Mexico"
          ],
          [
           "United States of America"
          ]
         ],
         "hovertemplate": "Item=Raspberries<br>Area_avg=%{x}<br>Yield_avg=%{y}<br>Area=%{customdata[0]}<extra></extra>",
         "legendgroup": "Raspberries",
         "marker": {
          "color": "#FFA15A",
          "symbol": "circle"
         },
         "mode": "markers",
         "name": "Raspberries",
         "showlegend": true,
         "type": "scattergl",
         "x": {
          "bdata": "78tjK4JEpEDv7u7ubgixQC0tLS0t/5NAeWxF0HDcskA=",
          "dtype": "f8"
         },
         "xaxis": "x",
         "y": {
          "bdata": "BA0ndX8+5kASlnsaQQjiQAAAAAAI+fhA9+WxFVEo8kA=",
          "dtype": "f8"
         },
         "yaxis": "y"
        },
        {
         "customdata": [
          [
           "Canada"
          ],
          [
           "Colombia"
          ],
          [
           "Costa Rica"
          ],
          [
           "Haiti"
          ],
          [
           "Jamaica"
          ],
          [
           "Mexico"
          ],
          [
           "Peru"
          ],
          [
           "United States of America"
          ],
          [
           "Venezuela (Bolivarian Republic of)"
          ]
         ],
         "hovertemplate": "Item=Spinach<br>Area_avg=%{x}<br>Yield_avg=%{y}<br>Area=%{customdata[0]}<extra></extra>",
         "legendgroup": "Spinach",
         "marker": {
          "color": "#19d3f3",
          "symbol": "circle"
         },
         "mode": "markers",
         "name": "Spinach",
         "showlegend": true,
         "type": "scattergl",
         "x": {
          "bdata": "DSd1Xx7bf0AJGk7qvix6QE5vetOb3iBAeWxF0HDSRUAWQcNJ3f+HQM3MzMxM2pVAeWxF0HCihkAAAAAAgNPPQI7jOI7jWG9A",
          "dtype": "f8"
         },
         "xaxis": "x",
         "y": {
          "bdata": "BA0ndZ8h8kA0nNR9SfH3QKc3venN0etAuy+PrSjb/kAeWxE0/Ef9QDMzMzPBSf1AWxE0nCSkAEEAAAAAMEoCQVVVVVU5AwFB",
          "dtype": "f8"
         },
         "yaxis": "y"
        },
        {
         "customdata": [
          [
           "Canada"
          ],
          [
           "Chile"
          ],
          [
           "Colombia"
          ],
          [
           "Dominican Republic"
          ],
          [
           "Ecuador"
          ],
          [
           "Mexico"
          ],
          [
           "Nicaragua"
          ],
          [
           "United States of America"
          ],
          [
           "Uruguay"
          ],
          [
           "Venezuela (Bolivarian Republic of)"
          ]
         ],
         "hovertemplate": "Item=Sugar beet<br>Area_avg=%{x}<br>Yield_avg=%{y}<br>Area=%{customdata[0]}<extra></extra>",
         "legendgroup": "Sugar beet",
         "marker": {
          "color": "#FF6692",
          "symbol": "circle"
         },
         "mode": "markers",
         "name": "Sugar beet",
         "showlegend": true,
         "type": "scattergl",
         "x": {
          "bdata": "yFYEDedv1UAeWxE0HMHfQNOb3vSmt4xAAAAAAAAA+H80nNR9eex9QDLGGGOMMUdAAAAAAAAA+H/vy2MrThgfQb3pTW/6C8FATyMs9zQCj0A=",
          "dtype": "f8"
         },
         "xaxis": "x",
         "y": {
          "bdata": "1X15bK2DGkE4qfvyGnQiQd/0pjft6QpBAAAAAAAA+H/MYyuCFu/xQJ1zzjk3qhBBAAAAAAAA+H/ZiqDhJHMeQdFFF13ESRJBwnJPI9SjBkE=",
          "dtype": "f8"
         },
         "yaxis": "y"
        },
        {
         "customdata": [
          [
           "Chile"
          ],
          [
           "United States of America"
          ]
         ],
         "hovertemplate": "Item=Currants<br>Area_avg=%{x}<br>Yield_avg=%{y}<br>Area=%{customdata[0]}<extra></extra>",
         "legendgroup": "Currants",
         "marker": {
          "color": "#B6E880",
          "symbol": "circle"
         },
         "mode": "markers",
         "name": "Currants",
         "showlegend": true,
         "type": "scattergl",
         "x": {
          "bdata": "d3d3d3d3EUBP7MRO7IQ9QA==",
          "dtype": "f8"
         },
         "xaxis": "x",
         "y": {
          "bdata": "GmG5p6GFEUHpoosuanjiQA==",
          "dtype": "f8"
         },
         "yaxis": "y"
        },
        {
         "customdata": [
          [
           "Chile"
          ],
          [
           "United States of America"
          ]
         ],
         "hovertemplate": "Item=Hazelnuts, with shell<br>Area_avg=%{x}<br>Yield_avg=%{y}<br>Area=%{customdata[0]}<extra></extra>",
         "legendgroup": "Hazelnuts, with shell",
         "marker": {
          "color": "#FF97FF",
          "symbol": "circle"
         },
         "mode": "markers",
         "name": "Hazelnuts, with shell",
         "showlegend": true,
         "type": "scattergl",
         "x": {
          "bdata": "ZmZmZua5tEBS9+WxFdXDQA==",
          "dtype": "f8"
         },
         "xaxis": "x",
         "y": {
          "bdata": "wnJPIywBskAAAAAAADzTQA==",
          "dtype": "f8"
         },
         "yaxis": "y"
        },
        {
         "customdata": [
          [
           "Chile"
          ]
         ],
         "hovertemplate": "Item=Hemp tow waste<br>Area_avg=%{x}<br>Yield_avg=%{y}<br>Area=%{customdata[0]}<extra></extra>",
         "legendgroup": "Hemp tow waste",
         "marker": {
          "color": "#FECB52",
          "symbol": "circle"
         },
         "mode": "markers",
         "name": "Hemp tow waste",
         "showlegend": true,
         "type": "scattergl",
         "x": {
          "bdata": "6r48tiLgr0A=",
          "dtype": "f8"
         },
         "xaxis": "x",
         "y": {
          "bdata": "tiJoOCnvwkA=",
          "dtype": "f8"
         },
         "yaxis": "y"
        },
        {
         "customdata": [
          [
           "Chile"
          ]
         ],
         "hovertemplate": "Item=Hempseed<br>Area_avg=%{x}<br>Yield_avg=%{y}<br>Area=%{customdata[0]}<extra></extra>",
         "legendgroup": "Hempseed",
         "marker": {
          "color": "#636efa",
          "symbol": "circle"
         },
         "mode": "markers",
         "name": "Hempseed",
         "showlegend": true,
         "type": "scattergl",
         "x": {
          "bdata": "VwQNJ3V3nEA=",
          "dtype": "f8"
         },
         "xaxis": "x",
         "y": {
          "bdata": "qfvy2ArtwUA=",
          "dtype": "f8"
         },
         "yaxis": "y"
        },
        {
         "customdata": [
          [
           "Colombia"
          ],
          [
           "Cuba"
          ],
          [
           "Ecuador"
          ],
          [
           "El Salvador"
          ],
          [
           "Guatemala"
          ],
          [
           "Mexico"
          ],
          [
           "Nicaragua"
          ]
         ],
         "hovertemplate": "Item=Agave fibres nes<br>Area_avg=%{x}<br>Yield_avg=%{y}<br>Area=%{customdata[0]}<extra></extra>",
         "legendgroup": "Agave fibres nes",
         "marker": {
          "color": "#EF553B",
          "symbol": "circle"
         },
         "mode": "markers",
         "name": "Agave fibres nes",
         "showlegend": true,
         "type": "scattergl",
         "x": {
          "bdata": "FkHDSd160kCh4aTuyzbGQHfEHXFHhKVAfnlsRdCct0A4qfvy2Kp7QHkN5TWUKsRAVwQNJ3X7rUA=",
          "dtype": "f8"
         },
         "xaxis": "x",
         "y": {
          "bdata": "K4KGk7pGyEDDSd2Xx/a+QEFf0Bd028pAmMdWBA3XukCp+/LYilLAQF5DeQ3ln79AI2g4qfs5vkA=",
          "dtype": "f8"
         },
         "yaxis": "y"
        },
        {
         "customdata": [
          [
           "Colombia"
          ]
         ],
         "hovertemplate": "Item=Cassava leaves<br>Area_avg=%{x}<br>Yield_avg=%{y}<br>Area=%{customdata[0]}<extra></extra>",
         "legendgroup": "Cassava leaves",
         "marker": {
          "color": "#00cc96",
          "symbol": "circle"
         },
         "mode": "markers",
         "name": "Cassava leaves",
         "showlegend": true,
         "type": "scattergl",
         "x": {
          "bdata": "AAAAAIzQDEE=",
          "dtype": "f8"
         },
         "xaxis": "x",
         "y": {
          "bdata": "27Zt296P90A=",
          "dtype": "f8"
         },
         "yaxis": "y"
        },
        {
         "customdata": [
          [
           "Colombia"
          ],
          [
           "Mexico"
          ],
          [
           "Peru"
          ],
          [
           "United States of America"
          ]
         ],
         "hovertemplate": "Item=Dates<br>Area_avg=%{x}<br>Yield_avg=%{y}<br>Area=%{customdata[0]}<extra></extra>",
         "legendgroup": "Dates",
         "marker": {
          "color": "#ab63fa",
          "symbol": "circle"
         },
         "mode": "markers",
         "name": "Dates",
         "showlegend": true,
         "type": "scattergl",
         "x": {
          "bdata": "wzAMwzAMF0BsRdBwUj+FQMNJ3ZfHdmBArggaTuoGokA=",
          "dtype": "f8"
         },
         "xaxis": "x",
         "y": {
          "bdata": "hmEYhkHw6kB5bEXQULDnQHVfHlvRC95AnNR9eQzG+EA=",
          "dtype": "f8"
         },
         "yaxis": "y"
        },
        {
         "customdata": [
          [
           "Colombia"
          ],
          [
           "Cuba"
          ],
          [
           "Ecuador"
          ],
          [
           "French Guyana"
          ],
          [
           "Grenada"
          ],
          [
           "Guatemala"
          ],
          [
           "Guyana"
          ],
          [
           "Honduras"
          ],
          [
           "Martinique"
          ],
          [
           "Mexico"
          ],
          [
           "Nicaragua"
          ],
          [
           "Peru"
          ],
          [
           "Suriname"
          ],
          [
           "Trinidad and Tobago"
          ],
          [
           "United States of America"
          ]
         ],
         "hovertemplate": "Item=Fruit, citrus nes<br>Area_avg=%{x}<br>Yield_avg=%{y}<br>Area=%{customdata[0]}<extra></extra>",
         "legendgroup": "Fruit, citrus nes",
         "marker": {
          "color": "#FFA15A",
          "symbol": "circle"
         },
         "mode": "markers",
         "name": "Fruit, citrus nes",
         "showlegend": true,
         "type": "scattergl",
         "x": {
          "bdata": "27Zt2xa84kChDuqgDgp/QJzUfXlsK7NAAAAAAABgO0DjK77iKz5hQMhWBA0n5bxAFrKQhSwEdkDqoA7qoE5tQAAAAAAAAD5Ax3EcxyGo00AAAAAAAIByQDMzMzMzrqBAAAAAAADAcUA7qIM6qMOAQCELWchCVpFA",
          "dtype": "f8"
         },
         "xaxis": "x",
         "y": {
          "bdata": "hmEYhqlHBEF8xVd8JdjtQO/LYysSGfBAq6qqqqqXy0DNzMzMDIXyQEHDSd23ZPBAetOb3hRN4kAd1EEdlPndQKOLLrqg6fRAchzHceC98EC8u7u7WxfeQFK4HoXzy/5AkMH5GFzZ8kCLr/iKn7f0QCELWcg+RhBB",
          "dtype": "f8"
         },
         "yaxis": "y"
        },
        {
         "customdata": [
          [
           "Colombia"
          ]
         ],
         "hovertemplate": "Item=Sugar crops nes<br>Area_avg=%{x}<br>Yield_avg=%{y}<br>Area=%{customdata[0]}<extra></extra>",
         "legendgroup": "Sugar crops nes",
         "marker": {
          "color": "#19d3f3",
          "symbol": "circle"
         },
         "mode": "markers",
         "name": "Sugar crops nes",
         "showlegend": true,
         "type": "scattergl",
         "x": {
          "bdata": "AAAAAAAA+H8=",
          "dtype": "f8"
         },
         "xaxis": "x",
         "y": {
          "bdata": "AAAAAAAA+H8=",
          "dtype": "f8"
         },
         "yaxis": "y"
        },
        {
         "customdata": [
          [
           "Costa Rica"
          ],
          [
           "Dominica"
          ],
          [
           "Dominican Republic"
          ],
          [
           "Grenada"
          ],
          [
           "Guyana"
          ],
          [
           "Jamaica"
          ],
          [
           "Mexico"
          ],
          [
           "Peru"
          ],
          [
           "Puerto Rico"
          ],
          [
           "Saint Lucia"
          ],
          [
           "Trinidad and Tobago"
          ],
          [
           "United States of America"
          ]
         ],
         "hovertemplate": "Item=Ginger<br>Area_avg=%{x}<br>Yield_avg=%{y}<br>Area=%{customdata[0]}<extra></extra>",
         "legendgroup": "Ginger",
         "marker": {
          "color": "#FF6692",
          "symbol": "circle"
         },
         "mode": "markers",
         "name": "Ginger",
         "showlegend": true,
         "type": "scattergl",
         "x": {
          "bdata": "PDw8PDwMeEAP6qAO6iBKQNu2bdu2bWtAjbDc0wird0DIQhaykEVQQAAAAAAAgGlAbtu2bdsuYEB2Yid2Ym+UQEtLS0tLSzdA27Zt27ZtG0BJkiRJksRrQG7btm3btlBA",
          "dtype": "f8"
         },
         "xaxis": "x",
         "y": {
          "bdata": "PDw8PERx/0Ad1EEd1HzdQKiDOqij5OFAEpZ7GiHi3UCnN73pvcH9QEId1EHddd1AJUmSJEnW9kCe2ImdqCDyQFpaWlq6vuZAGmG5p9kgAkE9z/M8z+jFQGZmZmaaHBpB",
          "dtype": "f8"
         },
         "yaxis": "y"
        },
        {
         "customdata": [
          [
           "Costa Rica"
          ],
          [
           "Ecuador"
          ]
         ],
         "hovertemplate": "Item=Manila fibre (abaca)<br>Area_avg=%{x}<br>Yield_avg=%{y}<br>Area=%{customdata[0]}<extra></extra>",
         "legendgroup": "Manila fibre (abaca)",
         "marker": {
          "color": "#B6E880",
          "symbol": "circle"
         },
         "mode": "markers",
         "name": "Manila fibre (abaca)",
         "showlegend": true,
         "type": "scattergl",
         "x": {
          "bdata": "goaTui9PkEBF0HBS9x7NQA==",
          "dtype": "f8"
         },
         "xaxis": "x",
         "y": {
          "bdata": "tiJoOCmHxEBO6r48tqrIQA==",
          "dtype": "f8"
         },
         "yaxis": "y"
        },
        {
         "customdata": [
          [
           "Dominica"
          ]
         ],
         "hovertemplate": "Item=Cinnamon (cannella)<br>Area_avg=%{x}<br>Yield_avg=%{y}<br>Area=%{customdata[0]}<extra></extra>",
         "legendgroup": "Cinnamon (cannella)",
         "marker": {
          "color": "#FF97FF",
          "symbol": "circle"
         },
         "mode": "markers",
         "name": "Cinnamon (cannella)",
         "showlegend": true,
         "type": "scattergl",
         "x": {
          "bdata": "fMVXfMUXUkA=",
          "dtype": "f8"
         },
         "xaxis": "x",
         "y": {
          "bdata": "UAd1UAcut0A=",
          "dtype": "f8"
         },
         "yaxis": "y"
        },
        {
         "customdata": [
          [
           "Dominica"
          ],
          [
           "Grenada"
          ],
          [
           "Guatemala"
          ],
          [
           "Honduras"
          ],
          [
           "Saint Lucia"
          ],
          [
           "Saint Vincent and the Grenadines"
          ],
          [
           "Trinidad and Tobago"
          ]
         ],
         "hovertemplate": "Item=Nutmeg, mace and cardamoms<br>Area_avg=%{x}<br>Yield_avg=%{y}<br>Area=%{customdata[0]}<extra></extra>",
         "legendgroup": "Nutmeg, mace and cardamoms",
         "marker": {
          "color": "#FECB52",
          "symbol": "circle"
         },
         "mode": "markers",
         "name": "Nutmeg, mace and cardamoms",
         "showlegend": true,
         "type": "scattergl",
         "x": {
          "bdata": "AAAAAABADECogzqog5ypQKuqqqquUedAxMPDw8MvjUBQB3VQB/VSQIuv+IqveHdAfMVXfMWHeUA=",
          "dtype": "f8"
         },
         "xaxis": "x",
         "y": {
          "bdata": "AAAAAEZM0kB1UAd10DvBQKuqqqqqaqlAAAAAAIBYskDbtm3btj+rQB3UQR3UmbBAUAd1UAdTsEA=",
          "dtype": "f8"
         },
         "yaxis": "y"
        },
        {
         "customdata": [
          [
           "Guadeloupe"
          ],
          [
           "Mexico"
          ]
         ],
         "hovertemplate": "Item=Vanilla<br>Area_avg=%{x}<br>Yield_avg=%{y}<br>Area=%{customdata[0]}<extra></extra>",
         "legendgroup": "Vanilla",
         "marker": {
          "color": "#636efa",
          "symbol": "circle"
         },
         "mode": "markers",
         "name": "Vanilla",
         "showlegend": true,
         "type": "scattergl",
         "x": {
          "bdata": "etOb3vTmRkAaTuq+PIKUQA==",
          "dtype": "f8"
         },
         "xaxis": "x",
         "y": {
          "bdata": "ZCELWchYl0A4qfvy2BSjQA==",
          "dtype": "f8"
         },
         "yaxis": "y"
        },
        {
         "customdata": [
          [
           "Guyana"
          ],
          [
           "Haiti"
          ],
          [
           "Jamaica"
          ],
          [
           "Peru"
          ],
          [
           "Trinidad and Tobago"
          ],
          [
           "United States of America"
          ]
         ],
         "hovertemplate": "Item=Cow peas, dry<br>Area_avg=%{x}<br>Yield_avg=%{y}<br>Area=%{customdata[0]}<extra></extra>",
         "legendgroup": "Cow peas, dry",
         "marker": {
          "color": "#EF553B",
          "symbol": "circle"
         },
         "mode": "markers",
         "name": "Cow peas, dry",
         "showlegend": true,
         "type": "scattergl",
         "x": {
          "bdata": "MzMzMzOjW0BbETSctEPuQIKGk7ovL39AzczMzLym0EAAAAAAAIBaQLgehetx5dFA",
          "dtype": "f8"
         },
         "xaxis": "x",
         "y": {
          "bdata": "ZmZmZgZlz0B1Xx5bEda2QMhWBA2ni8JAmpmZmVkSyUDvy2MrQt3gQPahsT40UspA",
          "dtype": "f8"
         },
         "yaxis": "y"
        },
        {
         "customdata": [
          [
           "Haiti"
          ],
          [
           "Puerto Rico"
          ]
         ],
         "hovertemplate": "Item=Chicory roots<br>Area_avg=%{x}<br>Yield_avg=%{y}<br>Area=%{customdata[0]}<extra></extra>",
         "legendgroup": "Chicory roots",
         "marker": {
          "color": "#00cc96",
          "symbol": "circle"
         },
         "mode": "markers",
         "name": "Chicory roots",
         "showlegend": true,
         "type": "scattergl",
         "x": {
          "bdata": "AAAAAAAAIkA9z/M8zzNoQA==",
          "dtype": "f8"
         },
         "xaxis": "x",
         "y": {
          "bdata": "AAAAAHAgC0Grqqqqmt4HQQ==",
          "dtype": "f8"
         },
         "yaxis": "y"
        },
        {
         "customdata": [
          [
           "Mexico"
          ]
         ],
         "hovertemplate": "Item=Carobs<br>Area_avg=%{x}<br>Yield_avg=%{y}<br>Area=%{customdata[0]}<extra></extra>",
         "legendgroup": "Carobs",
         "marker": {
          "color": "#ab63fa",
          "symbol": "circle"
         },
         "mode": "markers",
         "name": "Carobs",
         "showlegend": true,
         "type": "scattergl",
         "x": {
          "bdata": "oryG8hrKSEA=",
          "dtype": "f8"
         },
         "xaxis": "x",
         "y": {
          "bdata": "MzMzM/NsyUA=",
          "dtype": "f8"
         },
         "yaxis": "y"
        },
        {
         "customdata": [
          [
           "Mexico"
          ]
         ],
         "hovertemplate": "Item=Cloves<br>Area_avg=%{x}<br>Yield_avg=%{y}<br>Area=%{customdata[0]}<extra></extra>",
         "legendgroup": "Cloves",
         "marker": {
          "color": "#FFA15A",
          "symbol": "circle"
         },
         "mode": "markers",
         "name": "Cloves",
         "showlegend": true,
         "type": "scattergl",
         "x": {
          "bdata": "AAAAAAAA+H8=",
          "dtype": "f8"
         },
         "xaxis": "x",
         "y": {
          "bdata": "AAAAAAAA+H8=",
          "dtype": "f8"
         },
         "yaxis": "y"
        },
        {
         "customdata": [
          [
           "Mexico"
          ]
         ],
         "hovertemplate": "Item=Jojoba seed<br>Area_avg=%{x}<br>Yield_avg=%{y}<br>Area=%{customdata[0]}<extra></extra>",
         "legendgroup": "Jojoba seed",
         "marker": {
          "color": "#19d3f3",
          "symbol": "circle"
         },
         "mode": "markers",
         "name": "Jojoba seed",
         "showlegend": true,
         "type": "scattergl",
         "x": {
          "bdata": "h/IaymvYdUA=",
          "dtype": "f8"
         },
         "xaxis": "x",
         "y": {
          "bdata": "2FBeQ/nEs0A=",
          "dtype": "f8"
         },
         "yaxis": "y"
        },
        {
         "customdata": [
          [
           "Mexico"
          ]
         ],
         "hovertemplate": "Item=Melonseed<br>Area_avg=%{x}<br>Yield_avg=%{y}<br>Area=%{customdata[0]}<extra></extra>",
         "legendgroup": "Melonseed",
         "marker": {
          "color": "#FF6692",
          "symbol": "circle"
         },
         "mode": "markers",
         "name": "Melonseed",
         "showlegend": true,
         "type": "scattergl",
         "x": {
          "bdata": "btu2bdt2RUA=",
          "dtype": "f8"
         },
         "xaxis": "x",
         "y": {
          "bdata": "AAAAAADto0A=",
          "dtype": "f8"
         },
         "yaxis": "y"
        },
        {
         "customdata": [
          [
           "Mexico"
          ]
         ],
         "hovertemplate": "Item=Peppermint<br>Area_avg=%{x}<br>Yield_avg=%{y}<br>Area=%{customdata[0]}<extra></extra>",
         "legendgroup": "Peppermint",
         "marker": {
          "color": "#B6E880",
          "symbol": "circle"
         },
         "mode": "markers",
         "name": "Peppermint",
         "showlegend": true,
         "type": "scattergl",
         "x": {
          "bdata": "VVVVVVWVSEA=",
          "dtype": "f8"
         },
         "xaxis": "x",
         "y": {
          "bdata": "q6qqqjpV+UA=",
          "dtype": "f8"
         },
         "yaxis": "y"
        },
        {
         "customdata": [
          [
           "Mexico"
          ],
          [
           "United States of America"
          ]
         ],
         "hovertemplate": "Item=Pistachios<br>Area_avg=%{x}<br>Yield_avg=%{y}<br>Area=%{customdata[0]}<extra></extra>",
         "legendgroup": "Pistachios",
         "marker": {
          "color": "#FF97FF",
          "symbol": "circle"
         },
         "mode": "markers",
         "name": "Pistachios",
         "showlegend": true,
         "type": "scattergl",
         "x": {
          "bdata": "0UUXXXQRUkDWlDVlDRrjQA==",
          "dtype": "f8"
         },
         "xaxis": "x",
         "y": {
          "bdata": "AAAAAFB8skDEHXFHXCzYQA==",
          "dtype": "f8"
         },
         "yaxis": "y"
        },
        {
         "customdata": [
          [
           "Mexico"
          ]
         ],
         "hovertemplate": "Item=Vetches<br>Area_avg=%{x}<br>Yield_avg=%{y}<br>Area=%{customdata[0]}<extra></extra>",
         "legendgroup": "Vetches",
         "marker": {
          "color": "#FECB52",
          "symbol": "circle"
         },
         "mode": "markers",
         "name": "Vetches",
         "showlegend": true,
         "type": "scattergl",
         "x": {
          "bdata": "+ZZv+RYXwEA=",
          "dtype": "f8"
         },
         "xaxis": "x",
         "y": {
          "bdata": "fcu3fGNhAEE=",
          "dtype": "f8"
         },
         "yaxis": "y"
        },
        {
         "customdata": [
          [
           "Peru"
          ]
         ],
         "hovertemplate": "Item=Brazil nuts, with shell<br>Area_avg=%{x}<br>Yield_avg=%{y}<br>Area=%{customdata[0]}<extra></extra>",
         "legendgroup": "Brazil nuts, with shell",
         "marker": {
          "color": "#636efa",
          "symbol": "circle"
         },
         "mode": "markers",
         "name": "Brazil nuts, with shell",
         "showlegend": true,
         "type": "scattergl",
         "x": {
          "bdata": "RdBwUvfbtEA=",
          "dtype": "f8"
         },
         "xaxis": "x",
         "y": {
          "bdata": "DSd1Xx7zukA=",
          "dtype": "f8"
         },
         "yaxis": "y"
        }
       ],
       "layout": {
        "legend": {
         "title": {
          "text": "Item"
         },
         "tracegroupgap": 0
        },
        "template": {
         "data": {
          "bar": [
           {
            "error_x": {
             "color": "#2a3f5f"
            },
            "error_y": {
             "color": "#2a3f5f"
            },
            "marker": {
             "line": {
              "color": "#E5ECF6",
              "width": 0.5
             },
             "pattern": {
              "fillmode": "overlay",
              "size": 10,
              "solidity": 0.2
             }
            },
            "type": "bar"
           }
          ],
          "barpolar": [
           {
            "marker": {
             "line": {
              "color": "#E5ECF6",
              "width": 0.5
             },
             "pattern": {
              "fillmode": "overlay",
              "size": 10,
              "solidity": 0.2
             }
            },
            "type": "barpolar"
           }
          ],
          "carpet": [
           {
            "aaxis": {
             "endlinecolor": "#2a3f5f",
             "gridcolor": "white",
             "linecolor": "white",
             "minorgridcolor": "white",
             "startlinecolor": "#2a3f5f"
            },
            "baxis": {
             "endlinecolor": "#2a3f5f",
             "gridcolor": "white",
             "linecolor": "white",
             "minorgridcolor": "white",
             "startlinecolor": "#2a3f5f"
            },
            "type": "carpet"
           }
          ],
          "choropleth": [
           {
            "colorbar": {
             "outlinewidth": 0,
             "ticks": ""
            },
            "type": "choropleth"
           }
          ],
          "contour": [
           {
            "colorbar": {
             "outlinewidth": 0,
             "ticks": ""
            },
            "colorscale": [
             [
              0,
              "#0d0887"
             ],
             [
              0.1111111111111111,
              "#46039f"
             ],
             [
              0.2222222222222222,
              "#7201a8"
             ],
             [
              0.3333333333333333,
              "#9c179e"
             ],
             [
              0.4444444444444444,
              "#bd3786"
             ],
             [
              0.5555555555555556,
              "#d8576b"
             ],
             [
              0.6666666666666666,
              "#ed7953"
             ],
             [
              0.7777777777777778,
              "#fb9f3a"
             ],
             [
              0.8888888888888888,
              "#fdca26"
             ],
             [
              1,
              "#f0f921"
             ]
            ],
            "type": "contour"
           }
          ],
          "contourcarpet": [
           {
            "colorbar": {
             "outlinewidth": 0,
             "ticks": ""
            },
            "type": "contourcarpet"
           }
          ],
          "heatmap": [
           {
            "colorbar": {
             "outlinewidth": 0,
             "ticks": ""
            },
            "colorscale": [
             [
              0,
              "#0d0887"
             ],
             [
              0.1111111111111111,
              "#46039f"
             ],
             [
              0.2222222222222222,
              "#7201a8"
             ],
             [
              0.3333333333333333,
              "#9c179e"
             ],
             [
              0.4444444444444444,
              "#bd3786"
             ],
             [
              0.5555555555555556,
              "#d8576b"
             ],
             [
              0.6666666666666666,
              "#ed7953"
             ],
             [
              0.7777777777777778,
              "#fb9f3a"
             ],
             [
              0.8888888888888888,
              "#fdca26"
             ],
             [
              1,
              "#f0f921"
             ]
            ],
            "type": "heatmap"
           }
          ],
          "histogram": [
           {
            "marker": {
             "pattern": {
              "fillmode": "overlay",
              "size": 10,
              "solidity": 0.2
             }
            },
            "type": "histogram"
           }
          ],
          "histogram2d": [
           {
            "colorbar": {
             "outlinewidth": 0,
             "ticks": ""
            },
            "colorscale": [
             [
              0,
              "#0d0887"
             ],
             [
              0.1111111111111111,
              "#46039f"
             ],
             [
              0.2222222222222222,
              "#7201a8"
             ],
             [
              0.3333333333333333,
              "#9c179e"
             ],
             [
              0.4444444444444444,
              "#bd3786"
             ],
             [
              0.5555555555555556,
              "#d8576b"
             ],
             [
              0.6666666666666666,
              "#ed7953"
             ],
             [
              0.7777777777777778,
              "#fb9f3a"
             ],
             [
              0.8888888888888888,
              "#fdca26"
             ],
             [
              1,
              "#f0f921"
             ]
            ],
            "type": "histogram2d"
           }
          ],
          "histogram2dcontour": [
           {
            "colorbar": {
             "outlinewidth": 0,
             "ticks": ""
            },
            "colorscale": [
             [
              0,
              "#0d0887"
             ],
             [
              0.1111111111111111,
              "#46039f"
             ],
             [
              0.2222222222222222,
              "#7201a8"
             ],
             [
              0.3333333333333333,
              "#9c179e"
             ],
             [
              0.4444444444444444,
              "#bd3786"
             ],
             [
              0.5555555555555556,
              "#d8576b"
             ],
             [
              0.6666666666666666,
              "#ed7953"
             ],
             [
              0.7777777777777778,
              "#fb9f3a"
             ],
             [
              0.8888888888888888,
              "#fdca26"
             ],
             [
              1,
              "#f0f921"
             ]
            ],
            "type": "histogram2dcontour"
           }
          ],
          "mesh3d": [
           {
            "colorbar": {
             "outlinewidth": 0,
             "ticks": ""
            },
            "type": "mesh3d"
           }
          ],
          "parcoords": [
           {
            "line": {
             "colorbar": {
              "outlinewidth": 0,
              "ticks": ""
             }
            },
            "type": "parcoords"
           }
          ],
          "pie": [
           {
            "automargin": true,
            "type": "pie"
           }
          ],
          "scatter": [
           {
            "fillpattern": {
             "fillmode": "overlay",
             "size": 10,
             "solidity": 0.2
            },
            "type": "scatter"
           }
          ],
          "scatter3d": [
           {
            "line": {
             "colorbar": {
              "outlinewidth": 0,
              "ticks": ""
             }
            },
            "marker": {
             "colorbar": {
              "outlinewidth": 0,
              "ticks": ""
             }
            },
            "type": "scatter3d"
           }
          ],
          "scattercarpet": [
           {
            "marker": {
             "colorbar": {
              "outlinewidth": 0,
              "ticks": ""
             }
            },
            "type": "scattercarpet"
           }
          ],
          "scattergeo": [
           {
            "marker": {
             "colorbar": {
              "outlinewidth": 0,
              "ticks": ""
             }
            },
            "type": "scattergeo"
           }
          ],
          "scattergl": [
           {
            "marker": {
             "colorbar": {
              "outlinewidth": 0,
              "ticks": ""
             }
            },
            "type": "scattergl"
           }
          ],
          "scattermap": [
           {
            "marker": {
             "colorbar": {
              "outlinewidth": 0,
              "ticks": ""
             }
            },
            "type": "scattermap"
           }
          ],
          "scattermapbox": [
           {
            "marker": {
             "colorbar": {
              "outlinewidth": 0,
              "ticks": ""
             }
            },
            "type": "scattermapbox"
           }
          ],
          "scatterpolar": [
           {
            "marker": {
             "colorbar": {
              "outlinewidth": 0,
              "ticks": ""
             }
            },
            "type": "scatterpolar"
           }
          ],
          "scatterpolargl": [
           {
            "marker": {
             "colorbar": {
              "outlinewidth": 0,
              "ticks": ""
             }
            },
            "type": "scatterpolargl"
           }
          ],
          "scatterternary": [
           {
            "marker": {
             "colorbar": {
              "outlinewidth": 0,
              "ticks": ""
             }
            },
            "type": "scatterternary"
           }
          ],
          "surface": [
           {
            "colorbar": {
             "outlinewidth": 0,
             "ticks": ""
            },
            "colorscale": [
             [
              0,
              "#0d0887"
             ],
             [
              0.1111111111111111,
              "#46039f"
             ],
             [
              0.2222222222222222,
              "#7201a8"
             ],
             [
              0.3333333333333333,
              "#9c179e"
             ],
             [
              0.4444444444444444,
              "#bd3786"
             ],
             [
              0.5555555555555556,
              "#d8576b"
             ],
             [
              0.6666666666666666,
              "#ed7953"
             ],
             [
              0.7777777777777778,
              "#fb9f3a"
             ],
             [
              0.8888888888888888,
              "#fdca26"
             ],
             [
              1,
              "#f0f921"
             ]
            ],
            "type": "surface"
           }
          ],
          "table": [
           {
            "cells": {
             "fill": {
              "color": "#EBF0F8"
             },
             "line": {
              "color": "white"
             }
            },
            "header": {
             "fill": {
              "color": "#C8D4E3"
             },
             "line": {
              "color": "white"
             }
            },
            "type": "table"
           }
          ]
         },
         "layout": {
          "annotationdefaults": {
           "arrowcolor": "#2a3f5f",
           "arrowhead": 0,
           "arrowwidth": 1
          },
          "autotypenumbers": "strict",
          "coloraxis": {
           "colorbar": {
            "outlinewidth": 0,
            "ticks": ""
           }
          },
          "colorscale": {
           "diverging": [
            [
             0,
             "#8e0152"
            ],
            [
             0.1,
             "#c51b7d"
            ],
            [
             0.2,
             "#de77ae"
            ],
            [
             0.3,
             "#f1b6da"
            ],
            [
             0.4,
             "#fde0ef"
            ],
            [
             0.5,
             "#f7f7f7"
            ],
            [
             0.6,
             "#e6f5d0"
            ],
            [
             0.7,
             "#b8e186"
            ],
            [
             0.8,
             "#7fbc41"
            ],
            [
             0.9,
             "#4d9221"
            ],
            [
             1,
             "#276419"
            ]
           ],
           "sequential": [
            [
             0,
             "#0d0887"
            ],
            [
             0.1111111111111111,
             "#46039f"
            ],
            [
             0.2222222222222222,
             "#7201a8"
            ],
            [
             0.3333333333333333,
             "#9c179e"
            ],
            [
             0.4444444444444444,
             "#bd3786"
            ],
            [
             0.5555555555555556,
             "#d8576b"
            ],
            [
             0.6666666666666666,
             "#ed7953"
            ],
            [
             0.7777777777777778,
             "#fb9f3a"
            ],
            [
             0.8888888888888888,
             "#fdca26"
            ],
            [
             1,
             "#f0f921"
            ]
           ],
           "sequentialminus": [
            [
             0,
             "#0d0887"
            ],
            [
             0.1111111111111111,
             "#46039f"
            ],
            [
             0.2222222222222222,
             "#7201a8"
            ],
            [
             0.3333333333333333,
             "#9c179e"
            ],
            [
             0.4444444444444444,
             "#bd3786"
            ],
            [
             0.5555555555555556,
             "#d8576b"
            ],
            [
             0.6666666666666666,
             "#ed7953"
            ],
            [
             0.7777777777777778,
             "#fb9f3a"
            ],
            [
             0.8888888888888888,
             "#fdca26"
            ],
            [
             1,
             "#f0f921"
            ]
           ]
          },
          "colorway": [
           "#636efa",
           "#EF553B",
           "#00cc96",
           "#ab63fa",
           "#FFA15A",
           "#19d3f3",
           "#FF6692",
           "#B6E880",
           "#FF97FF",
           "#FECB52"
          ],
          "font": {
           "color": "#2a3f5f"
          },
          "geo": {
           "bgcolor": "white",
           "lakecolor": "white",
           "landcolor": "#E5ECF6",
           "showlakes": true,
           "showland": true,
           "subunitcolor": "white"
          },
          "hoverlabel": {
           "align": "left"
          },
          "hovermode": "closest",
          "mapbox": {
           "style": "light"
          },
          "paper_bgcolor": "white",
          "plot_bgcolor": "#E5ECF6",
          "polar": {
           "angularaxis": {
            "gridcolor": "white",
            "linecolor": "white",
            "ticks": ""
           },
           "bgcolor": "#E5ECF6",
           "radialaxis": {
            "gridcolor": "white",
            "linecolor": "white",
            "ticks": ""
           }
          },
          "scene": {
           "xaxis": {
            "backgroundcolor": "#E5ECF6",
            "gridcolor": "white",
            "gridwidth": 2,
            "linecolor": "white",
            "showbackground": true,
            "ticks": "",
            "zerolinecolor": "white"
           },
           "yaxis": {
            "backgroundcolor": "#E5ECF6",
            "gridcolor": "white",
            "gridwidth": 2,
            "linecolor": "white",
            "showbackground": true,
            "ticks": "",
            "zerolinecolor": "white"
           },
           "zaxis": {
            "backgroundcolor": "#E5ECF6",
            "gridcolor": "white",
            "gridwidth": 2,
            "linecolor": "white",
            "showbackground": true,
            "ticks": "",
            "zerolinecolor": "white"
           }
          },
          "shapedefaults": {
           "line": {
            "color": "#2a3f5f"
           }
          },
          "ternary": {
           "aaxis": {
            "gridcolor": "white",
            "linecolor": "white",
            "ticks": ""
           },
           "baxis": {
            "gridcolor": "white",
            "linecolor": "white",
            "ticks": ""
           },
           "bgcolor": "#E5ECF6",
           "caxis": {
            "gridcolor": "white",
            "linecolor": "white",
            "ticks": ""
           }
          },
          "title": {
           "x": 0.05
          },
          "xaxis": {
           "automargin": true,
           "gridcolor": "white",
           "linecolor": "white",
           "ticks": "",
           "title": {
            "standoff": 15
           },
           "zerolinecolor": "white",
           "zerolinewidth": 2
          },
          "yaxis": {
           "automargin": true,
           "gridcolor": "white",
           "linecolor": "white",
           "ticks": "",
           "title": {
            "standoff": 15
           },
           "zerolinecolor": "white",
           "zerolinewidth": 2
          }
         }
        },
        "title": {
         "text": "Relación Área cosechada vs Rendimiento"
        },
        "xaxis": {
         "anchor": "y",
         "domain": [
          0,
          1
         ],
         "title": {
          "text": "Area_avg"
         }
        },
        "yaxis": {
         "anchor": "x",
         "domain": [
          0,
          1
         ],
         "title": {
          "text": "Yield_avg"
         }
        }
       }
      }
     },
     "metadata": {},
     "output_type": "display_data"
    }
   ],
   "source": [
    "# -----------------------\n",
    "# Scatter: Área vs Yield (promedio de todos los años)\n",
    "# -----------------------\n",
    "# Promedio por país y cultivo\n",
    "area_avg = area_long.groupby(['Area','Item'])['Area_ha'].mean()\n",
    "yield_avg = yield_long.groupby(['Area','Item'])['Yield_hg_per_ha'].mean()\n",
    "\n",
    "df_scatter = pd.DataFrame({\n",
    "    'Area_avg': area_avg,\n",
    "    'Yield_avg': yield_avg\n",
    "}).reset_index()\n",
    "\n",
    "fig2 = px.scatter(\n",
    "    df_scatter,\n",
    "    x='Area_avg',\n",
    "    y='Yield_avg',\n",
    "    color='Item',\n",
    "    hover_data=['Area'],\n",
    "    title='Relación Área cosechada vs Rendimiento'\n",
    ")\n",
    "fig2.show()\n",
    "\n"
   ]
  },
  {
   "cell_type": "code",
   "execution_count": 19,
   "id": "688848ba",
   "metadata": {},
   "outputs": [
    {
     "data": {
      "application/vnd.plotly.v1+json": {
       "config": {
        "plotlyServerURL": "https://plot.ly"
       },
       "data": [
        {
         "hovertemplate": "Area=%{x}<br>Production_avg=%{y}<extra></extra>",
         "legendgroup": "",
         "marker": {
          "color": "#636efa",
          "pattern": {
           "shape": ""
          }
         },
         "name": "",
         "orientation": "v",
         "showlegend": false,
         "textposition": "auto",
         "type": "bar",
         "x": [
          "Brazil",
          "United States of America",
          "Argentina",
          "Canada",
          "Cuba",
          "Mexico",
          "Colombia",
          "Guatemala",
          "Paraguay",
          "Peru",
          "Venezuela (Bolivarian Republic of)",
          "Ecuador",
          "Dominican Republic",
          "Chile",
          "Costa Rica",
          "Honduras",
          "Nicaragua",
          "Bolivia (Plurinational State of)",
          "El Salvador",
          "Guyana",
          "Haiti",
          "Uruguay",
          "Panama",
          "Puerto Rico",
          "Jamaica",
          "Belize",
          "Trinidad and Tobago",
          "Guadeloupe",
          "Barbados",
          "Martinique",
          "Suriname",
          "Saint Kitts and Nevis",
          "Bahamas",
          "Saint Lucia",
          "Dominica",
          "Saint Vincent and the Grenadines",
          "French Guyana",
          "Grenada",
          "Antigua and Barbuda"
         ],
         "xaxis": "x",
         "y": {
          "bdata": "ht1UYMuwZkFS4IcIxjVlQXkk9pMUaUBB6MzkIkZHQEEFsFrF2E08Qb8lP2dldzlBFGDI9y0zNEFeyI9JkyYhQaR1DMYZvhpBYxymnKLuGEElYyVjgYwYQWOofD07tBdB3NTDTa90FUFYeiiI34wRQa+cFw96lhBB4xItdPwoDUEg5SBhsLIMQVKsoiX1owxBFDI/vtrfCEHx9pQD6VgHQX2s05FMRQVBUh7lUWBxAkGp0Sw1PqUBQaBisuAYrP1AjPnUizna/EDBTDds3e7wQJqeJunGIu1AzyCz5AnZ6UDQTGRyNJHnQHCYCkV+wORANM4CbL5L20C0vhfgwurRQEmSJElyKsJACk+HHvyVv0BYBITgwpa4QEe/6uUiXrhAjEKzf4G+rkDMA4t5IK+lQO3N3uzNl6FA",
          "dtype": "f8"
         },
         "yaxis": "y"
        }
       ],
       "layout": {
        "barmode": "relative",
        "legend": {
         "tracegroupgap": 0
        },
        "template": {
         "data": {
          "bar": [
           {
            "error_x": {
             "color": "#2a3f5f"
            },
            "error_y": {
             "color": "#2a3f5f"
            },
            "marker": {
             "line": {
              "color": "#E5ECF6",
              "width": 0.5
             },
             "pattern": {
              "fillmode": "overlay",
              "size": 10,
              "solidity": 0.2
             }
            },
            "type": "bar"
           }
          ],
          "barpolar": [
           {
            "marker": {
             "line": {
              "color": "#E5ECF6",
              "width": 0.5
             },
             "pattern": {
              "fillmode": "overlay",
              "size": 10,
              "solidity": 0.2
             }
            },
            "type": "barpolar"
           }
          ],
          "carpet": [
           {
            "aaxis": {
             "endlinecolor": "#2a3f5f",
             "gridcolor": "white",
             "linecolor": "white",
             "minorgridcolor": "white",
             "startlinecolor": "#2a3f5f"
            },
            "baxis": {
             "endlinecolor": "#2a3f5f",
             "gridcolor": "white",
             "linecolor": "white",
             "minorgridcolor": "white",
             "startlinecolor": "#2a3f5f"
            },
            "type": "carpet"
           }
          ],
          "choropleth": [
           {
            "colorbar": {
             "outlinewidth": 0,
             "ticks": ""
            },
            "type": "choropleth"
           }
          ],
          "contour": [
           {
            "colorbar": {
             "outlinewidth": 0,
             "ticks": ""
            },
            "colorscale": [
             [
              0,
              "#0d0887"
             ],
             [
              0.1111111111111111,
              "#46039f"
             ],
             [
              0.2222222222222222,
              "#7201a8"
             ],
             [
              0.3333333333333333,
              "#9c179e"
             ],
             [
              0.4444444444444444,
              "#bd3786"
             ],
             [
              0.5555555555555556,
              "#d8576b"
             ],
             [
              0.6666666666666666,
              "#ed7953"
             ],
             [
              0.7777777777777778,
              "#fb9f3a"
             ],
             [
              0.8888888888888888,
              "#fdca26"
             ],
             [
              1,
              "#f0f921"
             ]
            ],
            "type": "contour"
           }
          ],
          "contourcarpet": [
           {
            "colorbar": {
             "outlinewidth": 0,
             "ticks": ""
            },
            "type": "contourcarpet"
           }
          ],
          "heatmap": [
           {
            "colorbar": {
             "outlinewidth": 0,
             "ticks": ""
            },
            "colorscale": [
             [
              0,
              "#0d0887"
             ],
             [
              0.1111111111111111,
              "#46039f"
             ],
             [
              0.2222222222222222,
              "#7201a8"
             ],
             [
              0.3333333333333333,
              "#9c179e"
             ],
             [
              0.4444444444444444,
              "#bd3786"
             ],
             [
              0.5555555555555556,
              "#d8576b"
             ],
             [
              0.6666666666666666,
              "#ed7953"
             ],
             [
              0.7777777777777778,
              "#fb9f3a"
             ],
             [
              0.8888888888888888,
              "#fdca26"
             ],
             [
              1,
              "#f0f921"
             ]
            ],
            "type": "heatmap"
           }
          ],
          "histogram": [
           {
            "marker": {
             "pattern": {
              "fillmode": "overlay",
              "size": 10,
              "solidity": 0.2
             }
            },
            "type": "histogram"
           }
          ],
          "histogram2d": [
           {
            "colorbar": {
             "outlinewidth": 0,
             "ticks": ""
            },
            "colorscale": [
             [
              0,
              "#0d0887"
             ],
             [
              0.1111111111111111,
              "#46039f"
             ],
             [
              0.2222222222222222,
              "#7201a8"
             ],
             [
              0.3333333333333333,
              "#9c179e"
             ],
             [
              0.4444444444444444,
              "#bd3786"
             ],
             [
              0.5555555555555556,
              "#d8576b"
             ],
             [
              0.6666666666666666,
              "#ed7953"
             ],
             [
              0.7777777777777778,
              "#fb9f3a"
             ],
             [
              0.8888888888888888,
              "#fdca26"
             ],
             [
              1,
              "#f0f921"
             ]
            ],
            "type": "histogram2d"
           }
          ],
          "histogram2dcontour": [
           {
            "colorbar": {
             "outlinewidth": 0,
             "ticks": ""
            },
            "colorscale": [
             [
              0,
              "#0d0887"
             ],
             [
              0.1111111111111111,
              "#46039f"
             ],
             [
              0.2222222222222222,
              "#7201a8"
             ],
             [
              0.3333333333333333,
              "#9c179e"
             ],
             [
              0.4444444444444444,
              "#bd3786"
             ],
             [
              0.5555555555555556,
              "#d8576b"
             ],
             [
              0.6666666666666666,
              "#ed7953"
             ],
             [
              0.7777777777777778,
              "#fb9f3a"
             ],
             [
              0.8888888888888888,
              "#fdca26"
             ],
             [
              1,
              "#f0f921"
             ]
            ],
            "type": "histogram2dcontour"
           }
          ],
          "mesh3d": [
           {
            "colorbar": {
             "outlinewidth": 0,
             "ticks": ""
            },
            "type": "mesh3d"
           }
          ],
          "parcoords": [
           {
            "line": {
             "colorbar": {
              "outlinewidth": 0,
              "ticks": ""
             }
            },
            "type": "parcoords"
           }
          ],
          "pie": [
           {
            "automargin": true,
            "type": "pie"
           }
          ],
          "scatter": [
           {
            "fillpattern": {
             "fillmode": "overlay",
             "size": 10,
             "solidity": 0.2
            },
            "type": "scatter"
           }
          ],
          "scatter3d": [
           {
            "line": {
             "colorbar": {
              "outlinewidth": 0,
              "ticks": ""
             }
            },
            "marker": {
             "colorbar": {
              "outlinewidth": 0,
              "ticks": ""
             }
            },
            "type": "scatter3d"
           }
          ],
          "scattercarpet": [
           {
            "marker": {
             "colorbar": {
              "outlinewidth": 0,
              "ticks": ""
             }
            },
            "type": "scattercarpet"
           }
          ],
          "scattergeo": [
           {
            "marker": {
             "colorbar": {
              "outlinewidth": 0,
              "ticks": ""
             }
            },
            "type": "scattergeo"
           }
          ],
          "scattergl": [
           {
            "marker": {
             "colorbar": {
              "outlinewidth": 0,
              "ticks": ""
             }
            },
            "type": "scattergl"
           }
          ],
          "scattermap": [
           {
            "marker": {
             "colorbar": {
              "outlinewidth": 0,
              "ticks": ""
             }
            },
            "type": "scattermap"
           }
          ],
          "scattermapbox": [
           {
            "marker": {
             "colorbar": {
              "outlinewidth": 0,
              "ticks": ""
             }
            },
            "type": "scattermapbox"
           }
          ],
          "scatterpolar": [
           {
            "marker": {
             "colorbar": {
              "outlinewidth": 0,
              "ticks": ""
             }
            },
            "type": "scatterpolar"
           }
          ],
          "scatterpolargl": [
           {
            "marker": {
             "colorbar": {
              "outlinewidth": 0,
              "ticks": ""
             }
            },
            "type": "scatterpolargl"
           }
          ],
          "scatterternary": [
           {
            "marker": {
             "colorbar": {
              "outlinewidth": 0,
              "ticks": ""
             }
            },
            "type": "scatterternary"
           }
          ],
          "surface": [
           {
            "colorbar": {
             "outlinewidth": 0,
             "ticks": ""
            },
            "colorscale": [
             [
              0,
              "#0d0887"
             ],
             [
              0.1111111111111111,
              "#46039f"
             ],
             [
              0.2222222222222222,
              "#7201a8"
             ],
             [
              0.3333333333333333,
              "#9c179e"
             ],
             [
              0.4444444444444444,
              "#bd3786"
             ],
             [
              0.5555555555555556,
              "#d8576b"
             ],
             [
              0.6666666666666666,
              "#ed7953"
             ],
             [
              0.7777777777777778,
              "#fb9f3a"
             ],
             [
              0.8888888888888888,
              "#fdca26"
             ],
             [
              1,
              "#f0f921"
             ]
            ],
            "type": "surface"
           }
          ],
          "table": [
           {
            "cells": {
             "fill": {
              "color": "#EBF0F8"
             },
             "line": {
              "color": "white"
             }
            },
            "header": {
             "fill": {
              "color": "#C8D4E3"
             },
             "line": {
              "color": "white"
             }
            },
            "type": "table"
           }
          ]
         },
         "layout": {
          "annotationdefaults": {
           "arrowcolor": "#2a3f5f",
           "arrowhead": 0,
           "arrowwidth": 1
          },
          "autotypenumbers": "strict",
          "coloraxis": {
           "colorbar": {
            "outlinewidth": 0,
            "ticks": ""
           }
          },
          "colorscale": {
           "diverging": [
            [
             0,
             "#8e0152"
            ],
            [
             0.1,
             "#c51b7d"
            ],
            [
             0.2,
             "#de77ae"
            ],
            [
             0.3,
             "#f1b6da"
            ],
            [
             0.4,
             "#fde0ef"
            ],
            [
             0.5,
             "#f7f7f7"
            ],
            [
             0.6,
             "#e6f5d0"
            ],
            [
             0.7,
             "#b8e186"
            ],
            [
             0.8,
             "#7fbc41"
            ],
            [
             0.9,
             "#4d9221"
            ],
            [
             1,
             "#276419"
            ]
           ],
           "sequential": [
            [
             0,
             "#0d0887"
            ],
            [
             0.1111111111111111,
             "#46039f"
            ],
            [
             0.2222222222222222,
             "#7201a8"
            ],
            [
             0.3333333333333333,
             "#9c179e"
            ],
            [
             0.4444444444444444,
             "#bd3786"
            ],
            [
             0.5555555555555556,
             "#d8576b"
            ],
            [
             0.6666666666666666,
             "#ed7953"
            ],
            [
             0.7777777777777778,
             "#fb9f3a"
            ],
            [
             0.8888888888888888,
             "#fdca26"
            ],
            [
             1,
             "#f0f921"
            ]
           ],
           "sequentialminus": [
            [
             0,
             "#0d0887"
            ],
            [
             0.1111111111111111,
             "#46039f"
            ],
            [
             0.2222222222222222,
             "#7201a8"
            ],
            [
             0.3333333333333333,
             "#9c179e"
            ],
            [
             0.4444444444444444,
             "#bd3786"
            ],
            [
             0.5555555555555556,
             "#d8576b"
            ],
            [
             0.6666666666666666,
             "#ed7953"
            ],
            [
             0.7777777777777778,
             "#fb9f3a"
            ],
            [
             0.8888888888888888,
             "#fdca26"
            ],
            [
             1,
             "#f0f921"
            ]
           ]
          },
          "colorway": [
           "#636efa",
           "#EF553B",
           "#00cc96",
           "#ab63fa",
           "#FFA15A",
           "#19d3f3",
           "#FF6692",
           "#B6E880",
           "#FF97FF",
           "#FECB52"
          ],
          "font": {
           "color": "#2a3f5f"
          },
          "geo": {
           "bgcolor": "white",
           "lakecolor": "white",
           "landcolor": "#E5ECF6",
           "showlakes": true,
           "showland": true,
           "subunitcolor": "white"
          },
          "hoverlabel": {
           "align": "left"
          },
          "hovermode": "closest",
          "mapbox": {
           "style": "light"
          },
          "paper_bgcolor": "white",
          "plot_bgcolor": "#E5ECF6",
          "polar": {
           "angularaxis": {
            "gridcolor": "white",
            "linecolor": "white",
            "ticks": ""
           },
           "bgcolor": "#E5ECF6",
           "radialaxis": {
            "gridcolor": "white",
            "linecolor": "white",
            "ticks": ""
           }
          },
          "scene": {
           "xaxis": {
            "backgroundcolor": "#E5ECF6",
            "gridcolor": "white",
            "gridwidth": 2,
            "linecolor": "white",
            "showbackground": true,
            "ticks": "",
            "zerolinecolor": "white"
           },
           "yaxis": {
            "backgroundcolor": "#E5ECF6",
            "gridcolor": "white",
            "gridwidth": 2,
            "linecolor": "white",
            "showbackground": true,
            "ticks": "",
            "zerolinecolor": "white"
           },
           "zaxis": {
            "backgroundcolor": "#E5ECF6",
            "gridcolor": "white",
            "gridwidth": 2,
            "linecolor": "white",
            "showbackground": true,
            "ticks": "",
            "zerolinecolor": "white"
           }
          },
          "shapedefaults": {
           "line": {
            "color": "#2a3f5f"
           }
          },
          "ternary": {
           "aaxis": {
            "gridcolor": "white",
            "linecolor": "white",
            "ticks": ""
           },
           "baxis": {
            "gridcolor": "white",
            "linecolor": "white",
            "ticks": ""
           },
           "bgcolor": "#E5ECF6",
           "caxis": {
            "gridcolor": "white",
            "linecolor": "white",
            "ticks": ""
           }
          },
          "title": {
           "x": 0.05
          },
          "xaxis": {
           "automargin": true,
           "gridcolor": "white",
           "linecolor": "white",
           "ticks": "",
           "title": {
            "standoff": 15
           },
           "zerolinecolor": "white",
           "zerolinewidth": 2
          },
          "yaxis": {
           "automargin": true,
           "gridcolor": "white",
           "linecolor": "white",
           "ticks": "",
           "title": {
            "standoff": 15
           },
           "zerolinecolor": "white",
           "zerolinewidth": 2
          }
         }
        },
        "title": {
         "text": "Producción promedio total por país"
        },
        "xaxis": {
         "anchor": "y",
         "domain": [
          0,
          1
         ],
         "title": {
          "text": "Area"
         }
        },
        "yaxis": {
         "anchor": "x",
         "domain": [
          0,
          1
         ],
         "title": {
          "text": "Production_avg"
         }
        }
       }
      }
     },
     "metadata": {},
     "output_type": "display_data"
    }
   ],
   "source": [
    "# -----------------------\n",
    "# Producción promedio por país\n",
    "# -----------------------\n",
    "prod_avg = production_long.groupby('Area')['Production'].mean().sort_values(ascending=False)\n",
    "df_bar = prod_avg.reset_index().rename(columns={'Production':'Production_avg'})\n",
    "\n",
    "fig3 = px.bar(\n",
    "    df_bar,\n",
    "    x='Area',\n",
    "    y='Production_avg',\n",
    "    title='Producción promedio total por país'\n",
    ")\n",
    "fig3.show()"
   ]
  }
 ],
 "metadata": {
  "kernelspec": {
   "display_name": "Python 3",
   "language": "python",
   "name": "python3"
  },
  "language_info": {
   "codemirror_mode": {
    "name": "ipython",
    "version": 3
   },
   "file_extension": ".py",
   "mimetype": "text/x-python",
   "name": "python",
   "nbconvert_exporter": "python",
   "pygments_lexer": "ipython3",
   "version": "3.11.14"
  }
 },
 "nbformat": 4,
 "nbformat_minor": 5
}
